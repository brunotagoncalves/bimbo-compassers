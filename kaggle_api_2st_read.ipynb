{
  "nbformat": 4,
  "nbformat_minor": 0,
  "metadata": {
    "colab": {
      "name": "Untitled0.ipynb",
      "provenance": [],
      "toc_visible": true,
      "authorship_tag": "ABX9TyO17OkrQhcikzxjQi4SAm+T",
      "include_colab_link": true
    },
    "kernelspec": {
      "name": "python3",
      "display_name": "Python 3"
    },
    "language_info": {
      "name": "python"
    }
  },
  "cells": [
    {
      "cell_type": "markdown",
      "metadata": {
        "id": "view-in-github",
        "colab_type": "text"
      },
      "source": [
        "<a href=\"https://colab.research.google.com/github/brunotagoncalves/bimbo-compassers/blob/main/kaggle_api_2st_read.ipynb\" target=\"_parent\"><img src=\"https://colab.research.google.com/assets/colab-badge.svg\" alt=\"Open In Colab\"/></a>"
      ]
    },
    {
      "cell_type": "markdown",
      "metadata": {
        "id": "zzFCd_M-Ey6L"
      },
      "source": [
        "# Notebook para Download e Leitura Inicial de Arquivos \n"
      ]
    },
    {
      "cell_type": "markdown",
      "metadata": {
        "id": "ArMBhA_cFN8_"
      },
      "source": [
        "1) Instalação e Download de Arquivos Kaggle"
      ]
    },
    {
      "cell_type": "code",
      "metadata": {
        "id": "Ifkp6R57QRTA",
        "colab": {
          "base_uri": "https://localhost:8080/"
        },
        "outputId": "dd0972bd-1757-4de7-a0f3-f4159ff8ee09"
      },
      "source": [
        "# Podem  ocorrrer falhas de instalação como lxml, mas isso não atrapalha o restante do código\n",
        "!pip install -q kaggle\n",
        "!pip install -q kaggle-cli"
      ],
      "execution_count": 1,
      "outputs": [
        {
          "output_type": "stream",
          "text": [
            "\u001b[K     |████████████████████████████████| 81kB 4.1MB/s \n",
            "\u001b[K     |████████████████████████████████| 4.2MB 9.2MB/s \n",
            "\u001b[K     |████████████████████████████████| 51kB 6.2MB/s \n",
            "\u001b[K     |████████████████████████████████| 143kB 42.1MB/s \n",
            "\u001b[K     |████████████████████████████████| 112kB 42.2MB/s \n",
            "\u001b[?25h  Building wheel for kaggle-cli (setup.py) ... \u001b[?25l\u001b[?25hdone\n",
            "  Building wheel for lxml (setup.py) ... \u001b[?25lerror\n",
            "\u001b[31m  ERROR: Failed building wheel for lxml\u001b[0m\n",
            "\u001b[?25h  Building wheel for PrettyTable (setup.py) ... \u001b[?25l\u001b[?25hdone\n",
            "  Building wheel for pyperclip (setup.py) ... \u001b[?25l\u001b[?25hdone\n",
            "    Running setup.py install for lxml ... \u001b[?25l\u001b[?25herror\n",
            "\u001b[31mERROR: Command errored out with exit status 1: /usr/bin/python3 -u -c 'import sys, setuptools, tokenize; sys.argv[0] = '\"'\"'/tmp/pip-install-3f3mcurq/lxml/setup.py'\"'\"'; __file__='\"'\"'/tmp/pip-install-3f3mcurq/lxml/setup.py'\"'\"';f=getattr(tokenize, '\"'\"'open'\"'\"', open)(__file__);code=f.read().replace('\"'\"'\\r\\n'\"'\"', '\"'\"'\\n'\"'\"');f.close();exec(compile(code, __file__, '\"'\"'exec'\"'\"'))' install --record /tmp/pip-record-r1oqfh1y/install-record.txt --single-version-externally-managed --compile Check the logs for full command output.\u001b[0m\n"
          ],
          "name": "stdout"
        }
      ]
    },
    {
      "cell_type": "code",
      "metadata": {
        "id": "7NLSi0qhN-kG"
      },
      "source": [
        "# Alterando arquivo de config do Kaggle com dados pessoais https://www.kaggle.com/\"username\"/account  crie um token pessoal no botão \"create new api token\"\n",
        "!mkdir ~/.kaggle\n",
        "!echo '{\"username\":\"bruno9tg\",\"key\":\"656f29061b3fcda2f8c1541f3492f24d\"}' > ../root/.kaggle/kaggle.json"
      ],
      "execution_count": 2,
      "outputs": []
    },
    {
      "cell_type": "code",
      "metadata": {
        "colab": {
          "base_uri": "https://localhost:8080/"
        },
        "id": "nTx5CyN_KEgG",
        "outputId": "a5408b2a-c4bf-44c0-a95b-64a124f258c7"
      },
      "source": [
        "#utiliza api kaggle para realizar download\n",
        "#!kaggle competitions download -c grupo-bimbo-inventory-demand\n",
        "!kaggle competitions download -p data/ grupo-bimbo-inventory-demand"
      ],
      "execution_count": 3,
      "outputs": [
        {
          "output_type": "stream",
          "text": [
            "Warning: Your Kaggle API key is readable by other users on this system! To fix this, you can run 'chmod 600 /root/.kaggle/kaggle.json'\n",
            "Warning: Looks like you're using an outdated API Version, please consider updating (server 1.5.12 / client 1.5.4)\n",
            "Downloading train.csv.zip to data\n",
            " 99% 369M/373M [00:02<00:00, 181MB/s]\n",
            "100% 373M/373M [00:02<00:00, 149MB/s]\n",
            "Downloading sample_submission.csv.zip to data\n",
            " 34% 5.00M/14.8M [00:00<00:00, 47.7MB/s]\n",
            "100% 14.8M/14.8M [00:00<00:00, 71.0MB/s]\n",
            "Downloading cliente_tabla.csv.zip to data\n",
            "  0% 0.00/5.87M [00:00<?, ?B/s]\n",
            "100% 5.87M/5.87M [00:00<00:00, 51.7MB/s]\n",
            "Downloading test.csv.zip to data\n",
            " 85% 73.0M/85.8M [00:00<00:00, 104MB/s]\n",
            "100% 85.8M/85.8M [00:00<00:00, 126MB/s]\n",
            "Downloading town_state.csv.zip to data\n",
            "  0% 0.00/6.35k [00:00<?, ?B/s]\n",
            "100% 6.35k/6.35k [00:00<00:00, 6.58MB/s]\n",
            "Downloading producto_tabla.csv.zip to data\n",
            "  0% 0.00/31.5k [00:00<?, ?B/s]\n",
            "100% 31.5k/31.5k [00:00<00:00, 30.9MB/s]\n"
          ],
          "name": "stdout"
        }
      ]
    },
    {
      "cell_type": "markdown",
      "metadata": {
        "id": "0Zz0TcBlGdvy"
      },
      "source": [
        "2) Leitura básica dos arquivos"
      ]
    },
    {
      "cell_type": "code",
      "metadata": {
        "id": "WOT9kjhoaw0K"
      },
      "source": [
        "import pandas as pd "
      ],
      "execution_count": 4,
      "outputs": []
    },
    {
      "cell_type": "code",
      "metadata": {
        "id": "JHFnciVhi42X",
        "colab": {
          "base_uri": "https://localhost:8080/"
        },
        "outputId": "a9e8a3a5-63ba-442a-fbef-8fdbc4e90747"
      },
      "source": [
        "!ls data/"
      ],
      "execution_count": 5,
      "outputs": [
        {
          "output_type": "stream",
          "text": [
            "cliente_tabla.csv.zip\tsample_submission.csv.zip  town_state.csv.zip\n",
            "producto_tabla.csv.zip\ttest.csv.zip\t\t   train.csv.zip\n"
          ],
          "name": "stdout"
        }
      ]
    },
    {
      "cell_type": "code",
      "metadata": {
        "id": "rcimfzFGiuHo",
        "colab": {
          "base_uri": "https://localhost:8080/",
          "height": 204
        },
        "outputId": "d989dfad-d97c-4186-bb9d-b0957d8c57b4"
      },
      "source": [
        "pd.read_csv('data/cliente_tabla.csv.zip').head()"
      ],
      "execution_count": 6,
      "outputs": [
        {
          "output_type": "execute_result",
          "data": {
            "text/html": [
              "<div>\n",
              "<style scoped>\n",
              "    .dataframe tbody tr th:only-of-type {\n",
              "        vertical-align: middle;\n",
              "    }\n",
              "\n",
              "    .dataframe tbody tr th {\n",
              "        vertical-align: top;\n",
              "    }\n",
              "\n",
              "    .dataframe thead th {\n",
              "        text-align: right;\n",
              "    }\n",
              "</style>\n",
              "<table border=\"1\" class=\"dataframe\">\n",
              "  <thead>\n",
              "    <tr style=\"text-align: right;\">\n",
              "      <th></th>\n",
              "      <th>Cliente_ID</th>\n",
              "      <th>NombreCliente</th>\n",
              "    </tr>\n",
              "  </thead>\n",
              "  <tbody>\n",
              "    <tr>\n",
              "      <th>0</th>\n",
              "      <td>0</td>\n",
              "      <td>SIN NOMBRE</td>\n",
              "    </tr>\n",
              "    <tr>\n",
              "      <th>1</th>\n",
              "      <td>1</td>\n",
              "      <td>OXXO XINANTECATL</td>\n",
              "    </tr>\n",
              "    <tr>\n",
              "      <th>2</th>\n",
              "      <td>2</td>\n",
              "      <td>SIN NOMBRE</td>\n",
              "    </tr>\n",
              "    <tr>\n",
              "      <th>3</th>\n",
              "      <td>3</td>\n",
              "      <td>EL MORENO</td>\n",
              "    </tr>\n",
              "    <tr>\n",
              "      <th>4</th>\n",
              "      <td>4</td>\n",
              "      <td>SDN SER  DE ALIM  CUERPO SA CIA  DE INT</td>\n",
              "    </tr>\n",
              "  </tbody>\n",
              "</table>\n",
              "</div>"
            ],
            "text/plain": [
              "   Cliente_ID                            NombreCliente\n",
              "0           0                               SIN NOMBRE\n",
              "1           1                         OXXO XINANTECATL\n",
              "2           2                               SIN NOMBRE\n",
              "3           3                                EL MORENO\n",
              "4           4  SDN SER  DE ALIM  CUERPO SA CIA  DE INT"
            ]
          },
          "metadata": {
            "tags": []
          },
          "execution_count": 6
        }
      ]
    },
    {
      "cell_type": "code",
      "metadata": {
        "id": "Xw99lcpOi9i_",
        "colab": {
          "base_uri": "https://localhost:8080/",
          "height": 204
        },
        "outputId": "b1b52dfa-4025-46b0-902f-936c19805f2f"
      },
      "source": [
        "pd.read_csv('data/producto_tabla.csv.zip').head()"
      ],
      "execution_count": 7,
      "outputs": [
        {
          "output_type": "execute_result",
          "data": {
            "text/html": [
              "<div>\n",
              "<style scoped>\n",
              "    .dataframe tbody tr th:only-of-type {\n",
              "        vertical-align: middle;\n",
              "    }\n",
              "\n",
              "    .dataframe tbody tr th {\n",
              "        vertical-align: top;\n",
              "    }\n",
              "\n",
              "    .dataframe thead th {\n",
              "        text-align: right;\n",
              "    }\n",
              "</style>\n",
              "<table border=\"1\" class=\"dataframe\">\n",
              "  <thead>\n",
              "    <tr style=\"text-align: right;\">\n",
              "      <th></th>\n",
              "      <th>Producto_ID</th>\n",
              "      <th>NombreProducto</th>\n",
              "    </tr>\n",
              "  </thead>\n",
              "  <tbody>\n",
              "    <tr>\n",
              "      <th>0</th>\n",
              "      <td>0</td>\n",
              "      <td>NO IDENTIFICADO 0</td>\n",
              "    </tr>\n",
              "    <tr>\n",
              "      <th>1</th>\n",
              "      <td>9</td>\n",
              "      <td>Capuccino Moka 750g NES 9</td>\n",
              "    </tr>\n",
              "    <tr>\n",
              "      <th>2</th>\n",
              "      <td>41</td>\n",
              "      <td>Bimbollos Ext sAjonjoli 6p 480g BIM 41</td>\n",
              "    </tr>\n",
              "    <tr>\n",
              "      <th>3</th>\n",
              "      <td>53</td>\n",
              "      <td>Burritos Sincro 170g CU LON 53</td>\n",
              "    </tr>\n",
              "    <tr>\n",
              "      <th>4</th>\n",
              "      <td>72</td>\n",
              "      <td>Div Tira Mini Doradita 4p 45g TR 72</td>\n",
              "    </tr>\n",
              "  </tbody>\n",
              "</table>\n",
              "</div>"
            ],
            "text/plain": [
              "   Producto_ID                          NombreProducto\n",
              "0            0                       NO IDENTIFICADO 0\n",
              "1            9               Capuccino Moka 750g NES 9\n",
              "2           41  Bimbollos Ext sAjonjoli 6p 480g BIM 41\n",
              "3           53          Burritos Sincro 170g CU LON 53\n",
              "4           72     Div Tira Mini Doradita 4p 45g TR 72"
            ]
          },
          "metadata": {
            "tags": []
          },
          "execution_count": 7
        }
      ]
    },
    {
      "cell_type": "code",
      "metadata": {
        "id": "J2pp7S2xi-qK",
        "colab": {
          "base_uri": "https://localhost:8080/",
          "height": 204
        },
        "outputId": "e6d0eb93-6c9a-4148-f663-e84f400980ee"
      },
      "source": [
        "pd.read_csv('data/sample_submission.csv.zip').head()"
      ],
      "execution_count": 8,
      "outputs": [
        {
          "output_type": "execute_result",
          "data": {
            "text/html": [
              "<div>\n",
              "<style scoped>\n",
              "    .dataframe tbody tr th:only-of-type {\n",
              "        vertical-align: middle;\n",
              "    }\n",
              "\n",
              "    .dataframe tbody tr th {\n",
              "        vertical-align: top;\n",
              "    }\n",
              "\n",
              "    .dataframe thead th {\n",
              "        text-align: right;\n",
              "    }\n",
              "</style>\n",
              "<table border=\"1\" class=\"dataframe\">\n",
              "  <thead>\n",
              "    <tr style=\"text-align: right;\">\n",
              "      <th></th>\n",
              "      <th>id</th>\n",
              "      <th>Demanda_uni_equil</th>\n",
              "    </tr>\n",
              "  </thead>\n",
              "  <tbody>\n",
              "    <tr>\n",
              "      <th>0</th>\n",
              "      <td>0</td>\n",
              "      <td>7</td>\n",
              "    </tr>\n",
              "    <tr>\n",
              "      <th>1</th>\n",
              "      <td>1</td>\n",
              "      <td>7</td>\n",
              "    </tr>\n",
              "    <tr>\n",
              "      <th>2</th>\n",
              "      <td>2</td>\n",
              "      <td>7</td>\n",
              "    </tr>\n",
              "    <tr>\n",
              "      <th>3</th>\n",
              "      <td>3</td>\n",
              "      <td>7</td>\n",
              "    </tr>\n",
              "    <tr>\n",
              "      <th>4</th>\n",
              "      <td>4</td>\n",
              "      <td>7</td>\n",
              "    </tr>\n",
              "  </tbody>\n",
              "</table>\n",
              "</div>"
            ],
            "text/plain": [
              "   id  Demanda_uni_equil\n",
              "0   0                  7\n",
              "1   1                  7\n",
              "2   2                  7\n",
              "3   3                  7\n",
              "4   4                  7"
            ]
          },
          "metadata": {
            "tags": []
          },
          "execution_count": 8
        }
      ]
    },
    {
      "cell_type": "code",
      "metadata": {
        "id": "b-YSH5C0inIh",
        "colab": {
          "base_uri": "https://localhost:8080/",
          "height": 204
        },
        "outputId": "716a944f-1e1a-47d5-812f-00a909ae1402"
      },
      "source": [
        "pd.read_csv('data/test.csv.zip').head()"
      ],
      "execution_count": 9,
      "outputs": [
        {
          "output_type": "execute_result",
          "data": {
            "text/html": [
              "<div>\n",
              "<style scoped>\n",
              "    .dataframe tbody tr th:only-of-type {\n",
              "        vertical-align: middle;\n",
              "    }\n",
              "\n",
              "    .dataframe tbody tr th {\n",
              "        vertical-align: top;\n",
              "    }\n",
              "\n",
              "    .dataframe thead th {\n",
              "        text-align: right;\n",
              "    }\n",
              "</style>\n",
              "<table border=\"1\" class=\"dataframe\">\n",
              "  <thead>\n",
              "    <tr style=\"text-align: right;\">\n",
              "      <th></th>\n",
              "      <th>id</th>\n",
              "      <th>Semana</th>\n",
              "      <th>Agencia_ID</th>\n",
              "      <th>Canal_ID</th>\n",
              "      <th>Ruta_SAK</th>\n",
              "      <th>Cliente_ID</th>\n",
              "      <th>Producto_ID</th>\n",
              "    </tr>\n",
              "  </thead>\n",
              "  <tbody>\n",
              "    <tr>\n",
              "      <th>0</th>\n",
              "      <td>0</td>\n",
              "      <td>11</td>\n",
              "      <td>4037</td>\n",
              "      <td>1</td>\n",
              "      <td>2209</td>\n",
              "      <td>4639078</td>\n",
              "      <td>35305</td>\n",
              "    </tr>\n",
              "    <tr>\n",
              "      <th>1</th>\n",
              "      <td>1</td>\n",
              "      <td>11</td>\n",
              "      <td>2237</td>\n",
              "      <td>1</td>\n",
              "      <td>1226</td>\n",
              "      <td>4705135</td>\n",
              "      <td>1238</td>\n",
              "    </tr>\n",
              "    <tr>\n",
              "      <th>2</th>\n",
              "      <td>2</td>\n",
              "      <td>10</td>\n",
              "      <td>2045</td>\n",
              "      <td>1</td>\n",
              "      <td>2831</td>\n",
              "      <td>4549769</td>\n",
              "      <td>32940</td>\n",
              "    </tr>\n",
              "    <tr>\n",
              "      <th>3</th>\n",
              "      <td>3</td>\n",
              "      <td>11</td>\n",
              "      <td>1227</td>\n",
              "      <td>1</td>\n",
              "      <td>4448</td>\n",
              "      <td>4717855</td>\n",
              "      <td>43066</td>\n",
              "    </tr>\n",
              "    <tr>\n",
              "      <th>4</th>\n",
              "      <td>4</td>\n",
              "      <td>11</td>\n",
              "      <td>1219</td>\n",
              "      <td>1</td>\n",
              "      <td>1130</td>\n",
              "      <td>966351</td>\n",
              "      <td>1277</td>\n",
              "    </tr>\n",
              "  </tbody>\n",
              "</table>\n",
              "</div>"
            ],
            "text/plain": [
              "   id  Semana  Agencia_ID  Canal_ID  Ruta_SAK  Cliente_ID  Producto_ID\n",
              "0   0      11        4037         1      2209     4639078        35305\n",
              "1   1      11        2237         1      1226     4705135         1238\n",
              "2   2      10        2045         1      2831     4549769        32940\n",
              "3   3      11        1227         1      4448     4717855        43066\n",
              "4   4      11        1219         1      1130      966351         1277"
            ]
          },
          "metadata": {
            "tags": []
          },
          "execution_count": 9
        }
      ]
    },
    {
      "cell_type": "code",
      "metadata": {
        "id": "R0lkzIZAfjAp",
        "outputId": "18af8cc6-0aff-403a-a743-18b1c1687c5a",
        "colab": {
          "base_uri": "https://localhost:8080/",
          "height": 142
        }
      },
      "source": [
        "pd.read_csv('data/test.csv.zip').groupby('Semana').count()"
      ],
      "execution_count": 10,
      "outputs": [
        {
          "output_type": "execute_result",
          "data": {
            "text/html": [
              "<div>\n",
              "<style scoped>\n",
              "    .dataframe tbody tr th:only-of-type {\n",
              "        vertical-align: middle;\n",
              "    }\n",
              "\n",
              "    .dataframe tbody tr th {\n",
              "        vertical-align: top;\n",
              "    }\n",
              "\n",
              "    .dataframe thead th {\n",
              "        text-align: right;\n",
              "    }\n",
              "</style>\n",
              "<table border=\"1\" class=\"dataframe\">\n",
              "  <thead>\n",
              "    <tr style=\"text-align: right;\">\n",
              "      <th></th>\n",
              "      <th>id</th>\n",
              "      <th>Agencia_ID</th>\n",
              "      <th>Canal_ID</th>\n",
              "      <th>Ruta_SAK</th>\n",
              "      <th>Cliente_ID</th>\n",
              "      <th>Producto_ID</th>\n",
              "    </tr>\n",
              "    <tr>\n",
              "      <th>Semana</th>\n",
              "      <th></th>\n",
              "      <th></th>\n",
              "      <th></th>\n",
              "      <th></th>\n",
              "      <th></th>\n",
              "      <th></th>\n",
              "    </tr>\n",
              "  </thead>\n",
              "  <tbody>\n",
              "    <tr>\n",
              "      <th>10</th>\n",
              "      <td>3538385</td>\n",
              "      <td>3538385</td>\n",
              "      <td>3538385</td>\n",
              "      <td>3538385</td>\n",
              "      <td>3538385</td>\n",
              "      <td>3538385</td>\n",
              "    </tr>\n",
              "    <tr>\n",
              "      <th>11</th>\n",
              "      <td>3460866</td>\n",
              "      <td>3460866</td>\n",
              "      <td>3460866</td>\n",
              "      <td>3460866</td>\n",
              "      <td>3460866</td>\n",
              "      <td>3460866</td>\n",
              "    </tr>\n",
              "  </tbody>\n",
              "</table>\n",
              "</div>"
            ],
            "text/plain": [
              "             id  Agencia_ID  Canal_ID  Ruta_SAK  Cliente_ID  Producto_ID\n",
              "Semana                                                                  \n",
              "10      3538385     3538385   3538385   3538385     3538385      3538385\n",
              "11      3460866     3460866   3460866   3460866     3460866      3460866"
            ]
          },
          "metadata": {
            "tags": []
          },
          "execution_count": 10
        }
      ]
    },
    {
      "cell_type": "code",
      "metadata": {
        "id": "JtMOC8cRjMYW",
        "colab": {
          "base_uri": "https://localhost:8080/",
          "height": 204
        },
        "outputId": "2b5943b0-7c39-40e8-dcab-30e63d62ec36"
      },
      "source": [
        "pd.read_csv('data/town_state.csv.zip').head()"
      ],
      "execution_count": 11,
      "outputs": [
        {
          "output_type": "execute_result",
          "data": {
            "text/html": [
              "<div>\n",
              "<style scoped>\n",
              "    .dataframe tbody tr th:only-of-type {\n",
              "        vertical-align: middle;\n",
              "    }\n",
              "\n",
              "    .dataframe tbody tr th {\n",
              "        vertical-align: top;\n",
              "    }\n",
              "\n",
              "    .dataframe thead th {\n",
              "        text-align: right;\n",
              "    }\n",
              "</style>\n",
              "<table border=\"1\" class=\"dataframe\">\n",
              "  <thead>\n",
              "    <tr style=\"text-align: right;\">\n",
              "      <th></th>\n",
              "      <th>Agencia_ID</th>\n",
              "      <th>Town</th>\n",
              "      <th>State</th>\n",
              "    </tr>\n",
              "  </thead>\n",
              "  <tbody>\n",
              "    <tr>\n",
              "      <th>0</th>\n",
              "      <td>1110</td>\n",
              "      <td>2008 AG. LAGO FILT</td>\n",
              "      <td>MÉXICO, D.F.</td>\n",
              "    </tr>\n",
              "    <tr>\n",
              "      <th>1</th>\n",
              "      <td>1111</td>\n",
              "      <td>2002 AG. AZCAPOTZALCO</td>\n",
              "      <td>MÉXICO, D.F.</td>\n",
              "    </tr>\n",
              "    <tr>\n",
              "      <th>2</th>\n",
              "      <td>1112</td>\n",
              "      <td>2004 AG. CUAUTITLAN</td>\n",
              "      <td>ESTADO DE MÉXICO</td>\n",
              "    </tr>\n",
              "    <tr>\n",
              "      <th>3</th>\n",
              "      <td>1113</td>\n",
              "      <td>2008 AG. LAGO FILT</td>\n",
              "      <td>MÉXICO, D.F.</td>\n",
              "    </tr>\n",
              "    <tr>\n",
              "      <th>4</th>\n",
              "      <td>1114</td>\n",
              "      <td>2029 AG.IZTAPALAPA 2</td>\n",
              "      <td>MÉXICO, D.F.</td>\n",
              "    </tr>\n",
              "  </tbody>\n",
              "</table>\n",
              "</div>"
            ],
            "text/plain": [
              "   Agencia_ID                   Town             State\n",
              "0        1110     2008 AG. LAGO FILT      MÉXICO, D.F.\n",
              "1        1111  2002 AG. AZCAPOTZALCO      MÉXICO, D.F.\n",
              "2        1112    2004 AG. CUAUTITLAN  ESTADO DE MÉXICO\n",
              "3        1113     2008 AG. LAGO FILT      MÉXICO, D.F.\n",
              "4        1114   2029 AG.IZTAPALAPA 2      MÉXICO, D.F."
            ]
          },
          "metadata": {
            "tags": []
          },
          "execution_count": 11
        }
      ]
    },
    {
      "cell_type": "code",
      "metadata": {
        "id": "y4UQ_viXjWSK",
        "colab": {
          "base_uri": "https://localhost:8080/",
          "height": 419
        },
        "outputId": "6968d0c4-6bf4-4595-fa8b-71a94fcfba1a"
      },
      "source": [
        "# Para os dados de treino o volume já excede a memoria do Colab usar a função iterator se faz necessário.\n",
        "sample_train = pd.read_csv('data/train.csv.zip', nrows=1000)\n",
        "sample_train"
      ],
      "execution_count": 12,
      "outputs": [
        {
          "output_type": "execute_result",
          "data": {
            "text/html": [
              "<div>\n",
              "<style scoped>\n",
              "    .dataframe tbody tr th:only-of-type {\n",
              "        vertical-align: middle;\n",
              "    }\n",
              "\n",
              "    .dataframe tbody tr th {\n",
              "        vertical-align: top;\n",
              "    }\n",
              "\n",
              "    .dataframe thead th {\n",
              "        text-align: right;\n",
              "    }\n",
              "</style>\n",
              "<table border=\"1\" class=\"dataframe\">\n",
              "  <thead>\n",
              "    <tr style=\"text-align: right;\">\n",
              "      <th></th>\n",
              "      <th>Semana</th>\n",
              "      <th>Agencia_ID</th>\n",
              "      <th>Canal_ID</th>\n",
              "      <th>Ruta_SAK</th>\n",
              "      <th>Cliente_ID</th>\n",
              "      <th>Producto_ID</th>\n",
              "      <th>Venta_uni_hoy</th>\n",
              "      <th>Venta_hoy</th>\n",
              "      <th>Dev_uni_proxima</th>\n",
              "      <th>Dev_proxima</th>\n",
              "      <th>Demanda_uni_equil</th>\n",
              "    </tr>\n",
              "  </thead>\n",
              "  <tbody>\n",
              "    <tr>\n",
              "      <th>0</th>\n",
              "      <td>3</td>\n",
              "      <td>1110</td>\n",
              "      <td>7</td>\n",
              "      <td>3301</td>\n",
              "      <td>15766</td>\n",
              "      <td>1212</td>\n",
              "      <td>3</td>\n",
              "      <td>25.14</td>\n",
              "      <td>0</td>\n",
              "      <td>0.0</td>\n",
              "      <td>3</td>\n",
              "    </tr>\n",
              "    <tr>\n",
              "      <th>1</th>\n",
              "      <td>3</td>\n",
              "      <td>1110</td>\n",
              "      <td>7</td>\n",
              "      <td>3301</td>\n",
              "      <td>15766</td>\n",
              "      <td>1216</td>\n",
              "      <td>4</td>\n",
              "      <td>33.52</td>\n",
              "      <td>0</td>\n",
              "      <td>0.0</td>\n",
              "      <td>4</td>\n",
              "    </tr>\n",
              "    <tr>\n",
              "      <th>2</th>\n",
              "      <td>3</td>\n",
              "      <td>1110</td>\n",
              "      <td>7</td>\n",
              "      <td>3301</td>\n",
              "      <td>15766</td>\n",
              "      <td>1238</td>\n",
              "      <td>4</td>\n",
              "      <td>39.32</td>\n",
              "      <td>0</td>\n",
              "      <td>0.0</td>\n",
              "      <td>4</td>\n",
              "    </tr>\n",
              "    <tr>\n",
              "      <th>3</th>\n",
              "      <td>3</td>\n",
              "      <td>1110</td>\n",
              "      <td>7</td>\n",
              "      <td>3301</td>\n",
              "      <td>15766</td>\n",
              "      <td>1240</td>\n",
              "      <td>4</td>\n",
              "      <td>33.52</td>\n",
              "      <td>0</td>\n",
              "      <td>0.0</td>\n",
              "      <td>4</td>\n",
              "    </tr>\n",
              "    <tr>\n",
              "      <th>4</th>\n",
              "      <td>3</td>\n",
              "      <td>1110</td>\n",
              "      <td>7</td>\n",
              "      <td>3301</td>\n",
              "      <td>15766</td>\n",
              "      <td>1242</td>\n",
              "      <td>3</td>\n",
              "      <td>22.92</td>\n",
              "      <td>0</td>\n",
              "      <td>0.0</td>\n",
              "      <td>3</td>\n",
              "    </tr>\n",
              "    <tr>\n",
              "      <th>...</th>\n",
              "      <td>...</td>\n",
              "      <td>...</td>\n",
              "      <td>...</td>\n",
              "      <td>...</td>\n",
              "      <td>...</td>\n",
              "      <td>...</td>\n",
              "      <td>...</td>\n",
              "      <td>...</td>\n",
              "      <td>...</td>\n",
              "      <td>...</td>\n",
              "      <td>...</td>\n",
              "    </tr>\n",
              "    <tr>\n",
              "      <th>995</th>\n",
              "      <td>3</td>\n",
              "      <td>1110</td>\n",
              "      <td>7</td>\n",
              "      <td>3303</td>\n",
              "      <td>1453543</td>\n",
              "      <td>1250</td>\n",
              "      <td>25</td>\n",
              "      <td>191.00</td>\n",
              "      <td>0</td>\n",
              "      <td>0.0</td>\n",
              "      <td>25</td>\n",
              "    </tr>\n",
              "    <tr>\n",
              "      <th>996</th>\n",
              "      <td>3</td>\n",
              "      <td>1110</td>\n",
              "      <td>7</td>\n",
              "      <td>3303</td>\n",
              "      <td>1453543</td>\n",
              "      <td>1309</td>\n",
              "      <td>6</td>\n",
              "      <td>40.56</td>\n",
              "      <td>0</td>\n",
              "      <td>0.0</td>\n",
              "      <td>6</td>\n",
              "    </tr>\n",
              "    <tr>\n",
              "      <th>997</th>\n",
              "      <td>3</td>\n",
              "      <td>1110</td>\n",
              "      <td>7</td>\n",
              "      <td>3303</td>\n",
              "      <td>1453543</td>\n",
              "      <td>3270</td>\n",
              "      <td>1</td>\n",
              "      <td>10.47</td>\n",
              "      <td>0</td>\n",
              "      <td>0.0</td>\n",
              "      <td>1</td>\n",
              "    </tr>\n",
              "    <tr>\n",
              "      <th>998</th>\n",
              "      <td>3</td>\n",
              "      <td>1110</td>\n",
              "      <td>7</td>\n",
              "      <td>3303</td>\n",
              "      <td>1453543</td>\n",
              "      <td>4270</td>\n",
              "      <td>2</td>\n",
              "      <td>16.76</td>\n",
              "      <td>0</td>\n",
              "      <td>0.0</td>\n",
              "      <td>2</td>\n",
              "    </tr>\n",
              "    <tr>\n",
              "      <th>999</th>\n",
              "      <td>3</td>\n",
              "      <td>1110</td>\n",
              "      <td>7</td>\n",
              "      <td>3303</td>\n",
              "      <td>1453543</td>\n",
              "      <td>4280</td>\n",
              "      <td>6</td>\n",
              "      <td>36.00</td>\n",
              "      <td>0</td>\n",
              "      <td>0.0</td>\n",
              "      <td>6</td>\n",
              "    </tr>\n",
              "  </tbody>\n",
              "</table>\n",
              "<p>1000 rows × 11 columns</p>\n",
              "</div>"
            ],
            "text/plain": [
              "     Semana  Agencia_ID  ...  Dev_proxima  Demanda_uni_equil\n",
              "0         3        1110  ...          0.0                  3\n",
              "1         3        1110  ...          0.0                  4\n",
              "2         3        1110  ...          0.0                  4\n",
              "3         3        1110  ...          0.0                  4\n",
              "4         3        1110  ...          0.0                  3\n",
              "..      ...         ...  ...          ...                ...\n",
              "995       3        1110  ...          0.0                 25\n",
              "996       3        1110  ...          0.0                  6\n",
              "997       3        1110  ...          0.0                  1\n",
              "998       3        1110  ...          0.0                  2\n",
              "999       3        1110  ...          0.0                  6\n",
              "\n",
              "[1000 rows x 11 columns]"
            ]
          },
          "metadata": {
            "tags": []
          },
          "execution_count": 12
        }
      ]
    },
    {
      "cell_type": "markdown",
      "metadata": {
        "id": "dWohvoKFG05J"
      },
      "source": [
        "3) Instalação de Leitura com SPARK"
      ]
    },
    {
      "cell_type": "code",
      "metadata": {
        "id": "5mqJsjaUkBsN",
        "colab": {
          "base_uri": "https://localhost:8080/"
        },
        "outputId": "7179ca32-3713-4c21-f624-05a02378f6d1"
      },
      "source": [
        "!apt-get install openjdk-8-jdk-headless -qq > /dev/null\n",
        "#!wget http://www-eu.apache.org/dist/spark/spark-2.4.8/spark-2.4.8-bin-hadoop2.7.tgz \n",
        "!wget -P spark_tgz/ http://www-eu.apache.org/dist/spark/spark-2.4.8/spark-2.4.8-bin-hadoop2.7.tgz "
      ],
      "execution_count": 13,
      "outputs": [
        {
          "output_type": "stream",
          "text": [
            "--2021-06-15 11:53:10--  http://www-eu.apache.org/dist/spark/spark-2.4.8/spark-2.4.8-bin-hadoop2.7.tgz\n",
            "Resolving www-eu.apache.org (www-eu.apache.org)... 95.216.26.30, 2a01:4f9:2a:1a61::2\n",
            "Connecting to www-eu.apache.org (www-eu.apache.org)|95.216.26.30|:80... connected.\n",
            "HTTP request sent, awaiting response... 302 Found\n",
            "Location: https://downloads.apache.org/spark/spark-2.4.8/spark-2.4.8-bin-hadoop2.7.tgz [following]\n",
            "--2021-06-15 11:53:10--  https://downloads.apache.org/spark/spark-2.4.8/spark-2.4.8-bin-hadoop2.7.tgz\n",
            "Resolving downloads.apache.org (downloads.apache.org)... 135.181.214.104, 88.99.95.219, 135.181.209.10, ...\n",
            "Connecting to downloads.apache.org (downloads.apache.org)|135.181.214.104|:443... connected.\n",
            "HTTP request sent, awaiting response... 200 OK\n",
            "Length: 235899716 (225M) [application/x-gzip]\n",
            "Saving to: ‘spark_tgz/spark-2.4.8-bin-hadoop2.7.tgz’\n",
            "\n",
            "spark-2.4.8-bin-had 100%[===================>] 224.97M  24.1MB/s    in 10s     \n",
            "\n",
            "2021-06-15 11:53:21 (21.9 MB/s) - ‘spark_tgz/spark-2.4.8-bin-hadoop2.7.tgz’ saved [235899716/235899716]\n",
            "\n"
          ],
          "name": "stdout"
        }
      ]
    },
    {
      "cell_type": "code",
      "metadata": {
        "id": "yjYuiDedm2wX",
        "colab": {
          "base_uri": "https://localhost:8080/"
        },
        "outputId": "21ac6c1d-bee6-4456-d878-625b58dc6cdc"
      },
      "source": [
        "!tar -xf spark_tgz/spark-2.4.8-bin-hadoop2.7.tgz -C spark_tgz/\n",
        "!pip install -q findspark\n",
        "!pip install -q pyspark"
      ],
      "execution_count": 14,
      "outputs": [
        {
          "output_type": "stream",
          "text": [
            "\u001b[K     |████████████████████████████████| 212.4MB 70kB/s \n",
            "\u001b[K     |████████████████████████████████| 204kB 43.1MB/s \n",
            "\u001b[?25h  Building wheel for pyspark (setup.py) ... \u001b[?25l\u001b[?25hdone\n"
          ],
          "name": "stdout"
        }
      ]
    },
    {
      "cell_type": "code",
      "metadata": {
        "id": "FdID4xtSEQFt"
      },
      "source": [
        "import os\n",
        "os.environ[\"JAVA_HOME\"] = \"/usr/lib/jvm/java-8-openjdk-amd64\"\n",
        "os.environ[\"SPARK_HOME\"] = \"/content/spark_tgz/spark-2.4.8-bin-hadoop2.7\""
      ],
      "execution_count": 1,
      "outputs": []
    },
    {
      "cell_type": "code",
      "metadata": {
        "id": "7VaWRXmmqUKy"
      },
      "source": [
        ""
      ],
      "execution_count": 1,
      "outputs": []
    },
    {
      "cell_type": "code",
      "metadata": {
        "id": "wgxq4vxoESoj"
      },
      "source": [
        "import findspark\n",
        "findspark.init()\n",
        "from pyspark.sql import SparkSession\n",
        "spark = SparkSession.builder.master(\"local[*]\").getOrCreate()"
      ],
      "execution_count": 2,
      "outputs": []
    },
    {
      "cell_type": "code",
      "metadata": {
        "colab": {
          "base_uri": "https://localhost:8080/"
        },
        "id": "HEoLPI7HPmk7",
        "outputId": "e1ba3b66-bc29-44e0-e0b2-4471287dddda"
      },
      "source": [
        "!unzip 'data/*.zip' -d 'data/'"
      ],
      "execution_count": 17,
      "outputs": [
        {
          "output_type": "stream",
          "text": [
            "Archive:  data/sample_submission.csv.zip\n",
            "  inflating: data/sample_submission.csv  \n",
            "\n",
            "Archive:  data/cliente_tabla.csv.zip\n",
            "  inflating: data/cliente_tabla.csv  \n",
            "\n",
            "Archive:  data/town_state.csv.zip\n",
            "  inflating: data/town_state.csv     \n",
            "\n",
            "Archive:  data/train.csv.zip\n",
            "  inflating: data/train.csv          \n",
            "\n",
            "Archive:  data/test.csv.zip\n",
            "  inflating: data/test.csv           \n",
            "\n",
            "Archive:  data/producto_tabla.csv.zip\n",
            "  inflating: data/producto_tabla.csv  \n",
            "\n",
            "6 archives were successfully processed.\n"
          ],
          "name": "stdout"
        }
      ]
    },
    {
      "cell_type": "code",
      "metadata": {
        "id": "_Duqk9_nEVoR"
      },
      "source": [
        "df = spark.read.format('csv').option(\"header\", \"True\").load(\"data/train.csv\")"
      ],
      "execution_count": 18,
      "outputs": []
    },
    {
      "cell_type": "code",
      "metadata": {
        "id": "Erpmkg9BEg4N",
        "colab": {
          "base_uri": "https://localhost:8080/"
        },
        "outputId": "0f1e09b5-941a-4013-8297-0636d87b265b"
      },
      "source": [
        "%%time\n",
        "df.count()"
      ],
      "execution_count": 19,
      "outputs": [
        {
          "output_type": "stream",
          "text": [
            "CPU times: user 142 ms, sys: 23.6 ms, total: 165 ms\n",
            "Wall time: 30.7 s\n"
          ],
          "name": "stdout"
        },
        {
          "output_type": "execute_result",
          "data": {
            "text/plain": [
              "74180464"
            ]
          },
          "metadata": {
            "tags": []
          },
          "execution_count": 19
        }
      ]
    },
    {
      "cell_type": "code",
      "metadata": {
        "id": "wlaczNWeHQ3U"
      },
      "source": [
        "g_df_Semana= df.groupBy('Semana').count().toPandas()"
      ],
      "execution_count": 20,
      "outputs": []
    },
    {
      "cell_type": "code",
      "metadata": {
        "id": "IcEeZU7OKv4R"
      },
      "source": [
        "g_df_Semana.loc[:,'percent'] = g_df_Semana['count']/g_df_Semana['count'].sum()"
      ],
      "execution_count": 21,
      "outputs": []
    },
    {
      "cell_type": "code",
      "metadata": {
        "id": "jJolwZr9K-q9",
        "colab": {
          "base_uri": "https://localhost:8080/",
          "height": 266
        },
        "outputId": "1c5c601b-db2b-4cba-f4cf-0ef8aa869d22"
      },
      "source": [
        "g_df_Semana.sort_values('Semana')"
      ],
      "execution_count": 22,
      "outputs": [
        {
          "output_type": "execute_result",
          "data": {
            "text/html": [
              "<div>\n",
              "<style scoped>\n",
              "    .dataframe tbody tr th:only-of-type {\n",
              "        vertical-align: middle;\n",
              "    }\n",
              "\n",
              "    .dataframe tbody tr th {\n",
              "        vertical-align: top;\n",
              "    }\n",
              "\n",
              "    .dataframe thead th {\n",
              "        text-align: right;\n",
              "    }\n",
              "</style>\n",
              "<table border=\"1\" class=\"dataframe\">\n",
              "  <thead>\n",
              "    <tr style=\"text-align: right;\">\n",
              "      <th></th>\n",
              "      <th>Semana</th>\n",
              "      <th>count</th>\n",
              "      <th>percent</th>\n",
              "    </tr>\n",
              "  </thead>\n",
              "  <tbody>\n",
              "    <tr>\n",
              "      <th>1</th>\n",
              "      <td>3</td>\n",
              "      <td>11165207</td>\n",
              "      <td>0.150514</td>\n",
              "    </tr>\n",
              "    <tr>\n",
              "      <th>6</th>\n",
              "      <td>4</td>\n",
              "      <td>11009593</td>\n",
              "      <td>0.148416</td>\n",
              "    </tr>\n",
              "    <tr>\n",
              "      <th>3</th>\n",
              "      <td>5</td>\n",
              "      <td>10615397</td>\n",
              "      <td>0.143102</td>\n",
              "    </tr>\n",
              "    <tr>\n",
              "      <th>4</th>\n",
              "      <td>6</td>\n",
              "      <td>10191837</td>\n",
              "      <td>0.137392</td>\n",
              "    </tr>\n",
              "    <tr>\n",
              "      <th>0</th>\n",
              "      <td>7</td>\n",
              "      <td>10382849</td>\n",
              "      <td>0.139967</td>\n",
              "    </tr>\n",
              "    <tr>\n",
              "      <th>2</th>\n",
              "      <td>8</td>\n",
              "      <td>10406868</td>\n",
              "      <td>0.140291</td>\n",
              "    </tr>\n",
              "    <tr>\n",
              "      <th>5</th>\n",
              "      <td>9</td>\n",
              "      <td>10408713</td>\n",
              "      <td>0.140316</td>\n",
              "    </tr>\n",
              "  </tbody>\n",
              "</table>\n",
              "</div>"
            ],
            "text/plain": [
              "  Semana     count   percent\n",
              "1      3  11165207  0.150514\n",
              "6      4  11009593  0.148416\n",
              "3      5  10615397  0.143102\n",
              "4      6  10191837  0.137392\n",
              "0      7  10382849  0.139967\n",
              "2      8  10406868  0.140291\n",
              "5      9  10408713  0.140316"
            ]
          },
          "metadata": {
            "tags": []
          },
          "execution_count": 22
        }
      ]
    },
    {
      "cell_type": "markdown",
      "metadata": {
        "id": "WURAUf6LN_Kr"
      },
      "source": [
        "# Relacionando tabelas "
      ]
    },
    {
      "cell_type": "code",
      "metadata": {
        "colab": {
          "base_uri": "https://localhost:8080/"
        },
        "id": "_YqIaONmepxL",
        "outputId": "ac0b2257-18ad-4e80-f7b4-796ee5b54fc2"
      },
      "source": [
        "!ls data/*.csv"
      ],
      "execution_count": 23,
      "outputs": [
        {
          "output_type": "stream",
          "text": [
            "data/cliente_tabla.csv\t data/sample_submission.csv  data/town_state.csv\n",
            "data/producto_tabla.csv  data/test.csv\t\t     data/train.csv\n"
          ],
          "name": "stdout"
        }
      ]
    },
    {
      "cell_type": "code",
      "metadata": {
        "id": "a8re0pvRQbhD"
      },
      "source": [
        "spark.read.format('csv').option(\"header\", \"True\").load(\"data/cliente_tabla.csv\").createOrReplaceTempView('cliente_tabla') \n",
        "spark.read.format('csv').option(\"header\", \"True\").load(\"data/sample_submission.csv\").createOrReplaceTempView('sample_submission') \n",
        "spark.read.format('csv').option(\"header\", \"True\").load(\"data/town_state.csv\").createOrReplaceTempView('town_state') \n",
        "spark.read.format('csv').option(\"header\", \"True\").load(\"data/producto_tabla.csv\").createOrReplaceTempView('producto_tabla') \n",
        "spark.read.format('csv').option(\"header\", \"True\").load(\"data/test.csv\").createOrReplaceTempView('test') \n",
        "spark.read.format('csv').option(\"header\", \"True\").load(\"data/train.csv\").createOrReplaceTempView('train') "
      ],
      "execution_count": 3,
      "outputs": []
    },
    {
      "cell_type": "code",
      "metadata": {
        "id": "X88Q1K_SppV_"
      },
      "source": [
        "df = spark.sql(\"\"\"\n",
        "SELECT train.*\n",
        "--  , cliente_tabla.NombreCliente \n",
        "  , producto_tabla.NombreProducto\n",
        "  , town_state.Town\n",
        "  , town_state.State\n",
        "FROM train\n",
        "--LEFT JOIN cliente_tabla \n",
        "--  on train.Cliente_ID = cliente_tabla.Cliente_ID\n",
        "LEFT JOIN producto_tabla\n",
        "  on train.Producto_ID = producto_tabla.Producto_ID\n",
        "LEFT JOIN town_state\n",
        "  on train.Agencia_ID = town_state.Agencia_ID  \n",
        "\"\"\")\n",
        "#.write.mode('overwrite').format('parquet').save('data/tabelao/')"
      ],
      "execution_count": 4,
      "outputs": []
    },
    {
      "cell_type": "code",
      "metadata": {
        "id": "Hv68rqYv2JBL"
      },
      "source": [
        "df.write.partitionBy([\"Agencia_ID\"]).mode('overwrite').format('parquet').save('data/tabelao/')"
      ],
      "execution_count": 26,
      "outputs": []
    },
    {
      "cell_type": "code",
      "metadata": {
        "id": "uaAU7YH1sI1N"
      },
      "source": [
        "df = spark.read.format('parquet').load('data/tabelao/')"
      ],
      "execution_count": 5,
      "outputs": []
    },
    {
      "cell_type": "code",
      "metadata": {
        "colab": {
          "base_uri": "https://localhost:8080/"
        },
        "id": "aA1i4otLsx7W",
        "outputId": "2135def1-705d-4aa4-c074-94f4f057378a"
      },
      "source": [
        "%%time\n",
        "df.count()"
      ],
      "execution_count": 6,
      "outputs": [
        {
          "output_type": "stream",
          "text": [
            "CPU times: user 63.5 ms, sys: 4.77 ms, total: 68.3 ms\n",
            "Wall time: 9.41 s\n"
          ],
          "name": "stdout"
        },
        {
          "output_type": "execute_result",
          "data": {
            "text/plain": [
              "74180464"
            ]
          },
          "metadata": {
            "tags": []
          },
          "execution_count": 6
        }
      ]
    },
    {
      "cell_type": "code",
      "metadata": {
        "colab": {
          "base_uri": "https://localhost:8080/",
          "height": 360
        },
        "id": "1magJx-zt1-X",
        "outputId": "ca1682a0-11ad-475e-bb8c-c6c0da94deb0"
      },
      "source": [
        "df.limit(5).toPandas()"
      ],
      "execution_count": 7,
      "outputs": [
        {
          "output_type": "execute_result",
          "data": {
            "text/html": [
              "<div>\n",
              "<style scoped>\n",
              "    .dataframe tbody tr th:only-of-type {\n",
              "        vertical-align: middle;\n",
              "    }\n",
              "\n",
              "    .dataframe tbody tr th {\n",
              "        vertical-align: top;\n",
              "    }\n",
              "\n",
              "    .dataframe thead th {\n",
              "        text-align: right;\n",
              "    }\n",
              "</style>\n",
              "<table border=\"1\" class=\"dataframe\">\n",
              "  <thead>\n",
              "    <tr style=\"text-align: right;\">\n",
              "      <th></th>\n",
              "      <th>Semana</th>\n",
              "      <th>Canal_ID</th>\n",
              "      <th>Ruta_SAK</th>\n",
              "      <th>Cliente_ID</th>\n",
              "      <th>Producto_ID</th>\n",
              "      <th>Venta_uni_hoy</th>\n",
              "      <th>Venta_hoy</th>\n",
              "      <th>Dev_uni_proxima</th>\n",
              "      <th>Dev_proxima</th>\n",
              "      <th>Demanda_uni_equil</th>\n",
              "      <th>NombreProducto</th>\n",
              "      <th>Town</th>\n",
              "      <th>State</th>\n",
              "      <th>Agencia_ID</th>\n",
              "    </tr>\n",
              "  </thead>\n",
              "  <tbody>\n",
              "    <tr>\n",
              "      <th>0</th>\n",
              "      <td>3</td>\n",
              "      <td>1</td>\n",
              "      <td>2135</td>\n",
              "      <td>93492</td>\n",
              "      <td>43058</td>\n",
              "      <td>1</td>\n",
              "      <td>9.35</td>\n",
              "      <td>0</td>\n",
              "      <td>0.0</td>\n",
              "      <td>1</td>\n",
              "      <td>Sponch 8p 120g MTB MLA 43058</td>\n",
              "      <td>2309 NORTE</td>\n",
              "      <td>JALISCO</td>\n",
              "      <td>1911</td>\n",
              "    </tr>\n",
              "    <tr>\n",
              "      <th>1</th>\n",
              "      <td>3</td>\n",
              "      <td>1</td>\n",
              "      <td>1007</td>\n",
              "      <td>90938</td>\n",
              "      <td>1109</td>\n",
              "      <td>1</td>\n",
              "      <td>15.01</td>\n",
              "      <td>0</td>\n",
              "      <td>0.0</td>\n",
              "      <td>1</td>\n",
              "      <td>Pan Blanco Chico 360g BIM 1109</td>\n",
              "      <td>2309 NORTE</td>\n",
              "      <td>JALISCO</td>\n",
              "      <td>1911</td>\n",
              "    </tr>\n",
              "    <tr>\n",
              "      <th>2</th>\n",
              "      <td>3</td>\n",
              "      <td>1</td>\n",
              "      <td>2135</td>\n",
              "      <td>93567</td>\n",
              "      <td>30549</td>\n",
              "      <td>2</td>\n",
              "      <td>10.76</td>\n",
              "      <td>0</td>\n",
              "      <td>0.0</td>\n",
              "      <td>2</td>\n",
              "      <td>Suavicremas Chocolate 84g MTA MLA 30549</td>\n",
              "      <td>2309 NORTE</td>\n",
              "      <td>JALISCO</td>\n",
              "      <td>1911</td>\n",
              "    </tr>\n",
              "    <tr>\n",
              "      <th>3</th>\n",
              "      <td>3</td>\n",
              "      <td>1</td>\n",
              "      <td>1007</td>\n",
              "      <td>90938</td>\n",
              "      <td>1125</td>\n",
              "      <td>8</td>\n",
              "      <td>76.8</td>\n",
              "      <td>0</td>\n",
              "      <td>0.0</td>\n",
              "      <td>8</td>\n",
              "      <td>Tortillinas 10p 255g TR 1125</td>\n",
              "      <td>2309 NORTE</td>\n",
              "      <td>JALISCO</td>\n",
              "      <td>1911</td>\n",
              "    </tr>\n",
              "    <tr>\n",
              "      <th>4</th>\n",
              "      <td>3</td>\n",
              "      <td>1</td>\n",
              "      <td>2135</td>\n",
              "      <td>93567</td>\n",
              "      <td>30572</td>\n",
              "      <td>7</td>\n",
              "      <td>43.75</td>\n",
              "      <td>0</td>\n",
              "      <td>0.0</td>\n",
              "      <td>7</td>\n",
              "      <td>Barritas Fresa 67g Prom MTB MLA 30572</td>\n",
              "      <td>2309 NORTE</td>\n",
              "      <td>JALISCO</td>\n",
              "      <td>1911</td>\n",
              "    </tr>\n",
              "  </tbody>\n",
              "</table>\n",
              "</div>"
            ],
            "text/plain": [
              "  Semana Canal_ID Ruta_SAK  ...        Town    State Agencia_ID\n",
              "0      3        1     2135  ...  2309 NORTE  JALISCO       1911\n",
              "1      3        1     1007  ...  2309 NORTE  JALISCO       1911\n",
              "2      3        1     2135  ...  2309 NORTE  JALISCO       1911\n",
              "3      3        1     1007  ...  2309 NORTE  JALISCO       1911\n",
              "4      3        1     2135  ...  2309 NORTE  JALISCO       1911\n",
              "\n",
              "[5 rows x 14 columns]"
            ]
          },
          "metadata": {
            "tags": []
          },
          "execution_count": 7
        }
      ]
    },
    {
      "cell_type": "code",
      "metadata": {
        "id": "dRiJDivMu26h"
      },
      "source": [
        "df.createOrReplaceTempView('tabelao')"
      ],
      "execution_count": 8,
      "outputs": []
    },
    {
      "cell_type": "code",
      "metadata": {
        "id": "1AVnHtiOsXTz"
      },
      "source": [
        "spark.sql(\"\"\"\n",
        "SELECT *\n",
        "  ,SUM(Demanda_uni_equil) OVER (PARTITION BY Agencia_ID, Producto_ID) SUM_Town_Prod_Demanda_uni_equil\n",
        "  ,AVG(Demanda_uni_equil) OVER (PARTITION BY Agencia_ID, Producto_ID) AVG_Town_Prod_Demanda_uni_equil\n",
        "  ,MIN(Demanda_uni_equil) OVER (PARTITION BY Agencia_ID, Producto_ID) MIN_Town_Prod_Demanda_uni_equil\n",
        "  ,MAX(Demanda_uni_equil) OVER (PARTITION BY Agencia_ID, Producto_ID) MAX_Town_Prod_Demanda_uni_equil\n",
        "\n",
        "  ,SUM(Demanda_uni_equil) OVER (PARTITION BY Agencia_ID) SUM_Town_Demanda_uni_equil\n",
        "  ,AVG(Demanda_uni_equil) OVER (PARTITION BY Agencia_ID) AVG_Town_Demanda_uni_equil\n",
        "  ,MIN(Demanda_uni_equil) OVER (PARTITION BY Agencia_ID) MIN_Town_Demanda_uni_equil\n",
        "  ,MAX(Demanda_uni_equil) OVER (PARTITION BY Agencia_ID) MAX_Town_Demanda_uni_equil\n",
        "\n",
        "  --,SUM(Demanda_uni_equil) OVER (PARTITION BY State) SUM_State_Demanda_uni_equil\n",
        "  --,AVG(Demanda_uni_equil) OVER (PARTITION BY State) AVG_State_Demanda_uni_equil\n",
        "  --,MIN(Demanda_uni_equil) OVER (PARTITION BY State) MIN_State_Demanda_uni_equil\n",
        "  --,MAX(Demanda_uni_equil) OVER (PARTITION BY State) MAX_State_Demanda_uni_equil\n",
        "\n",
        "  --,SUM(Demanda_uni_equil) OVER (PARTITION BY State, Producto_ID) SUM_State_Prod_Demanda_uni_equil\n",
        "  --,AVG(Demanda_uni_equil) OVER (PARTITION BY State, Producto_ID) AVG_State_Prod_Demanda_uni_equil\n",
        "  --,MIN(Demanda_uni_equil) OVER (PARTITION BY State, Producto_ID) MIN_State_Prod_Demanda_uni_equil\n",
        "  --,MAX(Demanda_uni_equil) OVER (PARTITION BY State, Producto_ID) MAX_State_Prod_Demanda_uni_equil\n",
        "\n",
        "  --,SUM(Demanda_uni_equil) OVER (PARTITION BY Producto_ID) SUM_Prod_Demanda_uni_equil\n",
        "  --,AVG(Demanda_uni_equil) OVER (PARTITION BY Producto_ID) AVG_Prod_Demanda_uni_equil\n",
        "  --,MIN(Demanda_uni_equil) OVER (PARTITION BY Producto_ID) MIN_Prod_Demanda_uni_equil\n",
        "  --,MAX(Demanda_uni_equil) OVER (PARTITION BY Producto_ID) MAX_Prod_Demanda_uni_equil\n",
        "\n",
        "  ,SUM(Demanda_uni_equil) OVER (PARTITION BY Agencia_ID,Cliente_ID) SUM_Cliente_Demanda_uni_equil\n",
        "  ,AVG(Demanda_uni_equil) OVER (PARTITION BY Agencia_ID,Cliente_ID) AVG_Cliente_Demanda_uni_equil\n",
        "  ,MIN(Demanda_uni_equil) OVER (PARTITION BY Agencia_ID,Cliente_ID) MIN_Cliente_Demanda_uni_equil\n",
        "  ,MAX(Demanda_uni_equil) OVER (PARTITION BY Agencia_ID,Cliente_ID) MAX_Cliente_Demanda_uni_equil\n",
        "\n",
        "  ,SUM(Demanda_uni_equil) OVER (PARTITION BY Agencia_ID, Cliente_ID, Producto_ID) SUM_Cliente_Prod_Demanda_uni_equil\n",
        "  ,AVG(Demanda_uni_equil) OVER (PARTITION BY Agencia_ID, Cliente_ID, Producto_ID) AVG_Cliente_Prod_Demanda_uni_equil\n",
        "  ,MIN(Demanda_uni_equil) OVER (PARTITION BY Agencia_ID, Cliente_ID, Producto_ID) MIN_Cliente_Prod_Demanda_uni_equil\n",
        "  ,MAX(Demanda_uni_equil) OVER (PARTITION BY Agencia_ID, Cliente_ID, Producto_ID) MAX_Cliente_Prod_Demanda_uni_equil\n",
        "  \n",
        "  ,LAG(Demanda_uni_equil,1) OVER (PARTITION BY Agencia_ID, Cliente_ID, Producto_ID ORDER BY Semana) LAG_1_Cliente_Prod_Demanda_uni_equil\n",
        "  ,LAG(Demanda_uni_equil,2) OVER (PARTITION BY Agencia_ID, Cliente_ID, Producto_ID ORDER BY Semana) LAG_2_Cliente_Prod_Demanda_uni_equil\n",
        "  ,LAG(Demanda_uni_equil,3) OVER (PARTITION BY Agencia_ID, Cliente_ID, Producto_ID ORDER BY Semana) LAG_3_Cliente_Prod_Demanda_uni_equil\n",
        "  ,LAG(Demanda_uni_equil,4) OVER (PARTITION BY Agencia_ID, Cliente_ID, Producto_ID ORDER BY Semana) LAG_4_Cliente_Prod_Demanda_uni_equil\n",
        "  ,LAG(Demanda_uni_equil,5) OVER (PARTITION BY Agencia_ID, Cliente_ID, Producto_ID ORDER BY Semana) LAG_5_Cliente_Prod_Demanda_uni_equil\n",
        " \n",
        "FROM tabelao\n",
        "where Agencia_ID <= 2000\n",
        "--ORDER BY Semana, Producto_ID\n",
        "\"\"\").filter('Semana==9').write.partitionBy([\"Agencia_ID\"]).mode('overwrite').format('parquet').save('data/tabelao_over/')"
      ],
      "execution_count": 9,
      "outputs": []
    },
    {
      "cell_type": "code",
      "metadata": {
        "id": "Y98SqIGfUqkX",
        "outputId": "a3cce825-38c5-409e-eb4c-d974197e9746",
        "colab": {
          "base_uri": "https://localhost:8080/"
        }
      },
      "source": [
        "df = spark.read.format('parquet').load('data/tabelao_over/')\n",
        "df.count() # 74180464?"
      ],
      "execution_count": 10,
      "outputs": [
        {
          "output_type": "execute_result",
          "data": {
            "text/plain": [
              "6878922"
            ]
          },
          "metadata": {
            "tags": []
          },
          "execution_count": 10
        }
      ]
    },
    {
      "cell_type": "code",
      "metadata": {
        "id": "wcxyh6VTCZ_o",
        "outputId": "696fcbb1-7051-4b12-c2b8-8804704a9786",
        "colab": {
          "base_uri": "https://localhost:8080/"
        }
      },
      "source": [
        "%%time\n",
        "spark.sql(\"\"\"\n",
        "SELECT *\n",
        "  ,SUM(Demanda_uni_equil) OVER (PARTITION BY Agencia_ID, Producto_ID) SUM_Town_Prod_Demanda_uni_equil\n",
        "  ,AVG(Demanda_uni_equil) OVER (PARTITION BY Agencia_ID, Producto_ID) AVG_Town_Prod_Demanda_uni_equil\n",
        "  ,MIN(Demanda_uni_equil) OVER (PARTITION BY Agencia_ID, Producto_ID) MIN_Town_Prod_Demanda_uni_equil\n",
        "  ,MAX(Demanda_uni_equil) OVER (PARTITION BY Agencia_ID, Producto_ID) MAX_Town_Prod_Demanda_uni_equil\n",
        "\n",
        "  ,SUM(Demanda_uni_equil) OVER (PARTITION BY Agencia_ID) SUM_Town_Demanda_uni_equil\n",
        "  ,AVG(Demanda_uni_equil) OVER (PARTITION BY Agencia_ID) AVG_Town_Demanda_uni_equil\n",
        "  ,MIN(Demanda_uni_equil) OVER (PARTITION BY Agencia_ID) MIN_Town_Demanda_uni_equil\n",
        "  ,MAX(Demanda_uni_equil) OVER (PARTITION BY Agencia_ID) MAX_Town_Demanda_uni_equil\n",
        "\n",
        "  --,SUM(Demanda_uni_equil) OVER (PARTITION BY State) SUM_State_Demanda_uni_equil\n",
        "  --,AVG(Demanda_uni_equil) OVER (PARTITION BY State) AVG_State_Demanda_uni_equil\n",
        "  --,MIN(Demanda_uni_equil) OVER (PARTITION BY State) MIN_State_Demanda_uni_equil\n",
        "  --,MAX(Demanda_uni_equil) OVER (PARTITION BY State) MAX_State_Demanda_uni_equil\n",
        "\n",
        "  --,SUM(Demanda_uni_equil) OVER (PARTITION BY State, Producto_ID) SUM_State_Prod_Demanda_uni_equil\n",
        "  --,AVG(Demanda_uni_equil) OVER (PARTITION BY State, Producto_ID) AVG_State_Prod_Demanda_uni_equil\n",
        "  --,MIN(Demanda_uni_equil) OVER (PARTITION BY State, Producto_ID) MIN_State_Prod_Demanda_uni_equil\n",
        "  --,MAX(Demanda_uni_equil) OVER (PARTITION BY State, Producto_ID) MAX_State_Prod_Demanda_uni_equil\n",
        "\n",
        "  --,SUM(Demanda_uni_equil) OVER (PARTITION BY Producto_ID) SUM_Prod_Demanda_uni_equil\n",
        "  --,AVG(Demanda_uni_equil) OVER (PARTITION BY Producto_ID) AVG_Prod_Demanda_uni_equil\n",
        "  --,MIN(Demanda_uni_equil) OVER (PARTITION BY Producto_ID) MIN_Prod_Demanda_uni_equil\n",
        "  --,MAX(Demanda_uni_equil) OVER (PARTITION BY Producto_ID) MAX_Prod_Demanda_uni_equil\n",
        "\n",
        "  ,SUM(Demanda_uni_equil) OVER (PARTITION BY Agencia_ID,Cliente_ID) SUM_Cliente_Demanda_uni_equil\n",
        "  ,AVG(Demanda_uni_equil) OVER (PARTITION BY Agencia_ID,Cliente_ID) AVG_Cliente_Demanda_uni_equil\n",
        "  ,MIN(Demanda_uni_equil) OVER (PARTITION BY Agencia_ID,Cliente_ID) MIN_Cliente_Demanda_uni_equil\n",
        "  ,MAX(Demanda_uni_equil) OVER (PARTITION BY Agencia_ID,Cliente_ID) MAX_Cliente_Demanda_uni_equil\n",
        "\n",
        "  ,SUM(Demanda_uni_equil) OVER (PARTITION BY Agencia_ID, Cliente_ID, Producto_ID) SUM_Cliente_Prod_Demanda_uni_equil\n",
        "  ,AVG(Demanda_uni_equil) OVER (PARTITION BY Agencia_ID, Cliente_ID, Producto_ID) AVG_Cliente_Prod_Demanda_uni_equil\n",
        "  ,MIN(Demanda_uni_equil) OVER (PARTITION BY Agencia_ID, Cliente_ID, Producto_ID) MIN_Cliente_Prod_Demanda_uni_equil\n",
        "  ,MAX(Demanda_uni_equil) OVER (PARTITION BY Agencia_ID, Cliente_ID, Producto_ID) MAX_Cliente_Prod_Demanda_uni_equil\n",
        "  \n",
        "  ,LAG(Demanda_uni_equil,1) OVER (PARTITION BY Agencia_ID, Cliente_ID, Producto_ID ORDER BY Semana) LAG_1_Cliente_Prod_Demanda_uni_equil\n",
        "  ,LAG(Demanda_uni_equil,2) OVER (PARTITION BY Agencia_ID, Cliente_ID, Producto_ID ORDER BY Semana) LAG_2_Cliente_Prod_Demanda_uni_equil\n",
        "  ,LAG(Demanda_uni_equil,3) OVER (PARTITION BY Agencia_ID, Cliente_ID, Producto_ID ORDER BY Semana) LAG_3_Cliente_Prod_Demanda_uni_equil\n",
        "  ,LAG(Demanda_uni_equil,4) OVER (PARTITION BY Agencia_ID, Cliente_ID, Producto_ID ORDER BY Semana) LAG_4_Cliente_Prod_Demanda_uni_equil\n",
        "  ,LAG(Demanda_uni_equil,5) OVER (PARTITION BY Agencia_ID, Cliente_ID, Producto_ID ORDER BY Semana) LAG_5_Cliente_Prod_Demanda_uni_equil\n",
        " \n",
        "FROM tabelao\n",
        "where Agencia_ID > 2000\n",
        "--ORDER BY Semana, Producto_ID\n",
        "\"\"\").filter('Semana==9').write.partitionBy([\"Agencia_ID\"]).mode('append').format('parquet').save('data/tabelao_over/')"
      ],
      "execution_count": 11,
      "outputs": [
        {
          "output_type": "stream",
          "text": [
            "CPU times: user 3.8 s, sys: 383 ms, total: 4.18 s\n",
            "Wall time: 10min 22s\n"
          ],
          "name": "stdout"
        }
      ]
    },
    {
      "cell_type": "code",
      "metadata": {
        "id": "8QL_fc92Caig",
        "outputId": "932f6011-4b5a-49b4-b03a-4e062b3eb9e7",
        "colab": {
          "base_uri": "https://localhost:8080/"
        }
      },
      "source": [
        "df = spark.read.format('parquet').load('data/tabelao_over/')\n",
        "df.count() # 74180464?"
      ],
      "execution_count": 13,
      "outputs": [
        {
          "output_type": "execute_result",
          "data": {
            "text/plain": [
              "10408713"
            ]
          },
          "metadata": {
            "tags": []
          },
          "execution_count": 13
        }
      ]
    },
    {
      "cell_type": "code",
      "metadata": {
        "id": "vSCk3dS-4852",
        "outputId": "b56326da-e1e2-4551-c85a-7c308a8fb415",
        "colab": {
          "base_uri": "https://localhost:8080/"
        }
      },
      "source": [
        "df.describe()"
      ],
      "execution_count": 14,
      "outputs": [
        {
          "output_type": "execute_result",
          "data": {
            "text/plain": [
              "DataFrame[summary: string, Semana: string, Canal_ID: string, Ruta_SAK: string, Cliente_ID: string, Producto_ID: string, Venta_uni_hoy: string, Venta_hoy: string, Dev_uni_proxima: string, Dev_proxima: string, Demanda_uni_equil: string, NombreProducto: string, Town: string, State: string, SUM_Town_Prod_Demanda_uni_equil: string, AVG_Town_Prod_Demanda_uni_equil: string, MIN_Town_Prod_Demanda_uni_equil: string, MAX_Town_Prod_Demanda_uni_equil: string, SUM_Town_Demanda_uni_equil: string, AVG_Town_Demanda_uni_equil: string, MIN_Town_Demanda_uni_equil: string, MAX_Town_Demanda_uni_equil: string, SUM_Cliente_Demanda_uni_equil: string, AVG_Cliente_Demanda_uni_equil: string, MIN_Cliente_Demanda_uni_equil: string, MAX_Cliente_Demanda_uni_equil: string, SUM_Cliente_Prod_Demanda_uni_equil: string, AVG_Cliente_Prod_Demanda_uni_equil: string, MIN_Cliente_Prod_Demanda_uni_equil: string, MAX_Cliente_Prod_Demanda_uni_equil: string, LAG_1_Cliente_Prod_Demanda_uni_equil: string, LAG_2_Cliente_Prod_Demanda_uni_equil: string, LAG_3_Cliente_Prod_Demanda_uni_equil: string, LAG_4_Cliente_Prod_Demanda_uni_equil: string, LAG_5_Cliente_Prod_Demanda_uni_equil: string, Agencia_ID: string]"
            ]
          },
          "metadata": {
            "tags": []
          },
          "execution_count": 14
        }
      ]
    },
    {
      "cell_type": "code",
      "metadata": {
        "id": "QMHYAKAz7me2"
      },
      "source": [
        ""
      ],
      "execution_count": null,
      "outputs": []
    }
  ]
}