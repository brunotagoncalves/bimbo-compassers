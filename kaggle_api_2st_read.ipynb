{
  "nbformat": 4,
  "nbformat_minor": 0,
  "metadata": {
    "colab": {
      "name": "Untitled0.ipynb",
      "provenance": [],
      "toc_visible": true,
      "authorship_tag": "ABX9TyN4onZp6+96geaKJFdTJi8u",
      "include_colab_link": true
    },
    "kernelspec": {
      "name": "python3",
      "display_name": "Python 3"
    },
    "language_info": {
      "name": "python"
    }
  },
  "cells": [
    {
      "cell_type": "markdown",
      "metadata": {
        "id": "view-in-github",
        "colab_type": "text"
      },
      "source": [
        "<a href=\"https://colab.research.google.com/github/brunotagoncalves/bimbo-compassers/blob/main/kaggle_api_2st_read.ipynb\" target=\"_parent\"><img src=\"https://colab.research.google.com/assets/colab-badge.svg\" alt=\"Open In Colab\"/></a>"
      ]
    },
    {
      "cell_type": "markdown",
      "metadata": {
        "id": "zzFCd_M-Ey6L"
      },
      "source": [
        "# Notebook para Download e Leitura Inicial de Arquivos \n"
      ]
    },
    {
      "cell_type": "markdown",
      "metadata": {
        "id": "ArMBhA_cFN8_"
      },
      "source": [
        "1) Instalação e Download de Arquivos Kaggle"
      ]
    },
    {
      "cell_type": "code",
      "metadata": {
        "id": "Ifkp6R57QRTA",
        "colab": {
          "base_uri": "https://localhost:8080/"
        },
        "outputId": "1889c7a7-c927-4ef3-d02d-d21757a80ede"
      },
      "source": [
        "# Podem  ocorrrer falhas de instalação como lxml, mas isso não atrapalha o restante do código\n",
        "!pip install -q kaggle\n",
        "!pip install -q kaggle-cli"
      ],
      "execution_count": 1,
      "outputs": [
        {
          "output_type": "stream",
          "text": [
            "\u001b[K     |████████████████████████████████| 81kB 3.9MB/s \n",
            "\u001b[K     |████████████████████████████████| 4.2MB 10.5MB/s \n",
            "\u001b[K     |████████████████████████████████| 51kB 5.0MB/s \n",
            "\u001b[K     |████████████████████████████████| 112kB 49.7MB/s \n",
            "\u001b[K     |████████████████████████████████| 143kB 50.3MB/s \n",
            "\u001b[?25h  Building wheel for kaggle-cli (setup.py) ... \u001b[?25l\u001b[?25hdone\n",
            "  Building wheel for lxml (setup.py) ... \u001b[?25lerror\n",
            "\u001b[31m  ERROR: Failed building wheel for lxml\u001b[0m\n",
            "\u001b[?25h  Building wheel for PrettyTable (setup.py) ... \u001b[?25l\u001b[?25hdone\n",
            "  Building wheel for pyperclip (setup.py) ... \u001b[?25l\u001b[?25hdone\n",
            "    Running setup.py install for lxml ... \u001b[?25l\u001b[?25herror\n",
            "\u001b[31mERROR: Command errored out with exit status 1: /usr/bin/python3 -u -c 'import sys, setuptools, tokenize; sys.argv[0] = '\"'\"'/tmp/pip-install-w0s8dnns/lxml/setup.py'\"'\"'; __file__='\"'\"'/tmp/pip-install-w0s8dnns/lxml/setup.py'\"'\"';f=getattr(tokenize, '\"'\"'open'\"'\"', open)(__file__);code=f.read().replace('\"'\"'\\r\\n'\"'\"', '\"'\"'\\n'\"'\"');f.close();exec(compile(code, __file__, '\"'\"'exec'\"'\"'))' install --record /tmp/pip-record-2qinw_hv/install-record.txt --single-version-externally-managed --compile Check the logs for full command output.\u001b[0m\n"
          ],
          "name": "stdout"
        }
      ]
    },
    {
      "cell_type": "code",
      "metadata": {
        "id": "7NLSi0qhN-kG"
      },
      "source": [
        "# Alterando arquivo de config do Kaggle com dados pessoais https://www.kaggle.com/\"username\"/account  crie um token pessoal no botão \"create new api token\"\n",
        "!mkdir ~/.kaggle\n",
        "!echo '{\"username\":\"bruno9tg\",\"key\":\"656f29061b3fcda2f8c1541f3492f24d\"}' > ../root/.kaggle/kaggle.json"
      ],
      "execution_count": 2,
      "outputs": []
    },
    {
      "cell_type": "code",
      "metadata": {
        "colab": {
          "base_uri": "https://localhost:8080/"
        },
        "id": "nTx5CyN_KEgG",
        "outputId": "50c8fb0a-f4ec-47f7-c9bd-dcf97c6cdf7c"
      },
      "source": [
        "#utiliza api kaggle para realizar download\n",
        "#!kaggle competitions download -c grupo-bimbo-inventory-demand\n",
        "!kaggle competitions download -p data/ grupo-bimbo-inventory-demand"
      ],
      "execution_count": 3,
      "outputs": [
        {
          "output_type": "stream",
          "text": [
            "Warning: Your Kaggle API key is readable by other users on this system! To fix this, you can run 'chmod 600 /root/.kaggle/kaggle.json'\n",
            "Warning: Looks like you're using an outdated API Version, please consider updating (server 1.5.12 / client 1.5.4)\n",
            "Downloading producto_tabla.csv.zip to data\n",
            "  0% 0.00/31.5k [00:00<?, ?B/s]\n",
            "100% 31.5k/31.5k [00:00<00:00, 12.1MB/s]\n",
            "Downloading test.csv.zip to data\n",
            " 85% 73.0M/85.8M [00:00<00:00, 90.8MB/s]\n",
            "100% 85.8M/85.8M [00:00<00:00, 134MB/s] \n",
            "Downloading town_state.csv.zip to data\n",
            "  0% 0.00/6.35k [00:00<?, ?B/s]\n",
            "100% 6.35k/6.35k [00:00<00:00, 6.17MB/s]\n",
            "Downloading sample_submission.csv.zip to data\n",
            "100% 14.8M/14.8M [00:00<00:00, 151MB/s]\n",
            "\n",
            "Downloading cliente_tabla.csv.zip to data\n",
            "  0% 0.00/5.87M [00:00<?, ?B/s]\n",
            "100% 5.87M/5.87M [00:00<00:00, 50.1MB/s]\n",
            "Downloading train.csv.zip to data\n",
            "100% 371M/373M [00:02<00:00, 146MB/s]\n",
            "100% 373M/373M [00:03<00:00, 130MB/s]\n"
          ],
          "name": "stdout"
        }
      ]
    },
    {
      "cell_type": "markdown",
      "metadata": {
        "id": "0Zz0TcBlGdvy"
      },
      "source": [
        "2) Leitura básica dos arquivos"
      ]
    },
    {
      "cell_type": "code",
      "metadata": {
        "id": "WOT9kjhoaw0K"
      },
      "source": [
        "import pandas as pd "
      ],
      "execution_count": 1,
      "outputs": []
    },
    {
      "cell_type": "code",
      "metadata": {
        "id": "JHFnciVhi42X",
        "colab": {
          "base_uri": "https://localhost:8080/"
        },
        "outputId": "49ddf126-457b-41c7-c105-9d96e0abf694"
      },
      "source": [
        "!ls data/"
      ],
      "execution_count": 5,
      "outputs": [
        {
          "output_type": "stream",
          "text": [
            "cliente_tabla.csv.zip\tsample_submission.csv.zip  town_state.csv.zip\n",
            "producto_tabla.csv.zip\ttest.csv.zip\t\t   train.csv.zip\n"
          ],
          "name": "stdout"
        }
      ]
    },
    {
      "cell_type": "code",
      "metadata": {
        "id": "rcimfzFGiuHo",
        "colab": {
          "base_uri": "https://localhost:8080/",
          "height": 204
        },
        "outputId": "606e14a1-6e99-48cf-ba0f-9d6630225034"
      },
      "source": [
        "pd.read_csv('data/cliente_tabla.csv.zip').head()"
      ],
      "execution_count": 6,
      "outputs": [
        {
          "output_type": "execute_result",
          "data": {
            "text/html": [
              "<div>\n",
              "<style scoped>\n",
              "    .dataframe tbody tr th:only-of-type {\n",
              "        vertical-align: middle;\n",
              "    }\n",
              "\n",
              "    .dataframe tbody tr th {\n",
              "        vertical-align: top;\n",
              "    }\n",
              "\n",
              "    .dataframe thead th {\n",
              "        text-align: right;\n",
              "    }\n",
              "</style>\n",
              "<table border=\"1\" class=\"dataframe\">\n",
              "  <thead>\n",
              "    <tr style=\"text-align: right;\">\n",
              "      <th></th>\n",
              "      <th>Cliente_ID</th>\n",
              "      <th>NombreCliente</th>\n",
              "    </tr>\n",
              "  </thead>\n",
              "  <tbody>\n",
              "    <tr>\n",
              "      <th>0</th>\n",
              "      <td>0</td>\n",
              "      <td>SIN NOMBRE</td>\n",
              "    </tr>\n",
              "    <tr>\n",
              "      <th>1</th>\n",
              "      <td>1</td>\n",
              "      <td>OXXO XINANTECATL</td>\n",
              "    </tr>\n",
              "    <tr>\n",
              "      <th>2</th>\n",
              "      <td>2</td>\n",
              "      <td>SIN NOMBRE</td>\n",
              "    </tr>\n",
              "    <tr>\n",
              "      <th>3</th>\n",
              "      <td>3</td>\n",
              "      <td>EL MORENO</td>\n",
              "    </tr>\n",
              "    <tr>\n",
              "      <th>4</th>\n",
              "      <td>4</td>\n",
              "      <td>SDN SER  DE ALIM  CUERPO SA CIA  DE INT</td>\n",
              "    </tr>\n",
              "  </tbody>\n",
              "</table>\n",
              "</div>"
            ],
            "text/plain": [
              "   Cliente_ID                            NombreCliente\n",
              "0           0                               SIN NOMBRE\n",
              "1           1                         OXXO XINANTECATL\n",
              "2           2                               SIN NOMBRE\n",
              "3           3                                EL MORENO\n",
              "4           4  SDN SER  DE ALIM  CUERPO SA CIA  DE INT"
            ]
          },
          "metadata": {
            "tags": []
          },
          "execution_count": 6
        }
      ]
    },
    {
      "cell_type": "code",
      "metadata": {
        "id": "Xw99lcpOi9i_",
        "colab": {
          "base_uri": "https://localhost:8080/",
          "height": 204
        },
        "outputId": "27ed5cc3-d930-4e2b-b4b3-1254b1ecc3bd"
      },
      "source": [
        "pd.read_csv('data/producto_tabla.csv.zip').head()"
      ],
      "execution_count": 7,
      "outputs": [
        {
          "output_type": "execute_result",
          "data": {
            "text/html": [
              "<div>\n",
              "<style scoped>\n",
              "    .dataframe tbody tr th:only-of-type {\n",
              "        vertical-align: middle;\n",
              "    }\n",
              "\n",
              "    .dataframe tbody tr th {\n",
              "        vertical-align: top;\n",
              "    }\n",
              "\n",
              "    .dataframe thead th {\n",
              "        text-align: right;\n",
              "    }\n",
              "</style>\n",
              "<table border=\"1\" class=\"dataframe\">\n",
              "  <thead>\n",
              "    <tr style=\"text-align: right;\">\n",
              "      <th></th>\n",
              "      <th>Producto_ID</th>\n",
              "      <th>NombreProducto</th>\n",
              "    </tr>\n",
              "  </thead>\n",
              "  <tbody>\n",
              "    <tr>\n",
              "      <th>0</th>\n",
              "      <td>0</td>\n",
              "      <td>NO IDENTIFICADO 0</td>\n",
              "    </tr>\n",
              "    <tr>\n",
              "      <th>1</th>\n",
              "      <td>9</td>\n",
              "      <td>Capuccino Moka 750g NES 9</td>\n",
              "    </tr>\n",
              "    <tr>\n",
              "      <th>2</th>\n",
              "      <td>41</td>\n",
              "      <td>Bimbollos Ext sAjonjoli 6p 480g BIM 41</td>\n",
              "    </tr>\n",
              "    <tr>\n",
              "      <th>3</th>\n",
              "      <td>53</td>\n",
              "      <td>Burritos Sincro 170g CU LON 53</td>\n",
              "    </tr>\n",
              "    <tr>\n",
              "      <th>4</th>\n",
              "      <td>72</td>\n",
              "      <td>Div Tira Mini Doradita 4p 45g TR 72</td>\n",
              "    </tr>\n",
              "  </tbody>\n",
              "</table>\n",
              "</div>"
            ],
            "text/plain": [
              "   Producto_ID                          NombreProducto\n",
              "0            0                       NO IDENTIFICADO 0\n",
              "1            9               Capuccino Moka 750g NES 9\n",
              "2           41  Bimbollos Ext sAjonjoli 6p 480g BIM 41\n",
              "3           53          Burritos Sincro 170g CU LON 53\n",
              "4           72     Div Tira Mini Doradita 4p 45g TR 72"
            ]
          },
          "metadata": {
            "tags": []
          },
          "execution_count": 7
        }
      ]
    },
    {
      "cell_type": "code",
      "metadata": {
        "id": "J2pp7S2xi-qK",
        "colab": {
          "base_uri": "https://localhost:8080/",
          "height": 204
        },
        "outputId": "0eb201e5-26f2-4013-d94a-7c38f3dc1e45"
      },
      "source": [
        "pd.read_csv('data/sample_submission.csv.zip').head()"
      ],
      "execution_count": 8,
      "outputs": [
        {
          "output_type": "execute_result",
          "data": {
            "text/html": [
              "<div>\n",
              "<style scoped>\n",
              "    .dataframe tbody tr th:only-of-type {\n",
              "        vertical-align: middle;\n",
              "    }\n",
              "\n",
              "    .dataframe tbody tr th {\n",
              "        vertical-align: top;\n",
              "    }\n",
              "\n",
              "    .dataframe thead th {\n",
              "        text-align: right;\n",
              "    }\n",
              "</style>\n",
              "<table border=\"1\" class=\"dataframe\">\n",
              "  <thead>\n",
              "    <tr style=\"text-align: right;\">\n",
              "      <th></th>\n",
              "      <th>id</th>\n",
              "      <th>Demanda_uni_equil</th>\n",
              "    </tr>\n",
              "  </thead>\n",
              "  <tbody>\n",
              "    <tr>\n",
              "      <th>0</th>\n",
              "      <td>0</td>\n",
              "      <td>7</td>\n",
              "    </tr>\n",
              "    <tr>\n",
              "      <th>1</th>\n",
              "      <td>1</td>\n",
              "      <td>7</td>\n",
              "    </tr>\n",
              "    <tr>\n",
              "      <th>2</th>\n",
              "      <td>2</td>\n",
              "      <td>7</td>\n",
              "    </tr>\n",
              "    <tr>\n",
              "      <th>3</th>\n",
              "      <td>3</td>\n",
              "      <td>7</td>\n",
              "    </tr>\n",
              "    <tr>\n",
              "      <th>4</th>\n",
              "      <td>4</td>\n",
              "      <td>7</td>\n",
              "    </tr>\n",
              "  </tbody>\n",
              "</table>\n",
              "</div>"
            ],
            "text/plain": [
              "   id  Demanda_uni_equil\n",
              "0   0                  7\n",
              "1   1                  7\n",
              "2   2                  7\n",
              "3   3                  7\n",
              "4   4                  7"
            ]
          },
          "metadata": {
            "tags": []
          },
          "execution_count": 8
        }
      ]
    },
    {
      "cell_type": "code",
      "metadata": {
        "id": "b-YSH5C0inIh",
        "colab": {
          "base_uri": "https://localhost:8080/",
          "height": 204
        },
        "outputId": "9851cf4f-b51a-4a2b-9943-b27d127dbfba"
      },
      "source": [
        "pd.read_csv('data/test.csv.zip').head()"
      ],
      "execution_count": 9,
      "outputs": [
        {
          "output_type": "execute_result",
          "data": {
            "text/html": [
              "<div>\n",
              "<style scoped>\n",
              "    .dataframe tbody tr th:only-of-type {\n",
              "        vertical-align: middle;\n",
              "    }\n",
              "\n",
              "    .dataframe tbody tr th {\n",
              "        vertical-align: top;\n",
              "    }\n",
              "\n",
              "    .dataframe thead th {\n",
              "        text-align: right;\n",
              "    }\n",
              "</style>\n",
              "<table border=\"1\" class=\"dataframe\">\n",
              "  <thead>\n",
              "    <tr style=\"text-align: right;\">\n",
              "      <th></th>\n",
              "      <th>id</th>\n",
              "      <th>Semana</th>\n",
              "      <th>Agencia_ID</th>\n",
              "      <th>Canal_ID</th>\n",
              "      <th>Ruta_SAK</th>\n",
              "      <th>Cliente_ID</th>\n",
              "      <th>Producto_ID</th>\n",
              "    </tr>\n",
              "  </thead>\n",
              "  <tbody>\n",
              "    <tr>\n",
              "      <th>0</th>\n",
              "      <td>0</td>\n",
              "      <td>11</td>\n",
              "      <td>4037</td>\n",
              "      <td>1</td>\n",
              "      <td>2209</td>\n",
              "      <td>4639078</td>\n",
              "      <td>35305</td>\n",
              "    </tr>\n",
              "    <tr>\n",
              "      <th>1</th>\n",
              "      <td>1</td>\n",
              "      <td>11</td>\n",
              "      <td>2237</td>\n",
              "      <td>1</td>\n",
              "      <td>1226</td>\n",
              "      <td>4705135</td>\n",
              "      <td>1238</td>\n",
              "    </tr>\n",
              "    <tr>\n",
              "      <th>2</th>\n",
              "      <td>2</td>\n",
              "      <td>10</td>\n",
              "      <td>2045</td>\n",
              "      <td>1</td>\n",
              "      <td>2831</td>\n",
              "      <td>4549769</td>\n",
              "      <td>32940</td>\n",
              "    </tr>\n",
              "    <tr>\n",
              "      <th>3</th>\n",
              "      <td>3</td>\n",
              "      <td>11</td>\n",
              "      <td>1227</td>\n",
              "      <td>1</td>\n",
              "      <td>4448</td>\n",
              "      <td>4717855</td>\n",
              "      <td>43066</td>\n",
              "    </tr>\n",
              "    <tr>\n",
              "      <th>4</th>\n",
              "      <td>4</td>\n",
              "      <td>11</td>\n",
              "      <td>1219</td>\n",
              "      <td>1</td>\n",
              "      <td>1130</td>\n",
              "      <td>966351</td>\n",
              "      <td>1277</td>\n",
              "    </tr>\n",
              "  </tbody>\n",
              "</table>\n",
              "</div>"
            ],
            "text/plain": [
              "   id  Semana  Agencia_ID  Canal_ID  Ruta_SAK  Cliente_ID  Producto_ID\n",
              "0   0      11        4037         1      2209     4639078        35305\n",
              "1   1      11        2237         1      1226     4705135         1238\n",
              "2   2      10        2045         1      2831     4549769        32940\n",
              "3   3      11        1227         1      4448     4717855        43066\n",
              "4   4      11        1219         1      1130      966351         1277"
            ]
          },
          "metadata": {
            "tags": []
          },
          "execution_count": 9
        }
      ]
    },
    {
      "cell_type": "code",
      "metadata": {
        "colab": {
          "base_uri": "https://localhost:8080/",
          "height": 142
        },
        "id": "R0lkzIZAfjAp",
        "outputId": "9c1757ab-20c3-473d-f4e4-6195557c7205"
      },
      "source": [
        "pd.read_csv('data/test.csv.zip').groupby('Semana').count()"
      ],
      "execution_count": 10,
      "outputs": [
        {
          "output_type": "execute_result",
          "data": {
            "text/html": [
              "<div>\n",
              "<style scoped>\n",
              "    .dataframe tbody tr th:only-of-type {\n",
              "        vertical-align: middle;\n",
              "    }\n",
              "\n",
              "    .dataframe tbody tr th {\n",
              "        vertical-align: top;\n",
              "    }\n",
              "\n",
              "    .dataframe thead th {\n",
              "        text-align: right;\n",
              "    }\n",
              "</style>\n",
              "<table border=\"1\" class=\"dataframe\">\n",
              "  <thead>\n",
              "    <tr style=\"text-align: right;\">\n",
              "      <th></th>\n",
              "      <th>id</th>\n",
              "      <th>Agencia_ID</th>\n",
              "      <th>Canal_ID</th>\n",
              "      <th>Ruta_SAK</th>\n",
              "      <th>Cliente_ID</th>\n",
              "      <th>Producto_ID</th>\n",
              "    </tr>\n",
              "    <tr>\n",
              "      <th>Semana</th>\n",
              "      <th></th>\n",
              "      <th></th>\n",
              "      <th></th>\n",
              "      <th></th>\n",
              "      <th></th>\n",
              "      <th></th>\n",
              "    </tr>\n",
              "  </thead>\n",
              "  <tbody>\n",
              "    <tr>\n",
              "      <th>10</th>\n",
              "      <td>3538385</td>\n",
              "      <td>3538385</td>\n",
              "      <td>3538385</td>\n",
              "      <td>3538385</td>\n",
              "      <td>3538385</td>\n",
              "      <td>3538385</td>\n",
              "    </tr>\n",
              "    <tr>\n",
              "      <th>11</th>\n",
              "      <td>3460866</td>\n",
              "      <td>3460866</td>\n",
              "      <td>3460866</td>\n",
              "      <td>3460866</td>\n",
              "      <td>3460866</td>\n",
              "      <td>3460866</td>\n",
              "    </tr>\n",
              "  </tbody>\n",
              "</table>\n",
              "</div>"
            ],
            "text/plain": [
              "             id  Agencia_ID  Canal_ID  Ruta_SAK  Cliente_ID  Producto_ID\n",
              "Semana                                                                  \n",
              "10      3538385     3538385   3538385   3538385     3538385      3538385\n",
              "11      3460866     3460866   3460866   3460866     3460866      3460866"
            ]
          },
          "metadata": {
            "tags": []
          },
          "execution_count": 10
        }
      ]
    },
    {
      "cell_type": "code",
      "metadata": {
        "id": "JtMOC8cRjMYW",
        "colab": {
          "base_uri": "https://localhost:8080/",
          "height": 204
        },
        "outputId": "def3ccc8-8e75-4a80-e2dc-20d0873b6d8e"
      },
      "source": [
        "pd.read_csv('data/town_state.csv.zip').head()"
      ],
      "execution_count": 11,
      "outputs": [
        {
          "output_type": "execute_result",
          "data": {
            "text/html": [
              "<div>\n",
              "<style scoped>\n",
              "    .dataframe tbody tr th:only-of-type {\n",
              "        vertical-align: middle;\n",
              "    }\n",
              "\n",
              "    .dataframe tbody tr th {\n",
              "        vertical-align: top;\n",
              "    }\n",
              "\n",
              "    .dataframe thead th {\n",
              "        text-align: right;\n",
              "    }\n",
              "</style>\n",
              "<table border=\"1\" class=\"dataframe\">\n",
              "  <thead>\n",
              "    <tr style=\"text-align: right;\">\n",
              "      <th></th>\n",
              "      <th>Agencia_ID</th>\n",
              "      <th>Town</th>\n",
              "      <th>State</th>\n",
              "    </tr>\n",
              "  </thead>\n",
              "  <tbody>\n",
              "    <tr>\n",
              "      <th>0</th>\n",
              "      <td>1110</td>\n",
              "      <td>2008 AG. LAGO FILT</td>\n",
              "      <td>MÉXICO, D.F.</td>\n",
              "    </tr>\n",
              "    <tr>\n",
              "      <th>1</th>\n",
              "      <td>1111</td>\n",
              "      <td>2002 AG. AZCAPOTZALCO</td>\n",
              "      <td>MÉXICO, D.F.</td>\n",
              "    </tr>\n",
              "    <tr>\n",
              "      <th>2</th>\n",
              "      <td>1112</td>\n",
              "      <td>2004 AG. CUAUTITLAN</td>\n",
              "      <td>ESTADO DE MÉXICO</td>\n",
              "    </tr>\n",
              "    <tr>\n",
              "      <th>3</th>\n",
              "      <td>1113</td>\n",
              "      <td>2008 AG. LAGO FILT</td>\n",
              "      <td>MÉXICO, D.F.</td>\n",
              "    </tr>\n",
              "    <tr>\n",
              "      <th>4</th>\n",
              "      <td>1114</td>\n",
              "      <td>2029 AG.IZTAPALAPA 2</td>\n",
              "      <td>MÉXICO, D.F.</td>\n",
              "    </tr>\n",
              "  </tbody>\n",
              "</table>\n",
              "</div>"
            ],
            "text/plain": [
              "   Agencia_ID                   Town             State\n",
              "0        1110     2008 AG. LAGO FILT      MÉXICO, D.F.\n",
              "1        1111  2002 AG. AZCAPOTZALCO      MÉXICO, D.F.\n",
              "2        1112    2004 AG. CUAUTITLAN  ESTADO DE MÉXICO\n",
              "3        1113     2008 AG. LAGO FILT      MÉXICO, D.F.\n",
              "4        1114   2029 AG.IZTAPALAPA 2      MÉXICO, D.F."
            ]
          },
          "metadata": {
            "tags": []
          },
          "execution_count": 11
        }
      ]
    },
    {
      "cell_type": "code",
      "metadata": {
        "id": "y4UQ_viXjWSK",
        "colab": {
          "base_uri": "https://localhost:8080/",
          "height": 419
        },
        "outputId": "146fe15b-2034-4c4f-d201-93776661d971"
      },
      "source": [
        "# Para os dados de treino o volume já excede a memoria do Colab usar a função iterator se faz necessário.\n",
        "sample_train = pd.read_csv('data/train.csv.zip', nrows=1000)\n",
        "sample_train"
      ],
      "execution_count": 12,
      "outputs": [
        {
          "output_type": "execute_result",
          "data": {
            "text/html": [
              "<div>\n",
              "<style scoped>\n",
              "    .dataframe tbody tr th:only-of-type {\n",
              "        vertical-align: middle;\n",
              "    }\n",
              "\n",
              "    .dataframe tbody tr th {\n",
              "        vertical-align: top;\n",
              "    }\n",
              "\n",
              "    .dataframe thead th {\n",
              "        text-align: right;\n",
              "    }\n",
              "</style>\n",
              "<table border=\"1\" class=\"dataframe\">\n",
              "  <thead>\n",
              "    <tr style=\"text-align: right;\">\n",
              "      <th></th>\n",
              "      <th>Semana</th>\n",
              "      <th>Agencia_ID</th>\n",
              "      <th>Canal_ID</th>\n",
              "      <th>Ruta_SAK</th>\n",
              "      <th>Cliente_ID</th>\n",
              "      <th>Producto_ID</th>\n",
              "      <th>Venta_uni_hoy</th>\n",
              "      <th>Venta_hoy</th>\n",
              "      <th>Dev_uni_proxima</th>\n",
              "      <th>Dev_proxima</th>\n",
              "      <th>Demanda_uni_equil</th>\n",
              "    </tr>\n",
              "  </thead>\n",
              "  <tbody>\n",
              "    <tr>\n",
              "      <th>0</th>\n",
              "      <td>3</td>\n",
              "      <td>1110</td>\n",
              "      <td>7</td>\n",
              "      <td>3301</td>\n",
              "      <td>15766</td>\n",
              "      <td>1212</td>\n",
              "      <td>3</td>\n",
              "      <td>25.14</td>\n",
              "      <td>0</td>\n",
              "      <td>0.0</td>\n",
              "      <td>3</td>\n",
              "    </tr>\n",
              "    <tr>\n",
              "      <th>1</th>\n",
              "      <td>3</td>\n",
              "      <td>1110</td>\n",
              "      <td>7</td>\n",
              "      <td>3301</td>\n",
              "      <td>15766</td>\n",
              "      <td>1216</td>\n",
              "      <td>4</td>\n",
              "      <td>33.52</td>\n",
              "      <td>0</td>\n",
              "      <td>0.0</td>\n",
              "      <td>4</td>\n",
              "    </tr>\n",
              "    <tr>\n",
              "      <th>2</th>\n",
              "      <td>3</td>\n",
              "      <td>1110</td>\n",
              "      <td>7</td>\n",
              "      <td>3301</td>\n",
              "      <td>15766</td>\n",
              "      <td>1238</td>\n",
              "      <td>4</td>\n",
              "      <td>39.32</td>\n",
              "      <td>0</td>\n",
              "      <td>0.0</td>\n",
              "      <td>4</td>\n",
              "    </tr>\n",
              "    <tr>\n",
              "      <th>3</th>\n",
              "      <td>3</td>\n",
              "      <td>1110</td>\n",
              "      <td>7</td>\n",
              "      <td>3301</td>\n",
              "      <td>15766</td>\n",
              "      <td>1240</td>\n",
              "      <td>4</td>\n",
              "      <td>33.52</td>\n",
              "      <td>0</td>\n",
              "      <td>0.0</td>\n",
              "      <td>4</td>\n",
              "    </tr>\n",
              "    <tr>\n",
              "      <th>4</th>\n",
              "      <td>3</td>\n",
              "      <td>1110</td>\n",
              "      <td>7</td>\n",
              "      <td>3301</td>\n",
              "      <td>15766</td>\n",
              "      <td>1242</td>\n",
              "      <td>3</td>\n",
              "      <td>22.92</td>\n",
              "      <td>0</td>\n",
              "      <td>0.0</td>\n",
              "      <td>3</td>\n",
              "    </tr>\n",
              "    <tr>\n",
              "      <th>...</th>\n",
              "      <td>...</td>\n",
              "      <td>...</td>\n",
              "      <td>...</td>\n",
              "      <td>...</td>\n",
              "      <td>...</td>\n",
              "      <td>...</td>\n",
              "      <td>...</td>\n",
              "      <td>...</td>\n",
              "      <td>...</td>\n",
              "      <td>...</td>\n",
              "      <td>...</td>\n",
              "    </tr>\n",
              "    <tr>\n",
              "      <th>995</th>\n",
              "      <td>3</td>\n",
              "      <td>1110</td>\n",
              "      <td>7</td>\n",
              "      <td>3303</td>\n",
              "      <td>1453543</td>\n",
              "      <td>1250</td>\n",
              "      <td>25</td>\n",
              "      <td>191.00</td>\n",
              "      <td>0</td>\n",
              "      <td>0.0</td>\n",
              "      <td>25</td>\n",
              "    </tr>\n",
              "    <tr>\n",
              "      <th>996</th>\n",
              "      <td>3</td>\n",
              "      <td>1110</td>\n",
              "      <td>7</td>\n",
              "      <td>3303</td>\n",
              "      <td>1453543</td>\n",
              "      <td>1309</td>\n",
              "      <td>6</td>\n",
              "      <td>40.56</td>\n",
              "      <td>0</td>\n",
              "      <td>0.0</td>\n",
              "      <td>6</td>\n",
              "    </tr>\n",
              "    <tr>\n",
              "      <th>997</th>\n",
              "      <td>3</td>\n",
              "      <td>1110</td>\n",
              "      <td>7</td>\n",
              "      <td>3303</td>\n",
              "      <td>1453543</td>\n",
              "      <td>3270</td>\n",
              "      <td>1</td>\n",
              "      <td>10.47</td>\n",
              "      <td>0</td>\n",
              "      <td>0.0</td>\n",
              "      <td>1</td>\n",
              "    </tr>\n",
              "    <tr>\n",
              "      <th>998</th>\n",
              "      <td>3</td>\n",
              "      <td>1110</td>\n",
              "      <td>7</td>\n",
              "      <td>3303</td>\n",
              "      <td>1453543</td>\n",
              "      <td>4270</td>\n",
              "      <td>2</td>\n",
              "      <td>16.76</td>\n",
              "      <td>0</td>\n",
              "      <td>0.0</td>\n",
              "      <td>2</td>\n",
              "    </tr>\n",
              "    <tr>\n",
              "      <th>999</th>\n",
              "      <td>3</td>\n",
              "      <td>1110</td>\n",
              "      <td>7</td>\n",
              "      <td>3303</td>\n",
              "      <td>1453543</td>\n",
              "      <td>4280</td>\n",
              "      <td>6</td>\n",
              "      <td>36.00</td>\n",
              "      <td>0</td>\n",
              "      <td>0.0</td>\n",
              "      <td>6</td>\n",
              "    </tr>\n",
              "  </tbody>\n",
              "</table>\n",
              "<p>1000 rows × 11 columns</p>\n",
              "</div>"
            ],
            "text/plain": [
              "     Semana  Agencia_ID  ...  Dev_proxima  Demanda_uni_equil\n",
              "0         3        1110  ...          0.0                  3\n",
              "1         3        1110  ...          0.0                  4\n",
              "2         3        1110  ...          0.0                  4\n",
              "3         3        1110  ...          0.0                  4\n",
              "4         3        1110  ...          0.0                  3\n",
              "..      ...         ...  ...          ...                ...\n",
              "995       3        1110  ...          0.0                 25\n",
              "996       3        1110  ...          0.0                  6\n",
              "997       3        1110  ...          0.0                  1\n",
              "998       3        1110  ...          0.0                  2\n",
              "999       3        1110  ...          0.0                  6\n",
              "\n",
              "[1000 rows x 11 columns]"
            ]
          },
          "metadata": {
            "tags": []
          },
          "execution_count": 12
        }
      ]
    },
    {
      "cell_type": "markdown",
      "metadata": {
        "id": "dWohvoKFG05J"
      },
      "source": [
        "3) Instalação de Leitura com SPARK"
      ]
    },
    {
      "cell_type": "code",
      "metadata": {
        "id": "5mqJsjaUkBsN",
        "colab": {
          "base_uri": "https://localhost:8080/"
        },
        "outputId": "a70307f4-aa8b-4ce2-ea31-4f0544d994e8"
      },
      "source": [
        "!apt-get install openjdk-8-jdk-headless -qq > /dev/null\n",
        "#!wget http://www-eu.apache.org/dist/spark/spark-2.4.8/spark-2.4.8-bin-hadoop2.7.tgz \n",
        "!wget -P spark_tgz/ http://www-eu.apache.org/dist/spark/spark-2.4.8/spark-2.4.8-bin-hadoop2.7.tgz "
      ],
      "execution_count": 13,
      "outputs": [
        {
          "output_type": "stream",
          "text": [
            "--2021-06-15 19:52:50--  http://www-eu.apache.org/dist/spark/spark-2.4.8/spark-2.4.8-bin-hadoop2.7.tgz\n",
            "Resolving www-eu.apache.org (www-eu.apache.org)... 95.216.26.30, 2a01:4f9:2a:1a61::2\n",
            "Connecting to www-eu.apache.org (www-eu.apache.org)|95.216.26.30|:80... connected.\n",
            "HTTP request sent, awaiting response... 302 Found\n",
            "Location: https://downloads.apache.org/spark/spark-2.4.8/spark-2.4.8-bin-hadoop2.7.tgz [following]\n",
            "--2021-06-15 19:52:50--  https://downloads.apache.org/spark/spark-2.4.8/spark-2.4.8-bin-hadoop2.7.tgz\n",
            "Resolving downloads.apache.org (downloads.apache.org)... 88.99.95.219, 135.181.209.10, 135.181.214.104, ...\n",
            "Connecting to downloads.apache.org (downloads.apache.org)|88.99.95.219|:443... connected.\n",
            "HTTP request sent, awaiting response... 200 OK\n",
            "Length: 235899716 (225M) [application/x-gzip]\n",
            "Saving to: ‘spark_tgz/spark-2.4.8-bin-hadoop2.7.tgz’\n",
            "\n",
            "spark-2.4.8-bin-had 100%[===================>] 224.97M  26.0MB/s    in 9.3s    \n",
            "\n",
            "2021-06-15 19:53:00 (24.3 MB/s) - ‘spark_tgz/spark-2.4.8-bin-hadoop2.7.tgz’ saved [235899716/235899716]\n",
            "\n"
          ],
          "name": "stdout"
        }
      ]
    },
    {
      "cell_type": "code",
      "metadata": {
        "id": "yjYuiDedm2wX",
        "colab": {
          "base_uri": "https://localhost:8080/"
        },
        "outputId": "2f8f0340-8056-47e4-f099-b44caa40b7f6"
      },
      "source": [
        "!tar -xf spark_tgz/spark-2.4.8-bin-hadoop2.7.tgz -C spark_tgz/\n",
        "!pip install -q findspark\n",
        "!pip install -q pyspark"
      ],
      "execution_count": 14,
      "outputs": [
        {
          "output_type": "stream",
          "text": [
            "\u001b[K     |████████████████████████████████| 212.4MB 67kB/s \n",
            "\u001b[K     |████████████████████████████████| 204kB 19.5MB/s \n",
            "\u001b[?25h  Building wheel for pyspark (setup.py) ... \u001b[?25l\u001b[?25hdone\n"
          ],
          "name": "stdout"
        }
      ]
    },
    {
      "cell_type": "code",
      "metadata": {
        "id": "FdID4xtSEQFt"
      },
      "source": [
        "import os\n",
        "os.environ[\"JAVA_HOME\"] = \"/usr/lib/jvm/java-8-openjdk-amd64\"\n",
        "os.environ[\"SPARK_HOME\"] = \"/content/spark_tgz/spark-2.4.8-bin-hadoop2.7\""
      ],
      "execution_count": 2,
      "outputs": []
    },
    {
      "cell_type": "code",
      "metadata": {
        "id": "wgxq4vxoESoj"
      },
      "source": [
        "import findspark\n",
        "findspark.init()\n",
        "from pyspark.sql import SparkSession\n",
        "spark = SparkSession.builder.master(\"local[*]\").getOrCreate()"
      ],
      "execution_count": 3,
      "outputs": []
    },
    {
      "cell_type": "code",
      "metadata": {
        "colab": {
          "base_uri": "https://localhost:8080/"
        },
        "id": "HEoLPI7HPmk7",
        "outputId": "bde6881c-f984-4a62-c9a0-ae6fa5c737e7"
      },
      "source": [
        "!unzip 'data/*.zip' -d 'data/'"
      ],
      "execution_count": 17,
      "outputs": [
        {
          "output_type": "stream",
          "text": [
            "Archive:  data/sample_submission.csv.zip\n",
            "  inflating: data/sample_submission.csv  \n",
            "\n",
            "Archive:  data/producto_tabla.csv.zip\n",
            "  inflating: data/producto_tabla.csv  \n",
            "\n",
            "Archive:  data/train.csv.zip\n",
            "  inflating: data/train.csv          \n",
            "\n",
            "Archive:  data/town_state.csv.zip\n",
            "  inflating: data/town_state.csv     \n",
            "\n",
            "Archive:  data/cliente_tabla.csv.zip\n",
            "  inflating: data/cliente_tabla.csv  \n",
            "\n",
            "Archive:  data/test.csv.zip\n",
            "  inflating: data/test.csv           \n",
            "\n",
            "6 archives were successfully processed.\n"
          ],
          "name": "stdout"
        }
      ]
    },
    {
      "cell_type": "code",
      "metadata": {
        "id": "_Duqk9_nEVoR"
      },
      "source": [
        "df = spark.read.format('csv').option(\"header\", \"True\").load(\"data/train.csv\")"
      ],
      "execution_count": null,
      "outputs": []
    },
    {
      "cell_type": "code",
      "metadata": {
        "id": "Erpmkg9BEg4N",
        "colab": {
          "base_uri": "https://localhost:8080/"
        },
        "outputId": "1923d22e-306c-43ed-c852-091ffe0188ee"
      },
      "source": [
        "%%time\n",
        "df.count()"
      ],
      "execution_count": 19,
      "outputs": [
        {
          "output_type": "stream",
          "text": [
            "CPU times: user 166 ms, sys: 18.3 ms, total: 185 ms\n",
            "Wall time: 34.7 s\n"
          ],
          "name": "stdout"
        },
        {
          "output_type": "execute_result",
          "data": {
            "text/plain": [
              "74180464"
            ]
          },
          "metadata": {
            "tags": []
          },
          "execution_count": 19
        }
      ]
    },
    {
      "cell_type": "code",
      "metadata": {
        "id": "wlaczNWeHQ3U"
      },
      "source": [
        "g_df_Semana= df.groupBy('Semana').count().toPandas()"
      ],
      "execution_count": 20,
      "outputs": []
    },
    {
      "cell_type": "code",
      "metadata": {
        "id": "IcEeZU7OKv4R"
      },
      "source": [
        "g_df_Semana.loc[:,'percent'] = g_df_Semana['count']/g_df_Semana['count'].sum()"
      ],
      "execution_count": 21,
      "outputs": []
    },
    {
      "cell_type": "code",
      "metadata": {
        "id": "jJolwZr9K-q9",
        "colab": {
          "base_uri": "https://localhost:8080/",
          "height": 266
        },
        "outputId": "2946ec3b-58bb-4534-bf81-9bd22ef1004b"
      },
      "source": [
        "g_df_Semana.sort_values('Semana')"
      ],
      "execution_count": 22,
      "outputs": [
        {
          "output_type": "execute_result",
          "data": {
            "text/html": [
              "<div>\n",
              "<style scoped>\n",
              "    .dataframe tbody tr th:only-of-type {\n",
              "        vertical-align: middle;\n",
              "    }\n",
              "\n",
              "    .dataframe tbody tr th {\n",
              "        vertical-align: top;\n",
              "    }\n",
              "\n",
              "    .dataframe thead th {\n",
              "        text-align: right;\n",
              "    }\n",
              "</style>\n",
              "<table border=\"1\" class=\"dataframe\">\n",
              "  <thead>\n",
              "    <tr style=\"text-align: right;\">\n",
              "      <th></th>\n",
              "      <th>Semana</th>\n",
              "      <th>count</th>\n",
              "      <th>percent</th>\n",
              "    </tr>\n",
              "  </thead>\n",
              "  <tbody>\n",
              "    <tr>\n",
              "      <th>1</th>\n",
              "      <td>3</td>\n",
              "      <td>11165207</td>\n",
              "      <td>0.150514</td>\n",
              "    </tr>\n",
              "    <tr>\n",
              "      <th>6</th>\n",
              "      <td>4</td>\n",
              "      <td>11009593</td>\n",
              "      <td>0.148416</td>\n",
              "    </tr>\n",
              "    <tr>\n",
              "      <th>3</th>\n",
              "      <td>5</td>\n",
              "      <td>10615397</td>\n",
              "      <td>0.143102</td>\n",
              "    </tr>\n",
              "    <tr>\n",
              "      <th>4</th>\n",
              "      <td>6</td>\n",
              "      <td>10191837</td>\n",
              "      <td>0.137392</td>\n",
              "    </tr>\n",
              "    <tr>\n",
              "      <th>0</th>\n",
              "      <td>7</td>\n",
              "      <td>10382849</td>\n",
              "      <td>0.139967</td>\n",
              "    </tr>\n",
              "    <tr>\n",
              "      <th>2</th>\n",
              "      <td>8</td>\n",
              "      <td>10406868</td>\n",
              "      <td>0.140291</td>\n",
              "    </tr>\n",
              "    <tr>\n",
              "      <th>5</th>\n",
              "      <td>9</td>\n",
              "      <td>10408713</td>\n",
              "      <td>0.140316</td>\n",
              "    </tr>\n",
              "  </tbody>\n",
              "</table>\n",
              "</div>"
            ],
            "text/plain": [
              "  Semana     count   percent\n",
              "1      3  11165207  0.150514\n",
              "6      4  11009593  0.148416\n",
              "3      5  10615397  0.143102\n",
              "4      6  10191837  0.137392\n",
              "0      7  10382849  0.139967\n",
              "2      8  10406868  0.140291\n",
              "5      9  10408713  0.140316"
            ]
          },
          "metadata": {
            "tags": []
          },
          "execution_count": 22
        }
      ]
    },
    {
      "cell_type": "markdown",
      "metadata": {
        "id": "WURAUf6LN_Kr"
      },
      "source": [
        "# Relacionando tabelas "
      ]
    },
    {
      "cell_type": "code",
      "metadata": {
        "colab": {
          "base_uri": "https://localhost:8080/"
        },
        "id": "_YqIaONmepxL",
        "outputId": "2570091c-3ffe-4fae-ea69-21dc828951db"
      },
      "source": [
        "!ls data/*.csv"
      ],
      "execution_count": 23,
      "outputs": [
        {
          "output_type": "stream",
          "text": [
            "data/cliente_tabla.csv\t data/sample_submission.csv  data/town_state.csv\n",
            "data/producto_tabla.csv  data/test.csv\t\t     data/train.csv\n"
          ],
          "name": "stdout"
        }
      ]
    },
    {
      "cell_type": "code",
      "metadata": {
        "id": "a8re0pvRQbhD"
      },
      "source": [
        "spark.read.format('csv').option(\"header\", \"True\").load(\"data/cliente_tabla.csv\").createOrReplaceTempView('cliente_tabla') \n",
        "spark.read.format('csv').option(\"header\", \"True\").load(\"data/sample_submission.csv\").createOrReplaceTempView('sample_submission') \n",
        "spark.read.format('csv').option(\"header\", \"True\").load(\"data/town_state.csv\").createOrReplaceTempView('town_state') \n",
        "spark.read.format('csv').option(\"header\", \"True\").load(\"data/producto_tabla.csv\").createOrReplaceTempView('producto_tabla') \n",
        "spark.read.format('csv').option(\"header\", \"True\").load(\"data/test.csv\").createOrReplaceTempView('test') \n",
        "spark.read.format('csv').option(\"header\", \"True\").load(\"data/train.csv\").createOrReplaceTempView('train') "
      ],
      "execution_count": 4,
      "outputs": []
    },
    {
      "cell_type": "code",
      "metadata": {
        "id": "X88Q1K_SppV_"
      },
      "source": [
        "df = spark.sql(\"\"\"\n",
        "SELECT train.*\n",
        "--  , cliente_tabla.NombreCliente \n",
        "  , producto_tabla.NombreProducto\n",
        "  , town_state.Town\n",
        "  , town_state.State\n",
        "FROM train\n",
        "--LEFT JOIN cliente_tabla \n",
        "--  on train.Cliente_ID = cliente_tabla.Cliente_ID\n",
        "LEFT JOIN producto_tabla\n",
        "  on train.Producto_ID = producto_tabla.Producto_ID\n",
        "LEFT JOIN town_state\n",
        "  on train.Agencia_ID = town_state.Agencia_ID  \n",
        "\"\"\")\n",
        "#.write.mode('overwrite').format('parquet').save('data/tabelao/')"
      ],
      "execution_count": 5,
      "outputs": []
    },
    {
      "cell_type": "code",
      "metadata": {
        "id": "Hv68rqYv2JBL"
      },
      "source": [
        "df.write.partitionBy([\"Agencia_ID\"]).mode('overwrite').format('parquet').save('data/tabelao/')"
      ],
      "execution_count": 26,
      "outputs": []
    },
    {
      "cell_type": "code",
      "metadata": {
        "id": "uaAU7YH1sI1N"
      },
      "source": [
        "df = spark.read.format('parquet').load('data/tabelao/')"
      ],
      "execution_count": 4,
      "outputs": []
    },
    {
      "cell_type": "code",
      "metadata": {
        "colab": {
          "base_uri": "https://localhost:8080/"
        },
        "id": "aA1i4otLsx7W",
        "outputId": "13ee6105-8b5a-4f3d-e3ce-caa94baf04c8"
      },
      "source": [
        "%%time\n",
        "df.count()"
      ],
      "execution_count": 5,
      "outputs": [
        {
          "output_type": "stream",
          "text": [
            "CPU times: user 51.4 ms, sys: 5.36 ms, total: 56.7 ms\n",
            "Wall time: 8.61 s\n"
          ],
          "name": "stdout"
        },
        {
          "output_type": "execute_result",
          "data": {
            "text/plain": [
              "74180464"
            ]
          },
          "metadata": {
            "tags": []
          },
          "execution_count": 5
        }
      ]
    },
    {
      "cell_type": "code",
      "metadata": {
        "colab": {
          "base_uri": "https://localhost:8080/",
          "height": 360
        },
        "id": "1magJx-zt1-X",
        "outputId": "4dacd613-7b5b-4d69-d30c-fe06853691bf"
      },
      "source": [
        "df.limit(5).toPandas()"
      ],
      "execution_count": 6,
      "outputs": [
        {
          "output_type": "execute_result",
          "data": {
            "text/html": [
              "<div>\n",
              "<style scoped>\n",
              "    .dataframe tbody tr th:only-of-type {\n",
              "        vertical-align: middle;\n",
              "    }\n",
              "\n",
              "    .dataframe tbody tr th {\n",
              "        vertical-align: top;\n",
              "    }\n",
              "\n",
              "    .dataframe thead th {\n",
              "        text-align: right;\n",
              "    }\n",
              "</style>\n",
              "<table border=\"1\" class=\"dataframe\">\n",
              "  <thead>\n",
              "    <tr style=\"text-align: right;\">\n",
              "      <th></th>\n",
              "      <th>Semana</th>\n",
              "      <th>Canal_ID</th>\n",
              "      <th>Ruta_SAK</th>\n",
              "      <th>Cliente_ID</th>\n",
              "      <th>Producto_ID</th>\n",
              "      <th>Venta_uni_hoy</th>\n",
              "      <th>Venta_hoy</th>\n",
              "      <th>Dev_uni_proxima</th>\n",
              "      <th>Dev_proxima</th>\n",
              "      <th>Demanda_uni_equil</th>\n",
              "      <th>NombreProducto</th>\n",
              "      <th>Town</th>\n",
              "      <th>State</th>\n",
              "      <th>Agencia_ID</th>\n",
              "    </tr>\n",
              "  </thead>\n",
              "  <tbody>\n",
              "    <tr>\n",
              "      <th>0</th>\n",
              "      <td>3</td>\n",
              "      <td>1</td>\n",
              "      <td>2135</td>\n",
              "      <td>93492</td>\n",
              "      <td>43058</td>\n",
              "      <td>1</td>\n",
              "      <td>9.35</td>\n",
              "      <td>0</td>\n",
              "      <td>0.0</td>\n",
              "      <td>1</td>\n",
              "      <td>Sponch 8p 120g MTB MLA 43058</td>\n",
              "      <td>2309 NORTE</td>\n",
              "      <td>JALISCO</td>\n",
              "      <td>1911</td>\n",
              "    </tr>\n",
              "    <tr>\n",
              "      <th>1</th>\n",
              "      <td>3</td>\n",
              "      <td>1</td>\n",
              "      <td>1007</td>\n",
              "      <td>90938</td>\n",
              "      <td>1109</td>\n",
              "      <td>1</td>\n",
              "      <td>15.01</td>\n",
              "      <td>0</td>\n",
              "      <td>0.0</td>\n",
              "      <td>1</td>\n",
              "      <td>Pan Blanco Chico 360g BIM 1109</td>\n",
              "      <td>2309 NORTE</td>\n",
              "      <td>JALISCO</td>\n",
              "      <td>1911</td>\n",
              "    </tr>\n",
              "    <tr>\n",
              "      <th>2</th>\n",
              "      <td>3</td>\n",
              "      <td>1</td>\n",
              "      <td>2135</td>\n",
              "      <td>93567</td>\n",
              "      <td>30549</td>\n",
              "      <td>2</td>\n",
              "      <td>10.76</td>\n",
              "      <td>0</td>\n",
              "      <td>0.0</td>\n",
              "      <td>2</td>\n",
              "      <td>Suavicremas Chocolate 84g MTA MLA 30549</td>\n",
              "      <td>2309 NORTE</td>\n",
              "      <td>JALISCO</td>\n",
              "      <td>1911</td>\n",
              "    </tr>\n",
              "    <tr>\n",
              "      <th>3</th>\n",
              "      <td>3</td>\n",
              "      <td>1</td>\n",
              "      <td>1007</td>\n",
              "      <td>90938</td>\n",
              "      <td>1125</td>\n",
              "      <td>8</td>\n",
              "      <td>76.8</td>\n",
              "      <td>0</td>\n",
              "      <td>0.0</td>\n",
              "      <td>8</td>\n",
              "      <td>Tortillinas 10p 255g TR 1125</td>\n",
              "      <td>2309 NORTE</td>\n",
              "      <td>JALISCO</td>\n",
              "      <td>1911</td>\n",
              "    </tr>\n",
              "    <tr>\n",
              "      <th>4</th>\n",
              "      <td>3</td>\n",
              "      <td>1</td>\n",
              "      <td>2135</td>\n",
              "      <td>93567</td>\n",
              "      <td>30572</td>\n",
              "      <td>7</td>\n",
              "      <td>43.75</td>\n",
              "      <td>0</td>\n",
              "      <td>0.0</td>\n",
              "      <td>7</td>\n",
              "      <td>Barritas Fresa 67g Prom MTB MLA 30572</td>\n",
              "      <td>2309 NORTE</td>\n",
              "      <td>JALISCO</td>\n",
              "      <td>1911</td>\n",
              "    </tr>\n",
              "  </tbody>\n",
              "</table>\n",
              "</div>"
            ],
            "text/plain": [
              "  Semana Canal_ID Ruta_SAK  ...        Town    State Agencia_ID\n",
              "0      3        1     2135  ...  2309 NORTE  JALISCO       1911\n",
              "1      3        1     1007  ...  2309 NORTE  JALISCO       1911\n",
              "2      3        1     2135  ...  2309 NORTE  JALISCO       1911\n",
              "3      3        1     1007  ...  2309 NORTE  JALISCO       1911\n",
              "4      3        1     2135  ...  2309 NORTE  JALISCO       1911\n",
              "\n",
              "[5 rows x 14 columns]"
            ]
          },
          "metadata": {
            "tags": []
          },
          "execution_count": 6
        }
      ]
    },
    {
      "cell_type": "code",
      "metadata": {
        "id": "dRiJDivMu26h"
      },
      "source": [
        "df.createOrReplaceTempView('tabelao')"
      ],
      "execution_count": 6,
      "outputs": []
    },
    {
      "cell_type": "code",
      "metadata": {
        "id": "1AVnHtiOsXTz"
      },
      "source": [
        "spark.sql(\"\"\"\n",
        "SELECT *\n",
        "  --,SUM(Demanda_uni_equil) OVER (PARTITION BY Agencia_ID, Producto_ID) SUM_Town_Prod_Demanda_uni_equil\n",
        "  --,AVG(Demanda_uni_equil) OVER (PARTITION BY Agencia_ID, Producto_ID) AVG_Town_Prod_Demanda_uni_equil\n",
        "  --,MIN(Demanda_uni_equil) OVER (PARTITION BY Agencia_ID, Producto_ID) MIN_Town_Prod_Demanda_uni_equil\n",
        "  --,MAX(Demanda_uni_equil) OVER (PARTITION BY Agencia_ID, Producto_ID) MAX_Town_Prod_Demanda_uni_equil\n",
        "\n",
        "  --,SUM(Demanda_uni_equil) OVER (PARTITION BY Agencia_ID) SUM_Town_Demanda_uni_equil\n",
        "  --,AVG(Demanda_uni_equil) OVER (PARTITION BY Agencia_ID) AVG_Town_Demanda_uni_equil\n",
        "  --,MIN(Demanda_uni_equil) OVER (PARTITION BY Agencia_ID) MIN_Town_Demanda_uni_equil\n",
        "  --,MAX(Demanda_uni_equil) OVER (PARTITION BY Agencia_ID) MAX_Town_Demanda_uni_equil\n",
        "\n",
        "  --,SUM(Demanda_uni_equil) OVER (PARTITION BY State) SUM_State_Demanda_uni_equil\n",
        "  --,AVG(Demanda_uni_equil) OVER (PARTITION BY State) AVG_State_Demanda_uni_equil\n",
        "  --,MIN(Demanda_uni_equil) OVER (PARTITION BY State) MIN_State_Demanda_uni_equil\n",
        "  --,MAX(Demanda_uni_equil) OVER (PARTITION BY State) MAX_State_Demanda_uni_equil\n",
        "\n",
        "  --,SUM(Demanda_uni_equil) OVER (PARTITION BY State, Producto_ID) SUM_State_Prod_Demanda_uni_equil\n",
        "  --,AVG(Demanda_uni_equil) OVER (PARTITION BY State, Producto_ID) AVG_State_Prod_Demanda_uni_equil\n",
        "  --,MIN(Demanda_uni_equil) OVER (PARTITION BY State, Producto_ID) MIN_State_Prod_Demanda_uni_equil\n",
        "  --,MAX(Demanda_uni_equil) OVER (PARTITION BY State, Producto_ID) MAX_State_Prod_Demanda_uni_equil\n",
        "\n",
        "  --,SUM(Demanda_uni_equil) OVER (PARTITION BY Producto_ID) SUM_Prod_Demanda_uni_equil\n",
        "  --,AVG(Demanda_uni_equil) OVER (PARTITION BY Producto_ID) AVG_Prod_Demanda_uni_equil\n",
        "  --,MIN(Demanda_uni_equil) OVER (PARTITION BY Producto_ID) MIN_Prod_Demanda_uni_equil\n",
        "  --,MAX(Demanda_uni_equil) OVER (PARTITION BY Producto_ID) MAX_Prod_Demanda_uni_equil\n",
        "\n",
        "  --,SUM(Demanda_uni_equil) OVER (PARTITION BY Agencia_ID,Cliente_ID) SUM_Cliente_Demanda_uni_equil\n",
        "  --,AVG(Demanda_uni_equil) OVER (PARTITION BY Agencia_ID,Cliente_ID) AVG_Cliente_Demanda_uni_equil\n",
        "  --,MIN(Demanda_uni_equil) OVER (PARTITION BY Agencia_ID,Cliente_ID) MIN_Cliente_Demanda_uni_equil\n",
        "  --,MAX(Demanda_uni_equil) OVER (PARTITION BY Agencia_ID,Cliente_ID) MAX_Cliente_Demanda_uni_equil\n",
        "\n",
        "  --,SUM(Demanda_uni_equil) OVER (PARTITION BY Agencia_ID, Cliente_ID, Producto_ID) SUM_Cliente_Prod_Demanda_uni_equil\n",
        "  --,AVG(Demanda_uni_equil) OVER (PARTITION BY Agencia_ID, Cliente_ID, Producto_ID) AVG_Cliente_Prod_Demanda_uni_equil\n",
        "  --,MIN(Demanda_uni_equil) OVER (PARTITION BY Agencia_ID, Cliente_ID, Producto_ID) MIN_Cliente_Prod_Demanda_uni_equil\n",
        "  --,MAX(Demanda_uni_equil) OVER (PARTITION BY Agencia_ID, Cliente_ID, Producto_ID) MAX_Cliente_Prod_Demanda_uni_equil\n",
        "  \n",
        "  ,LAG(Demanda_uni_equil,1) OVER (PARTITION BY Agencia_ID, Cliente_ID, Producto_ID ORDER BY Semana) LAG_1_Cliente_Prod_Demanda_uni_equil\n",
        "  ,LAG(Demanda_uni_equil,2) OVER (PARTITION BY Agencia_ID, Cliente_ID, Producto_ID ORDER BY Semana) LAG_2_Cliente_Prod_Demanda_uni_equil\n",
        "  ,LAG(Demanda_uni_equil,3) OVER (PARTITION BY Agencia_ID, Cliente_ID, Producto_ID ORDER BY Semana) LAG_3_Cliente_Prod_Demanda_uni_equil\n",
        "  ,LAG(Demanda_uni_equil,4) OVER (PARTITION BY Agencia_ID, Cliente_ID, Producto_ID ORDER BY Semana) LAG_4_Cliente_Prod_Demanda_uni_equil\n",
        "  ,LAG(Demanda_uni_equil,5) OVER (PARTITION BY Agencia_ID, Cliente_ID, Producto_ID ORDER BY Semana) LAG_5_Cliente_Prod_Demanda_uni_equil\n",
        " \n",
        "FROM tabelao\n",
        "--where Agencia_ID <= 2000\n",
        "--ORDER BY Semana, Producto_ID\n",
        "\"\"\").filter('Semana==9').write.partitionBy([\"Agencia_ID\"]).mode('overwrite').format('parquet').save('data/tabelao_lag/')"
      ],
      "execution_count": 9,
      "outputs": []
    },
    {
      "cell_type": "code",
      "metadata": {
        "colab": {
          "base_uri": "https://localhost:8080/"
        },
        "id": "Y98SqIGfUqkX",
        "outputId": "4df230e2-aad5-4697-efb3-1553ca2f1b7d"
      },
      "source": [
        "df = spark.read.format('parquet').load('data/tabelao_lag/')\n",
        "df.count() # 74180464?"
      ],
      "execution_count": 10,
      "outputs": [
        {
          "output_type": "execute_result",
          "data": {
            "text/plain": [
              "10408713"
            ]
          },
          "metadata": {
            "tags": []
          },
          "execution_count": 10
        }
      ]
    },
    {
      "cell_type": "code",
      "metadata": {
        "colab": {
          "base_uri": "https://localhost:8080/"
        },
        "id": "wcxyh6VTCZ_o",
        "outputId": "459b9aad-6f87-4bb6-9e01-b2791394c73d"
      },
      "source": [
        "%%time\n",
        "spark.sql(\"\"\"\n",
        "SELECT *\n",
        "  ,SUM(Demanda_uni_equil) OVER (PARTITION BY Agencia_ID, Producto_ID) SUM_Town_Prod_Demanda_uni_equil\n",
        "  ,AVG(Demanda_uni_equil) OVER (PARTITION BY Agencia_ID, Producto_ID) AVG_Town_Prod_Demanda_uni_equil\n",
        "  ,MIN(Demanda_uni_equil) OVER (PARTITION BY Agencia_ID, Producto_ID) MIN_Town_Prod_Demanda_uni_equil\n",
        "  ,MAX(Demanda_uni_equil) OVER (PARTITION BY Agencia_ID, Producto_ID) MAX_Town_Prod_Demanda_uni_equil\n",
        "\n",
        "  ,SUM(Demanda_uni_equil) OVER (PARTITION BY Agencia_ID) SUM_Town_Demanda_uni_equil\n",
        "  ,AVG(Demanda_uni_equil) OVER (PARTITION BY Agencia_ID) AVG_Town_Demanda_uni_equil\n",
        "  ,MIN(Demanda_uni_equil) OVER (PARTITION BY Agencia_ID) MIN_Town_Demanda_uni_equil\n",
        "  ,MAX(Demanda_uni_equil) OVER (PARTITION BY Agencia_ID) MAX_Town_Demanda_uni_equil\n",
        "\n",
        "  --,SUM(Demanda_uni_equil) OVER (PARTITION BY State) SUM_State_Demanda_uni_equil\n",
        "  --,AVG(Demanda_uni_equil) OVER (PARTITION BY State) AVG_State_Demanda_uni_equil\n",
        "  --,MIN(Demanda_uni_equil) OVER (PARTITION BY State) MIN_State_Demanda_uni_equil\n",
        "  --,MAX(Demanda_uni_equil) OVER (PARTITION BY State) MAX_State_Demanda_uni_equil\n",
        "\n",
        "  --,SUM(Demanda_uni_equil) OVER (PARTITION BY State, Producto_ID) SUM_State_Prod_Demanda_uni_equil\n",
        "  --,AVG(Demanda_uni_equil) OVER (PARTITION BY State, Producto_ID) AVG_State_Prod_Demanda_uni_equil\n",
        "  --,MIN(Demanda_uni_equil) OVER (PARTITION BY State, Producto_ID) MIN_State_Prod_Demanda_uni_equil\n",
        "  --,MAX(Demanda_uni_equil) OVER (PARTITION BY State, Producto_ID) MAX_State_Prod_Demanda_uni_equil\n",
        "\n",
        "  --,SUM(Demanda_uni_equil) OVER (PARTITION BY Producto_ID) SUM_Prod_Demanda_uni_equil\n",
        "  --,AVG(Demanda_uni_equil) OVER (PARTITION BY Producto_ID) AVG_Prod_Demanda_uni_equil\n",
        "  --,MIN(Demanda_uni_equil) OVER (PARTITION BY Producto_ID) MIN_Prod_Demanda_uni_equil\n",
        "  --,MAX(Demanda_uni_equil) OVER (PARTITION BY Producto_ID) MAX_Prod_Demanda_uni_equil\n",
        "\n",
        "  ,SUM(Demanda_uni_equil) OVER (PARTITION BY Agencia_ID,Cliente_ID) SUM_Cliente_Demanda_uni_equil\n",
        "  ,AVG(Demanda_uni_equil) OVER (PARTITION BY Agencia_ID,Cliente_ID) AVG_Cliente_Demanda_uni_equil\n",
        "  ,MIN(Demanda_uni_equil) OVER (PARTITION BY Agencia_ID,Cliente_ID) MIN_Cliente_Demanda_uni_equil\n",
        "  ,MAX(Demanda_uni_equil) OVER (PARTITION BY Agencia_ID,Cliente_ID) MAX_Cliente_Demanda_uni_equil\n",
        "\n",
        "  ,SUM(Demanda_uni_equil) OVER (PARTITION BY Agencia_ID, Cliente_ID, Producto_ID) SUM_Cliente_Prod_Demanda_uni_equil\n",
        "  ,AVG(Demanda_uni_equil) OVER (PARTITION BY Agencia_ID, Cliente_ID, Producto_ID) AVG_Cliente_Prod_Demanda_uni_equil\n",
        "  ,MIN(Demanda_uni_equil) OVER (PARTITION BY Agencia_ID, Cliente_ID, Producto_ID) MIN_Cliente_Prod_Demanda_uni_equil\n",
        "  ,MAX(Demanda_uni_equil) OVER (PARTITION BY Agencia_ID, Cliente_ID, Producto_ID) MAX_Cliente_Prod_Demanda_uni_equil\n",
        "  \n",
        "  --,LAG(Demanda_uni_equil,1) OVER (PARTITION BY Agencia_ID, Cliente_ID, Producto_ID ORDER BY Semana) LAG_1_Cliente_Prod_Demanda_uni_equil\n",
        "  --,LAG(Demanda_uni_equil,2) OVER (PARTITION BY Agencia_ID, Cliente_ID, Producto_ID ORDER BY Semana) LAG_2_Cliente_Prod_Demanda_uni_equil\n",
        "  --,LAG(Demanda_uni_equil,3) OVER (PARTITION BY Agencia_ID, Cliente_ID, Producto_ID ORDER BY Semana) LAG_3_Cliente_Prod_Demanda_uni_equil\n",
        "  --,LAG(Demanda_uni_equil,4) OVER (PARTITION BY Agencia_ID, Cliente_ID, Producto_ID ORDER BY Semana) LAG_4_Cliente_Prod_Demanda_uni_equil\n",
        "  --,LAG(Demanda_uni_equil,5) OVER (PARTITION BY Agencia_ID, Cliente_ID, Producto_ID ORDER BY Semana) LAG_5_Cliente_Prod_Demanda_uni_equil\n",
        " \n",
        "FROM tabelao\n",
        "--where Agencia_ID between 2001 and 3000\n",
        "--ORDER BY Semana, Producto_ID\n",
        "\"\"\").filter('Semana==9').write.partitionBy([\"Agencia_ID\"]).mode('append').format('parquet').save('data/tabelao_over/')"
      ],
      "execution_count": 11,
      "outputs": [
        {
          "output_type": "stream",
          "text": [
            "CPU times: user 7.64 s, sys: 903 ms, total: 8.55 s\n",
            "Wall time: 24min 12s\n"
          ],
          "name": "stdout"
        }
      ]
    },
    {
      "cell_type": "code",
      "metadata": {
        "colab": {
          "base_uri": "https://localhost:8080/",
          "height": 1000
        },
        "id": "INGhjgPvDz-X",
        "outputId": "e02cf299-dc8a-4a11-eb45-d1d7ddfe541f"
      },
      "source": [
        "%%time\n",
        "spark.sql(\"\"\"\n",
        "SELECT *\n",
        "  --,SUM(Demanda_uni_equil) OVER (PARTITION BY Agencia_ID, Producto_ID) SUM_Town_Prod_Demanda_uni_equil\n",
        "  --,AVG(Demanda_uni_equil) OVER (PARTITION BY Agencia_ID, Producto_ID) AVG_Town_Prod_Demanda_uni_equil\n",
        "  --,MIN(Demanda_uni_equil) OVER (PARTITION BY Agencia_ID, Producto_ID) MIN_Town_Prod_Demanda_uni_equil\n",
        "  --,MAX(Demanda_uni_equil) OVER (PARTITION BY Agencia_ID, Producto_ID) MAX_Town_Prod_Demanda_uni_equil\n",
        "\n",
        "  --,SUM(Demanda_uni_equil) OVER (PARTITION BY Agencia_ID) SUM_Town_Demanda_uni_equil\n",
        "  --,AVG(Demanda_uni_equil) OVER (PARTITION BY Agencia_ID) AVG_Town_Demanda_uni_equil\n",
        "  --,MIN(Demanda_uni_equil) OVER (PARTITION BY Agencia_ID) MIN_Town_Demanda_uni_equil\n",
        "  --,MAX(Demanda_uni_equil) OVER (PARTITION BY Agencia_ID) MAX_Town_Demanda_uni_equil\n",
        "\n",
        "  ,SUM(Demanda_uni_equil) OVER (PARTITION BY State) SUM_State_Demanda_uni_equil\n",
        "  ,AVG(Demanda_uni_equil) OVER (PARTITION BY State) AVG_State_Demanda_uni_equil\n",
        "  ,MIN(Demanda_uni_equil) OVER (PARTITION BY State) MIN_State_Demanda_uni_equil\n",
        "  ,MAX(Demanda_uni_equil) OVER (PARTITION BY State) MAX_State_Demanda_uni_equil\n",
        "\n",
        "  ,SUM(Demanda_uni_equil) OVER (PARTITION BY State, Producto_ID) SUM_State_Prod_Demanda_uni_equil\n",
        "  ,AVG(Demanda_uni_equil) OVER (PARTITION BY State, Producto_ID) AVG_State_Prod_Demanda_uni_equil\n",
        "  ,MIN(Demanda_uni_equil) OVER (PARTITION BY State, Producto_ID) MIN_State_Prod_Demanda_uni_equil\n",
        "  ,MAX(Demanda_uni_equil) OVER (PARTITION BY State, Producto_ID) MAX_State_Prod_Demanda_uni_equil\n",
        "\n",
        "  ,SUM(Demanda_uni_equil) OVER (PARTITION BY Producto_ID) SUM_Prod_Demanda_uni_equil\n",
        "  ,AVG(Demanda_uni_equil) OVER (PARTITION BY Producto_ID) AVG_Prod_Demanda_uni_equil\n",
        "  ,MIN(Demanda_uni_equil) OVER (PARTITION BY Producto_ID) MIN_Prod_Demanda_uni_equil\n",
        "  ,MAX(Demanda_uni_equil) OVER (PARTITION BY Producto_ID) MAX_Prod_Demanda_uni_equil\n",
        "\n",
        "  --,SUM(Demanda_uni_equil) OVER (PARTITION BY Agencia_ID,Cliente_ID) SUM_Cliente_Demanda_uni_equil\n",
        "  --,AVG(Demanda_uni_equil) OVER (PARTITION BY Agencia_ID,Cliente_ID) AVG_Cliente_Demanda_uni_equil\n",
        "  --,MIN(Demanda_uni_equil) OVER (PARTITION BY Agencia_ID,Cliente_ID) MIN_Cliente_Demanda_uni_equil\n",
        "  --,MAX(Demanda_uni_equil) OVER (PARTITION BY Agencia_ID,Cliente_ID) MAX_Cliente_Demanda_uni_equil\n",
        "\n",
        "  --,SUM(Demanda_uni_equil) OVER (PARTITION BY Agencia_ID, Cliente_ID, Producto_ID) SUM_Cliente_Prod_Demanda_uni_equil\n",
        "  --,AVG(Demanda_uni_equil) OVER (PARTITION BY Agencia_ID, Cliente_ID, Producto_ID) AVG_Cliente_Prod_Demanda_uni_equil\n",
        "  --,MIN(Demanda_uni_equil) OVER (PARTITION BY Agencia_ID, Cliente_ID, Producto_ID) MIN_Cliente_Prod_Demanda_uni_equil\n",
        "  --,MAX(Demanda_uni_equil) OVER (PARTITION BY Agencia_ID, Cliente_ID, Producto_ID) MAX_Cliente_Prod_Demanda_uni_equil\n",
        "  \n",
        "  --,LAG(Demanda_uni_equil,1) OVER (PARTITION BY Agencia_ID, Cliente_ID, Producto_ID ORDER BY Semana) LAG_1_Cliente_Prod_Demanda_uni_equil\n",
        "  --,LAG(Demanda_uni_equil,2) OVER (PARTITION BY Agencia_ID, Cliente_ID, Producto_ID ORDER BY Semana) LAG_2_Cliente_Prod_Demanda_uni_equil\n",
        "  --,LAG(Demanda_uni_equil,3) OVER (PARTITION BY Agencia_ID, Cliente_ID, Producto_ID ORDER BY Semana) LAG_3_Cliente_Prod_Demanda_uni_equil\n",
        "  --,LAG(Demanda_uni_equil,4) OVER (PARTITION BY Agencia_ID, Cliente_ID, Producto_ID ORDER BY Semana) LAG_4_Cliente_Prod_Demanda_uni_equil\n",
        "  --,LAG(Demanda_uni_equil,5) OVER (PARTITION BY Agencia_ID, Cliente_ID, Producto_ID ORDER BY Semana) LAG_5_Cliente_Prod_Demanda_uni_equil\n",
        " \n",
        "FROM tabelao\n",
        "--where Agencia_ID between 2001 and 3000\n",
        "--ORDER BY Semana, Producto_ID\n",
        "\"\"\").filter('Semana==9').write.mode('append').format('parquet').save('data/tabelao_over_part2/')"
      ],
      "execution_count": 7,
      "outputs": [
        {
          "output_type": "error",
          "ename": "Py4JJavaError",
          "evalue": "ignored",
          "traceback": [
            "\u001b[0;31m---------------------------------------------------------------------------\u001b[0m",
            "\u001b[0;31mPy4JJavaError\u001b[0m                             Traceback (most recent call last)",
            "\u001b[0;32m<ipython-input-7-277b561fcf2a>\u001b[0m in \u001b[0;36m<module>\u001b[0;34m()\u001b[0m\n\u001b[0;32m----> 1\u001b[0;31m \u001b[0mget_ipython\u001b[0m\u001b[0;34m(\u001b[0m\u001b[0;34m)\u001b[0m\u001b[0;34m.\u001b[0m\u001b[0mrun_cell_magic\u001b[0m\u001b[0;34m(\u001b[0m\u001b[0;34m'time'\u001b[0m\u001b[0;34m,\u001b[0m \u001b[0;34m''\u001b[0m\u001b[0;34m,\u001b[0m \u001b[0;34m'spark.sql(\"\"\"\\nSELECT *\\n  --,SUM(Demanda_uni_equil) OVER (PARTITION BY Agencia_ID, Producto_ID) SUM_Town_Prod_Demanda_uni_equil\\n  --,AVG(Demanda_uni_equil) OVER (PARTITION BY Agencia_ID, Producto_ID) AVG_Town_Prod_Demanda_uni_equil\\n  --,MIN(Demanda_uni_equil) OVER (PARTITION BY Agencia_ID, Producto_ID) MIN_Town_Prod_Demanda_uni_equil\\n  --,MAX(Demanda_uni_equil) OVER (PARTITION BY Agencia_ID, Producto_ID) MAX_Town_Prod_Demanda_uni_equil\\n\\n  --,SUM(Demanda_uni_equil) OVER (PARTITION BY Agencia_ID) SUM_Town_Demanda_uni_equil\\n  --,AVG(Demanda_uni_equil) OVER (PARTITION BY Agencia_ID) AVG_Town_Demanda_uni_equil\\n  --,MIN(Demanda_uni_equil) OVER (PARTITION BY Agencia_ID) MIN_Town_Demanda_uni_equil\\n  --,MAX(Demanda_uni_equil) OVER (PARTITION BY Agencia_ID) MAX_Town_Demanda_uni_equil\\n\\n  ,SUM(Demanda_uni_equil) OVER (PARTITION BY State) SUM_State_Demanda_uni_equil\\n  ,AVG(Demanda_uni_equil) OVER (PARTITION BY State) AVG_State_Demanda_uni_equil\\n  ,MIN(Demanda_uni_equil) OVER (PARTITION BY State) MIN_State_Demanda_uni_equil\\n  ,MAX(Demanda_uni_equil) OVER (PARTITION BY State) MAX_State_Demanda_uni_equil\\n\\n  ,SUM(Demanda_uni_equil) OVER (PARTITION BY State, Producto_ID) SUM_State_Prod_Demanda_uni_equil\\n  ,AVG(Demanda_uni_equil) OVER (PARTITION BY State, Producto_ID) AVG_State_Prod_Demanda_uni_equil\\n ...\n\u001b[0m",
            "\u001b[0;32m/usr/local/lib/python3.7/dist-packages/IPython/core/interactiveshell.py\u001b[0m in \u001b[0;36mrun_cell_magic\u001b[0;34m(self, magic_name, line, cell)\u001b[0m\n\u001b[1;32m   2115\u001b[0m             \u001b[0mmagic_arg_s\u001b[0m \u001b[0;34m=\u001b[0m \u001b[0mself\u001b[0m\u001b[0;34m.\u001b[0m\u001b[0mvar_expand\u001b[0m\u001b[0;34m(\u001b[0m\u001b[0mline\u001b[0m\u001b[0;34m,\u001b[0m \u001b[0mstack_depth\u001b[0m\u001b[0;34m)\u001b[0m\u001b[0;34m\u001b[0m\u001b[0;34m\u001b[0m\u001b[0m\n\u001b[1;32m   2116\u001b[0m             \u001b[0;32mwith\u001b[0m \u001b[0mself\u001b[0m\u001b[0;34m.\u001b[0m\u001b[0mbuiltin_trap\u001b[0m\u001b[0;34m:\u001b[0m\u001b[0;34m\u001b[0m\u001b[0;34m\u001b[0m\u001b[0m\n\u001b[0;32m-> 2117\u001b[0;31m                 \u001b[0mresult\u001b[0m \u001b[0;34m=\u001b[0m \u001b[0mfn\u001b[0m\u001b[0;34m(\u001b[0m\u001b[0mmagic_arg_s\u001b[0m\u001b[0;34m,\u001b[0m \u001b[0mcell\u001b[0m\u001b[0;34m)\u001b[0m\u001b[0;34m\u001b[0m\u001b[0;34m\u001b[0m\u001b[0m\n\u001b[0m\u001b[1;32m   2118\u001b[0m             \u001b[0;32mreturn\u001b[0m \u001b[0mresult\u001b[0m\u001b[0;34m\u001b[0m\u001b[0;34m\u001b[0m\u001b[0m\n\u001b[1;32m   2119\u001b[0m \u001b[0;34m\u001b[0m\u001b[0m\n",
            "\u001b[0;32m<decorator-gen-53>\u001b[0m in \u001b[0;36mtime\u001b[0;34m(self, line, cell, local_ns)\u001b[0m\n",
            "\u001b[0;32m/usr/local/lib/python3.7/dist-packages/IPython/core/magic.py\u001b[0m in \u001b[0;36m<lambda>\u001b[0;34m(f, *a, **k)\u001b[0m\n\u001b[1;32m    186\u001b[0m     \u001b[0;31m# but it's overkill for just that one bit of state.\u001b[0m\u001b[0;34m\u001b[0m\u001b[0;34m\u001b[0m\u001b[0;34m\u001b[0m\u001b[0m\n\u001b[1;32m    187\u001b[0m     \u001b[0;32mdef\u001b[0m \u001b[0mmagic_deco\u001b[0m\u001b[0;34m(\u001b[0m\u001b[0marg\u001b[0m\u001b[0;34m)\u001b[0m\u001b[0;34m:\u001b[0m\u001b[0;34m\u001b[0m\u001b[0;34m\u001b[0m\u001b[0m\n\u001b[0;32m--> 188\u001b[0;31m         \u001b[0mcall\u001b[0m \u001b[0;34m=\u001b[0m \u001b[0;32mlambda\u001b[0m \u001b[0mf\u001b[0m\u001b[0;34m,\u001b[0m \u001b[0;34m*\u001b[0m\u001b[0ma\u001b[0m\u001b[0;34m,\u001b[0m \u001b[0;34m**\u001b[0m\u001b[0mk\u001b[0m\u001b[0;34m:\u001b[0m \u001b[0mf\u001b[0m\u001b[0;34m(\u001b[0m\u001b[0;34m*\u001b[0m\u001b[0ma\u001b[0m\u001b[0;34m,\u001b[0m \u001b[0;34m**\u001b[0m\u001b[0mk\u001b[0m\u001b[0;34m)\u001b[0m\u001b[0;34m\u001b[0m\u001b[0;34m\u001b[0m\u001b[0m\n\u001b[0m\u001b[1;32m    189\u001b[0m \u001b[0;34m\u001b[0m\u001b[0m\n\u001b[1;32m    190\u001b[0m         \u001b[0;32mif\u001b[0m \u001b[0mcallable\u001b[0m\u001b[0;34m(\u001b[0m\u001b[0marg\u001b[0m\u001b[0;34m)\u001b[0m\u001b[0;34m:\u001b[0m\u001b[0;34m\u001b[0m\u001b[0;34m\u001b[0m\u001b[0m\n",
            "\u001b[0;32m/usr/local/lib/python3.7/dist-packages/IPython/core/magics/execution.py\u001b[0m in \u001b[0;36mtime\u001b[0;34m(self, line, cell, local_ns)\u001b[0m\n\u001b[1;32m   1187\u001b[0m         \u001b[0;32mif\u001b[0m \u001b[0mmode\u001b[0m\u001b[0;34m==\u001b[0m\u001b[0;34m'eval'\u001b[0m\u001b[0;34m:\u001b[0m\u001b[0;34m\u001b[0m\u001b[0;34m\u001b[0m\u001b[0m\n\u001b[1;32m   1188\u001b[0m             \u001b[0mst\u001b[0m \u001b[0;34m=\u001b[0m \u001b[0mclock2\u001b[0m\u001b[0;34m(\u001b[0m\u001b[0;34m)\u001b[0m\u001b[0;34m\u001b[0m\u001b[0;34m\u001b[0m\u001b[0m\n\u001b[0;32m-> 1189\u001b[0;31m             \u001b[0mout\u001b[0m \u001b[0;34m=\u001b[0m \u001b[0meval\u001b[0m\u001b[0;34m(\u001b[0m\u001b[0mcode\u001b[0m\u001b[0;34m,\u001b[0m \u001b[0mglob\u001b[0m\u001b[0;34m,\u001b[0m \u001b[0mlocal_ns\u001b[0m\u001b[0;34m)\u001b[0m\u001b[0;34m\u001b[0m\u001b[0;34m\u001b[0m\u001b[0m\n\u001b[0m\u001b[1;32m   1190\u001b[0m             \u001b[0mend\u001b[0m \u001b[0;34m=\u001b[0m \u001b[0mclock2\u001b[0m\u001b[0;34m(\u001b[0m\u001b[0;34m)\u001b[0m\u001b[0;34m\u001b[0m\u001b[0;34m\u001b[0m\u001b[0m\n\u001b[1;32m   1191\u001b[0m         \u001b[0;32melse\u001b[0m\u001b[0;34m:\u001b[0m\u001b[0;34m\u001b[0m\u001b[0;34m\u001b[0m\u001b[0m\n",
            "\u001b[0;32m<timed eval>\u001b[0m in \u001b[0;36m<module>\u001b[0;34m()\u001b[0m\n",
            "\u001b[0;32m/content/spark_tgz/spark-2.4.8-bin-hadoop2.7/python/pyspark/sql/readwriter.py\u001b[0m in \u001b[0;36msave\u001b[0;34m(self, path, format, mode, partitionBy, **options)\u001b[0m\n\u001b[1;32m    740\u001b[0m             \u001b[0mself\u001b[0m\u001b[0;34m.\u001b[0m\u001b[0m_jwrite\u001b[0m\u001b[0;34m.\u001b[0m\u001b[0msave\u001b[0m\u001b[0;34m(\u001b[0m\u001b[0;34m)\u001b[0m\u001b[0;34m\u001b[0m\u001b[0;34m\u001b[0m\u001b[0m\n\u001b[1;32m    741\u001b[0m         \u001b[0;32melse\u001b[0m\u001b[0;34m:\u001b[0m\u001b[0;34m\u001b[0m\u001b[0;34m\u001b[0m\u001b[0m\n\u001b[0;32m--> 742\u001b[0;31m             \u001b[0mself\u001b[0m\u001b[0;34m.\u001b[0m\u001b[0m_jwrite\u001b[0m\u001b[0;34m.\u001b[0m\u001b[0msave\u001b[0m\u001b[0;34m(\u001b[0m\u001b[0mpath\u001b[0m\u001b[0;34m)\u001b[0m\u001b[0;34m\u001b[0m\u001b[0;34m\u001b[0m\u001b[0m\n\u001b[0m\u001b[1;32m    743\u001b[0m \u001b[0;34m\u001b[0m\u001b[0m\n\u001b[1;32m    744\u001b[0m     \u001b[0;34m@\u001b[0m\u001b[0msince\u001b[0m\u001b[0;34m(\u001b[0m\u001b[0;36m1.4\u001b[0m\u001b[0;34m)\u001b[0m\u001b[0;34m\u001b[0m\u001b[0;34m\u001b[0m\u001b[0m\n",
            "\u001b[0;32m/content/spark_tgz/spark-2.4.8-bin-hadoop2.7/python/lib/py4j-0.10.7-src.zip/py4j/java_gateway.py\u001b[0m in \u001b[0;36m__call__\u001b[0;34m(self, *args)\u001b[0m\n\u001b[1;32m   1255\u001b[0m         \u001b[0manswer\u001b[0m \u001b[0;34m=\u001b[0m \u001b[0mself\u001b[0m\u001b[0;34m.\u001b[0m\u001b[0mgateway_client\u001b[0m\u001b[0;34m.\u001b[0m\u001b[0msend_command\u001b[0m\u001b[0;34m(\u001b[0m\u001b[0mcommand\u001b[0m\u001b[0;34m)\u001b[0m\u001b[0;34m\u001b[0m\u001b[0;34m\u001b[0m\u001b[0m\n\u001b[1;32m   1256\u001b[0m         return_value = get_return_value(\n\u001b[0;32m-> 1257\u001b[0;31m             answer, self.gateway_client, self.target_id, self.name)\n\u001b[0m\u001b[1;32m   1258\u001b[0m \u001b[0;34m\u001b[0m\u001b[0m\n\u001b[1;32m   1259\u001b[0m         \u001b[0;32mfor\u001b[0m \u001b[0mtemp_arg\u001b[0m \u001b[0;32min\u001b[0m \u001b[0mtemp_args\u001b[0m\u001b[0;34m:\u001b[0m\u001b[0;34m\u001b[0m\u001b[0;34m\u001b[0m\u001b[0m\n",
            "\u001b[0;32m/content/spark_tgz/spark-2.4.8-bin-hadoop2.7/python/pyspark/sql/utils.py\u001b[0m in \u001b[0;36mdeco\u001b[0;34m(*a, **kw)\u001b[0m\n\u001b[1;32m     61\u001b[0m     \u001b[0;32mdef\u001b[0m \u001b[0mdeco\u001b[0m\u001b[0;34m(\u001b[0m\u001b[0;34m*\u001b[0m\u001b[0ma\u001b[0m\u001b[0;34m,\u001b[0m \u001b[0;34m**\u001b[0m\u001b[0mkw\u001b[0m\u001b[0;34m)\u001b[0m\u001b[0;34m:\u001b[0m\u001b[0;34m\u001b[0m\u001b[0;34m\u001b[0m\u001b[0m\n\u001b[1;32m     62\u001b[0m         \u001b[0;32mtry\u001b[0m\u001b[0;34m:\u001b[0m\u001b[0;34m\u001b[0m\u001b[0;34m\u001b[0m\u001b[0m\n\u001b[0;32m---> 63\u001b[0;31m             \u001b[0;32mreturn\u001b[0m \u001b[0mf\u001b[0m\u001b[0;34m(\u001b[0m\u001b[0;34m*\u001b[0m\u001b[0ma\u001b[0m\u001b[0;34m,\u001b[0m \u001b[0;34m**\u001b[0m\u001b[0mkw\u001b[0m\u001b[0;34m)\u001b[0m\u001b[0;34m\u001b[0m\u001b[0;34m\u001b[0m\u001b[0m\n\u001b[0m\u001b[1;32m     64\u001b[0m         \u001b[0;32mexcept\u001b[0m \u001b[0mpy4j\u001b[0m\u001b[0;34m.\u001b[0m\u001b[0mprotocol\u001b[0m\u001b[0;34m.\u001b[0m\u001b[0mPy4JJavaError\u001b[0m \u001b[0;32mas\u001b[0m \u001b[0me\u001b[0m\u001b[0;34m:\u001b[0m\u001b[0;34m\u001b[0m\u001b[0;34m\u001b[0m\u001b[0m\n\u001b[1;32m     65\u001b[0m             \u001b[0ms\u001b[0m \u001b[0;34m=\u001b[0m \u001b[0me\u001b[0m\u001b[0;34m.\u001b[0m\u001b[0mjava_exception\u001b[0m\u001b[0;34m.\u001b[0m\u001b[0mtoString\u001b[0m\u001b[0;34m(\u001b[0m\u001b[0;34m)\u001b[0m\u001b[0;34m\u001b[0m\u001b[0;34m\u001b[0m\u001b[0m\n",
            "\u001b[0;32m/content/spark_tgz/spark-2.4.8-bin-hadoop2.7/python/lib/py4j-0.10.7-src.zip/py4j/protocol.py\u001b[0m in \u001b[0;36mget_return_value\u001b[0;34m(answer, gateway_client, target_id, name)\u001b[0m\n\u001b[1;32m    326\u001b[0m                 raise Py4JJavaError(\n\u001b[1;32m    327\u001b[0m                     \u001b[0;34m\"An error occurred while calling {0}{1}{2}.\\n\"\u001b[0m\u001b[0;34m.\u001b[0m\u001b[0;34m\u001b[0m\u001b[0;34m\u001b[0m\u001b[0m\n\u001b[0;32m--> 328\u001b[0;31m                     format(target_id, \".\", name), value)\n\u001b[0m\u001b[1;32m    329\u001b[0m             \u001b[0;32melse\u001b[0m\u001b[0;34m:\u001b[0m\u001b[0;34m\u001b[0m\u001b[0;34m\u001b[0m\u001b[0m\n\u001b[1;32m    330\u001b[0m                 raise Py4JError(\n",
            "\u001b[0;31mPy4JJavaError\u001b[0m: An error occurred while calling o34.save.\n: org.apache.spark.SparkException: Job aborted.\n\tat org.apache.spark.sql.execution.datasources.FileFormatWriter$.write(FileFormatWriter.scala:202)\n\tat org.apache.spark.sql.execution.datasources.InsertIntoHadoopFsRelationCommand.run(InsertIntoHadoopFsRelationCommand.scala:159)\n\tat org.apache.spark.sql.execution.command.DataWritingCommandExec.sideEffectResult$lzycompute(commands.scala:104)\n\tat org.apache.spark.sql.execution.command.DataWritingCommandExec.sideEffectResult(commands.scala:102)\n\tat org.apache.spark.sql.execution.command.DataWritingCommandExec.doExecute(commands.scala:122)\n\tat org.apache.spark.sql.execution.SparkPlan$$anonfun$execute$1.apply(SparkPlan.scala:136)\n\tat org.apache.spark.sql.execution.SparkPlan$$anonfun$execute$1.apply(SparkPlan.scala:132)\n\tat org.apache.spark.sql.execution.SparkPlan$$anonfun$executeQuery$1.apply(SparkPlan.scala:160)\n\tat org.apache.spark.rdd.RDDOperationScope$.withScope(RDDOperationScope.scala:151)\n\tat org.apache.spark.sql.execution.SparkPlan.executeQuery(SparkPlan.scala:157)\n\tat org.apache.spark.sql.execution.SparkPlan.execute(SparkPlan.scala:132)\n\tat org.apache.spark.sql.execution.QueryExecution.toRdd$lzycompute(QueryExecution.scala:83)\n\tat org.apache.spark.sql.execution.QueryExecution.toRdd(QueryExecution.scala:81)\n\tat org.apache.spark.sql.DataFrameWriter$$anonfun$runCommand$1.apply(DataFrameWriter.scala:696)\n\tat org.apache.spark.sql.DataFrameWriter$$anonfun$runCommand$1.apply(DataFrameWriter.scala:696)\n\tat org.apache.spark.sql.execution.SQLExecution$$anonfun$withNewExecutionId$1.apply(SQLExecution.scala:80)\n\tat org.apache.spark.sql.execution.SQLExecution$.withSQLConfPropagated(SQLExecution.scala:127)\n\tat org.apache.spark.sql.execution.SQLExecution$.withNewExecutionId(SQLExecution.scala:75)\n\tat org.apache.spark.sql.DataFrameWriter.runCommand(DataFrameWriter.scala:696)\n\tat org.apache.spark.sql.DataFrameWriter.saveToV1Source(DataFrameWriter.scala:305)\n\tat org.apache.spark.sql.DataFrameWriter.save(DataFrameWriter.scala:291)\n\tat org.apache.spark.sql.DataFrameWriter.save(DataFrameWriter.scala:249)\n\tat sun.reflect.NativeMethodAccessorImpl.invoke0(Native Method)\n\tat sun.reflect.NativeMethodAccessorImpl.invoke(NativeMethodAccessorImpl.java:62)\n\tat sun.reflect.DelegatingMethodAccessorImpl.invoke(DelegatingMethodAccessorImpl.java:43)\n\tat java.lang.reflect.Method.invoke(Method.java:498)\n\tat py4j.reflection.MethodInvoker.invoke(MethodInvoker.java:244)\n\tat py4j.reflection.ReflectionEngine.invoke(ReflectionEngine.java:357)\n\tat py4j.Gateway.invoke(Gateway.java:282)\n\tat py4j.commands.AbstractCommand.invokeMethod(AbstractCommand.java:132)\n\tat py4j.commands.CallCommand.execute(CallCommand.java:79)\n\tat py4j.GatewayConnection.run(GatewayConnection.java:238)\n\tat java.lang.Thread.run(Thread.java:748)\nCaused by: org.apache.spark.SparkException: Job aborted due to stage failure: Task 119 in stage 6.0 failed 1 times, most recent failure: Lost task 119.0 in stage 6.0 (TID 1187, localhost, executor driver): java.lang.OutOfMemoryError: Java heap space\n\tat org.apache.spark.util.collection.unsafe.sort.UnsafeSorterSpillReader.<init>(UnsafeSorterSpillReader.java:52)\n\tat org.apache.spark.util.collection.unsafe.sort.UnsafeSorterSpillWriter.getReader(UnsafeSorterSpillWriter.java:156)\n\tat org.apache.spark.util.collection.unsafe.sort.UnsafeExternalSorter.getSortedIterator(UnsafeExternalSorter.java:523)\n\tat org.apache.spark.sql.execution.UnsafeExternalRowSorter.sort(UnsafeExternalRowSorter.java:174)\n\tat org.apache.spark.sql.catalyst.expressions.GeneratedClass$GeneratedIteratorForCodegenStage5.processNext(Unknown Source)\n\tat org.apache.spark.sql.execution.BufferedRowIterator.hasNext(BufferedRowIterator.java:43)\n\tat org.apache.spark.sql.execution.WholeStageCodegenExec$$anonfun$13$$anon$1.hasNext(WholeStageCodegenExec.scala:636)\n\tat org.apache.spark.sql.execution.window.WindowExec$$anonfun$11$$anon$1.fetchNextRow(WindowExec.scala:314)\n\tat org.apache.spark.sql.execution.window.WindowExec$$anonfun$11$$anon$1.<init>(WindowExec.scala:323)\n\tat org.apache.spark.sql.execution.window.WindowExec$$anonfun$11.apply(WindowExec.scala:303)\n\tat org.apache.spark.sql.execution.window.WindowExec$$anonfun$11.apply(WindowExec.scala:302)\n\tat org.apache.spark.rdd.RDD$$anonfun$mapPartitions$1$$anonfun$apply$23.apply(RDD.scala:823)\n\tat org.apache.spark.rdd.RDD$$anonfun$mapPartitions$1$$anonfun$apply$23.apply(RDD.scala:823)\n\tat org.apache.spark.rdd.MapPartitionsRDD.compute(MapPartitionsRDD.scala:52)\n\tat org.apache.spark.rdd.RDD.computeOrReadCheckpoint(RDD.scala:346)\n\tat org.apache.spark.rdd.RDD.iterator(RDD.scala:310)\n\tat org.apache.spark.rdd.MapPartitionsRDD.compute(MapPartitionsRDD.scala:52)\n\tat org.apache.spark.rdd.RDD.computeOrReadCheckpoint(RDD.scala:346)\n\tat org.apache.spark.rdd.RDD.iterator(RDD.scala:310)\n\tat org.apache.spark.scheduler.ResultTask.runTask(ResultTask.scala:90)\n\tat org.apache.spark.scheduler.Task.run(Task.scala:123)\n\tat org.apache.spark.executor.Executor$TaskRunner$$anonfun$10.apply(Executor.scala:411)\n\tat org.apache.spark.util.Utils$.tryWithSafeFinally(Utils.scala:1360)\n\tat org.apache.spark.executor.Executor$TaskRunner.run(Executor.scala:417)\n\tat java.util.concurrent.ThreadPoolExecutor.runWorker(ThreadPoolExecutor.java:1149)\n\tat java.util.concurrent.ThreadPoolExecutor$Worker.run(ThreadPoolExecutor.java:624)\n\tat java.lang.Thread.run(Thread.java:748)\n\nDriver stacktrace:\n\tat org.apache.spark.scheduler.DAGScheduler.org$apache$spark$scheduler$DAGScheduler$$failJobAndIndependentStages(DAGScheduler.scala:1925)\n\tat org.apache.spark.scheduler.DAGScheduler$$anonfun$abortStage$1.apply(DAGScheduler.scala:1913)\n\tat org.apache.spark.scheduler.DAGScheduler$$anonfun$abortStage$1.apply(DAGScheduler.scala:1912)\n\tat scala.collection.mutable.ResizableArray$class.foreach(ResizableArray.scala:59)\n\tat scala.collection.mutable.ArrayBuffer.foreach(ArrayBuffer.scala:48)\n\tat org.apache.spark.scheduler.DAGScheduler.abortStage(DAGScheduler.scala:1912)\n\tat org.apache.spark.scheduler.DAGScheduler$$anonfun$handleTaskSetFailed$1.apply(DAGScheduler.scala:948)\n\tat org.apache.spark.scheduler.DAGScheduler$$anonfun$handleTaskSetFailed$1.apply(DAGScheduler.scala:948)\n\tat scala.Option.foreach(Option.scala:257)\n\tat org.apache.spark.scheduler.DAGScheduler.handleTaskSetFailed(DAGScheduler.scala:948)\n\tat org.apache.spark.scheduler.DAGSchedulerEventProcessLoop.doOnReceive(DAGScheduler.scala:2146)\n\tat org.apache.spark.scheduler.DAGSchedulerEventProcessLoop.onReceive(DAGScheduler.scala:2095)\n\tat org.apache.spark.scheduler.DAGSchedulerEventProcessLoop.onReceive(DAGScheduler.scala:2084)\n\tat org.apache.spark.util.EventLoop$$anon$1.run(EventLoop.scala:49)\n\tat org.apache.spark.scheduler.DAGScheduler.runJob(DAGScheduler.scala:759)\n\tat org.apache.spark.SparkContext.runJob(SparkContext.scala:2067)\n\tat org.apache.spark.sql.execution.datasources.FileFormatWriter$.write(FileFormatWriter.scala:171)\n\t... 32 more\nCaused by: java.lang.OutOfMemoryError: Java heap space\n\tat org.apache.spark.util.collection.unsafe.sort.UnsafeSorterSpillReader.<init>(UnsafeSorterSpillReader.java:52)\n\tat org.apache.spark.util.collection.unsafe.sort.UnsafeSorterSpillWriter.getReader(UnsafeSorterSpillWriter.java:156)\n\tat org.apache.spark.util.collection.unsafe.sort.UnsafeExternalSorter.getSortedIterator(UnsafeExternalSorter.java:523)\n\tat org.apache.spark.sql.execution.UnsafeExternalRowSorter.sort(UnsafeExternalRowSorter.java:174)\n\tat org.apache.spark.sql.catalyst.expressions.GeneratedClass$GeneratedIteratorForCodegenStage5.processNext(Unknown Source)\n\tat org.apache.spark.sql.execution.BufferedRowIterator.hasNext(BufferedRowIterator.java:43)\n\tat org.apache.spark.sql.execution.WholeStageCodegenExec$$anonfun$13$$anon$1.hasNext(WholeStageCodegenExec.scala:636)\n\tat org.apache.spark.sql.execution.window.WindowExec$$anonfun$11$$anon$1.fetchNextRow(WindowExec.scala:314)\n\tat org.apache.spark.sql.execution.window.WindowExec$$anonfun$11$$anon$1.<init>(WindowExec.scala:323)\n\tat org.apache.spark.sql.execution.window.WindowExec$$anonfun$11.apply(WindowExec.scala:303)\n\tat org.apache.spark.sql.execution.window.WindowExec$$anonfun$11.apply(WindowExec.scala:302)\n\tat org.apache.spark.rdd.RDD$$anonfun$mapPartitions$1$$anonfun$apply$23.apply(RDD.scala:823)\n\tat org.apache.spark.rdd.RDD$$anonfun$mapPartitions$1$$anonfun$apply$23.apply(RDD.scala:823)\n\tat org.apache.spark.rdd.MapPartitionsRDD.compute(MapPartitionsRDD.scala:52)\n\tat org.apache.spark.rdd.RDD.computeOrReadCheckpoint(RDD.scala:346)\n\tat org.apache.spark.rdd.RDD.iterator(RDD.scala:310)\n\tat org.apache.spark.rdd.MapPartitionsRDD.compute(MapPartitionsRDD.scala:52)\n\tat org.apache.spark.rdd.RDD.computeOrReadCheckpoint(RDD.scala:346)\n\tat org.apache.spark.rdd.RDD.iterator(RDD.scala:310)\n\tat org.apache.spark.scheduler.ResultTask.runTask(ResultTask.scala:90)\n\tat org.apache.spark.scheduler.Task.run(Task.scala:123)\n\tat org.apache.spark.executor.Executor$TaskRunner$$anonfun$10.apply(Executor.scala:411)\n\tat org.apache.spark.util.Utils$.tryWithSafeFinally(Utils.scala:1360)\n\tat org.apache.spark.executor.Executor$TaskRunner.run(Executor.scala:417)\n\tat java.util.concurrent.ThreadPoolExecutor.runWorker(ThreadPoolExecutor.java:1149)\n\tat java.util.concurrent.ThreadPoolExecutor$Worker.run(ThreadPoolExecutor.java:624)\n\t... 1 more\n"
          ]
        }
      ]
    },
    {
      "cell_type": "code",
      "metadata": {
        "colab": {
          "base_uri": "https://localhost:8080/",
          "height": 581
        },
        "id": "8QL_fc92Caig",
        "outputId": "09447332-95eb-4097-fde8-93ae05fba35e"
      },
      "source": [
        "df = spark.read.format('parquet').load('data/tabelao_over/')\n"
      ],
      "execution_count": 69,
      "outputs": [
        {
          "output_type": "stream",
          "text": [
            "ERROR:root:Exception while sending command.\n",
            "Traceback (most recent call last):\n",
            "  File \"/content/spark_tgz/spark-2.4.8-bin-hadoop2.7/python/lib/py4j-0.10.7-src.zip/py4j/java_gateway.py\", line 1159, in send_command\n",
            "    raise Py4JNetworkError(\"Answer from Java side is empty\")\n",
            "py4j.protocol.Py4JNetworkError: Answer from Java side is empty\n",
            "\n",
            "During handling of the above exception, another exception occurred:\n",
            "\n",
            "Traceback (most recent call last):\n",
            "  File \"/content/spark_tgz/spark-2.4.8-bin-hadoop2.7/python/lib/py4j-0.10.7-src.zip/py4j/java_gateway.py\", line 985, in send_command\n",
            "    response = connection.send_command(command)\n",
            "  File \"/content/spark_tgz/spark-2.4.8-bin-hadoop2.7/python/lib/py4j-0.10.7-src.zip/py4j/java_gateway.py\", line 1164, in send_command\n",
            "    \"Error while receiving\", e, proto.ERROR_ON_RECEIVE)\n",
            "py4j.protocol.Py4JNetworkError: Error while receiving\n"
          ],
          "name": "stderr"
        },
        {
          "output_type": "error",
          "ename": "Py4JError",
          "evalue": "ignored",
          "traceback": [
            "\u001b[0;31m---------------------------------------------------------------------------\u001b[0m",
            "\u001b[0;31mPy4JError\u001b[0m                                 Traceback (most recent call last)",
            "\u001b[0;32m<ipython-input-69-690d094ac4de>\u001b[0m in \u001b[0;36m<module>\u001b[0;34m()\u001b[0m\n\u001b[0;32m----> 1\u001b[0;31m \u001b[0mdf\u001b[0m \u001b[0;34m=\u001b[0m \u001b[0mspark\u001b[0m\u001b[0;34m.\u001b[0m\u001b[0mread\u001b[0m\u001b[0;34m.\u001b[0m\u001b[0mformat\u001b[0m\u001b[0;34m(\u001b[0m\u001b[0;34m'parquet'\u001b[0m\u001b[0;34m)\u001b[0m\u001b[0;34m.\u001b[0m\u001b[0mload\u001b[0m\u001b[0;34m(\u001b[0m\u001b[0;34m'data/tabelao_over/'\u001b[0m\u001b[0;34m)\u001b[0m\u001b[0;34m\u001b[0m\u001b[0;34m\u001b[0m\u001b[0m\n\u001b[0m",
            "\u001b[0;32m/content/spark_tgz/spark-2.4.8-bin-hadoop2.7/python/pyspark/sql/session.py\u001b[0m in \u001b[0;36mread\u001b[0;34m(self)\u001b[0m\n\u001b[1;32m    789\u001b[0m         \u001b[0;34m:\u001b[0m\u001b[0;32mreturn\u001b[0m\u001b[0;34m:\u001b[0m \u001b[0;34m:\u001b[0m\u001b[0;32mclass\u001b[0m\u001b[0;34m:\u001b[0m\u001b[0;31m`\u001b[0m\u001b[0mDataFrameReader\u001b[0m\u001b[0;31m`\u001b[0m\u001b[0;34m\u001b[0m\u001b[0;34m\u001b[0m\u001b[0m\n\u001b[1;32m    790\u001b[0m         \"\"\"\n\u001b[0;32m--> 791\u001b[0;31m         \u001b[0;32mreturn\u001b[0m \u001b[0mDataFrameReader\u001b[0m\u001b[0;34m(\u001b[0m\u001b[0mself\u001b[0m\u001b[0;34m.\u001b[0m\u001b[0m_wrapped\u001b[0m\u001b[0;34m)\u001b[0m\u001b[0;34m\u001b[0m\u001b[0;34m\u001b[0m\u001b[0m\n\u001b[0m\u001b[1;32m    792\u001b[0m \u001b[0;34m\u001b[0m\u001b[0m\n\u001b[1;32m    793\u001b[0m     \u001b[0;34m@\u001b[0m\u001b[0mproperty\u001b[0m\u001b[0;34m\u001b[0m\u001b[0;34m\u001b[0m\u001b[0m\n",
            "\u001b[0;32m/content/spark_tgz/spark-2.4.8-bin-hadoop2.7/python/pyspark/sql/readwriter.py\u001b[0m in \u001b[0;36m__init__\u001b[0;34m(self, spark)\u001b[0m\n\u001b[1;32m     68\u001b[0m \u001b[0;34m\u001b[0m\u001b[0m\n\u001b[1;32m     69\u001b[0m     \u001b[0;32mdef\u001b[0m \u001b[0m__init__\u001b[0m\u001b[0;34m(\u001b[0m\u001b[0mself\u001b[0m\u001b[0;34m,\u001b[0m \u001b[0mspark\u001b[0m\u001b[0;34m)\u001b[0m\u001b[0;34m:\u001b[0m\u001b[0;34m\u001b[0m\u001b[0;34m\u001b[0m\u001b[0m\n\u001b[0;32m---> 70\u001b[0;31m         \u001b[0mself\u001b[0m\u001b[0;34m.\u001b[0m\u001b[0m_jreader\u001b[0m \u001b[0;34m=\u001b[0m \u001b[0mspark\u001b[0m\u001b[0;34m.\u001b[0m\u001b[0m_ssql_ctx\u001b[0m\u001b[0;34m.\u001b[0m\u001b[0mread\u001b[0m\u001b[0;34m(\u001b[0m\u001b[0;34m)\u001b[0m\u001b[0;34m\u001b[0m\u001b[0;34m\u001b[0m\u001b[0m\n\u001b[0m\u001b[1;32m     71\u001b[0m         \u001b[0mself\u001b[0m\u001b[0;34m.\u001b[0m\u001b[0m_spark\u001b[0m \u001b[0;34m=\u001b[0m \u001b[0mspark\u001b[0m\u001b[0;34m\u001b[0m\u001b[0;34m\u001b[0m\u001b[0m\n\u001b[1;32m     72\u001b[0m \u001b[0;34m\u001b[0m\u001b[0m\n",
            "\u001b[0;32m/content/spark_tgz/spark-2.4.8-bin-hadoop2.7/python/lib/py4j-0.10.7-src.zip/py4j/java_gateway.py\u001b[0m in \u001b[0;36m__call__\u001b[0;34m(self, *args)\u001b[0m\n\u001b[1;32m   1255\u001b[0m         \u001b[0manswer\u001b[0m \u001b[0;34m=\u001b[0m \u001b[0mself\u001b[0m\u001b[0;34m.\u001b[0m\u001b[0mgateway_client\u001b[0m\u001b[0;34m.\u001b[0m\u001b[0msend_command\u001b[0m\u001b[0;34m(\u001b[0m\u001b[0mcommand\u001b[0m\u001b[0;34m)\u001b[0m\u001b[0;34m\u001b[0m\u001b[0;34m\u001b[0m\u001b[0m\n\u001b[1;32m   1256\u001b[0m         return_value = get_return_value(\n\u001b[0;32m-> 1257\u001b[0;31m             answer, self.gateway_client, self.target_id, self.name)\n\u001b[0m\u001b[1;32m   1258\u001b[0m \u001b[0;34m\u001b[0m\u001b[0m\n\u001b[1;32m   1259\u001b[0m         \u001b[0;32mfor\u001b[0m \u001b[0mtemp_arg\u001b[0m \u001b[0;32min\u001b[0m \u001b[0mtemp_args\u001b[0m\u001b[0;34m:\u001b[0m\u001b[0;34m\u001b[0m\u001b[0;34m\u001b[0m\u001b[0m\n",
            "\u001b[0;32m/content/spark_tgz/spark-2.4.8-bin-hadoop2.7/python/pyspark/sql/utils.py\u001b[0m in \u001b[0;36mdeco\u001b[0;34m(*a, **kw)\u001b[0m\n\u001b[1;32m     61\u001b[0m     \u001b[0;32mdef\u001b[0m \u001b[0mdeco\u001b[0m\u001b[0;34m(\u001b[0m\u001b[0;34m*\u001b[0m\u001b[0ma\u001b[0m\u001b[0;34m,\u001b[0m \u001b[0;34m**\u001b[0m\u001b[0mkw\u001b[0m\u001b[0;34m)\u001b[0m\u001b[0;34m:\u001b[0m\u001b[0;34m\u001b[0m\u001b[0;34m\u001b[0m\u001b[0m\n\u001b[1;32m     62\u001b[0m         \u001b[0;32mtry\u001b[0m\u001b[0;34m:\u001b[0m\u001b[0;34m\u001b[0m\u001b[0;34m\u001b[0m\u001b[0m\n\u001b[0;32m---> 63\u001b[0;31m             \u001b[0;32mreturn\u001b[0m \u001b[0mf\u001b[0m\u001b[0;34m(\u001b[0m\u001b[0;34m*\u001b[0m\u001b[0ma\u001b[0m\u001b[0;34m,\u001b[0m \u001b[0;34m**\u001b[0m\u001b[0mkw\u001b[0m\u001b[0;34m)\u001b[0m\u001b[0;34m\u001b[0m\u001b[0;34m\u001b[0m\u001b[0m\n\u001b[0m\u001b[1;32m     64\u001b[0m         \u001b[0;32mexcept\u001b[0m \u001b[0mpy4j\u001b[0m\u001b[0;34m.\u001b[0m\u001b[0mprotocol\u001b[0m\u001b[0;34m.\u001b[0m\u001b[0mPy4JJavaError\u001b[0m \u001b[0;32mas\u001b[0m \u001b[0me\u001b[0m\u001b[0;34m:\u001b[0m\u001b[0;34m\u001b[0m\u001b[0;34m\u001b[0m\u001b[0m\n\u001b[1;32m     65\u001b[0m             \u001b[0ms\u001b[0m \u001b[0;34m=\u001b[0m \u001b[0me\u001b[0m\u001b[0;34m.\u001b[0m\u001b[0mjava_exception\u001b[0m\u001b[0;34m.\u001b[0m\u001b[0mtoString\u001b[0m\u001b[0;34m(\u001b[0m\u001b[0;34m)\u001b[0m\u001b[0;34m\u001b[0m\u001b[0;34m\u001b[0m\u001b[0m\n",
            "\u001b[0;32m/content/spark_tgz/spark-2.4.8-bin-hadoop2.7/python/lib/py4j-0.10.7-src.zip/py4j/protocol.py\u001b[0m in \u001b[0;36mget_return_value\u001b[0;34m(answer, gateway_client, target_id, name)\u001b[0m\n\u001b[1;32m    334\u001b[0m             raise Py4JError(\n\u001b[1;32m    335\u001b[0m                 \u001b[0;34m\"An error occurred while calling {0}{1}{2}\"\u001b[0m\u001b[0;34m.\u001b[0m\u001b[0;34m\u001b[0m\u001b[0;34m\u001b[0m\u001b[0m\n\u001b[0;32m--> 336\u001b[0;31m                 format(target_id, \".\", name))\n\u001b[0m\u001b[1;32m    337\u001b[0m     \u001b[0;32melse\u001b[0m\u001b[0;34m:\u001b[0m\u001b[0;34m\u001b[0m\u001b[0;34m\u001b[0m\u001b[0m\n\u001b[1;32m    338\u001b[0m         \u001b[0mtype\u001b[0m \u001b[0;34m=\u001b[0m \u001b[0manswer\u001b[0m\u001b[0;34m[\u001b[0m\u001b[0;36m1\u001b[0m\u001b[0;34m]\u001b[0m\u001b[0;34m\u001b[0m\u001b[0;34m\u001b[0m\u001b[0m\n",
            "\u001b[0;31mPy4JError\u001b[0m: An error occurred while calling o23.read"
          ]
        }
      ]
    },
    {
      "cell_type": "code",
      "metadata": {
        "id": "vSCk3dS-4852"
      },
      "source": [
        "df_sample = df.sample(fraction=0.01).toPandas()#.describe()"
      ],
      "execution_count": 21,
      "outputs": []
    },
    {
      "cell_type": "code",
      "metadata": {
        "colab": {
          "base_uri": "https://localhost:8080/",
          "height": 317
        },
        "id": "QMHYAKAz7me2",
        "outputId": "9e580515-a476-453e-bede-3375ee1ca0b9"
      },
      "source": [
        "df_sample.describe()"
      ],
      "execution_count": 22,
      "outputs": [
        {
          "output_type": "execute_result",
          "data": {
            "text/html": [
              "<div>\n",
              "<style scoped>\n",
              "    .dataframe tbody tr th:only-of-type {\n",
              "        vertical-align: middle;\n",
              "    }\n",
              "\n",
              "    .dataframe tbody tr th {\n",
              "        vertical-align: top;\n",
              "    }\n",
              "\n",
              "    .dataframe thead th {\n",
              "        text-align: right;\n",
              "    }\n",
              "</style>\n",
              "<table border=\"1\" class=\"dataframe\">\n",
              "  <thead>\n",
              "    <tr style=\"text-align: right;\">\n",
              "      <th></th>\n",
              "      <th>SUM_Town_Prod_Demanda_uni_equil</th>\n",
              "      <th>AVG_Town_Prod_Demanda_uni_equil</th>\n",
              "      <th>SUM_Town_Demanda_uni_equil</th>\n",
              "      <th>AVG_Town_Demanda_uni_equil</th>\n",
              "      <th>SUM_Cliente_Demanda_uni_equil</th>\n",
              "      <th>AVG_Cliente_Demanda_uni_equil</th>\n",
              "      <th>SUM_Cliente_Prod_Demanda_uni_equil</th>\n",
              "      <th>AVG_Cliente_Prod_Demanda_uni_equil</th>\n",
              "      <th>Agencia_ID</th>\n",
              "    </tr>\n",
              "  </thead>\n",
              "  <tbody>\n",
              "    <tr>\n",
              "      <th>count</th>\n",
              "      <td>1.040670e+05</td>\n",
              "      <td>104067.000000</td>\n",
              "      <td>1.040670e+05</td>\n",
              "      <td>104067.000000</td>\n",
              "      <td>1.040670e+05</td>\n",
              "      <td>104067.000000</td>\n",
              "      <td>104067.000000</td>\n",
              "      <td>104067.000000</td>\n",
              "      <td>104067.000000</td>\n",
              "    </tr>\n",
              "    <tr>\n",
              "      <th>mean</th>\n",
              "      <td>4.360319e+04</td>\n",
              "      <td>7.366170</td>\n",
              "      <td>1.994782e+06</td>\n",
              "      <td>7.265033</td>\n",
              "      <td>2.533129e+03</td>\n",
              "      <td>7.359746</td>\n",
              "      <td>53.721180</td>\n",
              "      <td>7.411880</td>\n",
              "      <td>2474.654674</td>\n",
              "    </tr>\n",
              "    <tr>\n",
              "      <th>std</th>\n",
              "      <td>7.830020e+04</td>\n",
              "      <td>15.416327</td>\n",
              "      <td>9.582581e+05</td>\n",
              "      <td>8.884643</td>\n",
              "      <td>2.967622e+04</td>\n",
              "      <td>14.369698</td>\n",
              "      <td>676.917854</td>\n",
              "      <td>19.517292</td>\n",
              "      <td>3923.654665</td>\n",
              "    </tr>\n",
              "    <tr>\n",
              "      <th>min</th>\n",
              "      <td>0.000000e+00</td>\n",
              "      <td>0.000000</td>\n",
              "      <td>3.197300e+04</td>\n",
              "      <td>4.066216</td>\n",
              "      <td>0.000000e+00</td>\n",
              "      <td>0.000000</td>\n",
              "      <td>0.000000</td>\n",
              "      <td>0.000000</td>\n",
              "      <td>1110.000000</td>\n",
              "    </tr>\n",
              "    <tr>\n",
              "      <th>25%</th>\n",
              "      <td>7.482000e+03</td>\n",
              "      <td>2.989925</td>\n",
              "      <td>1.316542e+06</td>\n",
              "      <td>5.261160</td>\n",
              "      <td>3.300000e+02</td>\n",
              "      <td>3.850000</td>\n",
              "      <td>5.000000</td>\n",
              "      <td>2.000000</td>\n",
              "      <td>1310.000000</td>\n",
              "    </tr>\n",
              "    <tr>\n",
              "      <th>50%</th>\n",
              "      <td>1.950700e+04</td>\n",
              "      <td>4.522634</td>\n",
              "      <td>1.997676e+06</td>\n",
              "      <td>5.855337</td>\n",
              "      <td>7.350000e+02</td>\n",
              "      <td>5.172897</td>\n",
              "      <td>13.000000</td>\n",
              "      <td>3.500000</td>\n",
              "      <td>1613.000000</td>\n",
              "    </tr>\n",
              "    <tr>\n",
              "      <th>75%</th>\n",
              "      <td>4.625500e+04</td>\n",
              "      <td>7.367540</td>\n",
              "      <td>2.624015e+06</td>\n",
              "      <td>6.552825</td>\n",
              "      <td>1.521000e+03</td>\n",
              "      <td>7.197177</td>\n",
              "      <td>32.000000</td>\n",
              "      <td>7.000000</td>\n",
              "      <td>2034.000000</td>\n",
              "    </tr>\n",
              "    <tr>\n",
              "      <th>max</th>\n",
              "      <td>1.123872e+06</td>\n",
              "      <td>1715.411765</td>\n",
              "      <td>5.298372e+06</td>\n",
              "      <td>202.568149</td>\n",
              "      <td>1.398770e+06</td>\n",
              "      <td>1400.156250</td>\n",
              "      <td>128684.000000</td>\n",
              "      <td>1500.000000</td>\n",
              "      <td>25759.000000</td>\n",
              "    </tr>\n",
              "  </tbody>\n",
              "</table>\n",
              "</div>"
            ],
            "text/plain": [
              "       SUM_Town_Prod_Demanda_uni_equil  ...     Agencia_ID\n",
              "count                     1.040670e+05  ...  104067.000000\n",
              "mean                      4.360319e+04  ...    2474.654674\n",
              "std                       7.830020e+04  ...    3923.654665\n",
              "min                       0.000000e+00  ...    1110.000000\n",
              "25%                       7.482000e+03  ...    1310.000000\n",
              "50%                       1.950700e+04  ...    1613.000000\n",
              "75%                       4.625500e+04  ...    2034.000000\n",
              "max                       1.123872e+06  ...   25759.000000\n",
              "\n",
              "[8 rows x 9 columns]"
            ]
          },
          "metadata": {
            "tags": []
          },
          "execution_count": 22
        }
      ]
    },
    {
      "cell_type": "code",
      "metadata": {
        "id": "WGIja-BBFd1j"
      },
      "source": [
        "cols = [i for i in df_sample.columns if i[-len('Demanda_uni_equil'):] in ['Demanda_uni_equil']]"
      ],
      "execution_count": 43,
      "outputs": []
    },
    {
      "cell_type": "code",
      "metadata": {
        "colab": {
          "base_uri": "https://localhost:8080/",
          "height": 596
        },
        "id": "E4BiH2gNHSH3",
        "outputId": "8459f1af-78b9-498b-dfda-951f8dc0f80e"
      },
      "source": [
        "df_sample.loc[:,cols].astype('float').describe().T"
      ],
      "execution_count": 44,
      "outputs": [
        {
          "output_type": "execute_result",
          "data": {
            "text/html": [
              "<div>\n",
              "<style scoped>\n",
              "    .dataframe tbody tr th:only-of-type {\n",
              "        vertical-align: middle;\n",
              "    }\n",
              "\n",
              "    .dataframe tbody tr th {\n",
              "        vertical-align: top;\n",
              "    }\n",
              "\n",
              "    .dataframe thead th {\n",
              "        text-align: right;\n",
              "    }\n",
              "</style>\n",
              "<table border=\"1\" class=\"dataframe\">\n",
              "  <thead>\n",
              "    <tr style=\"text-align: right;\">\n",
              "      <th></th>\n",
              "      <th>count</th>\n",
              "      <th>mean</th>\n",
              "      <th>std</th>\n",
              "      <th>min</th>\n",
              "      <th>25%</th>\n",
              "      <th>50%</th>\n",
              "      <th>75%</th>\n",
              "      <th>max</th>\n",
              "    </tr>\n",
              "  </thead>\n",
              "  <tbody>\n",
              "    <tr>\n",
              "      <th>Demanda_uni_equil</th>\n",
              "      <td>104067.0</td>\n",
              "      <td>7.307629e+00</td>\n",
              "      <td>21.974486</td>\n",
              "      <td>0.000000</td>\n",
              "      <td>2.000000e+00</td>\n",
              "      <td>3.000000e+00</td>\n",
              "      <td>6.000000e+00</td>\n",
              "      <td>2.160000e+03</td>\n",
              "    </tr>\n",
              "    <tr>\n",
              "      <th>SUM_Town_Prod_Demanda_uni_equil</th>\n",
              "      <td>104067.0</td>\n",
              "      <td>4.360319e+04</td>\n",
              "      <td>78300.195589</td>\n",
              "      <td>0.000000</td>\n",
              "      <td>7.482000e+03</td>\n",
              "      <td>1.950700e+04</td>\n",
              "      <td>4.625500e+04</td>\n",
              "      <td>1.123872e+06</td>\n",
              "    </tr>\n",
              "    <tr>\n",
              "      <th>AVG_Town_Prod_Demanda_uni_equil</th>\n",
              "      <td>104067.0</td>\n",
              "      <td>7.366170e+00</td>\n",
              "      <td>15.416327</td>\n",
              "      <td>0.000000</td>\n",
              "      <td>2.989925e+00</td>\n",
              "      <td>4.522634e+00</td>\n",
              "      <td>7.367540e+00</td>\n",
              "      <td>1.715412e+03</td>\n",
              "    </tr>\n",
              "    <tr>\n",
              "      <th>MIN_Town_Prod_Demanda_uni_equil</th>\n",
              "      <td>104067.0</td>\n",
              "      <td>5.524326e-01</td>\n",
              "      <td>11.981502</td>\n",
              "      <td>0.000000</td>\n",
              "      <td>0.000000e+00</td>\n",
              "      <td>0.000000e+00</td>\n",
              "      <td>0.000000e+00</td>\n",
              "      <td>1.152000e+03</td>\n",
              "    </tr>\n",
              "    <tr>\n",
              "      <th>MAX_Town_Prod_Demanda_uni_equil</th>\n",
              "      <td>104067.0</td>\n",
              "      <td>3.870529e+01</td>\n",
              "      <td>62.770227</td>\n",
              "      <td>0.000000</td>\n",
              "      <td>9.000000e+00</td>\n",
              "      <td>9.000000e+00</td>\n",
              "      <td>9.200000e+01</td>\n",
              "      <td>2.160000e+03</td>\n",
              "    </tr>\n",
              "    <tr>\n",
              "      <th>SUM_Town_Demanda_uni_equil</th>\n",
              "      <td>104067.0</td>\n",
              "      <td>1.994782e+06</td>\n",
              "      <td>958258.131838</td>\n",
              "      <td>31973.000000</td>\n",
              "      <td>1.316542e+06</td>\n",
              "      <td>1.997676e+06</td>\n",
              "      <td>2.624015e+06</td>\n",
              "      <td>5.298372e+06</td>\n",
              "    </tr>\n",
              "    <tr>\n",
              "      <th>AVG_Town_Demanda_uni_equil</th>\n",
              "      <td>104067.0</td>\n",
              "      <td>7.265033e+00</td>\n",
              "      <td>8.884643</td>\n",
              "      <td>4.066216</td>\n",
              "      <td>5.261160e+00</td>\n",
              "      <td>5.855337e+00</td>\n",
              "      <td>6.552825e+00</td>\n",
              "      <td>2.025681e+02</td>\n",
              "    </tr>\n",
              "    <tr>\n",
              "      <th>MIN_Town_Demanda_uni_equil</th>\n",
              "      <td>104067.0</td>\n",
              "      <td>2.075586e-03</td>\n",
              "      <td>0.085207</td>\n",
              "      <td>0.000000</td>\n",
              "      <td>0.000000e+00</td>\n",
              "      <td>0.000000e+00</td>\n",
              "      <td>0.000000e+00</td>\n",
              "      <td>1.000000e+01</td>\n",
              "    </tr>\n",
              "    <tr>\n",
              "      <th>MAX_Town_Demanda_uni_equil</th>\n",
              "      <td>104067.0</td>\n",
              "      <td>1.359658e+02</td>\n",
              "      <td>178.505789</td>\n",
              "      <td>9.000000</td>\n",
              "      <td>9.900000e+01</td>\n",
              "      <td>9.900000e+01</td>\n",
              "      <td>9.900000e+01</td>\n",
              "      <td>9.990000e+02</td>\n",
              "    </tr>\n",
              "    <tr>\n",
              "      <th>SUM_Cliente_Demanda_uni_equil</th>\n",
              "      <td>104067.0</td>\n",
              "      <td>2.533129e+03</td>\n",
              "      <td>29676.218757</td>\n",
              "      <td>0.000000</td>\n",
              "      <td>3.300000e+02</td>\n",
              "      <td>7.350000e+02</td>\n",
              "      <td>1.521000e+03</td>\n",
              "      <td>1.398770e+06</td>\n",
              "    </tr>\n",
              "    <tr>\n",
              "      <th>AVG_Cliente_Demanda_uni_equil</th>\n",
              "      <td>104067.0</td>\n",
              "      <td>7.359746e+00</td>\n",
              "      <td>14.369698</td>\n",
              "      <td>0.000000</td>\n",
              "      <td>3.850000e+00</td>\n",
              "      <td>5.172897e+00</td>\n",
              "      <td>7.197177e+00</td>\n",
              "      <td>1.400156e+03</td>\n",
              "    </tr>\n",
              "    <tr>\n",
              "      <th>MIN_Cliente_Demanda_uni_equil</th>\n",
              "      <td>104067.0</td>\n",
              "      <td>6.974930e-01</td>\n",
              "      <td>11.078479</td>\n",
              "      <td>0.000000</td>\n",
              "      <td>0.000000e+00</td>\n",
              "      <td>0.000000e+00</td>\n",
              "      <td>1.000000e+00</td>\n",
              "      <td>1.120000e+03</td>\n",
              "    </tr>\n",
              "    <tr>\n",
              "      <th>MAX_Cliente_Demanda_uni_equil</th>\n",
              "      <td>104067.0</td>\n",
              "      <td>1.653436e+01</td>\n",
              "      <td>39.882035</td>\n",
              "      <td>0.000000</td>\n",
              "      <td>8.000000e+00</td>\n",
              "      <td>9.000000e+00</td>\n",
              "      <td>9.000000e+00</td>\n",
              "      <td>9.990000e+02</td>\n",
              "    </tr>\n",
              "    <tr>\n",
              "      <th>SUM_Cliente_Prod_Demanda_uni_equil</th>\n",
              "      <td>104067.0</td>\n",
              "      <td>5.372118e+01</td>\n",
              "      <td>676.917854</td>\n",
              "      <td>0.000000</td>\n",
              "      <td>5.000000e+00</td>\n",
              "      <td>1.300000e+01</td>\n",
              "      <td>3.200000e+01</td>\n",
              "      <td>1.286840e+05</td>\n",
              "    </tr>\n",
              "    <tr>\n",
              "      <th>AVG_Cliente_Prod_Demanda_uni_equil</th>\n",
              "      <td>104067.0</td>\n",
              "      <td>7.411880e+00</td>\n",
              "      <td>19.517292</td>\n",
              "      <td>0.000000</td>\n",
              "      <td>2.000000e+00</td>\n",
              "      <td>3.500000e+00</td>\n",
              "      <td>7.000000e+00</td>\n",
              "      <td>1.500000e+03</td>\n",
              "    </tr>\n",
              "    <tr>\n",
              "      <th>MIN_Cliente_Prod_Demanda_uni_equil</th>\n",
              "      <td>104067.0</td>\n",
              "      <td>6.102011e+00</td>\n",
              "      <td>17.821397</td>\n",
              "      <td>0.000000</td>\n",
              "      <td>1.000000e+00</td>\n",
              "      <td>2.000000e+00</td>\n",
              "      <td>1.000000e+01</td>\n",
              "      <td>1.510000e+03</td>\n",
              "    </tr>\n",
              "    <tr>\n",
              "      <th>MAX_Cliente_Prod_Demanda_uni_equil</th>\n",
              "      <td>104067.0</td>\n",
              "      <td>8.558880e+00</td>\n",
              "      <td>23.707614</td>\n",
              "      <td>0.000000</td>\n",
              "      <td>3.000000e+00</td>\n",
              "      <td>5.000000e+00</td>\n",
              "      <td>8.000000e+00</td>\n",
              "      <td>2.160000e+03</td>\n",
              "    </tr>\n",
              "  </tbody>\n",
              "</table>\n",
              "</div>"
            ],
            "text/plain": [
              "                                       count  ...           max\n",
              "Demanda_uni_equil                   104067.0  ...  2.160000e+03\n",
              "SUM_Town_Prod_Demanda_uni_equil     104067.0  ...  1.123872e+06\n",
              "AVG_Town_Prod_Demanda_uni_equil     104067.0  ...  1.715412e+03\n",
              "MIN_Town_Prod_Demanda_uni_equil     104067.0  ...  1.152000e+03\n",
              "MAX_Town_Prod_Demanda_uni_equil     104067.0  ...  2.160000e+03\n",
              "SUM_Town_Demanda_uni_equil          104067.0  ...  5.298372e+06\n",
              "AVG_Town_Demanda_uni_equil          104067.0  ...  2.025681e+02\n",
              "MIN_Town_Demanda_uni_equil          104067.0  ...  1.000000e+01\n",
              "MAX_Town_Demanda_uni_equil          104067.0  ...  9.990000e+02\n",
              "SUM_Cliente_Demanda_uni_equil       104067.0  ...  1.398770e+06\n",
              "AVG_Cliente_Demanda_uni_equil       104067.0  ...  1.400156e+03\n",
              "MIN_Cliente_Demanda_uni_equil       104067.0  ...  1.120000e+03\n",
              "MAX_Cliente_Demanda_uni_equil       104067.0  ...  9.990000e+02\n",
              "SUM_Cliente_Prod_Demanda_uni_equil  104067.0  ...  1.286840e+05\n",
              "AVG_Cliente_Prod_Demanda_uni_equil  104067.0  ...  1.500000e+03\n",
              "MIN_Cliente_Prod_Demanda_uni_equil  104067.0  ...  1.510000e+03\n",
              "MAX_Cliente_Prod_Demanda_uni_equil  104067.0  ...  2.160000e+03\n",
              "\n",
              "[17 rows x 8 columns]"
            ]
          },
          "metadata": {
            "tags": []
          },
          "execution_count": 44
        }
      ]
    },
    {
      "cell_type": "code",
      "metadata": {
        "colab": {
          "base_uri": "https://localhost:8080/",
          "height": 596
        },
        "id": "17AyRvFaJj7W",
        "outputId": "c05ddbad-b235-4e94-bdb3-bfe68e45ab2e"
      },
      "source": [
        "df_sample.loc[:,cols].astype('float').corr()"
      ],
      "execution_count": 46,
      "outputs": [
        {
          "output_type": "execute_result",
          "data": {
            "text/html": [
              "<div>\n",
              "<style scoped>\n",
              "    .dataframe tbody tr th:only-of-type {\n",
              "        vertical-align: middle;\n",
              "    }\n",
              "\n",
              "    .dataframe tbody tr th {\n",
              "        vertical-align: top;\n",
              "    }\n",
              "\n",
              "    .dataframe thead th {\n",
              "        text-align: right;\n",
              "    }\n",
              "</style>\n",
              "<table border=\"1\" class=\"dataframe\">\n",
              "  <thead>\n",
              "    <tr style=\"text-align: right;\">\n",
              "      <th></th>\n",
              "      <th>Demanda_uni_equil</th>\n",
              "      <th>SUM_Town_Prod_Demanda_uni_equil</th>\n",
              "      <th>AVG_Town_Prod_Demanda_uni_equil</th>\n",
              "      <th>MIN_Town_Prod_Demanda_uni_equil</th>\n",
              "      <th>MAX_Town_Prod_Demanda_uni_equil</th>\n",
              "      <th>SUM_Town_Demanda_uni_equil</th>\n",
              "      <th>AVG_Town_Demanda_uni_equil</th>\n",
              "      <th>MIN_Town_Demanda_uni_equil</th>\n",
              "      <th>MAX_Town_Demanda_uni_equil</th>\n",
              "      <th>SUM_Cliente_Demanda_uni_equil</th>\n",
              "      <th>AVG_Cliente_Demanda_uni_equil</th>\n",
              "      <th>MIN_Cliente_Demanda_uni_equil</th>\n",
              "      <th>MAX_Cliente_Demanda_uni_equil</th>\n",
              "      <th>SUM_Cliente_Prod_Demanda_uni_equil</th>\n",
              "      <th>AVG_Cliente_Prod_Demanda_uni_equil</th>\n",
              "      <th>MIN_Cliente_Prod_Demanda_uni_equil</th>\n",
              "      <th>MAX_Cliente_Prod_Demanda_uni_equil</th>\n",
              "    </tr>\n",
              "  </thead>\n",
              "  <tbody>\n",
              "    <tr>\n",
              "      <th>Demanda_uni_equil</th>\n",
              "      <td>1.000000</td>\n",
              "      <td>0.126318</td>\n",
              "      <td>0.711271</td>\n",
              "      <td>0.333337</td>\n",
              "      <td>0.274428</td>\n",
              "      <td>-0.072950</td>\n",
              "      <td>0.427810</td>\n",
              "      <td>0.101285</td>\n",
              "      <td>0.084097</td>\n",
              "      <td>0.289331</td>\n",
              "      <td>0.647469</td>\n",
              "      <td>0.380127</td>\n",
              "      <td>0.395714</td>\n",
              "      <td>0.467542</td>\n",
              "      <td>0.946270</td>\n",
              "      <td>0.804903</td>\n",
              "      <td>0.880032</td>\n",
              "    </tr>\n",
              "    <tr>\n",
              "      <th>SUM_Town_Prod_Demanda_uni_equil</th>\n",
              "      <td>0.126318</td>\n",
              "      <td>1.000000</td>\n",
              "      <td>0.195099</td>\n",
              "      <td>-0.009540</td>\n",
              "      <td>0.310128</td>\n",
              "      <td>0.291949</td>\n",
              "      <td>-0.054244</td>\n",
              "      <td>-0.009486</td>\n",
              "      <td>-0.019516</td>\n",
              "      <td>-0.021671</td>\n",
              "      <td>-0.049093</td>\n",
              "      <td>-0.007944</td>\n",
              "      <td>-0.035602</td>\n",
              "      <td>0.026463</td>\n",
              "      <td>0.158399</td>\n",
              "      <td>0.137169</td>\n",
              "      <td>0.153231</td>\n",
              "    </tr>\n",
              "    <tr>\n",
              "      <th>AVG_Town_Prod_Demanda_uni_equil</th>\n",
              "      <td>0.711271</td>\n",
              "      <td>0.195099</td>\n",
              "      <td>1.000000</td>\n",
              "      <td>0.489399</td>\n",
              "      <td>0.354980</td>\n",
              "      <td>-0.097988</td>\n",
              "      <td>0.581674</td>\n",
              "      <td>0.088377</td>\n",
              "      <td>0.123288</td>\n",
              "      <td>0.317267</td>\n",
              "      <td>0.530631</td>\n",
              "      <td>0.241633</td>\n",
              "      <td>0.315179</td>\n",
              "      <td>0.439341</td>\n",
              "      <td>0.739896</td>\n",
              "      <td>0.553908</td>\n",
              "      <td>0.709020</td>\n",
              "    </tr>\n",
              "    <tr>\n",
              "      <th>MIN_Town_Prod_Demanda_uni_equil</th>\n",
              "      <td>0.333337</td>\n",
              "      <td>-0.009540</td>\n",
              "      <td>0.489399</td>\n",
              "      <td>1.000000</td>\n",
              "      <td>0.111816</td>\n",
              "      <td>-0.051667</td>\n",
              "      <td>0.316754</td>\n",
              "      <td>0.161496</td>\n",
              "      <td>0.052917</td>\n",
              "      <td>0.135235</td>\n",
              "      <td>0.307634</td>\n",
              "      <td>0.153651</td>\n",
              "      <td>0.162630</td>\n",
              "      <td>0.158295</td>\n",
              "      <td>0.344696</td>\n",
              "      <td>0.276886</td>\n",
              "      <td>0.324952</td>\n",
              "    </tr>\n",
              "    <tr>\n",
              "      <th>MAX_Town_Prod_Demanda_uni_equil</th>\n",
              "      <td>0.274428</td>\n",
              "      <td>0.310128</td>\n",
              "      <td>0.354980</td>\n",
              "      <td>0.111816</td>\n",
              "      <td>1.000000</td>\n",
              "      <td>-0.004549</td>\n",
              "      <td>0.133779</td>\n",
              "      <td>0.010461</td>\n",
              "      <td>0.103911</td>\n",
              "      <td>0.057299</td>\n",
              "      <td>0.135313</td>\n",
              "      <td>0.077358</td>\n",
              "      <td>0.075273</td>\n",
              "      <td>0.120575</td>\n",
              "      <td>0.283297</td>\n",
              "      <td>0.232769</td>\n",
              "      <td>0.287991</td>\n",
              "    </tr>\n",
              "    <tr>\n",
              "      <th>SUM_Town_Demanda_uni_equil</th>\n",
              "      <td>-0.072950</td>\n",
              "      <td>0.291949</td>\n",
              "      <td>-0.097988</td>\n",
              "      <td>-0.051667</td>\n",
              "      <td>-0.004549</td>\n",
              "      <td>1.000000</td>\n",
              "      <td>-0.162600</td>\n",
              "      <td>-0.041083</td>\n",
              "      <td>-0.041579</td>\n",
              "      <td>-0.048449</td>\n",
              "      <td>-0.105942</td>\n",
              "      <td>-0.039067</td>\n",
              "      <td>-0.065016</td>\n",
              "      <td>-0.042511</td>\n",
              "      <td>-0.075801</td>\n",
              "      <td>-0.062381</td>\n",
              "      <td>-0.067348</td>\n",
              "    </tr>\n",
              "    <tr>\n",
              "      <th>AVG_Town_Demanda_uni_equil</th>\n",
              "      <td>0.427810</td>\n",
              "      <td>-0.054244</td>\n",
              "      <td>0.581674</td>\n",
              "      <td>0.316754</td>\n",
              "      <td>0.133779</td>\n",
              "      <td>-0.162600</td>\n",
              "      <td>1.000000</td>\n",
              "      <td>0.135831</td>\n",
              "      <td>0.207464</td>\n",
              "      <td>0.595247</td>\n",
              "      <td>0.656784</td>\n",
              "      <td>0.118718</td>\n",
              "      <td>0.496220</td>\n",
              "      <td>0.451533</td>\n",
              "      <td>0.461385</td>\n",
              "      <td>0.338980</td>\n",
              "      <td>0.404861</td>\n",
              "    </tr>\n",
              "    <tr>\n",
              "      <th>MIN_Town_Demanda_uni_equil</th>\n",
              "      <td>0.101285</td>\n",
              "      <td>-0.009486</td>\n",
              "      <td>0.088377</td>\n",
              "      <td>0.161496</td>\n",
              "      <td>0.010461</td>\n",
              "      <td>-0.041083</td>\n",
              "      <td>0.135831</td>\n",
              "      <td>1.000000</td>\n",
              "      <td>0.003977</td>\n",
              "      <td>0.007205</td>\n",
              "      <td>0.187851</td>\n",
              "      <td>0.306320</td>\n",
              "      <td>0.068656</td>\n",
              "      <td>0.035890</td>\n",
              "      <td>0.104540</td>\n",
              "      <td>0.095674</td>\n",
              "      <td>0.077687</td>\n",
              "    </tr>\n",
              "    <tr>\n",
              "      <th>MAX_Town_Demanda_uni_equil</th>\n",
              "      <td>0.084097</td>\n",
              "      <td>-0.019516</td>\n",
              "      <td>0.123288</td>\n",
              "      <td>0.052917</td>\n",
              "      <td>0.103911</td>\n",
              "      <td>-0.041579</td>\n",
              "      <td>0.207464</td>\n",
              "      <td>0.003977</td>\n",
              "      <td>1.000000</td>\n",
              "      <td>0.108642</td>\n",
              "      <td>0.132324</td>\n",
              "      <td>0.025086</td>\n",
              "      <td>0.141340</td>\n",
              "      <td>0.073025</td>\n",
              "      <td>0.095638</td>\n",
              "      <td>0.084149</td>\n",
              "      <td>0.087634</td>\n",
              "    </tr>\n",
              "    <tr>\n",
              "      <th>SUM_Cliente_Demanda_uni_equil</th>\n",
              "      <td>0.289331</td>\n",
              "      <td>-0.021671</td>\n",
              "      <td>0.317267</td>\n",
              "      <td>0.135235</td>\n",
              "      <td>0.057299</td>\n",
              "      <td>-0.048449</td>\n",
              "      <td>0.595247</td>\n",
              "      <td>0.007205</td>\n",
              "      <td>0.108642</td>\n",
              "      <td>1.000000</td>\n",
              "      <td>0.433922</td>\n",
              "      <td>0.026802</td>\n",
              "      <td>0.554198</td>\n",
              "      <td>0.688127</td>\n",
              "      <td>0.293802</td>\n",
              "      <td>0.174944</td>\n",
              "      <td>0.231045</td>\n",
              "    </tr>\n",
              "    <tr>\n",
              "      <th>AVG_Cliente_Demanda_uni_equil</th>\n",
              "      <td>0.647469</td>\n",
              "      <td>-0.049093</td>\n",
              "      <td>0.530631</td>\n",
              "      <td>0.307634</td>\n",
              "      <td>0.135313</td>\n",
              "      <td>-0.105942</td>\n",
              "      <td>0.656784</td>\n",
              "      <td>0.187851</td>\n",
              "      <td>0.132324</td>\n",
              "      <td>0.433922</td>\n",
              "      <td>1.000000</td>\n",
              "      <td>0.576231</td>\n",
              "      <td>0.592157</td>\n",
              "      <td>0.368919</td>\n",
              "      <td>0.678757</td>\n",
              "      <td>0.563103</td>\n",
              "      <td>0.601939</td>\n",
              "    </tr>\n",
              "    <tr>\n",
              "      <th>MIN_Cliente_Demanda_uni_equil</th>\n",
              "      <td>0.380127</td>\n",
              "      <td>-0.007944</td>\n",
              "      <td>0.241633</td>\n",
              "      <td>0.153651</td>\n",
              "      <td>0.077358</td>\n",
              "      <td>-0.039067</td>\n",
              "      <td>0.118718</td>\n",
              "      <td>0.306320</td>\n",
              "      <td>0.025086</td>\n",
              "      <td>0.026802</td>\n",
              "      <td>0.576231</td>\n",
              "      <td>1.000000</td>\n",
              "      <td>0.225284</td>\n",
              "      <td>0.091075</td>\n",
              "      <td>0.384157</td>\n",
              "      <td>0.329356</td>\n",
              "      <td>0.323025</td>\n",
              "    </tr>\n",
              "    <tr>\n",
              "      <th>MAX_Cliente_Demanda_uni_equil</th>\n",
              "      <td>0.395714</td>\n",
              "      <td>-0.035602</td>\n",
              "      <td>0.315179</td>\n",
              "      <td>0.162630</td>\n",
              "      <td>0.075273</td>\n",
              "      <td>-0.065016</td>\n",
              "      <td>0.496220</td>\n",
              "      <td>0.068656</td>\n",
              "      <td>0.141340</td>\n",
              "      <td>0.554198</td>\n",
              "      <td>0.592157</td>\n",
              "      <td>0.225284</td>\n",
              "      <td>1.000000</td>\n",
              "      <td>0.366014</td>\n",
              "      <td>0.420350</td>\n",
              "      <td>0.341381</td>\n",
              "      <td>0.379883</td>\n",
              "    </tr>\n",
              "    <tr>\n",
              "      <th>SUM_Cliente_Prod_Demanda_uni_equil</th>\n",
              "      <td>0.467542</td>\n",
              "      <td>0.026463</td>\n",
              "      <td>0.439341</td>\n",
              "      <td>0.158295</td>\n",
              "      <td>0.120575</td>\n",
              "      <td>-0.042511</td>\n",
              "      <td>0.451533</td>\n",
              "      <td>0.035890</td>\n",
              "      <td>0.073025</td>\n",
              "      <td>0.688127</td>\n",
              "      <td>0.368919</td>\n",
              "      <td>0.091075</td>\n",
              "      <td>0.366014</td>\n",
              "      <td>1.000000</td>\n",
              "      <td>0.451973</td>\n",
              "      <td>0.337959</td>\n",
              "      <td>0.396071</td>\n",
              "    </tr>\n",
              "    <tr>\n",
              "      <th>AVG_Cliente_Prod_Demanda_uni_equil</th>\n",
              "      <td>0.946270</td>\n",
              "      <td>0.158399</td>\n",
              "      <td>0.739896</td>\n",
              "      <td>0.344696</td>\n",
              "      <td>0.283297</td>\n",
              "      <td>-0.075801</td>\n",
              "      <td>0.461385</td>\n",
              "      <td>0.104540</td>\n",
              "      <td>0.095638</td>\n",
              "      <td>0.293802</td>\n",
              "      <td>0.678757</td>\n",
              "      <td>0.384157</td>\n",
              "      <td>0.420350</td>\n",
              "      <td>0.451973</td>\n",
              "      <td>1.000000</td>\n",
              "      <td>0.876232</td>\n",
              "      <td>0.923849</td>\n",
              "    </tr>\n",
              "    <tr>\n",
              "      <th>MIN_Cliente_Prod_Demanda_uni_equil</th>\n",
              "      <td>0.804903</td>\n",
              "      <td>0.137169</td>\n",
              "      <td>0.553908</td>\n",
              "      <td>0.276886</td>\n",
              "      <td>0.232769</td>\n",
              "      <td>-0.062381</td>\n",
              "      <td>0.338980</td>\n",
              "      <td>0.095674</td>\n",
              "      <td>0.084149</td>\n",
              "      <td>0.174944</td>\n",
              "      <td>0.563103</td>\n",
              "      <td>0.329356</td>\n",
              "      <td>0.341381</td>\n",
              "      <td>0.337959</td>\n",
              "      <td>0.876232</td>\n",
              "      <td>1.000000</td>\n",
              "      <td>0.756679</td>\n",
              "    </tr>\n",
              "    <tr>\n",
              "      <th>MAX_Cliente_Prod_Demanda_uni_equil</th>\n",
              "      <td>0.880032</td>\n",
              "      <td>0.153231</td>\n",
              "      <td>0.709020</td>\n",
              "      <td>0.324952</td>\n",
              "      <td>0.287991</td>\n",
              "      <td>-0.067348</td>\n",
              "      <td>0.404861</td>\n",
              "      <td>0.077687</td>\n",
              "      <td>0.087634</td>\n",
              "      <td>0.231045</td>\n",
              "      <td>0.601939</td>\n",
              "      <td>0.323025</td>\n",
              "      <td>0.379883</td>\n",
              "      <td>0.396071</td>\n",
              "      <td>0.923849</td>\n",
              "      <td>0.756679</td>\n",
              "      <td>1.000000</td>\n",
              "    </tr>\n",
              "  </tbody>\n",
              "</table>\n",
              "</div>"
            ],
            "text/plain": [
              "                                    Demanda_uni_equil  ...  MAX_Cliente_Prod_Demanda_uni_equil\n",
              "Demanda_uni_equil                            1.000000  ...                            0.880032\n",
              "SUM_Town_Prod_Demanda_uni_equil              0.126318  ...                            0.153231\n",
              "AVG_Town_Prod_Demanda_uni_equil              0.711271  ...                            0.709020\n",
              "MIN_Town_Prod_Demanda_uni_equil              0.333337  ...                            0.324952\n",
              "MAX_Town_Prod_Demanda_uni_equil              0.274428  ...                            0.287991\n",
              "SUM_Town_Demanda_uni_equil                  -0.072950  ...                           -0.067348\n",
              "AVG_Town_Demanda_uni_equil                   0.427810  ...                            0.404861\n",
              "MIN_Town_Demanda_uni_equil                   0.101285  ...                            0.077687\n",
              "MAX_Town_Demanda_uni_equil                   0.084097  ...                            0.087634\n",
              "SUM_Cliente_Demanda_uni_equil                0.289331  ...                            0.231045\n",
              "AVG_Cliente_Demanda_uni_equil                0.647469  ...                            0.601939\n",
              "MIN_Cliente_Demanda_uni_equil                0.380127  ...                            0.323025\n",
              "MAX_Cliente_Demanda_uni_equil                0.395714  ...                            0.379883\n",
              "SUM_Cliente_Prod_Demanda_uni_equil           0.467542  ...                            0.396071\n",
              "AVG_Cliente_Prod_Demanda_uni_equil           0.946270  ...                            0.923849\n",
              "MIN_Cliente_Prod_Demanda_uni_equil           0.804903  ...                            0.756679\n",
              "MAX_Cliente_Prod_Demanda_uni_equil           0.880032  ...                            1.000000\n",
              "\n",
              "[17 rows x 17 columns]"
            ]
          },
          "metadata": {
            "tags": []
          },
          "execution_count": 46
        }
      ]
    },
    {
      "cell_type": "code",
      "metadata": {
        "colab": {
          "base_uri": "https://localhost:8080/",
          "height": 760
        },
        "id": "SaWf-rEmJ6vB",
        "outputId": "cd6319dd-1256-488e-fb69-945ef0ae8014"
      },
      "source": [
        "from string import ascii_letters\n",
        "import numpy as np\n",
        "import pandas as pd\n",
        "import seaborn as sns\n",
        "import matplotlib.pyplot as plt\n",
        "\n",
        "sns.set_theme(style=\"white\")\n",
        "\n",
        "# Generate a large random dataset\n",
        "#rs = np.random.RandomState(33)\n",
        "#d = pd.DataFrame(data=rs.normal(size=(100, 26)),\n",
        "#                 columns=list(ascii_letters[26:]))\n",
        "\n",
        "# Compute the correlation matrix\n",
        "corr = df_sample.loc[:,cols].astype('float').corr()\n",
        "\n",
        "# Generate a mask for the upper triangle\n",
        "mask = np.triu(np.ones_like(corr, dtype=bool))\n",
        "\n",
        "# Set up the matplotlib figure\n",
        "f, ax = plt.subplots(figsize=(11, 9))\n",
        "\n",
        "# Generate a custom diverging colormap\n",
        "cmap = sns.diverging_palette(10, 10, as_cmap=True)\n",
        "\n",
        "# Draw the heatmap with the mask and correct aspect ratio\n",
        "sns.heatmap(corr, mask=mask, cmap=cmap, vmax=1, center=0,annot=True,fmt=\".1f\",\n",
        "            square=True, linewidths=.5, cbar_kws={\"shrink\": .5})"
      ],
      "execution_count": 59,
      "outputs": [
        {
          "output_type": "execute_result",
          "data": {
            "text/plain": [
              "<matplotlib.axes._subplots.AxesSubplot at 0x7f8dcdf19a10>"
            ]
          },
          "metadata": {
            "tags": []
          },
          "execution_count": 59
        },
        {
          "output_type": "display_data",
          "data": {
            "image/png": "[encoded data removed]",
            "text/plain": [
              "<Figure size 792x648 with 2 Axes>"
            ]
          },
          "metadata": {
            "tags": []
          }
        }
      ]
    },
    {
      "cell_type": "code",
      "metadata": {
        "id": "uzww_lb2NGNk"
      },
      "source": [
        "df = spark.read.format('parquet').load('data/tabelao_lag/')\n"
      ],
      "execution_count": 62,
      "outputs": []
    },
    {
      "cell_type": "code",
      "metadata": {
        "colab": {
          "base_uri": "https://localhost:8080/",
          "height": 297
        },
        "id": "Ks_bEB25NahU",
        "outputId": "08651926-0474-4289-d2cc-8efe503818c0"
      },
      "source": [
        "df_sample = df.sample(fraction=0.01).toPandas()\n",
        "\n",
        "df_sample.describe()"
      ],
      "execution_count": 63,
      "outputs": [
        {
          "output_type": "execute_result",
          "data": {
            "text/html": [
              "<div>\n",
              "<style scoped>\n",
              "    .dataframe tbody tr th:only-of-type {\n",
              "        vertical-align: middle;\n",
              "    }\n",
              "\n",
              "    .dataframe tbody tr th {\n",
              "        vertical-align: top;\n",
              "    }\n",
              "\n",
              "    .dataframe thead th {\n",
              "        text-align: right;\n",
              "    }\n",
              "</style>\n",
              "<table border=\"1\" class=\"dataframe\">\n",
              "  <thead>\n",
              "    <tr style=\"text-align: right;\">\n",
              "      <th></th>\n",
              "      <th>Agencia_ID</th>\n",
              "    </tr>\n",
              "  </thead>\n",
              "  <tbody>\n",
              "    <tr>\n",
              "      <th>count</th>\n",
              "      <td>104400.000000</td>\n",
              "    </tr>\n",
              "    <tr>\n",
              "      <th>mean</th>\n",
              "      <td>2494.679454</td>\n",
              "    </tr>\n",
              "    <tr>\n",
              "      <th>std</th>\n",
              "      <td>3965.234218</td>\n",
              "    </tr>\n",
              "    <tr>\n",
              "      <th>min</th>\n",
              "      <td>1110.000000</td>\n",
              "    </tr>\n",
              "    <tr>\n",
              "      <th>25%</th>\n",
              "      <td>1311.000000</td>\n",
              "    </tr>\n",
              "    <tr>\n",
              "      <th>50%</th>\n",
              "      <td>1613.000000</td>\n",
              "    </tr>\n",
              "    <tr>\n",
              "      <th>75%</th>\n",
              "      <td>2036.000000</td>\n",
              "    </tr>\n",
              "    <tr>\n",
              "      <th>max</th>\n",
              "      <td>25759.000000</td>\n",
              "    </tr>\n",
              "  </tbody>\n",
              "</table>\n",
              "</div>"
            ],
            "text/plain": [
              "          Agencia_ID\n",
              "count  104400.000000\n",
              "mean     2494.679454\n",
              "std      3965.234218\n",
              "min      1110.000000\n",
              "25%      1311.000000\n",
              "50%      1613.000000\n",
              "75%      2036.000000\n",
              "max     25759.000000"
            ]
          },
          "metadata": {
            "tags": []
          },
          "execution_count": 63
        }
      ]
    },
    {
      "cell_type": "code",
      "metadata": {
        "id": "3Ak7ti8fO3HQ"
      },
      "source": [
        "cols = [i for i in df_sample.columns if i[-len('Demanda_uni_equil'):] in ['Demanda_uni_equil']]"
      ],
      "execution_count": 64,
      "outputs": []
    },
    {
      "cell_type": "code",
      "metadata": {
        "colab": {
          "base_uri": "https://localhost:8080/",
          "height": 235
        },
        "id": "hNKVo9LFPGCH",
        "outputId": "d961e17d-05c7-4df2-9b58-c18662921b5d"
      },
      "source": [
        "df_sample.loc[:,cols].astype('float').describe().T"
      ],
      "execution_count": 65,
      "outputs": [
        {
          "output_type": "execute_result",
          "data": {
            "text/html": [
              "<div>\n",
              "<style scoped>\n",
              "    .dataframe tbody tr th:only-of-type {\n",
              "        vertical-align: middle;\n",
              "    }\n",
              "\n",
              "    .dataframe tbody tr th {\n",
              "        vertical-align: top;\n",
              "    }\n",
              "\n",
              "    .dataframe thead th {\n",
              "        text-align: right;\n",
              "    }\n",
              "</style>\n",
              "<table border=\"1\" class=\"dataframe\">\n",
              "  <thead>\n",
              "    <tr style=\"text-align: right;\">\n",
              "      <th></th>\n",
              "      <th>count</th>\n",
              "      <th>mean</th>\n",
              "      <th>std</th>\n",
              "      <th>min</th>\n",
              "      <th>25%</th>\n",
              "      <th>50%</th>\n",
              "      <th>75%</th>\n",
              "      <th>max</th>\n",
              "    </tr>\n",
              "  </thead>\n",
              "  <tbody>\n",
              "    <tr>\n",
              "      <th>Demanda_uni_equil</th>\n",
              "      <td>104400.0</td>\n",
              "      <td>7.149416</td>\n",
              "      <td>19.399733</td>\n",
              "      <td>0.0</td>\n",
              "      <td>2.0</td>\n",
              "      <td>3.0</td>\n",
              "      <td>6.0</td>\n",
              "      <td>1500.0</td>\n",
              "    </tr>\n",
              "    <tr>\n",
              "      <th>LAG_1_Cliente_Prod_Demanda_uni_equil</th>\n",
              "      <td>86980.0</td>\n",
              "      <td>7.792067</td>\n",
              "      <td>22.148396</td>\n",
              "      <td>0.0</td>\n",
              "      <td>2.0</td>\n",
              "      <td>4.0</td>\n",
              "      <td>7.0</td>\n",
              "      <td>2560.0</td>\n",
              "    </tr>\n",
              "    <tr>\n",
              "      <th>LAG_2_Cliente_Prod_Demanda_uni_equil</th>\n",
              "      <td>72026.0</td>\n",
              "      <td>8.557618</td>\n",
              "      <td>23.699028</td>\n",
              "      <td>0.0</td>\n",
              "      <td>2.0</td>\n",
              "      <td>4.0</td>\n",
              "      <td>8.0</td>\n",
              "      <td>2480.0</td>\n",
              "    </tr>\n",
              "    <tr>\n",
              "      <th>LAG_3_Cliente_Prod_Demanda_uni_equil</th>\n",
              "      <td>57499.0</td>\n",
              "      <td>9.485661</td>\n",
              "      <td>28.909319</td>\n",
              "      <td>0.0</td>\n",
              "      <td>2.0</td>\n",
              "      <td>4.0</td>\n",
              "      <td>9.0</td>\n",
              "      <td>3840.0</td>\n",
              "    </tr>\n",
              "    <tr>\n",
              "      <th>LAG_4_Cliente_Prod_Demanda_uni_equil</th>\n",
              "      <td>47358.0</td>\n",
              "      <td>10.518265</td>\n",
              "      <td>31.783990</td>\n",
              "      <td>0.0</td>\n",
              "      <td>2.0</td>\n",
              "      <td>5.0</td>\n",
              "      <td>10.0</td>\n",
              "      <td>3960.0</td>\n",
              "    </tr>\n",
              "    <tr>\n",
              "      <th>LAG_5_Cliente_Prod_Demanda_uni_equil</th>\n",
              "      <td>30807.0</td>\n",
              "      <td>12.532606</td>\n",
              "      <td>29.950452</td>\n",
              "      <td>0.0</td>\n",
              "      <td>3.0</td>\n",
              "      <td>5.0</td>\n",
              "      <td>11.5</td>\n",
              "      <td>900.0</td>\n",
              "    </tr>\n",
              "  </tbody>\n",
              "</table>\n",
              "</div>"
            ],
            "text/plain": [
              "                                         count       mean  ...   75%     max\n",
              "Demanda_uni_equil                     104400.0   7.149416  ...   6.0  1500.0\n",
              "LAG_1_Cliente_Prod_Demanda_uni_equil   86980.0   7.792067  ...   7.0  2560.0\n",
              "LAG_2_Cliente_Prod_Demanda_uni_equil   72026.0   8.557618  ...   8.0  2480.0\n",
              "LAG_3_Cliente_Prod_Demanda_uni_equil   57499.0   9.485661  ...   9.0  3840.0\n",
              "LAG_4_Cliente_Prod_Demanda_uni_equil   47358.0  10.518265  ...  10.0  3960.0\n",
              "LAG_5_Cliente_Prod_Demanda_uni_equil   30807.0  12.532606  ...  11.5   900.0\n",
              "\n",
              "[6 rows x 8 columns]"
            ]
          },
          "metadata": {
            "tags": []
          },
          "execution_count": 65
        }
      ]
    },
    {
      "cell_type": "code",
      "metadata": {
        "colab": {
          "base_uri": "https://localhost:8080/",
          "height": 255
        },
        "id": "zCVrdXN4PNNe",
        "outputId": "2d79f29a-6b8a-434b-d292-8ac1e0d9401f"
      },
      "source": [
        "df_sample.loc[:,cols].astype('float').corr()"
      ],
      "execution_count": 67,
      "outputs": [
        {
          "output_type": "execute_result",
          "data": {
            "text/html": [
              "<div>\n",
              "<style scoped>\n",
              "    .dataframe tbody tr th:only-of-type {\n",
              "        vertical-align: middle;\n",
              "    }\n",
              "\n",
              "    .dataframe tbody tr th {\n",
              "        vertical-align: top;\n",
              "    }\n",
              "\n",
              "    .dataframe thead th {\n",
              "        text-align: right;\n",
              "    }\n",
              "</style>\n",
              "<table border=\"1\" class=\"dataframe\">\n",
              "  <thead>\n",
              "    <tr style=\"text-align: right;\">\n",
              "      <th></th>\n",
              "      <th>Demanda_uni_equil</th>\n",
              "      <th>LAG_1_Cliente_Prod_Demanda_uni_equil</th>\n",
              "      <th>LAG_2_Cliente_Prod_Demanda_uni_equil</th>\n",
              "      <th>LAG_3_Cliente_Prod_Demanda_uni_equil</th>\n",
              "      <th>LAG_4_Cliente_Prod_Demanda_uni_equil</th>\n",
              "      <th>LAG_5_Cliente_Prod_Demanda_uni_equil</th>\n",
              "    </tr>\n",
              "  </thead>\n",
              "  <tbody>\n",
              "    <tr>\n",
              "      <th>Demanda_uni_equil</th>\n",
              "      <td>1.000000</td>\n",
              "      <td>0.857074</td>\n",
              "      <td>0.818040</td>\n",
              "      <td>0.823099</td>\n",
              "      <td>0.720053</td>\n",
              "      <td>0.883681</td>\n",
              "    </tr>\n",
              "    <tr>\n",
              "      <th>LAG_1_Cliente_Prod_Demanda_uni_equil</th>\n",
              "      <td>0.857074</td>\n",
              "      <td>1.000000</td>\n",
              "      <td>0.845696</td>\n",
              "      <td>0.884667</td>\n",
              "      <td>0.717754</td>\n",
              "      <td>0.869194</td>\n",
              "    </tr>\n",
              "    <tr>\n",
              "      <th>LAG_2_Cliente_Prod_Demanda_uni_equil</th>\n",
              "      <td>0.818040</td>\n",
              "      <td>0.845696</td>\n",
              "      <td>1.000000</td>\n",
              "      <td>0.844560</td>\n",
              "      <td>0.668249</td>\n",
              "      <td>0.832917</td>\n",
              "    </tr>\n",
              "    <tr>\n",
              "      <th>LAG_3_Cliente_Prod_Demanda_uni_equil</th>\n",
              "      <td>0.823099</td>\n",
              "      <td>0.884667</td>\n",
              "      <td>0.844560</td>\n",
              "      <td>1.000000</td>\n",
              "      <td>0.718513</td>\n",
              "      <td>0.887863</td>\n",
              "    </tr>\n",
              "    <tr>\n",
              "      <th>LAG_4_Cliente_Prod_Demanda_uni_equil</th>\n",
              "      <td>0.720053</td>\n",
              "      <td>0.717754</td>\n",
              "      <td>0.668249</td>\n",
              "      <td>0.718513</td>\n",
              "      <td>1.000000</td>\n",
              "      <td>0.866861</td>\n",
              "    </tr>\n",
              "    <tr>\n",
              "      <th>LAG_5_Cliente_Prod_Demanda_uni_equil</th>\n",
              "      <td>0.883681</td>\n",
              "      <td>0.869194</td>\n",
              "      <td>0.832917</td>\n",
              "      <td>0.887863</td>\n",
              "      <td>0.866861</td>\n",
              "      <td>1.000000</td>\n",
              "    </tr>\n",
              "  </tbody>\n",
              "</table>\n",
              "</div>"
            ],
            "text/plain": [
              "                                      Demanda_uni_equil  ...  LAG_5_Cliente_Prod_Demanda_uni_equil\n",
              "Demanda_uni_equil                              1.000000  ...                              0.883681\n",
              "LAG_1_Cliente_Prod_Demanda_uni_equil           0.857074  ...                              0.869194\n",
              "LAG_2_Cliente_Prod_Demanda_uni_equil           0.818040  ...                              0.832917\n",
              "LAG_3_Cliente_Prod_Demanda_uni_equil           0.823099  ...                              0.887863\n",
              "LAG_4_Cliente_Prod_Demanda_uni_equil           0.720053  ...                              0.866861\n",
              "LAG_5_Cliente_Prod_Demanda_uni_equil           0.883681  ...                              1.000000\n",
              "\n",
              "[6 rows x 6 columns]"
            ]
          },
          "metadata": {
            "tags": []
          },
          "execution_count": 67
        }
      ]
    },
    {
      "cell_type": "code",
      "metadata": {
        "colab": {
          "base_uri": "https://localhost:8080/",
          "height": 770
        },
        "id": "KrS9oUPCPUNL",
        "outputId": "a3612e22-6777-4b3a-a62b-c67cb9a0470c"
      },
      "source": [
        "from string import ascii_letters\n",
        "import numpy as np\n",
        "import pandas as pd\n",
        "import seaborn as sns\n",
        "import matplotlib.pyplot as plt\n",
        "\n",
        "sns.set_theme(style=\"white\")\n",
        "\n",
        "# Generate a large random dataset\n",
        "#rs = np.random.RandomState(33)\n",
        "#d = pd.DataFrame(data=rs.normal(size=(100, 26)),\n",
        "#                 columns=list(ascii_letters[26:]))\n",
        "\n",
        "# Compute the correlation matrix\n",
        "corr = df_sample.loc[:,cols].astype('float').corr()\n",
        "\n",
        "# Generate a mask for the upper triangle\n",
        "mask = np.triu(np.ones_like(corr, dtype=bool))\n",
        "\n",
        "# Set up the matplotlib figure\n",
        "f, ax = plt.subplots(figsize=(11, 9))\n",
        "\n",
        "# Generate a custom diverging colormap\n",
        "cmap = sns.diverging_palette(10, 10, as_cmap=True)\n",
        "\n",
        "# Draw the heatmap with the mask and correct aspect ratio\n",
        "sns.heatmap(corr, mask=mask, cmap=cmap, vmax=1, center=0,annot=True,fmt=\".1f\",\n",
        "            square=True, linewidths=.5, cbar_kws={\"shrink\": .5})"
      ],
      "execution_count": 66,
      "outputs": [
        {
          "output_type": "execute_result",
          "data": {
            "text/plain": [
              "<matplotlib.axes._subplots.AxesSubplot at 0x7f8da6a0a750>"
            ]
          },
          "metadata": {
            "tags": []
          },
          "execution_count": 66
        },
        {
          "output_type": "display_data",
          "data": {
            "image/png": "[encoded data removed]",
            "text/plain": [
              "<Figure size 792x648 with 2 Axes>"
            ]
          },
          "metadata": {
            "tags": []
          }
        }
      ]
    },
    {
      "cell_type": "code",
      "metadata": {
        "id": "QT9rQ9aNPU3u"
      },
      "source": [
        "df = spark.read.format('parquet').load('data/tabelao_over_part2/')\n",
        "df_sample = df.sample(fraction=0.01).toPandas()\n",
        "\n",
        "df_sample.describe()"
      ],
      "execution_count": null,
      "outputs": []
    },
    {
      "cell_type": "code",
      "metadata": {
        "id": "_GxLZ0LfSRDf"
      },
      "source": [
        "from string import ascii_letters\n",
        "import numpy as np\n",
        "import pandas as pd\n",
        "import seaborn as sns\n",
        "import matplotlib.pyplot as plt\n",
        "\n",
        "sns.set_theme(style=\"white\")\n",
        "\n",
        "# Generate a large random dataset\n",
        "#rs = np.random.RandomState(33)\n",
        "#d = pd.DataFrame(data=rs.normal(size=(100, 26)),\n",
        "#                 columns=list(ascii_letters[26:]))\n",
        "\n",
        "# Compute the correlation matrix\n",
        "corr = df_sample.loc[:,cols].astype('float').corr()\n",
        "\n",
        "# Generate a mask for the upper triangle\n",
        "mask = np.triu(np.ones_like(corr, dtype=bool))\n",
        "\n",
        "# Set up the matplotlib figure\n",
        "f, ax = plt.subplots(figsize=(11, 9))\n",
        "\n",
        "# Generate a custom diverging colormap\n",
        "cmap = sns.diverging_palette(10, 10, as_cmap=True)\n",
        "\n",
        "# Draw the heatmap with the mask and correct aspect ratio\n",
        "sns.heatmap(corr, mask=mask, cmap=cmap, vmax=1, center=0,annot=True,fmt=\".1f\",\n",
        "            square=True, linewidths=.5, cbar_kws={\"shrink\": .5})"
      ],
      "execution_count": null,
      "outputs": []
    }
  ]
}