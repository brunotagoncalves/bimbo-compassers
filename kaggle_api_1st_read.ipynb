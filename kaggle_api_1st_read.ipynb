{
  "nbformat": 4,
  "nbformat_minor": 0,
  "metadata": {
    "colab": {
      "name": "Untitled0.ipynb",
      "provenance": [],
      "toc_visible": true,
      "authorship_tag": "ABX9TyNSJpo4SAd5tSAL28ea+I+W",
      "include_colab_link": true
    },
    "kernelspec": {
      "name": "python3",
      "display_name": "Python 3"
    },
    "language_info": {
      "name": "python"
    }
  },
  "cells": [
    {
      "cell_type": "markdown",
      "metadata": {
        "id": "view-in-github",
        "colab_type": "text"
      },
      "source": [
        "<a href=\"https://colab.research.google.com/github/brunotagoncalves/bimbo-compassers/blob/main/kaggle_api_1st_read.ipynb\" target=\"_parent\"><img src=\"https://colab.research.google.com/assets/colab-badge.svg\" alt=\"Open In Colab\"/></a>"
      ]
    },
    {
      "cell_type": "markdown",
      "metadata": {
        "id": "zzFCd_M-Ey6L"
      },
      "source": [
        "# Notebook para Download e Leitura Inicial de Arquivos \n"
      ]
    },
    {
      "cell_type": "markdown",
      "metadata": {
        "id": "ArMBhA_cFN8_"
      },
      "source": [
        "1) Instalação e Download de Arquivos Kaggle"
      ]
    },
    {
      "cell_type": "code",
      "metadata": {
        "id": "Ifkp6R57QRTA",
        "colab": {
          "base_uri": "https://localhost:8080/"
        },
        "outputId": "43dfe59e-1005-469a-acf1-65d0ce0624ce"
      },
      "source": [
        "# Podem  ocorrrer falhas de instalação como lxml, mas isso não atrapalha o restante do código\n",
        "!pip install -q kaggle\n",
        "!pip install -q kaggle-cli"
      ],
      "execution_count": 1,
      "outputs": [
        {
          "output_type": "stream",
          "text": [
            "\u001b[K     |████████████████████████████████| 81kB 2.9MB/s \n",
            "\u001b[K     |████████████████████████████████| 4.2MB 5.9MB/s \n",
            "\u001b[K     |████████████████████████████████| 143kB 42.5MB/s \n",
            "\u001b[K     |████████████████████████████████| 51kB 6.4MB/s \n",
            "\u001b[K     |████████████████████████████████| 112kB 47.8MB/s \n",
            "\u001b[?25h  Building wheel for kaggle-cli (setup.py) ... \u001b[?25l\u001b[?25hdone\n",
            "  Building wheel for lxml (setup.py) ... \u001b[?25lerror\n",
            "\u001b[31m  ERROR: Failed building wheel for lxml\u001b[0m\n",
            "\u001b[?25h  Building wheel for PrettyTable (setup.py) ... \u001b[?25l\u001b[?25hdone\n",
            "  Building wheel for pyperclip (setup.py) ... \u001b[?25l\u001b[?25hdone\n",
            "    Running setup.py install for lxml ... \u001b[?25l\u001b[?25herror\n",
            "\u001b[31mERROR: Command errored out with exit status 1: /usr/bin/python3 -u -c 'import sys, setuptools, tokenize; sys.argv[0] = '\"'\"'/tmp/pip-install-nqmkstxq/lxml/setup.py'\"'\"'; __file__='\"'\"'/tmp/pip-install-nqmkstxq/lxml/setup.py'\"'\"';f=getattr(tokenize, '\"'\"'open'\"'\"', open)(__file__);code=f.read().replace('\"'\"'\\r\\n'\"'\"', '\"'\"'\\n'\"'\"');f.close();exec(compile(code, __file__, '\"'\"'exec'\"'\"'))' install --record /tmp/pip-record-70k6y9p3/install-record.txt --single-version-externally-managed --compile Check the logs for full command output.\u001b[0m\n"
          ],
          "name": "stdout"
        }
      ]
    },
    {
      "cell_type": "code",
      "metadata": {
        "id": "7NLSi0qhN-kG"
      },
      "source": [
        "# Alterando arquivo de config do Kaggle com dados pessoais https://www.kaggle.com/\"username\"/account  crie um token pessoal no botão \"create new api token\"\n",
        "!mkdir ~/.kaggle\n",
        "!echo '{\"username\":\"bruno9tg\",\"key\":\"702cbacb35b74aaf6cf1ac91c6883b5a\"}' > ~/.kaggle/kaggle.json"
      ],
      "execution_count": 2,
      "outputs": []
    },
    {
      "cell_type": "code",
      "metadata": {
        "colab": {
          "base_uri": "https://localhost:8080/"
        },
        "id": "nTx5CyN_KEgG",
        "outputId": "680e19c4-cb2f-4328-a2fc-d0e74fb25b2d"
      },
      "source": [
        "#utiliza api kaggle para realizar download\n",
        "#!kaggle competitions download -c grupo-bimbo-inventory-demand\n",
        "!kaggle competitions download -p data/ grupo-bimbo-inventory-demand"
      ],
      "execution_count": 3,
      "outputs": [
        {
          "output_type": "stream",
          "text": [
            "Warning: Your Kaggle API key is readable by other users on this system! To fix this, you can run 'chmod 600 /root/.kaggle/kaggle.json'\n",
            "Warning: Looks like you're using an outdated API Version, please consider updating (server 1.5.12 / client 1.5.4)\n",
            "Downloading cliente_tabla.csv.zip to data\n",
            "  0% 0.00/5.87M [00:00<?, ?B/s]\n",
            "100% 5.87M/5.87M [00:00<00:00, 97.6MB/s]\n",
            "Downloading sample_submission.csv.zip to data\n",
            " 54% 8.00M/14.8M [00:00<00:00, 80.1MB/s]\n",
            "100% 14.8M/14.8M [00:00<00:00, 94.5MB/s]\n",
            "Downloading town_state.csv.zip to data\n",
            "  0% 0.00/6.35k [00:00<?, ?B/s]\n",
            "100% 6.35k/6.35k [00:00<00:00, 6.60MB/s]\n",
            "Downloading test.csv.zip to data\n",
            " 82% 70.0M/85.8M [00:00<00:00, 135MB/s]\n",
            "100% 85.8M/85.8M [00:00<00:00, 173MB/s]\n",
            "Downloading train.csv.zip to data\n",
            " 96% 356M/373M [00:03<00:00, 173MB/s]\n",
            "100% 373M/373M [00:03<00:00, 121MB/s]\n",
            "Downloading producto_tabla.csv.zip to data\n",
            "  0% 0.00/31.5k [00:00<?, ?B/s]\n",
            "100% 31.5k/31.5k [00:00<00:00, 31.7MB/s]\n"
          ],
          "name": "stdout"
        }
      ]
    },
    {
      "cell_type": "markdown",
      "metadata": {
        "id": "0Zz0TcBlGdvy"
      },
      "source": [
        "2) Leitura básica dos arquivos"
      ]
    },
    {
      "cell_type": "code",
      "metadata": {
        "id": "WOT9kjhoaw0K"
      },
      "source": [
        "import pandas as pd "
      ],
      "execution_count": 4,
      "outputs": []
    },
    {
      "cell_type": "code",
      "metadata": {
        "id": "JHFnciVhi42X",
        "colab": {
          "base_uri": "https://localhost:8080/"
        },
        "outputId": "8f36e288-306b-4bff-cba0-167d2e58ba5c"
      },
      "source": [
        "!ls data/"
      ],
      "execution_count": 5,
      "outputs": [
        {
          "output_type": "stream",
          "text": [
            "cliente_tabla.csv.zip\tsample_submission.csv.zip  town_state.csv.zip\n",
            "producto_tabla.csv.zip\ttest.csv.zip\t\t   train.csv.zip\n"
          ],
          "name": "stdout"
        }
      ]
    },
    {
      "cell_type": "code",
      "metadata": {
        "id": "rcimfzFGiuHo",
        "colab": {
          "base_uri": "https://localhost:8080/",
          "height": 204
        },
        "outputId": "aaf11708-cf9c-495e-f789-86959d2b577b"
      },
      "source": [
        "pd.read_csv('data/cliente_tabla.csv.zip').head()"
      ],
      "execution_count": 6,
      "outputs": [
        {
          "output_type": "execute_result",
          "data": {
            "text/html": [
              "<div>\n",
              "<style scoped>\n",
              "    .dataframe tbody tr th:only-of-type {\n",
              "        vertical-align: middle;\n",
              "    }\n",
              "\n",
              "    .dataframe tbody tr th {\n",
              "        vertical-align: top;\n",
              "    }\n",
              "\n",
              "    .dataframe thead th {\n",
              "        text-align: right;\n",
              "    }\n",
              "</style>\n",
              "<table border=\"1\" class=\"dataframe\">\n",
              "  <thead>\n",
              "    <tr style=\"text-align: right;\">\n",
              "      <th></th>\n",
              "      <th>Cliente_ID</th>\n",
              "      <th>NombreCliente</th>\n",
              "    </tr>\n",
              "  </thead>\n",
              "  <tbody>\n",
              "    <tr>\n",
              "      <th>0</th>\n",
              "      <td>0</td>\n",
              "      <td>SIN NOMBRE</td>\n",
              "    </tr>\n",
              "    <tr>\n",
              "      <th>1</th>\n",
              "      <td>1</td>\n",
              "      <td>OXXO XINANTECATL</td>\n",
              "    </tr>\n",
              "    <tr>\n",
              "      <th>2</th>\n",
              "      <td>2</td>\n",
              "      <td>SIN NOMBRE</td>\n",
              "    </tr>\n",
              "    <tr>\n",
              "      <th>3</th>\n",
              "      <td>3</td>\n",
              "      <td>EL MORENO</td>\n",
              "    </tr>\n",
              "    <tr>\n",
              "      <th>4</th>\n",
              "      <td>4</td>\n",
              "      <td>SDN SER  DE ALIM  CUERPO SA CIA  DE INT</td>\n",
              "    </tr>\n",
              "  </tbody>\n",
              "</table>\n",
              "</div>"
            ],
            "text/plain": [
              "   Cliente_ID                            NombreCliente\n",
              "0           0                               SIN NOMBRE\n",
              "1           1                         OXXO XINANTECATL\n",
              "2           2                               SIN NOMBRE\n",
              "3           3                                EL MORENO\n",
              "4           4  SDN SER  DE ALIM  CUERPO SA CIA  DE INT"
            ]
          },
          "metadata": {
            "tags": []
          },
          "execution_count": 6
        }
      ]
    },
    {
      "cell_type": "code",
      "metadata": {
        "id": "Xw99lcpOi9i_",
        "colab": {
          "base_uri": "https://localhost:8080/",
          "height": 204
        },
        "outputId": "d295b0f7-dec5-4d1b-8157-8b94e05623de"
      },
      "source": [
        "pd.read_csv('data/producto_tabla.csv.zip').head()"
      ],
      "execution_count": 7,
      "outputs": [
        {
          "output_type": "execute_result",
          "data": {
            "text/html": [
              "<div>\n",
              "<style scoped>\n",
              "    .dataframe tbody tr th:only-of-type {\n",
              "        vertical-align: middle;\n",
              "    }\n",
              "\n",
              "    .dataframe tbody tr th {\n",
              "        vertical-align: top;\n",
              "    }\n",
              "\n",
              "    .dataframe thead th {\n",
              "        text-align: right;\n",
              "    }\n",
              "</style>\n",
              "<table border=\"1\" class=\"dataframe\">\n",
              "  <thead>\n",
              "    <tr style=\"text-align: right;\">\n",
              "      <th></th>\n",
              "      <th>Producto_ID</th>\n",
              "      <th>NombreProducto</th>\n",
              "    </tr>\n",
              "  </thead>\n",
              "  <tbody>\n",
              "    <tr>\n",
              "      <th>0</th>\n",
              "      <td>0</td>\n",
              "      <td>NO IDENTIFICADO 0</td>\n",
              "    </tr>\n",
              "    <tr>\n",
              "      <th>1</th>\n",
              "      <td>9</td>\n",
              "      <td>Capuccino Moka 750g NES 9</td>\n",
              "    </tr>\n",
              "    <tr>\n",
              "      <th>2</th>\n",
              "      <td>41</td>\n",
              "      <td>Bimbollos Ext sAjonjoli 6p 480g BIM 41</td>\n",
              "    </tr>\n",
              "    <tr>\n",
              "      <th>3</th>\n",
              "      <td>53</td>\n",
              "      <td>Burritos Sincro 170g CU LON 53</td>\n",
              "    </tr>\n",
              "    <tr>\n",
              "      <th>4</th>\n",
              "      <td>72</td>\n",
              "      <td>Div Tira Mini Doradita 4p 45g TR 72</td>\n",
              "    </tr>\n",
              "  </tbody>\n",
              "</table>\n",
              "</div>"
            ],
            "text/plain": [
              "   Producto_ID                          NombreProducto\n",
              "0            0                       NO IDENTIFICADO 0\n",
              "1            9               Capuccino Moka 750g NES 9\n",
              "2           41  Bimbollos Ext sAjonjoli 6p 480g BIM 41\n",
              "3           53          Burritos Sincro 170g CU LON 53\n",
              "4           72     Div Tira Mini Doradita 4p 45g TR 72"
            ]
          },
          "metadata": {
            "tags": []
          },
          "execution_count": 7
        }
      ]
    },
    {
      "cell_type": "code",
      "metadata": {
        "id": "J2pp7S2xi-qK",
        "colab": {
          "base_uri": "https://localhost:8080/",
          "height": 204
        },
        "outputId": "f5b6bbef-781e-411f-9a40-063b054b76d5"
      },
      "source": [
        "pd.read_csv('data/sample_submission.csv.zip').head()"
      ],
      "execution_count": 8,
      "outputs": [
        {
          "output_type": "execute_result",
          "data": {
            "text/html": [
              "<div>\n",
              "<style scoped>\n",
              "    .dataframe tbody tr th:only-of-type {\n",
              "        vertical-align: middle;\n",
              "    }\n",
              "\n",
              "    .dataframe tbody tr th {\n",
              "        vertical-align: top;\n",
              "    }\n",
              "\n",
              "    .dataframe thead th {\n",
              "        text-align: right;\n",
              "    }\n",
              "</style>\n",
              "<table border=\"1\" class=\"dataframe\">\n",
              "  <thead>\n",
              "    <tr style=\"text-align: right;\">\n",
              "      <th></th>\n",
              "      <th>id</th>\n",
              "      <th>Demanda_uni_equil</th>\n",
              "    </tr>\n",
              "  </thead>\n",
              "  <tbody>\n",
              "    <tr>\n",
              "      <th>0</th>\n",
              "      <td>0</td>\n",
              "      <td>7</td>\n",
              "    </tr>\n",
              "    <tr>\n",
              "      <th>1</th>\n",
              "      <td>1</td>\n",
              "      <td>7</td>\n",
              "    </tr>\n",
              "    <tr>\n",
              "      <th>2</th>\n",
              "      <td>2</td>\n",
              "      <td>7</td>\n",
              "    </tr>\n",
              "    <tr>\n",
              "      <th>3</th>\n",
              "      <td>3</td>\n",
              "      <td>7</td>\n",
              "    </tr>\n",
              "    <tr>\n",
              "      <th>4</th>\n",
              "      <td>4</td>\n",
              "      <td>7</td>\n",
              "    </tr>\n",
              "  </tbody>\n",
              "</table>\n",
              "</div>"
            ],
            "text/plain": [
              "   id  Demanda_uni_equil\n",
              "0   0                  7\n",
              "1   1                  7\n",
              "2   2                  7\n",
              "3   3                  7\n",
              "4   4                  7"
            ]
          },
          "metadata": {
            "tags": []
          },
          "execution_count": 8
        }
      ]
    },
    {
      "cell_type": "code",
      "metadata": {
        "id": "b-YSH5C0inIh",
        "colab": {
          "base_uri": "https://localhost:8080/",
          "height": 204
        },
        "outputId": "f888b359-db04-440d-ae2b-f20a6529450d"
      },
      "source": [
        "pd.read_csv('data/test.csv.zip').head()"
      ],
      "execution_count": 9,
      "outputs": [
        {
          "output_type": "execute_result",
          "data": {
            "text/html": [
              "<div>\n",
              "<style scoped>\n",
              "    .dataframe tbody tr th:only-of-type {\n",
              "        vertical-align: middle;\n",
              "    }\n",
              "\n",
              "    .dataframe tbody tr th {\n",
              "        vertical-align: top;\n",
              "    }\n",
              "\n",
              "    .dataframe thead th {\n",
              "        text-align: right;\n",
              "    }\n",
              "</style>\n",
              "<table border=\"1\" class=\"dataframe\">\n",
              "  <thead>\n",
              "    <tr style=\"text-align: right;\">\n",
              "      <th></th>\n",
              "      <th>id</th>\n",
              "      <th>Semana</th>\n",
              "      <th>Agencia_ID</th>\n",
              "      <th>Canal_ID</th>\n",
              "      <th>Ruta_SAK</th>\n",
              "      <th>Cliente_ID</th>\n",
              "      <th>Producto_ID</th>\n",
              "    </tr>\n",
              "  </thead>\n",
              "  <tbody>\n",
              "    <tr>\n",
              "      <th>0</th>\n",
              "      <td>0</td>\n",
              "      <td>11</td>\n",
              "      <td>4037</td>\n",
              "      <td>1</td>\n",
              "      <td>2209</td>\n",
              "      <td>4639078</td>\n",
              "      <td>35305</td>\n",
              "    </tr>\n",
              "    <tr>\n",
              "      <th>1</th>\n",
              "      <td>1</td>\n",
              "      <td>11</td>\n",
              "      <td>2237</td>\n",
              "      <td>1</td>\n",
              "      <td>1226</td>\n",
              "      <td>4705135</td>\n",
              "      <td>1238</td>\n",
              "    </tr>\n",
              "    <tr>\n",
              "      <th>2</th>\n",
              "      <td>2</td>\n",
              "      <td>10</td>\n",
              "      <td>2045</td>\n",
              "      <td>1</td>\n",
              "      <td>2831</td>\n",
              "      <td>4549769</td>\n",
              "      <td>32940</td>\n",
              "    </tr>\n",
              "    <tr>\n",
              "      <th>3</th>\n",
              "      <td>3</td>\n",
              "      <td>11</td>\n",
              "      <td>1227</td>\n",
              "      <td>1</td>\n",
              "      <td>4448</td>\n",
              "      <td>4717855</td>\n",
              "      <td>43066</td>\n",
              "    </tr>\n",
              "    <tr>\n",
              "      <th>4</th>\n",
              "      <td>4</td>\n",
              "      <td>11</td>\n",
              "      <td>1219</td>\n",
              "      <td>1</td>\n",
              "      <td>1130</td>\n",
              "      <td>966351</td>\n",
              "      <td>1277</td>\n",
              "    </tr>\n",
              "  </tbody>\n",
              "</table>\n",
              "</div>"
            ],
            "text/plain": [
              "   id  Semana  Agencia_ID  Canal_ID  Ruta_SAK  Cliente_ID  Producto_ID\n",
              "0   0      11        4037         1      2209     4639078        35305\n",
              "1   1      11        2237         1      1226     4705135         1238\n",
              "2   2      10        2045         1      2831     4549769        32940\n",
              "3   3      11        1227         1      4448     4717855        43066\n",
              "4   4      11        1219         1      1130      966351         1277"
            ]
          },
          "metadata": {
            "tags": []
          },
          "execution_count": 9
        }
      ]
    },
    {
      "cell_type": "code",
      "metadata": {
        "id": "JtMOC8cRjMYW",
        "colab": {
          "base_uri": "https://localhost:8080/",
          "height": 204
        },
        "outputId": "88e73adf-6dc0-406b-839a-f397fb4df5c3"
      },
      "source": [
        "pd.read_csv('data/town_state.csv.zip').head()"
      ],
      "execution_count": 10,
      "outputs": [
        {
          "output_type": "execute_result",
          "data": {
            "text/html": [
              "<div>\n",
              "<style scoped>\n",
              "    .dataframe tbody tr th:only-of-type {\n",
              "        vertical-align: middle;\n",
              "    }\n",
              "\n",
              "    .dataframe tbody tr th {\n",
              "        vertical-align: top;\n",
              "    }\n",
              "\n",
              "    .dataframe thead th {\n",
              "        text-align: right;\n",
              "    }\n",
              "</style>\n",
              "<table border=\"1\" class=\"dataframe\">\n",
              "  <thead>\n",
              "    <tr style=\"text-align: right;\">\n",
              "      <th></th>\n",
              "      <th>Agencia_ID</th>\n",
              "      <th>Town</th>\n",
              "      <th>State</th>\n",
              "    </tr>\n",
              "  </thead>\n",
              "  <tbody>\n",
              "    <tr>\n",
              "      <th>0</th>\n",
              "      <td>1110</td>\n",
              "      <td>2008 AG. LAGO FILT</td>\n",
              "      <td>MÉXICO, D.F.</td>\n",
              "    </tr>\n",
              "    <tr>\n",
              "      <th>1</th>\n",
              "      <td>1111</td>\n",
              "      <td>2002 AG. AZCAPOTZALCO</td>\n",
              "      <td>MÉXICO, D.F.</td>\n",
              "    </tr>\n",
              "    <tr>\n",
              "      <th>2</th>\n",
              "      <td>1112</td>\n",
              "      <td>2004 AG. CUAUTITLAN</td>\n",
              "      <td>ESTADO DE MÉXICO</td>\n",
              "    </tr>\n",
              "    <tr>\n",
              "      <th>3</th>\n",
              "      <td>1113</td>\n",
              "      <td>2008 AG. LAGO FILT</td>\n",
              "      <td>MÉXICO, D.F.</td>\n",
              "    </tr>\n",
              "    <tr>\n",
              "      <th>4</th>\n",
              "      <td>1114</td>\n",
              "      <td>2029 AG.IZTAPALAPA 2</td>\n",
              "      <td>MÉXICO, D.F.</td>\n",
              "    </tr>\n",
              "  </tbody>\n",
              "</table>\n",
              "</div>"
            ],
            "text/plain": [
              "   Agencia_ID                   Town             State\n",
              "0        1110     2008 AG. LAGO FILT      MÉXICO, D.F.\n",
              "1        1111  2002 AG. AZCAPOTZALCO      MÉXICO, D.F.\n",
              "2        1112    2004 AG. CUAUTITLAN  ESTADO DE MÉXICO\n",
              "3        1113     2008 AG. LAGO FILT      MÉXICO, D.F.\n",
              "4        1114   2029 AG.IZTAPALAPA 2      MÉXICO, D.F."
            ]
          },
          "metadata": {
            "tags": []
          },
          "execution_count": 10
        }
      ]
    },
    {
      "cell_type": "code",
      "metadata": {
        "id": "y4UQ_viXjWSK",
        "colab": {
          "base_uri": "https://localhost:8080/",
          "height": 419
        },
        "outputId": "1e5bbed3-229d-4aa5-ee57-8184d467996c"
      },
      "source": [
        "# Para os dados de treino o volume já excede a memoria do Colab usar a função iterator se faz necessário.\n",
        "sample_train = pd.read_csv('data/train.csv.zip', nrows=1000)\n",
        "sample_train"
      ],
      "execution_count": 11,
      "outputs": [
        {
          "output_type": "execute_result",
          "data": {
            "text/html": [
              "<div>\n",
              "<style scoped>\n",
              "    .dataframe tbody tr th:only-of-type {\n",
              "        vertical-align: middle;\n",
              "    }\n",
              "\n",
              "    .dataframe tbody tr th {\n",
              "        vertical-align: top;\n",
              "    }\n",
              "\n",
              "    .dataframe thead th {\n",
              "        text-align: right;\n",
              "    }\n",
              "</style>\n",
              "<table border=\"1\" class=\"dataframe\">\n",
              "  <thead>\n",
              "    <tr style=\"text-align: right;\">\n",
              "      <th></th>\n",
              "      <th>Semana</th>\n",
              "      <th>Agencia_ID</th>\n",
              "      <th>Canal_ID</th>\n",
              "      <th>Ruta_SAK</th>\n",
              "      <th>Cliente_ID</th>\n",
              "      <th>Producto_ID</th>\n",
              "      <th>Venta_uni_hoy</th>\n",
              "      <th>Venta_hoy</th>\n",
              "      <th>Dev_uni_proxima</th>\n",
              "      <th>Dev_proxima</th>\n",
              "      <th>Demanda_uni_equil</th>\n",
              "    </tr>\n",
              "  </thead>\n",
              "  <tbody>\n",
              "    <tr>\n",
              "      <th>0</th>\n",
              "      <td>3</td>\n",
              "      <td>1110</td>\n",
              "      <td>7</td>\n",
              "      <td>3301</td>\n",
              "      <td>15766</td>\n",
              "      <td>1212</td>\n",
              "      <td>3</td>\n",
              "      <td>25.14</td>\n",
              "      <td>0</td>\n",
              "      <td>0.0</td>\n",
              "      <td>3</td>\n",
              "    </tr>\n",
              "    <tr>\n",
              "      <th>1</th>\n",
              "      <td>3</td>\n",
              "      <td>1110</td>\n",
              "      <td>7</td>\n",
              "      <td>3301</td>\n",
              "      <td>15766</td>\n",
              "      <td>1216</td>\n",
              "      <td>4</td>\n",
              "      <td>33.52</td>\n",
              "      <td>0</td>\n",
              "      <td>0.0</td>\n",
              "      <td>4</td>\n",
              "    </tr>\n",
              "    <tr>\n",
              "      <th>2</th>\n",
              "      <td>3</td>\n",
              "      <td>1110</td>\n",
              "      <td>7</td>\n",
              "      <td>3301</td>\n",
              "      <td>15766</td>\n",
              "      <td>1238</td>\n",
              "      <td>4</td>\n",
              "      <td>39.32</td>\n",
              "      <td>0</td>\n",
              "      <td>0.0</td>\n",
              "      <td>4</td>\n",
              "    </tr>\n",
              "    <tr>\n",
              "      <th>3</th>\n",
              "      <td>3</td>\n",
              "      <td>1110</td>\n",
              "      <td>7</td>\n",
              "      <td>3301</td>\n",
              "      <td>15766</td>\n",
              "      <td>1240</td>\n",
              "      <td>4</td>\n",
              "      <td>33.52</td>\n",
              "      <td>0</td>\n",
              "      <td>0.0</td>\n",
              "      <td>4</td>\n",
              "    </tr>\n",
              "    <tr>\n",
              "      <th>4</th>\n",
              "      <td>3</td>\n",
              "      <td>1110</td>\n",
              "      <td>7</td>\n",
              "      <td>3301</td>\n",
              "      <td>15766</td>\n",
              "      <td>1242</td>\n",
              "      <td>3</td>\n",
              "      <td>22.92</td>\n",
              "      <td>0</td>\n",
              "      <td>0.0</td>\n",
              "      <td>3</td>\n",
              "    </tr>\n",
              "    <tr>\n",
              "      <th>...</th>\n",
              "      <td>...</td>\n",
              "      <td>...</td>\n",
              "      <td>...</td>\n",
              "      <td>...</td>\n",
              "      <td>...</td>\n",
              "      <td>...</td>\n",
              "      <td>...</td>\n",
              "      <td>...</td>\n",
              "      <td>...</td>\n",
              "      <td>...</td>\n",
              "      <td>...</td>\n",
              "    </tr>\n",
              "    <tr>\n",
              "      <th>995</th>\n",
              "      <td>3</td>\n",
              "      <td>1110</td>\n",
              "      <td>7</td>\n",
              "      <td>3303</td>\n",
              "      <td>1453543</td>\n",
              "      <td>1250</td>\n",
              "      <td>25</td>\n",
              "      <td>191.00</td>\n",
              "      <td>0</td>\n",
              "      <td>0.0</td>\n",
              "      <td>25</td>\n",
              "    </tr>\n",
              "    <tr>\n",
              "      <th>996</th>\n",
              "      <td>3</td>\n",
              "      <td>1110</td>\n",
              "      <td>7</td>\n",
              "      <td>3303</td>\n",
              "      <td>1453543</td>\n",
              "      <td>1309</td>\n",
              "      <td>6</td>\n",
              "      <td>40.56</td>\n",
              "      <td>0</td>\n",
              "      <td>0.0</td>\n",
              "      <td>6</td>\n",
              "    </tr>\n",
              "    <tr>\n",
              "      <th>997</th>\n",
              "      <td>3</td>\n",
              "      <td>1110</td>\n",
              "      <td>7</td>\n",
              "      <td>3303</td>\n",
              "      <td>1453543</td>\n",
              "      <td>3270</td>\n",
              "      <td>1</td>\n",
              "      <td>10.47</td>\n",
              "      <td>0</td>\n",
              "      <td>0.0</td>\n",
              "      <td>1</td>\n",
              "    </tr>\n",
              "    <tr>\n",
              "      <th>998</th>\n",
              "      <td>3</td>\n",
              "      <td>1110</td>\n",
              "      <td>7</td>\n",
              "      <td>3303</td>\n",
              "      <td>1453543</td>\n",
              "      <td>4270</td>\n",
              "      <td>2</td>\n",
              "      <td>16.76</td>\n",
              "      <td>0</td>\n",
              "      <td>0.0</td>\n",
              "      <td>2</td>\n",
              "    </tr>\n",
              "    <tr>\n",
              "      <th>999</th>\n",
              "      <td>3</td>\n",
              "      <td>1110</td>\n",
              "      <td>7</td>\n",
              "      <td>3303</td>\n",
              "      <td>1453543</td>\n",
              "      <td>4280</td>\n",
              "      <td>6</td>\n",
              "      <td>36.00</td>\n",
              "      <td>0</td>\n",
              "      <td>0.0</td>\n",
              "      <td>6</td>\n",
              "    </tr>\n",
              "  </tbody>\n",
              "</table>\n",
              "<p>1000 rows × 11 columns</p>\n",
              "</div>"
            ],
            "text/plain": [
              "     Semana  Agencia_ID  ...  Dev_proxima  Demanda_uni_equil\n",
              "0         3        1110  ...          0.0                  3\n",
              "1         3        1110  ...          0.0                  4\n",
              "2         3        1110  ...          0.0                  4\n",
              "3         3        1110  ...          0.0                  4\n",
              "4         3        1110  ...          0.0                  3\n",
              "..      ...         ...  ...          ...                ...\n",
              "995       3        1110  ...          0.0                 25\n",
              "996       3        1110  ...          0.0                  6\n",
              "997       3        1110  ...          0.0                  1\n",
              "998       3        1110  ...          0.0                  2\n",
              "999       3        1110  ...          0.0                  6\n",
              "\n",
              "[1000 rows x 11 columns]"
            ]
          },
          "metadata": {
            "tags": []
          },
          "execution_count": 11
        }
      ]
    },
    {
      "cell_type": "markdown",
      "metadata": {
        "id": "dWohvoKFG05J"
      },
      "source": [
        "3) Instalação de Leitura com SPARK"
      ]
    },
    {
      "cell_type": "code",
      "metadata": {
        "id": "5mqJsjaUkBsN",
        "colab": {
          "base_uri": "https://localhost:8080/"
        },
        "outputId": "e4f8f7ff-4e09-4f5c-cca1-adc562259bdc"
      },
      "source": [
        "!apt-get install openjdk-8-jdk-headless -qq > /dev/null\n",
        "#!wget http://www-eu.apache.org/dist/spark/spark-2.4.8/spark-2.4.8-bin-hadoop2.7.tgz \n",
        "!wget -P spark_tgz/ http://www-eu.apache.org/dist/spark/spark-2.4.8/spark-2.4.8-bin-hadoop2.7.tgz "
      ],
      "execution_count": 12,
      "outputs": [
        {
          "output_type": "stream",
          "text": [
            "--2021-06-02 01:57:44--  http://www-eu.apache.org/dist/spark/spark-2.4.8/spark-2.4.8-bin-hadoop2.7.tgz\n",
            "Resolving www-eu.apache.org (www-eu.apache.org)... 95.216.26.30, 2a01:4f9:2a:1a61::2\n",
            "Connecting to www-eu.apache.org (www-eu.apache.org)|95.216.26.30|:80... connected.\n",
            "HTTP request sent, awaiting response... 302 Found\n",
            "Location: https://downloads.apache.org/spark/spark-2.4.8/spark-2.4.8-bin-hadoop2.7.tgz [following]\n",
            "--2021-06-02 01:57:45--  https://downloads.apache.org/spark/spark-2.4.8/spark-2.4.8-bin-hadoop2.7.tgz\n",
            "Resolving downloads.apache.org (downloads.apache.org)... 88.99.95.219, 135.181.209.10, 135.181.214.104, ...\n",
            "Connecting to downloads.apache.org (downloads.apache.org)|88.99.95.219|:443... connected.\n",
            "HTTP request sent, awaiting response... 200 OK\n",
            "Length: 235899716 (225M) [application/x-gzip]\n",
            "Saving to: ‘spark_tgz/spark-2.4.8-bin-hadoop2.7.tgz’\n",
            "\n",
            "spark-2.4.8-bin-had 100%[===================>] 224.97M  26.6MB/s    in 9.4s    \n",
            "\n",
            "2021-06-02 01:57:54 (24.0 MB/s) - ‘spark_tgz/spark-2.4.8-bin-hadoop2.7.tgz’ saved [235899716/235899716]\n",
            "\n"
          ],
          "name": "stdout"
        }
      ]
    },
    {
      "cell_type": "code",
      "metadata": {
        "id": "yjYuiDedm2wX",
        "colab": {
          "base_uri": "https://localhost:8080/"
        },
        "outputId": "dd1a1b27-a291-4c79-d2d8-d67c2ba13bc2"
      },
      "source": [
        "!tar -xf spark_tgz/spark-2.4.8-bin-hadoop2.7.tgz -C spark_tgz/\n",
        "!pip install -q findspark\n",
        "!pip install -q pyspark"
      ],
      "execution_count": 13,
      "outputs": [
        {
          "output_type": "stream",
          "text": [
            "\u001b[K     |████████████████████████████████| 212.4MB 67kB/s \n",
            "\u001b[K     |████████████████████████████████| 204kB 22.3MB/s \n",
            "\u001b[?25h  Building wheel for pyspark (setup.py) ... \u001b[?25l\u001b[?25hdone\n"
          ],
          "name": "stdout"
        }
      ]
    },
    {
      "cell_type": "code",
      "metadata": {
        "id": "FdID4xtSEQFt"
      },
      "source": [
        "import os\n",
        "os.environ[\"JAVA_HOME\"] = \"/usr/lib/jvm/java-8-openjdk-amd64\"\n",
        "os.environ[\"SPARK_HOME\"] = \"/content/spark_tgz/spark-2.4.8-bin-hadoop2.7\""
      ],
      "execution_count": 14,
      "outputs": []
    },
    {
      "cell_type": "code",
      "metadata": {
        "id": "wgxq4vxoESoj"
      },
      "source": [
        "import findspark\n",
        "findspark.init()\n",
        "from pyspark.sql import SparkSession\n",
        "spark = SparkSession.builder.master(\"local[*]\").getOrCreate()"
      ],
      "execution_count": 15,
      "outputs": []
    },
    {
      "cell_type": "code",
      "metadata": {
        "colab": {
          "base_uri": "https://localhost:8080/"
        },
        "id": "HEoLPI7HPmk7",
        "outputId": "d949cfd8-65ad-4aba-b61f-20eccf1c15f1"
      },
      "source": [
        "!unzip 'data/*.zip' -d 'data/'"
      ],
      "execution_count": 19,
      "outputs": [
        {
          "output_type": "stream",
          "text": [
            "Archive:  data/producto_tabla.csv.zip\n",
            "  inflating: data/producto_tabla.csv  \n",
            "\n",
            "Archive:  data/cliente_tabla.csv.zip\n",
            "  inflating: data/cliente_tabla.csv  \n",
            "\n",
            "Archive:  data/sample_submission.csv.zip\n",
            "  inflating: data/sample_submission.csv  \n",
            "\n",
            "Archive:  data/train.csv.zip\n",
            "  inflating: data/train.csv          \n",
            "\n",
            "Archive:  data/town_state.csv.zip\n",
            "  inflating: data/town_state.csv     \n",
            "\n",
            "Archive:  data/test.csv.zip\n",
            "  inflating: data/test.csv           \n",
            "\n",
            "6 archives were successfully processed.\n"
          ],
          "name": "stdout"
        }
      ]
    },
    {
      "cell_type": "code",
      "metadata": {
        "id": "_Duqk9_nEVoR"
      },
      "source": [
        "df = spark.read.format('csv').option(\"header\", \"True\").load(\"data/train.csv\")"
      ],
      "execution_count": 20,
      "outputs": []
    },
    {
      "cell_type": "code",
      "metadata": {
        "id": "Erpmkg9BEg4N",
        "colab": {
          "base_uri": "https://localhost:8080/"
        },
        "outputId": "02d5ac29-e48d-433b-b76a-a583a4dddb67"
      },
      "source": [
        "%%time\n",
        "df.count()"
      ],
      "execution_count": 21,
      "outputs": [
        {
          "output_type": "stream",
          "text": [
            "CPU times: user 163 ms, sys: 13 ms, total: 176 ms\n",
            "Wall time: 31.7 s\n"
          ],
          "name": "stdout"
        },
        {
          "output_type": "execute_result",
          "data": {
            "text/plain": [
              "74180464"
            ]
          },
          "metadata": {
            "tags": []
          },
          "execution_count": 21
        }
      ]
    },
    {
      "cell_type": "code",
      "metadata": {
        "id": "wlaczNWeHQ3U"
      },
      "source": [
        "\n",
        "g_df_Semana= df.groupBy('Semana').count().toPandas()"
      ],
      "execution_count": 22,
      "outputs": []
    },
    {
      "cell_type": "code",
      "metadata": {
        "id": "IcEeZU7OKv4R"
      },
      "source": [
        "g_df_Semana.loc[:,'percent'] = g_df_Semana['count']/g_df_Semana['count'].sum()"
      ],
      "execution_count": 23,
      "outputs": []
    },
    {
      "cell_type": "code",
      "metadata": {
        "id": "jJolwZr9K-q9",
        "colab": {
          "base_uri": "https://localhost:8080/",
          "height": 266
        },
        "outputId": "b32f1d05-d392-4746-8dab-8ade9b9238e5"
      },
      "source": [
        "g_df_Semana.sort_values('Semana')"
      ],
      "execution_count": 24,
      "outputs": [
        {
          "output_type": "execute_result",
          "data": {
            "text/html": [
              "<div>\n",
              "<style scoped>\n",
              "    .dataframe tbody tr th:only-of-type {\n",
              "        vertical-align: middle;\n",
              "    }\n",
              "\n",
              "    .dataframe tbody tr th {\n",
              "        vertical-align: top;\n",
              "    }\n",
              "\n",
              "    .dataframe thead th {\n",
              "        text-align: right;\n",
              "    }\n",
              "</style>\n",
              "<table border=\"1\" class=\"dataframe\">\n",
              "  <thead>\n",
              "    <tr style=\"text-align: right;\">\n",
              "      <th></th>\n",
              "      <th>Semana</th>\n",
              "      <th>count</th>\n",
              "      <th>percent</th>\n",
              "    </tr>\n",
              "  </thead>\n",
              "  <tbody>\n",
              "    <tr>\n",
              "      <th>1</th>\n",
              "      <td>3</td>\n",
              "      <td>11165207</td>\n",
              "      <td>0.150514</td>\n",
              "    </tr>\n",
              "    <tr>\n",
              "      <th>6</th>\n",
              "      <td>4</td>\n",
              "      <td>11009593</td>\n",
              "      <td>0.148416</td>\n",
              "    </tr>\n",
              "    <tr>\n",
              "      <th>3</th>\n",
              "      <td>5</td>\n",
              "      <td>10615397</td>\n",
              "      <td>0.143102</td>\n",
              "    </tr>\n",
              "    <tr>\n",
              "      <th>4</th>\n",
              "      <td>6</td>\n",
              "      <td>10191837</td>\n",
              "      <td>0.137392</td>\n",
              "    </tr>\n",
              "    <tr>\n",
              "      <th>0</th>\n",
              "      <td>7</td>\n",
              "      <td>10382849</td>\n",
              "      <td>0.139967</td>\n",
              "    </tr>\n",
              "    <tr>\n",
              "      <th>2</th>\n",
              "      <td>8</td>\n",
              "      <td>10406868</td>\n",
              "      <td>0.140291</td>\n",
              "    </tr>\n",
              "    <tr>\n",
              "      <th>5</th>\n",
              "      <td>9</td>\n",
              "      <td>10408713</td>\n",
              "      <td>0.140316</td>\n",
              "    </tr>\n",
              "  </tbody>\n",
              "</table>\n",
              "</div>"
            ],
            "text/plain": [
              "  Semana     count   percent\n",
              "1      3  11165207  0.150514\n",
              "6      4  11009593  0.148416\n",
              "3      5  10615397  0.143102\n",
              "4      6  10191837  0.137392\n",
              "0      7  10382849  0.139967\n",
              "2      8  10406868  0.140291\n",
              "5      9  10408713  0.140316"
            ]
          },
          "metadata": {
            "tags": []
          },
          "execution_count": 24
        }
      ]
    },
    {
      "cell_type": "markdown",
      "metadata": {
        "id": "WURAUf6LN_Kr"
      },
      "source": [
        "# Relacionando tabelas "
      ]
    },
    {
      "cell_type": "code",
      "metadata": {
        "colab": {
          "base_uri": "https://localhost:8080/"
        },
        "id": "_YqIaONmepxL",
        "outputId": "d50bb5f5-10a5-4b88-b9d2-911b8d3daa0a"
      },
      "source": [
        "!ls data/*.csv"
      ],
      "execution_count": 25,
      "outputs": [
        {
          "output_type": "stream",
          "text": [
            "data/cliente_tabla.csv\t data/sample_submission.csv  data/town_state.csv\n",
            "data/producto_tabla.csv  data/test.csv\t\t     data/train.csv\n"
          ],
          "name": "stdout"
        }
      ]
    },
    {
      "cell_type": "code",
      "metadata": {
        "id": "a8re0pvRQbhD"
      },
      "source": [
        "spark.read.format('csv').option(\"header\", \"True\").load(\"data/cliente_tabla.csv\").createOrReplaceTempView('cliente_tabla') \n",
        "spark.read.format('csv').option(\"header\", \"True\").load(\"data/sample_submission.csv\").createOrReplaceTempView('sample_submission') \n",
        "spark.read.format('csv').option(\"header\", \"True\").load(\"data/town_state.csv\").createOrReplaceTempView('town_state') \n",
        "spark.read.format('csv').option(\"header\", \"True\").load(\"data/producto_tabla.csv\").createOrReplaceTempView('producto_tabla') \n",
        "spark.read.format('csv').option(\"header\", \"True\").load(\"data/test.csv\").createOrReplaceTempView('test') \n",
        "spark.read.format('csv').option(\"header\", \"True\").load(\"data/train.csv\").createOrReplaceTempView('train') "
      ],
      "execution_count": 26,
      "outputs": []
    },
    {
      "cell_type": "code",
      "metadata": {
        "colab": {
          "base_uri": "https://localhost:8080/"
        },
        "id": "pyS_FC91nhHM",
        "outputId": "1787b653-9cbe-42fd-f145-eddd74825fba"
      },
      "source": [
        "spark.read.format('csv').option(\"header\", \"True\").load(\"data/train.csv\").sample(fraction=0.005).count()#createOrReplaceTempView('train') "
      ],
      "execution_count": 33,
      "outputs": [
        {
          "output_type": "execute_result",
          "data": {
            "text/plain": [
              "370146"
            ]
          },
          "metadata": {
            "tags": []
          },
          "execution_count": 33
        }
      ]
    },
    {
      "cell_type": "code",
      "metadata": {
        "id": "Yz4s2HYkoO0i"
      },
      "source": [
        "spark.read.format('csv').option(\"header\", \"True\").load(\"data/train.csv\").sample(fraction=0.001).createOrReplaceTempView('train')# peguei uma amostra para agilizar o processamento em dev"
      ],
      "execution_count": 34,
      "outputs": []
    },
    {
      "cell_type": "code",
      "metadata": {
        "colab": {
          "base_uri": "https://localhost:8080/",
          "height": 702
        },
        "id": "B3tNa6kLf-4z",
        "outputId": "6f6d4d83-ada5-48fc-8615-1ca4eb8d9306"
      },
      "source": [
        "spark.sql(\"\"\"\n",
        "SELECT train.*\n",
        "  , cliente_tabla.NombreCliente \n",
        "  , producto_tabla.NombreProducto\n",
        "  , town_state.Town\n",
        "  , town_state.State\n",
        "FROM train\n",
        "LEFT JOIN cliente_tabla \n",
        "  on train.Cliente_ID = cliente_tabla.Cliente_ID\n",
        "LEFT JOIN producto_tabla\n",
        "  on train.Producto_ID = producto_tabla.Producto_ID\n",
        "LEFT JOIN town_state\n",
        "  on train.Agencia_ID = town_state.Agencia_ID  \n",
        "\"\"\").limit(10).toPandas() "
      ],
      "execution_count": 39,
      "outputs": [
        {
          "output_type": "execute_result",
          "data": {
            "text/html": [
              "<div>\n",
              "<style scoped>\n",
              "    .dataframe tbody tr th:only-of-type {\n",
              "        vertical-align: middle;\n",
              "    }\n",
              "\n",
              "    .dataframe tbody tr th {\n",
              "        vertical-align: top;\n",
              "    }\n",
              "\n",
              "    .dataframe thead th {\n",
              "        text-align: right;\n",
              "    }\n",
              "</style>\n",
              "<table border=\"1\" class=\"dataframe\">\n",
              "  <thead>\n",
              "    <tr style=\"text-align: right;\">\n",
              "      <th></th>\n",
              "      <th>Semana</th>\n",
              "      <th>Agencia_ID</th>\n",
              "      <th>Canal_ID</th>\n",
              "      <th>Ruta_SAK</th>\n",
              "      <th>Cliente_ID</th>\n",
              "      <th>Producto_ID</th>\n",
              "      <th>Venta_uni_hoy</th>\n",
              "      <th>Venta_hoy</th>\n",
              "      <th>Dev_uni_proxima</th>\n",
              "      <th>Dev_proxima</th>\n",
              "      <th>Demanda_uni_equil</th>\n",
              "      <th>NombreCliente</th>\n",
              "      <th>NombreProducto</th>\n",
              "      <th>Town</th>\n",
              "      <th>State</th>\n",
              "    </tr>\n",
              "  </thead>\n",
              "  <tbody>\n",
              "    <tr>\n",
              "      <th>0</th>\n",
              "      <td>3</td>\n",
              "      <td>1310</td>\n",
              "      <td>1</td>\n",
              "      <td>2102</td>\n",
              "      <td>100768</td>\n",
              "      <td>31514</td>\n",
              "      <td>4</td>\n",
              "      <td>39.96</td>\n",
              "      <td>0</td>\n",
              "      <td>0.0</td>\n",
              "      <td>4</td>\n",
              "      <td>SERGIO VELASCO TORRES</td>\n",
              "      <td>Polvorones Tubo 18p 250g SP MTB MLA 31514</td>\n",
              "      <td>2260 GONZALEZ GALLO</td>\n",
              "      <td>JALISCO</td>\n",
              "    </tr>\n",
              "    <tr>\n",
              "      <th>1</th>\n",
              "      <td>6</td>\n",
              "      <td>1310</td>\n",
              "      <td>1</td>\n",
              "      <td>1154</td>\n",
              "      <td>101021</td>\n",
              "      <td>35651</td>\n",
              "      <td>21</td>\n",
              "      <td>157.5</td>\n",
              "      <td>0</td>\n",
              "      <td>0.0</td>\n",
              "      <td>21</td>\n",
              "      <td>PATRICIA HUERTA DIAZ</td>\n",
              "      <td>Madalenas 3p 93g BIM 35651</td>\n",
              "      <td>2260 GONZALEZ GALLO</td>\n",
              "      <td>JALISCO</td>\n",
              "    </tr>\n",
              "    <tr>\n",
              "      <th>2</th>\n",
              "      <td>7</td>\n",
              "      <td>1310</td>\n",
              "      <td>1</td>\n",
              "      <td>1154</td>\n",
              "      <td>101021</td>\n",
              "      <td>1216</td>\n",
              "      <td>1</td>\n",
              "      <td>8.38</td>\n",
              "      <td>0</td>\n",
              "      <td>0.0</td>\n",
              "      <td>1</td>\n",
              "      <td>PATRICIA HUERTA DIAZ</td>\n",
              "      <td>Roles Glass 2p 135g BIM 1216</td>\n",
              "      <td>2260 GONZALEZ GALLO</td>\n",
              "      <td>JALISCO</td>\n",
              "    </tr>\n",
              "    <tr>\n",
              "      <th>3</th>\n",
              "      <td>4</td>\n",
              "      <td>1912</td>\n",
              "      <td>1</td>\n",
              "      <td>1007</td>\n",
              "      <td>101261</td>\n",
              "      <td>3631</td>\n",
              "      <td>6</td>\n",
              "      <td>98.1</td>\n",
              "      <td>0</td>\n",
              "      <td>0.0</td>\n",
              "      <td>6</td>\n",
              "      <td>MARIA EDUVIGES ROMERO MARTINEZ</td>\n",
              "      <td>Pan Integral 370g BIM 3631</td>\n",
              "      <td>2294 GUADALAJARA</td>\n",
              "      <td>JALISCO</td>\n",
              "    </tr>\n",
              "    <tr>\n",
              "      <th>4</th>\n",
              "      <td>7</td>\n",
              "      <td>1310</td>\n",
              "      <td>1</td>\n",
              "      <td>1179</td>\n",
              "      <td>102539</td>\n",
              "      <td>1220</td>\n",
              "      <td>1</td>\n",
              "      <td>7.64</td>\n",
              "      <td>0</td>\n",
              "      <td>0.0</td>\n",
              "      <td>1</td>\n",
              "      <td>LA 70</td>\n",
              "      <td>Colchones 6p 130g BIM 1220</td>\n",
              "      <td>2260 GONZALEZ GALLO</td>\n",
              "      <td>JALISCO</td>\n",
              "    </tr>\n",
              "    <tr>\n",
              "      <th>5</th>\n",
              "      <td>6</td>\n",
              "      <td>1474</td>\n",
              "      <td>4</td>\n",
              "      <td>4902</td>\n",
              "      <td>1027644</td>\n",
              "      <td>43204</td>\n",
              "      <td>2</td>\n",
              "      <td>15.4</td>\n",
              "      <td>0</td>\n",
              "      <td>0.0</td>\n",
              "      <td>2</td>\n",
              "      <td>FARMACIA GUADALAJARA LAGOS</td>\n",
              "      <td>Donas Azucar 4p 105g MTA BIM 43204</td>\n",
              "      <td>2477 SALTILLO BIMBO</td>\n",
              "      <td>COAHUILA</td>\n",
              "    </tr>\n",
              "    <tr>\n",
              "      <th>6</th>\n",
              "      <td>3</td>\n",
              "      <td>2629</td>\n",
              "      <td>1</td>\n",
              "      <td>1255</td>\n",
              "      <td>1030428</td>\n",
              "      <td>1250</td>\n",
              "      <td>2</td>\n",
              "      <td>15.28</td>\n",
              "      <td>0</td>\n",
              "      <td>0.0</td>\n",
              "      <td>2</td>\n",
              "      <td>JOSE JAIME CAMACHO MARQUEZ</td>\n",
              "      <td>Donas Azucar 4p 105g BIM 1250</td>\n",
              "      <td>2188 MARAVATIO</td>\n",
              "      <td>MICHOACÁN</td>\n",
              "    </tr>\n",
              "    <tr>\n",
              "      <th>7</th>\n",
              "      <td>9</td>\n",
              "      <td>1137</td>\n",
              "      <td>1</td>\n",
              "      <td>1476</td>\n",
              "      <td>1033524</td>\n",
              "      <td>1309</td>\n",
              "      <td>11</td>\n",
              "      <td>74.36</td>\n",
              "      <td>0</td>\n",
              "      <td>0.0</td>\n",
              "      <td>11</td>\n",
              "      <td>TERE</td>\n",
              "      <td>Bimbunuelos 4p 66g BIM 1309</td>\n",
              "      <td>2014 AG. NEZA</td>\n",
              "      <td>ESTADO DE MÉXICO</td>\n",
              "    </tr>\n",
              "    <tr>\n",
              "      <th>8</th>\n",
              "      <td>5</td>\n",
              "      <td>1220</td>\n",
              "      <td>1</td>\n",
              "      <td>1003</td>\n",
              "      <td>1045589</td>\n",
              "      <td>1125</td>\n",
              "      <td>7</td>\n",
              "      <td>67.2</td>\n",
              "      <td>1</td>\n",
              "      <td>9.6</td>\n",
              "      <td>6</td>\n",
              "      <td>YARETH</td>\n",
              "      <td>Tortillinas 10p 255g TR 1125</td>\n",
              "      <td>2048 AG. IXTAPALUCA 1</td>\n",
              "      <td>ESTADO DE MÉXICO</td>\n",
              "    </tr>\n",
              "    <tr>\n",
              "      <th>9</th>\n",
              "      <td>3</td>\n",
              "      <td>1315</td>\n",
              "      <td>1</td>\n",
              "      <td>5056</td>\n",
              "      <td>1056564</td>\n",
              "      <td>3718</td>\n",
              "      <td>2</td>\n",
              "      <td>18.0</td>\n",
              "      <td>0</td>\n",
              "      <td>0.0</td>\n",
              "      <td>2</td>\n",
              "      <td>GRISELDA MERITO IBARRA</td>\n",
              "      <td>Cuernitos Famili Pack 3p 150g MTA TR 3718</td>\n",
              "      <td>2268 PALOMAR</td>\n",
              "      <td>JALISCO</td>\n",
              "    </tr>\n",
              "  </tbody>\n",
              "</table>\n",
              "</div>"
            ],
            "text/plain": [
              "  Semana Agencia_ID  ...                   Town             State\n",
              "0      3       1310  ...    2260 GONZALEZ GALLO           JALISCO\n",
              "1      6       1310  ...    2260 GONZALEZ GALLO           JALISCO\n",
              "2      7       1310  ...    2260 GONZALEZ GALLO           JALISCO\n",
              "3      4       1912  ...       2294 GUADALAJARA           JALISCO\n",
              "4      7       1310  ...    2260 GONZALEZ GALLO           JALISCO\n",
              "5      6       1474  ...    2477 SALTILLO BIMBO          COAHUILA\n",
              "6      3       2629  ...         2188 MARAVATIO         MICHOACÁN\n",
              "7      9       1137  ...          2014 AG. NEZA  ESTADO DE MÉXICO\n",
              "8      5       1220  ...  2048 AG. IXTAPALUCA 1  ESTADO DE MÉXICO\n",
              "9      3       1315  ...           2268 PALOMAR           JALISCO\n",
              "\n",
              "[10 rows x 15 columns]"
            ]
          },
          "metadata": {
            "tags": []
          },
          "execution_count": 39
        }
      ]
    },
    {
      "cell_type": "code",
      "metadata": {
        "colab": {
          "base_uri": "https://localhost:8080/",
          "height": 80
        },
        "id": "j5uJDEElg-Rr",
        "outputId": "5569a637-c765-47df-b2f8-95d94e2102ad"
      },
      "source": [
        "spark.sql(\"\"\"\n",
        "SELECT COUNT(DISTINCT Cliente_ID) \n",
        "  ,COUNT(DISTINCT NombreCliente) \n",
        "FROM cliente_tabla\n",
        "\"\"\").limit(10).toPandas() # Número de ID é maior que nomes distintos isso se deve id duplicados ou homonimos ?"
      ],
      "execution_count": 31,
      "outputs": [
        {
          "output_type": "execute_result",
          "data": {
            "text/html": [
              "<div>\n",
              "<style scoped>\n",
              "    .dataframe tbody tr th:only-of-type {\n",
              "        vertical-align: middle;\n",
              "    }\n",
              "\n",
              "    .dataframe tbody tr th {\n",
              "        vertical-align: top;\n",
              "    }\n",
              "\n",
              "    .dataframe thead th {\n",
              "        text-align: right;\n",
              "    }\n",
              "</style>\n",
              "<table border=\"1\" class=\"dataframe\">\n",
              "  <thead>\n",
              "    <tr style=\"text-align: right;\">\n",
              "      <th></th>\n",
              "      <th>count(DISTINCT Cliente_ID)</th>\n",
              "      <th>count(DISTINCT NombreCliente)</th>\n",
              "    </tr>\n",
              "  </thead>\n",
              "  <tbody>\n",
              "    <tr>\n",
              "      <th>0</th>\n",
              "      <td>930500</td>\n",
              "      <td>311155</td>\n",
              "    </tr>\n",
              "  </tbody>\n",
              "</table>\n",
              "</div>"
            ],
            "text/plain": [
              "   count(DISTINCT Cliente_ID)  count(DISTINCT NombreCliente)\n",
              "0                      930500                         311155"
            ]
          },
          "metadata": {
            "tags": []
          },
          "execution_count": 31
        }
      ]
    },
    {
      "cell_type": "code",
      "metadata": {
        "id": "X88Q1K_SppV_"
      },
      "source": [
        "spark.sql(\"\"\"\n",
        "SELECT train.*\n",
        "  , cliente_tabla.NombreCliente \n",
        "  , producto_tabla.NombreProducto\n",
        "  , town_state.Town\n",
        "  , town_state.State\n",
        "FROM train\n",
        "LEFT JOIN cliente_tabla \n",
        "  on train.Cliente_ID = cliente_tabla.Cliente_ID\n",
        "LEFT JOIN producto_tabla\n",
        "  on train.Producto_ID = producto_tabla.Producto_ID\n",
        "LEFT JOIN town_state\n",
        "  on train.Agencia_ID = town_state.Agencia_ID  \n",
        "\"\"\").write.mode('overwrite').format('parquet').save('data/tabelao_sample/')"
      ],
      "execution_count": 47,
      "outputs": []
    },
    {
      "cell_type": "code",
      "metadata": {
        "id": "uaAU7YH1sI1N"
      },
      "source": [
        "df = spark.read.format('parquet').load('data/tabelao_sample/')"
      ],
      "execution_count": 48,
      "outputs": []
    },
    {
      "cell_type": "code",
      "metadata": {
        "colab": {
          "base_uri": "https://localhost:8080/"
        },
        "id": "aA1i4otLsx7W",
        "outputId": "ceed5818-907e-49e7-9954-40c63ffae1ff"
      },
      "source": [
        "df.count()"
      ],
      "execution_count": 49,
      "outputs": [
        {
          "output_type": "execute_result",
          "data": {
            "text/plain": [
              "74185"
            ]
          },
          "metadata": {
            "tags": []
          },
          "execution_count": 49
        }
      ]
    },
    {
      "cell_type": "code",
      "metadata": {
        "colab": {
          "base_uri": "https://localhost:8080/",
          "height": 394
        },
        "id": "1magJx-zt1-X",
        "outputId": "be22f0d8-153a-4719-ef99-3067498f8af2"
      },
      "source": [
        "df.limit(5).toPandas()"
      ],
      "execution_count": 52,
      "outputs": [
        {
          "output_type": "execute_result",
          "data": {
            "text/html": [
              "<div>\n",
              "<style scoped>\n",
              "    .dataframe tbody tr th:only-of-type {\n",
              "        vertical-align: middle;\n",
              "    }\n",
              "\n",
              "    .dataframe tbody tr th {\n",
              "        vertical-align: top;\n",
              "    }\n",
              "\n",
              "    .dataframe thead th {\n",
              "        text-align: right;\n",
              "    }\n",
              "</style>\n",
              "<table border=\"1\" class=\"dataframe\">\n",
              "  <thead>\n",
              "    <tr style=\"text-align: right;\">\n",
              "      <th></th>\n",
              "      <th>Semana</th>\n",
              "      <th>Agencia_ID</th>\n",
              "      <th>Canal_ID</th>\n",
              "      <th>Ruta_SAK</th>\n",
              "      <th>Cliente_ID</th>\n",
              "      <th>Producto_ID</th>\n",
              "      <th>Venta_uni_hoy</th>\n",
              "      <th>Venta_hoy</th>\n",
              "      <th>Dev_uni_proxima</th>\n",
              "      <th>Dev_proxima</th>\n",
              "      <th>Demanda_uni_equil</th>\n",
              "      <th>NombreCliente</th>\n",
              "      <th>NombreProducto</th>\n",
              "      <th>Town</th>\n",
              "      <th>State</th>\n",
              "    </tr>\n",
              "  </thead>\n",
              "  <tbody>\n",
              "    <tr>\n",
              "      <th>0</th>\n",
              "      <td>5</td>\n",
              "      <td>1227</td>\n",
              "      <td>1</td>\n",
              "      <td>1246</td>\n",
              "      <td>100332</td>\n",
              "      <td>2665</td>\n",
              "      <td>18</td>\n",
              "      <td>288.0</td>\n",
              "      <td>0</td>\n",
              "      <td>0.0</td>\n",
              "      <td>18</td>\n",
              "      <td>JOSE LOPEZ</td>\n",
              "      <td>Tostada Ondulada Tubo 30p 360g Cj MR 2665</td>\n",
              "      <td>2066 TOLUCA PONIENTE</td>\n",
              "      <td>ESTADO DE MÉXICO</td>\n",
              "    </tr>\n",
              "    <tr>\n",
              "      <th>1</th>\n",
              "      <td>5</td>\n",
              "      <td>2017</td>\n",
              "      <td>1</td>\n",
              "      <td>1286</td>\n",
              "      <td>1021772</td>\n",
              "      <td>4767</td>\n",
              "      <td>4</td>\n",
              "      <td>59.16</td>\n",
              "      <td>0</td>\n",
              "      <td>0.0</td>\n",
              "      <td>4</td>\n",
              "      <td>ARZATE</td>\n",
              "      <td>Tostado Doble Fibra 250g Cj BIM 4767</td>\n",
              "      <td>2158 CUERNAVACA CIVAC</td>\n",
              "      <td>MORELOS</td>\n",
              "    </tr>\n",
              "    <tr>\n",
              "      <th>2</th>\n",
              "      <td>3</td>\n",
              "      <td>1911</td>\n",
              "      <td>1</td>\n",
              "      <td>2052</td>\n",
              "      <td>103307</td>\n",
              "      <td>37058</td>\n",
              "      <td>5</td>\n",
              "      <td>37.5</td>\n",
              "      <td>0</td>\n",
              "      <td>0.0</td>\n",
              "      <td>5</td>\n",
              "      <td>NATALIA LOPEZ MINO</td>\n",
              "      <td>Choco Roles 2p 80g MTA MLA 37058</td>\n",
              "      <td>2309 NORTE</td>\n",
              "      <td>JALISCO</td>\n",
              "    </tr>\n",
              "    <tr>\n",
              "      <th>3</th>\n",
              "      <td>9</td>\n",
              "      <td>1633</td>\n",
              "      <td>1</td>\n",
              "      <td>1107</td>\n",
              "      <td>104066</td>\n",
              "      <td>1309</td>\n",
              "      <td>3</td>\n",
              "      <td>20.28</td>\n",
              "      <td>0</td>\n",
              "      <td>0.0</td>\n",
              "      <td>3</td>\n",
              "      <td>TRINIDAD</td>\n",
              "      <td>Bimbunuelos 4p 66g BIM 1309</td>\n",
              "      <td>2360 OAXACA BIMBO</td>\n",
              "      <td>OAXACA</td>\n",
              "    </tr>\n",
              "    <tr>\n",
              "      <th>4</th>\n",
              "      <td>3</td>\n",
              "      <td>1453</td>\n",
              "      <td>1</td>\n",
              "      <td>1102</td>\n",
              "      <td>10597</td>\n",
              "      <td>43174</td>\n",
              "      <td>1</td>\n",
              "      <td>16.67</td>\n",
              "      <td>0</td>\n",
              "      <td>0.0</td>\n",
              "      <td>1</td>\n",
              "      <td>CARNES VICTORIA</td>\n",
              "      <td>Panque Marmol 255g MTA BIM 43174</td>\n",
              "      <td>2481 WONDER GUERRERO</td>\n",
              "      <td>NUEVO LEÓN</td>\n",
              "    </tr>\n",
              "  </tbody>\n",
              "</table>\n",
              "</div>"
            ],
            "text/plain": [
              "  Semana Agencia_ID  ...                   Town             State\n",
              "0      5       1227  ...   2066 TOLUCA PONIENTE  ESTADO DE MÉXICO\n",
              "1      5       2017  ...  2158 CUERNAVACA CIVAC           MORELOS\n",
              "2      3       1911  ...             2309 NORTE           JALISCO\n",
              "3      9       1633  ...      2360 OAXACA BIMBO            OAXACA\n",
              "4      3       1453  ...   2481 WONDER GUERRERO        NUEVO LEÓN\n",
              "\n",
              "[5 rows x 15 columns]"
            ]
          },
          "metadata": {
            "tags": []
          },
          "execution_count": 52
        }
      ]
    },
    {
      "cell_type": "code",
      "metadata": {
        "id": "dRiJDivMu26h"
      },
      "source": [
        "df.createOrReplaceTempView('tabelao_sample')"
      ],
      "execution_count": 59,
      "outputs": []
    },
    {
      "cell_type": "code",
      "metadata": {
        "colab": {
          "base_uri": "https://localhost:8080/",
          "height": 685
        },
        "id": "MKGca2ElvUuF",
        "outputId": "88fe7e0e-21a7-4bf9-9861-a13f7e53c11e"
      },
      "source": [
        "spark.sql(\"\"\"\n",
        "SELECT *\n",
        "  ,SUM(Demanda_uni_equil) OVER (PARTITION BY Agencia_ID) SUM_Town_Demanda_uni_equil\n",
        "  ,SUM(Demanda_uni_equil) OVER (PARTITION BY State) SUM_State_Demanda_uni_equil\n",
        "  ,AVG(Demanda_uni_equil) OVER (PARTITION BY Agencia_ID) AVG_Town_Demanda_uni_equil\n",
        "  ,AVG(Demanda_uni_equil) OVER (PARTITION BY State) AVG_State_Demanda_uni_equil\n",
        "FROM tabelao_sample\n",
        "\"\"\").limit(10).toPandas()"
      ],
      "execution_count": 62,
      "outputs": [
        {
          "output_type": "execute_result",
          "data": {
            "text/html": [
              "<div>\n",
              "<style scoped>\n",
              "    .dataframe tbody tr th:only-of-type {\n",
              "        vertical-align: middle;\n",
              "    }\n",
              "\n",
              "    .dataframe tbody tr th {\n",
              "        vertical-align: top;\n",
              "    }\n",
              "\n",
              "    .dataframe thead th {\n",
              "        text-align: right;\n",
              "    }\n",
              "</style>\n",
              "<table border=\"1\" class=\"dataframe\">\n",
              "  <thead>\n",
              "    <tr style=\"text-align: right;\">\n",
              "      <th></th>\n",
              "      <th>Semana</th>\n",
              "      <th>Agencia_ID</th>\n",
              "      <th>Canal_ID</th>\n",
              "      <th>Ruta_SAK</th>\n",
              "      <th>Cliente_ID</th>\n",
              "      <th>Producto_ID</th>\n",
              "      <th>Venta_uni_hoy</th>\n",
              "      <th>Venta_hoy</th>\n",
              "      <th>Dev_uni_proxima</th>\n",
              "      <th>Dev_proxima</th>\n",
              "      <th>Demanda_uni_equil</th>\n",
              "      <th>NombreCliente</th>\n",
              "      <th>NombreProducto</th>\n",
              "      <th>Town</th>\n",
              "      <th>State</th>\n",
              "      <th>SUM_Town_Demanda_uni_equil</th>\n",
              "      <th>SUM_State_Demanda_uni_equil</th>\n",
              "      <th>AVG_Town_Demanda_uni_equil</th>\n",
              "      <th>AVG_State_Demanda_uni_equil</th>\n",
              "    </tr>\n",
              "  </thead>\n",
              "  <tbody>\n",
              "    <tr>\n",
              "      <th>0</th>\n",
              "      <td>9</td>\n",
              "      <td>2281</td>\n",
              "      <td>7</td>\n",
              "      <td>3310</td>\n",
              "      <td>2202083</td>\n",
              "      <td>1373</td>\n",
              "      <td>14</td>\n",
              "      <td>446.74</td>\n",
              "      <td>0</td>\n",
              "      <td>0.0</td>\n",
              "      <td>14</td>\n",
              "      <td>PERRERO CARLOS ANTONIO</td>\n",
              "      <td>Bollos Extra Ajn FS 12p 960g BIM 1373</td>\n",
              "      <td>2381 CANCUN_BM</td>\n",
              "      <td>QUINTANA ROO</td>\n",
              "      <td>238.0</td>\n",
              "      <td>6306.0</td>\n",
              "      <td>14.0</td>\n",
              "      <td>9.791925</td>\n",
              "    </tr>\n",
              "    <tr>\n",
              "      <th>1</th>\n",
              "      <td>9</td>\n",
              "      <td>2281</td>\n",
              "      <td>7</td>\n",
              "      <td>3305</td>\n",
              "      <td>1035252</td>\n",
              "      <td>5380</td>\n",
              "      <td>6</td>\n",
              "      <td>48.9</td>\n",
              "      <td>0</td>\n",
              "      <td>0.0</td>\n",
              "      <td>6</td>\n",
              "      <td>TIENDA DE EMPLEADOS JW MARRIOTT</td>\n",
              "      <td>Pinguinos 2p 80g MLA 5380</td>\n",
              "      <td>2381 CANCUN_BM</td>\n",
              "      <td>QUINTANA ROO</td>\n",
              "      <td>238.0</td>\n",
              "      <td>6306.0</td>\n",
              "      <td>14.0</td>\n",
              "      <td>9.791925</td>\n",
              "    </tr>\n",
              "    <tr>\n",
              "      <th>2</th>\n",
              "      <td>7</td>\n",
              "      <td>2281</td>\n",
              "      <td>7</td>\n",
              "      <td>3308</td>\n",
              "      <td>2374204</td>\n",
              "      <td>1125</td>\n",
              "      <td>36</td>\n",
              "      <td>374.4</td>\n",
              "      <td>0</td>\n",
              "      <td>0.0</td>\n",
              "      <td>36</td>\n",
              "      <td>EXPENDIO CUCHILLA</td>\n",
              "      <td>Tortillinas 10p 255g TR 1125</td>\n",
              "      <td>2381 CANCUN_BM</td>\n",
              "      <td>QUINTANA ROO</td>\n",
              "      <td>238.0</td>\n",
              "      <td>6306.0</td>\n",
              "      <td>14.0</td>\n",
              "      <td>9.791925</td>\n",
              "    </tr>\n",
              "    <tr>\n",
              "      <th>3</th>\n",
              "      <td>3</td>\n",
              "      <td>2281</td>\n",
              "      <td>7</td>\n",
              "      <td>3311</td>\n",
              "      <td>1766705</td>\n",
              "      <td>1238</td>\n",
              "      <td>7</td>\n",
              "      <td>74.13</td>\n",
              "      <td>0</td>\n",
              "      <td>0.0</td>\n",
              "      <td>7</td>\n",
              "      <td>TIENDITA CANCUN PALACE</td>\n",
              "      <td>Panquecito Gota Choc 2p 140g BIM 1238</td>\n",
              "      <td>2381 CANCUN_BM</td>\n",
              "      <td>QUINTANA ROO</td>\n",
              "      <td>238.0</td>\n",
              "      <td>6306.0</td>\n",
              "      <td>14.0</td>\n",
              "      <td>9.791925</td>\n",
              "    </tr>\n",
              "    <tr>\n",
              "      <th>4</th>\n",
              "      <td>8</td>\n",
              "      <td>2281</td>\n",
              "      <td>6</td>\n",
              "      <td>3201</td>\n",
              "      <td>4402909</td>\n",
              "      <td>31506</td>\n",
              "      <td>6</td>\n",
              "      <td>41.64</td>\n",
              "      <td>0</td>\n",
              "      <td>0.0</td>\n",
              "      <td>6</td>\n",
              "      <td>NO IDENTIFICADO</td>\n",
              "      <td>Polvoron 6p 113g MLA 31506</td>\n",
              "      <td>2381 CANCUN_BM</td>\n",
              "      <td>QUINTANA ROO</td>\n",
              "      <td>238.0</td>\n",
              "      <td>6306.0</td>\n",
              "      <td>14.0</td>\n",
              "      <td>9.791925</td>\n",
              "    </tr>\n",
              "    <tr>\n",
              "      <th>5</th>\n",
              "      <td>8</td>\n",
              "      <td>2281</td>\n",
              "      <td>6</td>\n",
              "      <td>3202</td>\n",
              "      <td>4450453</td>\n",
              "      <td>30531</td>\n",
              "      <td>26</td>\n",
              "      <td>221.52</td>\n",
              "      <td>0</td>\n",
              "      <td>0.0</td>\n",
              "      <td>26</td>\n",
              "      <td>NO IDENTIFICADO</td>\n",
              "      <td>Principe 10p 106g Prom MLA 30531</td>\n",
              "      <td>2381 CANCUN_BM</td>\n",
              "      <td>QUINTANA ROO</td>\n",
              "      <td>238.0</td>\n",
              "      <td>6306.0</td>\n",
              "      <td>14.0</td>\n",
              "      <td>9.791925</td>\n",
              "    </tr>\n",
              "    <tr>\n",
              "      <th>6</th>\n",
              "      <td>6</td>\n",
              "      <td>2281</td>\n",
              "      <td>6</td>\n",
              "      <td>3201</td>\n",
              "      <td>2152568</td>\n",
              "      <td>1702</td>\n",
              "      <td>1</td>\n",
              "      <td>26.0</td>\n",
              "      <td>0</td>\n",
              "      <td>0.0</td>\n",
              "      <td>1</td>\n",
              "      <td>CAFETERIA UNIVERSIDAD TECNOLOGICA DEL SUR</td>\n",
              "      <td>Tortillas Consumos 1 05Kg TR 1702</td>\n",
              "      <td>2381 CANCUN_BM</td>\n",
              "      <td>QUINTANA ROO</td>\n",
              "      <td>238.0</td>\n",
              "      <td>6306.0</td>\n",
              "      <td>14.0</td>\n",
              "      <td>9.791925</td>\n",
              "    </tr>\n",
              "    <tr>\n",
              "      <th>7</th>\n",
              "      <td>9</td>\n",
              "      <td>2281</td>\n",
              "      <td>7</td>\n",
              "      <td>3308</td>\n",
              "      <td>2202093</td>\n",
              "      <td>1233</td>\n",
              "      <td>6</td>\n",
              "      <td>93.48</td>\n",
              "      <td>0</td>\n",
              "      <td>0.0</td>\n",
              "      <td>6</td>\n",
              "      <td>EXPENDIO NIOS HEROES</td>\n",
              "      <td>Tostado Doble Fibra 250g BIM 1233</td>\n",
              "      <td>2381 CANCUN_BM</td>\n",
              "      <td>QUINTANA ROO</td>\n",
              "      <td>238.0</td>\n",
              "      <td>6306.0</td>\n",
              "      <td>14.0</td>\n",
              "      <td>9.791925</td>\n",
              "    </tr>\n",
              "    <tr>\n",
              "      <th>8</th>\n",
              "      <td>9</td>\n",
              "      <td>2281</td>\n",
              "      <td>6</td>\n",
              "      <td>3202</td>\n",
              "      <td>903182</td>\n",
              "      <td>35303</td>\n",
              "      <td>30</td>\n",
              "      <td>208.2</td>\n",
              "      <td>0</td>\n",
              "      <td>0.0</td>\n",
              "      <td>30</td>\n",
              "      <td>CONALEP PLANTEL 2</td>\n",
              "      <td>Barritas Fresa 75g Prom MLA 35303</td>\n",
              "      <td>2381 CANCUN_BM</td>\n",
              "      <td>QUINTANA ROO</td>\n",
              "      <td>238.0</td>\n",
              "      <td>6306.0</td>\n",
              "      <td>14.0</td>\n",
              "      <td>9.791925</td>\n",
              "    </tr>\n",
              "    <tr>\n",
              "      <th>9</th>\n",
              "      <td>3</td>\n",
              "      <td>2281</td>\n",
              "      <td>7</td>\n",
              "      <td>3304</td>\n",
              "      <td>44062</td>\n",
              "      <td>1182</td>\n",
              "      <td>20</td>\n",
              "      <td>295.2</td>\n",
              "      <td>0</td>\n",
              "      <td>0.0</td>\n",
              "      <td>20</td>\n",
              "      <td>MARRIOT CASA MAGNA</td>\n",
              "      <td>Tostado 210g CU BIM 1182</td>\n",
              "      <td>2381 CANCUN_BM</td>\n",
              "      <td>QUINTANA ROO</td>\n",
              "      <td>238.0</td>\n",
              "      <td>6306.0</td>\n",
              "      <td>14.0</td>\n",
              "      <td>9.791925</td>\n",
              "    </tr>\n",
              "  </tbody>\n",
              "</table>\n",
              "</div>"
            ],
            "text/plain": [
              "  Semana Agencia_ID  ... AVG_Town_Demanda_uni_equil AVG_State_Demanda_uni_equil\n",
              "0      9       2281  ...                       14.0                    9.791925\n",
              "1      9       2281  ...                       14.0                    9.791925\n",
              "2      7       2281  ...                       14.0                    9.791925\n",
              "3      3       2281  ...                       14.0                    9.791925\n",
              "4      8       2281  ...                       14.0                    9.791925\n",
              "5      8       2281  ...                       14.0                    9.791925\n",
              "6      6       2281  ...                       14.0                    9.791925\n",
              "7      9       2281  ...                       14.0                    9.791925\n",
              "8      9       2281  ...                       14.0                    9.791925\n",
              "9      3       2281  ...                       14.0                    9.791925\n",
              "\n",
              "[10 rows x 19 columns]"
            ]
          },
          "metadata": {
            "tags": []
          },
          "execution_count": 62
        }
      ]
    },
    {
      "cell_type": "code",
      "metadata": {
        "id": "lsFNexTHw7Ia"
      },
      "source": [
        ""
      ],
      "execution_count": null,
      "outputs": []
    }
  ]
}