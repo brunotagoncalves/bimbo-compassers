{
  "nbformat": 4,
  "nbformat_minor": 0,
  "metadata": {
    "colab": {
      "name": "Untitled0.ipynb",
      "provenance": [],
      "toc_visible": true,
      "authorship_tag": "ABX9TyPXhQEnsItXhu8mAXJ9e9Aw",
      "include_colab_link": true
    },
    "kernelspec": {
      "name": "python3",
      "display_name": "Python 3"
    },
    "language_info": {
      "name": "python"
    }
  },
  "cells": [
    {
      "cell_type": "markdown",
      "metadata": {
        "id": "view-in-github",
        "colab_type": "text"
      },
      "source": [
        "<a href=\"https://colab.research.google.com/github/brunotagoncalves/bimbo-compassers/blob/main/kaggle_api_1st_read.ipynb\" target=\"_parent\"><img src=\"https://colab.research.google.com/assets/colab-badge.svg\" alt=\"Open In Colab\"/></a>"
      ]
    },
    {
      "cell_type": "markdown",
      "metadata": {
        "id": "zzFCd_M-Ey6L"
      },
      "source": [
        "# Notebook para Download e Leitura Inicial de Arquivos \n"
      ]
    },
    {
      "cell_type": "markdown",
      "metadata": {
        "id": "ArMBhA_cFN8_"
      },
      "source": [
        "1) Instalação e Download de Arquivos Kaggle"
      ]
    },
    {
      "cell_type": "code",
      "metadata": {
        "id": "Ifkp6R57QRTA",
        "colab": {
          "base_uri": "https://localhost:8080/"
        },
        "outputId": "f14c3c02-eddb-41a7-bffc-eda83248bb6c"
      },
      "source": [
        "# Podem  ocorrrer falhas de instalação como lxml, mas isso não atrapalha o restante do código\n",
        "!pip install -q kaggle\n",
        "!pip install -q kaggle-cli"
      ],
      "execution_count": 12,
      "outputs": [
        {
          "output_type": "stream",
          "text": [
            "  Building wheel for lxml (setup.py) ... \u001b[?25lerror\n",
            "\u001b[31m  ERROR: Failed building wheel for lxml\u001b[0m\n",
            "\u001b[?25h    Running setup.py install for lxml ... \u001b[?25l\u001b[?25herror\n",
            "\u001b[31mERROR: Command errored out with exit status 1: /usr/bin/python3 -u -c 'import sys, setuptools, tokenize; sys.argv[0] = '\"'\"'/tmp/pip-install-d6jzktj4/lxml/setup.py'\"'\"'; __file__='\"'\"'/tmp/pip-install-d6jzktj4/lxml/setup.py'\"'\"';f=getattr(tokenize, '\"'\"'open'\"'\"', open)(__file__);code=f.read().replace('\"'\"'\\r\\n'\"'\"', '\"'\"'\\n'\"'\"');f.close();exec(compile(code, __file__, '\"'\"'exec'\"'\"'))' install --record /tmp/pip-record-t5kke0x8/install-record.txt --single-version-externally-managed --compile Check the logs for full command output.\u001b[0m\n"
          ],
          "name": "stdout"
        }
      ]
    },
    {
      "cell_type": "code",
      "metadata": {
        "id": "7NLSi0qhN-kG"
      },
      "source": [
        "# Alterando arquivo de config do Kaggle com dados pessoais https://www.kaggle.com/\"username\"/account  crie um token pessoal no botão \"create new api token\"\n",
        "!echo '{\"username\":\"bruno9tg\",\"key\":\"702cbacb35b74aaf6cf1ac91c6883b5a\"}' > ~/.kaggle/kaggle.json"
      ],
      "execution_count": 13,
      "outputs": []
    },
    {
      "cell_type": "code",
      "metadata": {
        "colab": {
          "base_uri": "https://localhost:8080/"
        },
        "id": "nTx5CyN_KEgG",
        "outputId": "12aed629-e805-46aa-e033-5b89bef283ea"
      },
      "source": [
        "#utiliza api kaggle para realizar download\n",
        "!kaggle competitions download -c grupo-bimbo-inventory-demand"
      ],
      "execution_count": 14,
      "outputs": [
        {
          "output_type": "stream",
          "text": [
            "Warning: Your Kaggle API key is readable by other users on this system! To fix this, you can run 'chmod 600 /root/.kaggle/kaggle.json'\n",
            "Warning: Looks like you're using an outdated API Version, please consider updating (server 1.5.12 / client 1.5.4)\n",
            "producto_tabla.csv.zip: Skipping, found more recently modified local copy (use --force to force download)\n",
            "sample_submission.csv.zip: Skipping, found more recently modified local copy (use --force to force download)\n",
            "town_state.csv.zip: Skipping, found more recently modified local copy (use --force to force download)\n",
            "test.csv.zip: Skipping, found more recently modified local copy (use --force to force download)\n",
            "cliente_tabla.csv.zip: Skipping, found more recently modified local copy (use --force to force download)\n",
            "train.csv.zip: Skipping, found more recently modified local copy (use --force to force download)\n"
          ],
          "name": "stdout"
        }
      ]
    },
    {
      "cell_type": "markdown",
      "metadata": {
        "id": "0Zz0TcBlGdvy"
      },
      "source": [
        "2) Leitura básica dos arquivos"
      ]
    },
    {
      "cell_type": "code",
      "metadata": {
        "id": "WOT9kjhoaw0K"
      },
      "source": [
        "import pandas as pd "
      ],
      "execution_count": 1,
      "outputs": []
    },
    {
      "cell_type": "code",
      "metadata": {
        "id": "JHFnciVhi42X",
        "outputId": "f4c50929-1ef4-4e13-f647-929664a6d6ea",
        "colab": {
          "base_uri": "https://localhost:8080/"
        }
      },
      "source": [
        "!ls"
      ],
      "execution_count": 3,
      "outputs": [
        {
          "output_type": "stream",
          "text": [
            "cliente_tabla.csv.zip\tsample_submission.csv.zip  train.csv.zip\n",
            "producto_tabla.csv.zip\ttest.csv.zip\n",
            "sample_data\t\ttown_state.csv.zip\n"
          ],
          "name": "stdout"
        }
      ]
    },
    {
      "cell_type": "code",
      "metadata": {
        "id": "rcimfzFGiuHo",
        "outputId": "9d75d666-4a76-4145-bce6-558b241ccf3c",
        "colab": {
          "base_uri": "https://localhost:8080/",
          "height": 204
        }
      },
      "source": [
        "pd.read_csv('cliente_tabla.csv.zip').head()"
      ],
      "execution_count": 4,
      "outputs": [
        {
          "output_type": "execute_result",
          "data": {
            "text/html": [
              "<div>\n",
              "<style scoped>\n",
              "    .dataframe tbody tr th:only-of-type {\n",
              "        vertical-align: middle;\n",
              "    }\n",
              "\n",
              "    .dataframe tbody tr th {\n",
              "        vertical-align: top;\n",
              "    }\n",
              "\n",
              "    .dataframe thead th {\n",
              "        text-align: right;\n",
              "    }\n",
              "</style>\n",
              "<table border=\"1\" class=\"dataframe\">\n",
              "  <thead>\n",
              "    <tr style=\"text-align: right;\">\n",
              "      <th></th>\n",
              "      <th>Cliente_ID</th>\n",
              "      <th>NombreCliente</th>\n",
              "    </tr>\n",
              "  </thead>\n",
              "  <tbody>\n",
              "    <tr>\n",
              "      <th>0</th>\n",
              "      <td>0</td>\n",
              "      <td>SIN NOMBRE</td>\n",
              "    </tr>\n",
              "    <tr>\n",
              "      <th>1</th>\n",
              "      <td>1</td>\n",
              "      <td>OXXO XINANTECATL</td>\n",
              "    </tr>\n",
              "    <tr>\n",
              "      <th>2</th>\n",
              "      <td>2</td>\n",
              "      <td>SIN NOMBRE</td>\n",
              "    </tr>\n",
              "    <tr>\n",
              "      <th>3</th>\n",
              "      <td>3</td>\n",
              "      <td>EL MORENO</td>\n",
              "    </tr>\n",
              "    <tr>\n",
              "      <th>4</th>\n",
              "      <td>4</td>\n",
              "      <td>SDN SER  DE ALIM  CUERPO SA CIA  DE INT</td>\n",
              "    </tr>\n",
              "  </tbody>\n",
              "</table>\n",
              "</div>"
            ],
            "text/plain": [
              "   Cliente_ID                            NombreCliente\n",
              "0           0                               SIN NOMBRE\n",
              "1           1                         OXXO XINANTECATL\n",
              "2           2                               SIN NOMBRE\n",
              "3           3                                EL MORENO\n",
              "4           4  SDN SER  DE ALIM  CUERPO SA CIA  DE INT"
            ]
          },
          "metadata": {
            "tags": []
          },
          "execution_count": 4
        }
      ]
    },
    {
      "cell_type": "code",
      "metadata": {
        "id": "Xw99lcpOi9i_",
        "outputId": "d7b9d0ce-fafb-4257-e533-212ae7893bf0",
        "colab": {
          "base_uri": "https://localhost:8080/",
          "height": 204
        }
      },
      "source": [
        "pd.read_csv('producto_tabla.csv.zip').head()"
      ],
      "execution_count": 5,
      "outputs": [
        {
          "output_type": "execute_result",
          "data": {
            "text/html": [
              "<div>\n",
              "<style scoped>\n",
              "    .dataframe tbody tr th:only-of-type {\n",
              "        vertical-align: middle;\n",
              "    }\n",
              "\n",
              "    .dataframe tbody tr th {\n",
              "        vertical-align: top;\n",
              "    }\n",
              "\n",
              "    .dataframe thead th {\n",
              "        text-align: right;\n",
              "    }\n",
              "</style>\n",
              "<table border=\"1\" class=\"dataframe\">\n",
              "  <thead>\n",
              "    <tr style=\"text-align: right;\">\n",
              "      <th></th>\n",
              "      <th>Producto_ID</th>\n",
              "      <th>NombreProducto</th>\n",
              "    </tr>\n",
              "  </thead>\n",
              "  <tbody>\n",
              "    <tr>\n",
              "      <th>0</th>\n",
              "      <td>0</td>\n",
              "      <td>NO IDENTIFICADO 0</td>\n",
              "    </tr>\n",
              "    <tr>\n",
              "      <th>1</th>\n",
              "      <td>9</td>\n",
              "      <td>Capuccino Moka 750g NES 9</td>\n",
              "    </tr>\n",
              "    <tr>\n",
              "      <th>2</th>\n",
              "      <td>41</td>\n",
              "      <td>Bimbollos Ext sAjonjoli 6p 480g BIM 41</td>\n",
              "    </tr>\n",
              "    <tr>\n",
              "      <th>3</th>\n",
              "      <td>53</td>\n",
              "      <td>Burritos Sincro 170g CU LON 53</td>\n",
              "    </tr>\n",
              "    <tr>\n",
              "      <th>4</th>\n",
              "      <td>72</td>\n",
              "      <td>Div Tira Mini Doradita 4p 45g TR 72</td>\n",
              "    </tr>\n",
              "  </tbody>\n",
              "</table>\n",
              "</div>"
            ],
            "text/plain": [
              "   Producto_ID                          NombreProducto\n",
              "0            0                       NO IDENTIFICADO 0\n",
              "1            9               Capuccino Moka 750g NES 9\n",
              "2           41  Bimbollos Ext sAjonjoli 6p 480g BIM 41\n",
              "3           53          Burritos Sincro 170g CU LON 53\n",
              "4           72     Div Tira Mini Doradita 4p 45g TR 72"
            ]
          },
          "metadata": {
            "tags": []
          },
          "execution_count": 5
        }
      ]
    },
    {
      "cell_type": "code",
      "metadata": {
        "id": "J2pp7S2xi-qK",
        "outputId": "91c9d045-78a9-4fc0-c4d7-555318ef0988",
        "colab": {
          "base_uri": "https://localhost:8080/",
          "height": 204
        }
      },
      "source": [
        "pd.read_csv('sample_submission.csv.zip').head()"
      ],
      "execution_count": 6,
      "outputs": [
        {
          "output_type": "execute_result",
          "data": {
            "text/html": [
              "<div>\n",
              "<style scoped>\n",
              "    .dataframe tbody tr th:only-of-type {\n",
              "        vertical-align: middle;\n",
              "    }\n",
              "\n",
              "    .dataframe tbody tr th {\n",
              "        vertical-align: top;\n",
              "    }\n",
              "\n",
              "    .dataframe thead th {\n",
              "        text-align: right;\n",
              "    }\n",
              "</style>\n",
              "<table border=\"1\" class=\"dataframe\">\n",
              "  <thead>\n",
              "    <tr style=\"text-align: right;\">\n",
              "      <th></th>\n",
              "      <th>id</th>\n",
              "      <th>Demanda_uni_equil</th>\n",
              "    </tr>\n",
              "  </thead>\n",
              "  <tbody>\n",
              "    <tr>\n",
              "      <th>0</th>\n",
              "      <td>0</td>\n",
              "      <td>7</td>\n",
              "    </tr>\n",
              "    <tr>\n",
              "      <th>1</th>\n",
              "      <td>1</td>\n",
              "      <td>7</td>\n",
              "    </tr>\n",
              "    <tr>\n",
              "      <th>2</th>\n",
              "      <td>2</td>\n",
              "      <td>7</td>\n",
              "    </tr>\n",
              "    <tr>\n",
              "      <th>3</th>\n",
              "      <td>3</td>\n",
              "      <td>7</td>\n",
              "    </tr>\n",
              "    <tr>\n",
              "      <th>4</th>\n",
              "      <td>4</td>\n",
              "      <td>7</td>\n",
              "    </tr>\n",
              "  </tbody>\n",
              "</table>\n",
              "</div>"
            ],
            "text/plain": [
              "   id  Demanda_uni_equil\n",
              "0   0                  7\n",
              "1   1                  7\n",
              "2   2                  7\n",
              "3   3                  7\n",
              "4   4                  7"
            ]
          },
          "metadata": {
            "tags": []
          },
          "execution_count": 6
        }
      ]
    },
    {
      "cell_type": "code",
      "metadata": {
        "id": "b-YSH5C0inIh",
        "outputId": "542f97b4-8fef-43de-ee02-b71d50c43b0c",
        "colab": {
          "base_uri": "https://localhost:8080/",
          "height": 204
        }
      },
      "source": [
        "pd.read_csv('test.csv.zip').head()"
      ],
      "execution_count": 7,
      "outputs": [
        {
          "output_type": "execute_result",
          "data": {
            "text/html": [
              "<div>\n",
              "<style scoped>\n",
              "    .dataframe tbody tr th:only-of-type {\n",
              "        vertical-align: middle;\n",
              "    }\n",
              "\n",
              "    .dataframe tbody tr th {\n",
              "        vertical-align: top;\n",
              "    }\n",
              "\n",
              "    .dataframe thead th {\n",
              "        text-align: right;\n",
              "    }\n",
              "</style>\n",
              "<table border=\"1\" class=\"dataframe\">\n",
              "  <thead>\n",
              "    <tr style=\"text-align: right;\">\n",
              "      <th></th>\n",
              "      <th>id</th>\n",
              "      <th>Semana</th>\n",
              "      <th>Agencia_ID</th>\n",
              "      <th>Canal_ID</th>\n",
              "      <th>Ruta_SAK</th>\n",
              "      <th>Cliente_ID</th>\n",
              "      <th>Producto_ID</th>\n",
              "    </tr>\n",
              "  </thead>\n",
              "  <tbody>\n",
              "    <tr>\n",
              "      <th>0</th>\n",
              "      <td>0</td>\n",
              "      <td>11</td>\n",
              "      <td>4037</td>\n",
              "      <td>1</td>\n",
              "      <td>2209</td>\n",
              "      <td>4639078</td>\n",
              "      <td>35305</td>\n",
              "    </tr>\n",
              "    <tr>\n",
              "      <th>1</th>\n",
              "      <td>1</td>\n",
              "      <td>11</td>\n",
              "      <td>2237</td>\n",
              "      <td>1</td>\n",
              "      <td>1226</td>\n",
              "      <td>4705135</td>\n",
              "      <td>1238</td>\n",
              "    </tr>\n",
              "    <tr>\n",
              "      <th>2</th>\n",
              "      <td>2</td>\n",
              "      <td>10</td>\n",
              "      <td>2045</td>\n",
              "      <td>1</td>\n",
              "      <td>2831</td>\n",
              "      <td>4549769</td>\n",
              "      <td>32940</td>\n",
              "    </tr>\n",
              "    <tr>\n",
              "      <th>3</th>\n",
              "      <td>3</td>\n",
              "      <td>11</td>\n",
              "      <td>1227</td>\n",
              "      <td>1</td>\n",
              "      <td>4448</td>\n",
              "      <td>4717855</td>\n",
              "      <td>43066</td>\n",
              "    </tr>\n",
              "    <tr>\n",
              "      <th>4</th>\n",
              "      <td>4</td>\n",
              "      <td>11</td>\n",
              "      <td>1219</td>\n",
              "      <td>1</td>\n",
              "      <td>1130</td>\n",
              "      <td>966351</td>\n",
              "      <td>1277</td>\n",
              "    </tr>\n",
              "  </tbody>\n",
              "</table>\n",
              "</div>"
            ],
            "text/plain": [
              "   id  Semana  Agencia_ID  Canal_ID  Ruta_SAK  Cliente_ID  Producto_ID\n",
              "0   0      11        4037         1      2209     4639078        35305\n",
              "1   1      11        2237         1      1226     4705135         1238\n",
              "2   2      10        2045         1      2831     4549769        32940\n",
              "3   3      11        1227         1      4448     4717855        43066\n",
              "4   4      11        1219         1      1130      966351         1277"
            ]
          },
          "metadata": {
            "tags": []
          },
          "execution_count": 7
        }
      ]
    },
    {
      "cell_type": "code",
      "metadata": {
        "id": "JtMOC8cRjMYW",
        "outputId": "db9a82d7-254f-4112-ce19-9ebf97a1233b",
        "colab": {
          "base_uri": "https://localhost:8080/",
          "height": 204
        }
      },
      "source": [
        "pd.read_csv('town_state.csv.zip').head()"
      ],
      "execution_count": 8,
      "outputs": [
        {
          "output_type": "execute_result",
          "data": {
            "text/html": [
              "<div>\n",
              "<style scoped>\n",
              "    .dataframe tbody tr th:only-of-type {\n",
              "        vertical-align: middle;\n",
              "    }\n",
              "\n",
              "    .dataframe tbody tr th {\n",
              "        vertical-align: top;\n",
              "    }\n",
              "\n",
              "    .dataframe thead th {\n",
              "        text-align: right;\n",
              "    }\n",
              "</style>\n",
              "<table border=\"1\" class=\"dataframe\">\n",
              "  <thead>\n",
              "    <tr style=\"text-align: right;\">\n",
              "      <th></th>\n",
              "      <th>Agencia_ID</th>\n",
              "      <th>Town</th>\n",
              "      <th>State</th>\n",
              "    </tr>\n",
              "  </thead>\n",
              "  <tbody>\n",
              "    <tr>\n",
              "      <th>0</th>\n",
              "      <td>1110</td>\n",
              "      <td>2008 AG. LAGO FILT</td>\n",
              "      <td>MÉXICO, D.F.</td>\n",
              "    </tr>\n",
              "    <tr>\n",
              "      <th>1</th>\n",
              "      <td>1111</td>\n",
              "      <td>2002 AG. AZCAPOTZALCO</td>\n",
              "      <td>MÉXICO, D.F.</td>\n",
              "    </tr>\n",
              "    <tr>\n",
              "      <th>2</th>\n",
              "      <td>1112</td>\n",
              "      <td>2004 AG. CUAUTITLAN</td>\n",
              "      <td>ESTADO DE MÉXICO</td>\n",
              "    </tr>\n",
              "    <tr>\n",
              "      <th>3</th>\n",
              "      <td>1113</td>\n",
              "      <td>2008 AG. LAGO FILT</td>\n",
              "      <td>MÉXICO, D.F.</td>\n",
              "    </tr>\n",
              "    <tr>\n",
              "      <th>4</th>\n",
              "      <td>1114</td>\n",
              "      <td>2029 AG.IZTAPALAPA 2</td>\n",
              "      <td>MÉXICO, D.F.</td>\n",
              "    </tr>\n",
              "  </tbody>\n",
              "</table>\n",
              "</div>"
            ],
            "text/plain": [
              "   Agencia_ID                   Town             State\n",
              "0        1110     2008 AG. LAGO FILT      MÉXICO, D.F.\n",
              "1        1111  2002 AG. AZCAPOTZALCO      MÉXICO, D.F.\n",
              "2        1112    2004 AG. CUAUTITLAN  ESTADO DE MÉXICO\n",
              "3        1113     2008 AG. LAGO FILT      MÉXICO, D.F.\n",
              "4        1114   2029 AG.IZTAPALAPA 2      MÉXICO, D.F."
            ]
          },
          "metadata": {
            "tags": []
          },
          "execution_count": 8
        }
      ]
    },
    {
      "cell_type": "code",
      "metadata": {
        "id": "y4UQ_viXjWSK",
        "outputId": "bd44ef02-a4f6-4d5b-cb90-32ac36e105f0",
        "colab": {
          "base_uri": "https://localhost:8080/",
          "height": 419
        }
      },
      "source": [
        "# Para os dados de treino o volume já excede a memoria do Colab usar a função iterator se faz necessário.\n",
        "sample_train = pd.read_csv('train.csv.zip', nrows=1000)\n",
        "sample_train"
      ],
      "execution_count": 17,
      "outputs": [
        {
          "output_type": "execute_result",
          "data": {
            "text/html": [
              "<div>\n",
              "<style scoped>\n",
              "    .dataframe tbody tr th:only-of-type {\n",
              "        vertical-align: middle;\n",
              "    }\n",
              "\n",
              "    .dataframe tbody tr th {\n",
              "        vertical-align: top;\n",
              "    }\n",
              "\n",
              "    .dataframe thead th {\n",
              "        text-align: right;\n",
              "    }\n",
              "</style>\n",
              "<table border=\"1\" class=\"dataframe\">\n",
              "  <thead>\n",
              "    <tr style=\"text-align: right;\">\n",
              "      <th></th>\n",
              "      <th>Semana</th>\n",
              "      <th>Agencia_ID</th>\n",
              "      <th>Canal_ID</th>\n",
              "      <th>Ruta_SAK</th>\n",
              "      <th>Cliente_ID</th>\n",
              "      <th>Producto_ID</th>\n",
              "      <th>Venta_uni_hoy</th>\n",
              "      <th>Venta_hoy</th>\n",
              "      <th>Dev_uni_proxima</th>\n",
              "      <th>Dev_proxima</th>\n",
              "      <th>Demanda_uni_equil</th>\n",
              "    </tr>\n",
              "  </thead>\n",
              "  <tbody>\n",
              "    <tr>\n",
              "      <th>0</th>\n",
              "      <td>3</td>\n",
              "      <td>1110</td>\n",
              "      <td>7</td>\n",
              "      <td>3301</td>\n",
              "      <td>15766</td>\n",
              "      <td>1212</td>\n",
              "      <td>3</td>\n",
              "      <td>25.14</td>\n",
              "      <td>0</td>\n",
              "      <td>0.0</td>\n",
              "      <td>3</td>\n",
              "    </tr>\n",
              "    <tr>\n",
              "      <th>1</th>\n",
              "      <td>3</td>\n",
              "      <td>1110</td>\n",
              "      <td>7</td>\n",
              "      <td>3301</td>\n",
              "      <td>15766</td>\n",
              "      <td>1216</td>\n",
              "      <td>4</td>\n",
              "      <td>33.52</td>\n",
              "      <td>0</td>\n",
              "      <td>0.0</td>\n",
              "      <td>4</td>\n",
              "    </tr>\n",
              "    <tr>\n",
              "      <th>2</th>\n",
              "      <td>3</td>\n",
              "      <td>1110</td>\n",
              "      <td>7</td>\n",
              "      <td>3301</td>\n",
              "      <td>15766</td>\n",
              "      <td>1238</td>\n",
              "      <td>4</td>\n",
              "      <td>39.32</td>\n",
              "      <td>0</td>\n",
              "      <td>0.0</td>\n",
              "      <td>4</td>\n",
              "    </tr>\n",
              "    <tr>\n",
              "      <th>3</th>\n",
              "      <td>3</td>\n",
              "      <td>1110</td>\n",
              "      <td>7</td>\n",
              "      <td>3301</td>\n",
              "      <td>15766</td>\n",
              "      <td>1240</td>\n",
              "      <td>4</td>\n",
              "      <td>33.52</td>\n",
              "      <td>0</td>\n",
              "      <td>0.0</td>\n",
              "      <td>4</td>\n",
              "    </tr>\n",
              "    <tr>\n",
              "      <th>4</th>\n",
              "      <td>3</td>\n",
              "      <td>1110</td>\n",
              "      <td>7</td>\n",
              "      <td>3301</td>\n",
              "      <td>15766</td>\n",
              "      <td>1242</td>\n",
              "      <td>3</td>\n",
              "      <td>22.92</td>\n",
              "      <td>0</td>\n",
              "      <td>0.0</td>\n",
              "      <td>3</td>\n",
              "    </tr>\n",
              "    <tr>\n",
              "      <th>...</th>\n",
              "      <td>...</td>\n",
              "      <td>...</td>\n",
              "      <td>...</td>\n",
              "      <td>...</td>\n",
              "      <td>...</td>\n",
              "      <td>...</td>\n",
              "      <td>...</td>\n",
              "      <td>...</td>\n",
              "      <td>...</td>\n",
              "      <td>...</td>\n",
              "      <td>...</td>\n",
              "    </tr>\n",
              "    <tr>\n",
              "      <th>995</th>\n",
              "      <td>3</td>\n",
              "      <td>1110</td>\n",
              "      <td>7</td>\n",
              "      <td>3303</td>\n",
              "      <td>1453543</td>\n",
              "      <td>1250</td>\n",
              "      <td>25</td>\n",
              "      <td>191.00</td>\n",
              "      <td>0</td>\n",
              "      <td>0.0</td>\n",
              "      <td>25</td>\n",
              "    </tr>\n",
              "    <tr>\n",
              "      <th>996</th>\n",
              "      <td>3</td>\n",
              "      <td>1110</td>\n",
              "      <td>7</td>\n",
              "      <td>3303</td>\n",
              "      <td>1453543</td>\n",
              "      <td>1309</td>\n",
              "      <td>6</td>\n",
              "      <td>40.56</td>\n",
              "      <td>0</td>\n",
              "      <td>0.0</td>\n",
              "      <td>6</td>\n",
              "    </tr>\n",
              "    <tr>\n",
              "      <th>997</th>\n",
              "      <td>3</td>\n",
              "      <td>1110</td>\n",
              "      <td>7</td>\n",
              "      <td>3303</td>\n",
              "      <td>1453543</td>\n",
              "      <td>3270</td>\n",
              "      <td>1</td>\n",
              "      <td>10.47</td>\n",
              "      <td>0</td>\n",
              "      <td>0.0</td>\n",
              "      <td>1</td>\n",
              "    </tr>\n",
              "    <tr>\n",
              "      <th>998</th>\n",
              "      <td>3</td>\n",
              "      <td>1110</td>\n",
              "      <td>7</td>\n",
              "      <td>3303</td>\n",
              "      <td>1453543</td>\n",
              "      <td>4270</td>\n",
              "      <td>2</td>\n",
              "      <td>16.76</td>\n",
              "      <td>0</td>\n",
              "      <td>0.0</td>\n",
              "      <td>2</td>\n",
              "    </tr>\n",
              "    <tr>\n",
              "      <th>999</th>\n",
              "      <td>3</td>\n",
              "      <td>1110</td>\n",
              "      <td>7</td>\n",
              "      <td>3303</td>\n",
              "      <td>1453543</td>\n",
              "      <td>4280</td>\n",
              "      <td>6</td>\n",
              "      <td>36.00</td>\n",
              "      <td>0</td>\n",
              "      <td>0.0</td>\n",
              "      <td>6</td>\n",
              "    </tr>\n",
              "  </tbody>\n",
              "</table>\n",
              "<p>1000 rows × 11 columns</p>\n",
              "</div>"
            ],
            "text/plain": [
              "     Semana  Agencia_ID  ...  Dev_proxima  Demanda_uni_equil\n",
              "0         3        1110  ...          0.0                  3\n",
              "1         3        1110  ...          0.0                  4\n",
              "2         3        1110  ...          0.0                  4\n",
              "3         3        1110  ...          0.0                  4\n",
              "4         3        1110  ...          0.0                  3\n",
              "..      ...         ...  ...          ...                ...\n",
              "995       3        1110  ...          0.0                 25\n",
              "996       3        1110  ...          0.0                  6\n",
              "997       3        1110  ...          0.0                  1\n",
              "998       3        1110  ...          0.0                  2\n",
              "999       3        1110  ...          0.0                  6\n",
              "\n",
              "[1000 rows x 11 columns]"
            ]
          },
          "metadata": {
            "tags": []
          },
          "execution_count": 17
        }
      ]
    },
    {
      "cell_type": "markdown",
      "metadata": {
        "id": "dWohvoKFG05J"
      },
      "source": [
        "3) Instalação de Leitura com SPARK"
      ]
    },
    {
      "cell_type": "code",
      "metadata": {
        "id": "5mqJsjaUkBsN",
        "outputId": "9da0c7fb-8cf2-4114-aeda-745c19cb2f68",
        "colab": {
          "base_uri": "https://localhost:8080/"
        }
      },
      "source": [
        "!apt-get install openjdk-8-jdk-headless -qq > /dev/null\n",
        "!wget http://www-eu.apache.org/dist/spark/spark-2.4.7/spark-2.4.7-bin-hadoop2.7.tgz"
      ],
      "execution_count": 16,
      "outputs": [
        {
          "output_type": "stream",
          "text": [
            "--2021-05-17 02:04:07--  http://www-eu.apache.org/dist/spark/spark-2.4.7/spark-2.4.7-bin-hadoop2.7.tgz\n",
            "Resolving www-eu.apache.org (www-eu.apache.org)... 95.216.26.30, 2a01:4f9:2a:1a61::2\n",
            "Connecting to www-eu.apache.org (www-eu.apache.org)|95.216.26.30|:80... connected.\n",
            "HTTP request sent, awaiting response... 302 Found\n",
            "Location: https://downloads.apache.org/spark/spark-2.4.7/spark-2.4.7-bin-hadoop2.7.tgz [following]\n",
            "--2021-05-17 02:04:07--  https://downloads.apache.org/spark/spark-2.4.7/spark-2.4.7-bin-hadoop2.7.tgz\n",
            "Resolving downloads.apache.org (downloads.apache.org)... 135.181.214.104, 88.99.95.219, 135.181.209.10, ...\n",
            "Connecting to downloads.apache.org (downloads.apache.org)|135.181.214.104|:443... connected.\n",
            "HTTP request sent, awaiting response... 200 OK\n",
            "Length: 233333392 (223M) [application/x-gzip]\n",
            "Saving to: ‘spark-2.4.7-bin-hadoop2.7.tgz’\n",
            "\n",
            "spark-2.4.7-bin-had 100%[===================>] 222.52M  17.8MB/s    in 14s     \n",
            "\n",
            "2021-05-17 02:04:21 (16.3 MB/s) - ‘spark-2.4.7-bin-hadoop2.7.tgz’ saved [233333392/233333392]\n",
            "\n"
          ],
          "name": "stdout"
        }
      ]
    },
    {
      "cell_type": "code",
      "metadata": {
        "id": "yjYuiDedm2wX",
        "outputId": "8d407bb4-c351-4449-b631-0ec8b7c9e429",
        "colab": {
          "base_uri": "https://localhost:8080/"
        }
      },
      "source": [
        "!tar -xf spark-2.4.7-bin-hadoop2.7.tgz\n",
        "!pip install -q findspark\n",
        "!pip install -q pyspark"
      ],
      "execution_count": 18,
      "outputs": [
        {
          "output_type": "stream",
          "text": [
            "\u001b[K     |████████████████████████████████| 212.3MB 36kB/s \n",
            "\u001b[K     |████████████████████████████████| 204kB 18.2MB/s \n",
            "\u001b[?25h  Building wheel for pyspark (setup.py) ... \u001b[?25l\u001b[?25hdone\n"
          ],
          "name": "stdout"
        }
      ]
    },
    {
      "cell_type": "code",
      "metadata": {
        "id": "FdID4xtSEQFt"
      },
      "source": [
        "import os\n",
        "os.environ[\"JAVA_HOME\"] = \"/usr/lib/jvm/java-8-openjdk-amd64\"\n",
        "os.environ[\"SPARK_HOME\"] = \"/content/spark-2.4.7-bin-hadoop2.7\""
      ],
      "execution_count": 19,
      "outputs": []
    },
    {
      "cell_type": "code",
      "metadata": {
        "id": "wgxq4vxoESoj"
      },
      "source": [
        "import findspark\n",
        "findspark.init()\n",
        "from pyspark.sql import SparkSession\n",
        "spark = SparkSession.builder.master(\"local[*]\").getOrCreate()"
      ],
      "execution_count": 20,
      "outputs": []
    },
    {
      "cell_type": "code",
      "metadata": {
        "id": "_Duqk9_nEVoR"
      },
      "source": [
        "df = spark.read.format('csv').option(\"header\", \"True\").load(\"train.csv\")"
      ],
      "execution_count": 21,
      "outputs": []
    },
    {
      "cell_type": "code",
      "metadata": {
        "id": "Erpmkg9BEg4N",
        "outputId": "e7cdd40f-e671-4ba2-b67a-6a789c312c32",
        "colab": {
          "base_uri": "https://localhost:8080/"
        }
      },
      "source": [
        "%%time\n",
        "df.count()"
      ],
      "execution_count": 26,
      "outputs": [
        {
          "output_type": "stream",
          "text": [
            "CPU times: user 167 ms, sys: 18.3 ms, total: 186 ms\n",
            "Wall time: 31.8 s\n"
          ],
          "name": "stdout"
        },
        {
          "output_type": "execute_result",
          "data": {
            "text/plain": [
              "74180464"
            ]
          },
          "metadata": {
            "tags": []
          },
          "execution_count": 26
        }
      ]
    },
    {
      "cell_type": "code",
      "metadata": {
        "id": "wlaczNWeHQ3U"
      },
      "source": [
        "\n",
        "g_df_Semana= df.groupBy('Semana').count().toPandas()"
      ],
      "execution_count": 29,
      "outputs": []
    },
    {
      "cell_type": "code",
      "metadata": {
        "id": "IcEeZU7OKv4R"
      },
      "source": [
        "g_df_Semana.loc[:,'percent'] = g_df_Semana['count']/g_df_Semana['count'].sum()"
      ],
      "execution_count": 35,
      "outputs": []
    },
    {
      "cell_type": "code",
      "metadata": {
        "id": "jJolwZr9K-q9",
        "outputId": "e29a061a-8e38-4fba-ea66-2b03d7af4da0",
        "colab": {
          "base_uri": "https://localhost:8080/",
          "height": 266
        }
      },
      "source": [
        "g_df_Semana.sort_values('Semana')"
      ],
      "execution_count": 37,
      "outputs": [
        {
          "output_type": "execute_result",
          "data": {
            "text/html": [
              "<div>\n",
              "<style scoped>\n",
              "    .dataframe tbody tr th:only-of-type {\n",
              "        vertical-align: middle;\n",
              "    }\n",
              "\n",
              "    .dataframe tbody tr th {\n",
              "        vertical-align: top;\n",
              "    }\n",
              "\n",
              "    .dataframe thead th {\n",
              "        text-align: right;\n",
              "    }\n",
              "</style>\n",
              "<table border=\"1\" class=\"dataframe\">\n",
              "  <thead>\n",
              "    <tr style=\"text-align: right;\">\n",
              "      <th></th>\n",
              "      <th>Semana</th>\n",
              "      <th>count</th>\n",
              "      <th>percent</th>\n",
              "    </tr>\n",
              "  </thead>\n",
              "  <tbody>\n",
              "    <tr>\n",
              "      <th>1</th>\n",
              "      <td>3</td>\n",
              "      <td>11165207</td>\n",
              "      <td>0.150514</td>\n",
              "    </tr>\n",
              "    <tr>\n",
              "      <th>6</th>\n",
              "      <td>4</td>\n",
              "      <td>11009593</td>\n",
              "      <td>0.148416</td>\n",
              "    </tr>\n",
              "    <tr>\n",
              "      <th>3</th>\n",
              "      <td>5</td>\n",
              "      <td>10615397</td>\n",
              "      <td>0.143102</td>\n",
              "    </tr>\n",
              "    <tr>\n",
              "      <th>4</th>\n",
              "      <td>6</td>\n",
              "      <td>10191837</td>\n",
              "      <td>0.137392</td>\n",
              "    </tr>\n",
              "    <tr>\n",
              "      <th>0</th>\n",
              "      <td>7</td>\n",
              "      <td>10382849</td>\n",
              "      <td>0.139967</td>\n",
              "    </tr>\n",
              "    <tr>\n",
              "      <th>2</th>\n",
              "      <td>8</td>\n",
              "      <td>10406868</td>\n",
              "      <td>0.140291</td>\n",
              "    </tr>\n",
              "    <tr>\n",
              "      <th>5</th>\n",
              "      <td>9</td>\n",
              "      <td>10408713</td>\n",
              "      <td>0.140316</td>\n",
              "    </tr>\n",
              "  </tbody>\n",
              "</table>\n",
              "</div>"
            ],
            "text/plain": [
              "  Semana     count   percent\n",
              "1      3  11165207  0.150514\n",
              "6      4  11009593  0.148416\n",
              "3      5  10615397  0.143102\n",
              "4      6  10191837  0.137392\n",
              "0      7  10382849  0.139967\n",
              "2      8  10406868  0.140291\n",
              "5      9  10408713  0.140316"
            ]
          },
          "metadata": {
            "tags": []
          },
          "execution_count": 37
        }
      ]
    },
    {
      "cell_type": "code",
      "metadata": {
        "id": "fDrG9jWGL_pa"
      },
      "source": [
        ""
      ],
      "execution_count": null,
      "outputs": []
    }
  ]
}