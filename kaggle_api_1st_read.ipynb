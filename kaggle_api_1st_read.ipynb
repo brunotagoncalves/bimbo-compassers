{
  "nbformat": 4,
  "nbformat_minor": 0,
  "metadata": {
    "colab": {
      "name": "Untitled0.ipynb",
      "provenance": [],
      "toc_visible": true,
      "authorship_tag": "ABX9TyN1UhnCSXq5R8L0RRUyuMU0",
      "include_colab_link": true
    },
    "kernelspec": {
      "name": "python3",
      "display_name": "Python 3"
    },
    "language_info": {
      "name": "python"
    }
  },
  "cells": [
    {
      "cell_type": "markdown",
      "metadata": {
        "id": "view-in-github",
        "colab_type": "text"
      },
      "source": [
        "<a href=\"https://colab.research.google.com/github/brunotagoncalves/bimbo-compassers/blob/main/kaggle_api_1st_read.ipynb\" target=\"_parent\"><img src=\"https://colab.research.google.com/assets/colab-badge.svg\" alt=\"Open In Colab\"/></a>"
      ]
    },
    {
      "cell_type": "markdown",
      "metadata": {
        "id": "zzFCd_M-Ey6L"
      },
      "source": [
        "# Notebook para Download e Leitura Inicial de Arquivos \n"
      ]
    },
    {
      "cell_type": "markdown",
      "metadata": {
        "id": "ArMBhA_cFN8_"
      },
      "source": [
        "1) Instalação e Download de Arquivos Kaggle"
      ]
    },
    {
      "cell_type": "code",
      "metadata": {
        "id": "Ifkp6R57QRTA",
        "colab": {
          "base_uri": "https://localhost:8080/"
        },
        "outputId": "bd4c9827-b891-4263-c9e7-b1ce5e5a67c1"
      },
      "source": [
        "# Podem  ocorrrer falhas de instalação como lxml, mas isso não atrapalha o restante do código\n",
        "!pip install -q kaggle\n",
        "!pip install -q kaggle-cli"
      ],
      "execution_count": 2,
      "outputs": [
        {
          "output_type": "stream",
          "text": [
            "\u001b[K     |████████████████████████████████| 81kB 5.8MB/s \n",
            "\u001b[K     |████████████████████████████████| 4.2MB 21.1MB/s \n",
            "\u001b[K     |████████████████████████████████| 112kB 61.4MB/s \n",
            "\u001b[K     |████████████████████████████████| 51kB 4.6MB/s \n",
            "\u001b[K     |████████████████████████████████| 143kB 58.1MB/s \n",
            "\u001b[?25h  Building wheel for kaggle-cli (setup.py) ... \u001b[?25l\u001b[?25hdone\n",
            "  Building wheel for lxml (setup.py) ... \u001b[?25lerror\n",
            "\u001b[31m  ERROR: Failed building wheel for lxml\u001b[0m\n",
            "\u001b[?25h  Building wheel for PrettyTable (setup.py) ... \u001b[?25l\u001b[?25hdone\n",
            "  Building wheel for pyperclip (setup.py) ... \u001b[?25l\u001b[?25hdone\n",
            "    Running setup.py install for lxml ... \u001b[?25l\u001b[?25herror\n",
            "\u001b[31mERROR: Command errored out with exit status 1: /usr/bin/python3 -u -c 'import sys, setuptools, tokenize; sys.argv[0] = '\"'\"'/tmp/pip-install-fxbuafre/lxml/setup.py'\"'\"'; __file__='\"'\"'/tmp/pip-install-fxbuafre/lxml/setup.py'\"'\"';f=getattr(tokenize, '\"'\"'open'\"'\"', open)(__file__);code=f.read().replace('\"'\"'\\r\\n'\"'\"', '\"'\"'\\n'\"'\"');f.close();exec(compile(code, __file__, '\"'\"'exec'\"'\"'))' install --record /tmp/pip-record-0707ltkd/install-record.txt --single-version-externally-managed --compile Check the logs for full command output.\u001b[0m\n"
          ],
          "name": "stdout"
        }
      ]
    },
    {
      "cell_type": "code",
      "metadata": {
        "id": "7NLSi0qhN-kG"
      },
      "source": [
        "# Alterando arquivo de config do Kaggle com dados pessoais https://www.kaggle.com/\"username\"/account  crie um token pessoal no botão \"create new api token\"\n",
        "!mkdir ~/.kaggle\n",
        "!echo '{\"username\":\"bruno9tg\",\"key\":\"af1c55f9b5f7047607614bcf60ee719b\"}' > ~/.kaggle/kaggle.json"
      ],
      "execution_count": 3,
      "outputs": []
    },
    {
      "cell_type": "code",
      "metadata": {
        "colab": {
          "base_uri": "https://localhost:8080/"
        },
        "id": "nTx5CyN_KEgG",
        "outputId": "bff8ba18-9d6a-4051-acc4-00e48acb7707"
      },
      "source": [
        "#utiliza api kaggle para realizar download\n",
        "#!kaggle competitions download -c grupo-bimbo-inventory-demand\n",
        "!kaggle competitions download -p data/ grupo-bimbo-inventory-demand"
      ],
      "execution_count": 4,
      "outputs": [
        {
          "output_type": "stream",
          "text": [
            "Warning: Your Kaggle API key is readable by other users on this system! To fix this, you can run 'chmod 600 /root/.kaggle/kaggle.json'\n",
            "Warning: Looks like you're using an outdated API Version, please consider updating (server 1.5.12 / client 1.5.4)\n",
            "Downloading sample_submission.csv.zip to data\n",
            " 34% 5.00M/14.8M [00:00<00:00, 18.3MB/s]\n",
            "100% 14.8M/14.8M [00:00<00:00, 41.7MB/s]\n",
            "Downloading town_state.csv.zip to data\n",
            "  0% 0.00/6.35k [00:00<?, ?B/s]\n",
            "100% 6.35k/6.35k [00:00<00:00, 5.43MB/s]\n",
            "Downloading producto_tabla.csv.zip to data\n",
            "  0% 0.00/31.5k [00:00<?, ?B/s]\n",
            "100% 31.5k/31.5k [00:00<00:00, 27.8MB/s]\n",
            "Downloading test.csv.zip to data\n",
            " 86% 74.0M/85.8M [00:00<00:00, 52.2MB/s]\n",
            "100% 85.8M/85.8M [00:00<00:00, 110MB/s] \n",
            "Downloading train.csv.zip to data\n",
            " 96% 357M/373M [00:03<00:00, 88.1MB/s]\n",
            "100% 373M/373M [00:03<00:00, 99.1MB/s]\n",
            "Downloading cliente_tabla.csv.zip to data\n",
            " 85% 5.00M/5.87M [00:00<00:00, 20.9MB/s]\n",
            "100% 5.87M/5.87M [00:00<00:00, 22.8MB/s]\n"
          ],
          "name": "stdout"
        }
      ]
    },
    {
      "cell_type": "markdown",
      "metadata": {
        "id": "0Zz0TcBlGdvy"
      },
      "source": [
        "2) Leitura básica dos arquivos"
      ]
    },
    {
      "cell_type": "code",
      "metadata": {
        "id": "WOT9kjhoaw0K"
      },
      "source": [
        "import pandas as pd "
      ],
      "execution_count": 5,
      "outputs": []
    },
    {
      "cell_type": "code",
      "metadata": {
        "id": "JHFnciVhi42X",
        "colab": {
          "base_uri": "https://localhost:8080/"
        },
        "outputId": "854df307-79f6-4396-d291-c1b0c5c6a857"
      },
      "source": [
        "!ls data/"
      ],
      "execution_count": 6,
      "outputs": [
        {
          "output_type": "stream",
          "text": [
            "cliente_tabla.csv.zip\tsample_submission.csv.zip  town_state.csv.zip\n",
            "producto_tabla.csv.zip\ttest.csv.zip\t\t   train.csv.zip\n"
          ],
          "name": "stdout"
        }
      ]
    },
    {
      "cell_type": "code",
      "metadata": {
        "id": "rcimfzFGiuHo",
        "colab": {
          "base_uri": "https://localhost:8080/",
          "height": 204
        },
        "outputId": "8fc4a429-52e8-4c47-d70b-b0cdb89be583"
      },
      "source": [
        "pd.read_csv('data/cliente_tabla.csv.zip').head()"
      ],
      "execution_count": 7,
      "outputs": [
        {
          "output_type": "execute_result",
          "data": {
            "text/html": [
              "<div>\n",
              "<style scoped>\n",
              "    .dataframe tbody tr th:only-of-type {\n",
              "        vertical-align: middle;\n",
              "    }\n",
              "\n",
              "    .dataframe tbody tr th {\n",
              "        vertical-align: top;\n",
              "    }\n",
              "\n",
              "    .dataframe thead th {\n",
              "        text-align: right;\n",
              "    }\n",
              "</style>\n",
              "<table border=\"1\" class=\"dataframe\">\n",
              "  <thead>\n",
              "    <tr style=\"text-align: right;\">\n",
              "      <th></th>\n",
              "      <th>Cliente_ID</th>\n",
              "      <th>NombreCliente</th>\n",
              "    </tr>\n",
              "  </thead>\n",
              "  <tbody>\n",
              "    <tr>\n",
              "      <th>0</th>\n",
              "      <td>0</td>\n",
              "      <td>SIN NOMBRE</td>\n",
              "    </tr>\n",
              "    <tr>\n",
              "      <th>1</th>\n",
              "      <td>1</td>\n",
              "      <td>OXXO XINANTECATL</td>\n",
              "    </tr>\n",
              "    <tr>\n",
              "      <th>2</th>\n",
              "      <td>2</td>\n",
              "      <td>SIN NOMBRE</td>\n",
              "    </tr>\n",
              "    <tr>\n",
              "      <th>3</th>\n",
              "      <td>3</td>\n",
              "      <td>EL MORENO</td>\n",
              "    </tr>\n",
              "    <tr>\n",
              "      <th>4</th>\n",
              "      <td>4</td>\n",
              "      <td>SDN SER  DE ALIM  CUERPO SA CIA  DE INT</td>\n",
              "    </tr>\n",
              "  </tbody>\n",
              "</table>\n",
              "</div>"
            ],
            "text/plain": [
              "   Cliente_ID                            NombreCliente\n",
              "0           0                               SIN NOMBRE\n",
              "1           1                         OXXO XINANTECATL\n",
              "2           2                               SIN NOMBRE\n",
              "3           3                                EL MORENO\n",
              "4           4  SDN SER  DE ALIM  CUERPO SA CIA  DE INT"
            ]
          },
          "metadata": {
            "tags": []
          },
          "execution_count": 7
        }
      ]
    },
    {
      "cell_type": "code",
      "metadata": {
        "id": "Xw99lcpOi9i_",
        "colab": {
          "base_uri": "https://localhost:8080/",
          "height": 204
        },
        "outputId": "da976c15-a60d-41b6-b328-da08674ec565"
      },
      "source": [
        "pd.read_csv('data/producto_tabla.csv.zip').head()"
      ],
      "execution_count": 8,
      "outputs": [
        {
          "output_type": "execute_result",
          "data": {
            "text/html": [
              "<div>\n",
              "<style scoped>\n",
              "    .dataframe tbody tr th:only-of-type {\n",
              "        vertical-align: middle;\n",
              "    }\n",
              "\n",
              "    .dataframe tbody tr th {\n",
              "        vertical-align: top;\n",
              "    }\n",
              "\n",
              "    .dataframe thead th {\n",
              "        text-align: right;\n",
              "    }\n",
              "</style>\n",
              "<table border=\"1\" class=\"dataframe\">\n",
              "  <thead>\n",
              "    <tr style=\"text-align: right;\">\n",
              "      <th></th>\n",
              "      <th>Producto_ID</th>\n",
              "      <th>NombreProducto</th>\n",
              "    </tr>\n",
              "  </thead>\n",
              "  <tbody>\n",
              "    <tr>\n",
              "      <th>0</th>\n",
              "      <td>0</td>\n",
              "      <td>NO IDENTIFICADO 0</td>\n",
              "    </tr>\n",
              "    <tr>\n",
              "      <th>1</th>\n",
              "      <td>9</td>\n",
              "      <td>Capuccino Moka 750g NES 9</td>\n",
              "    </tr>\n",
              "    <tr>\n",
              "      <th>2</th>\n",
              "      <td>41</td>\n",
              "      <td>Bimbollos Ext sAjonjoli 6p 480g BIM 41</td>\n",
              "    </tr>\n",
              "    <tr>\n",
              "      <th>3</th>\n",
              "      <td>53</td>\n",
              "      <td>Burritos Sincro 170g CU LON 53</td>\n",
              "    </tr>\n",
              "    <tr>\n",
              "      <th>4</th>\n",
              "      <td>72</td>\n",
              "      <td>Div Tira Mini Doradita 4p 45g TR 72</td>\n",
              "    </tr>\n",
              "  </tbody>\n",
              "</table>\n",
              "</div>"
            ],
            "text/plain": [
              "   Producto_ID                          NombreProducto\n",
              "0            0                       NO IDENTIFICADO 0\n",
              "1            9               Capuccino Moka 750g NES 9\n",
              "2           41  Bimbollos Ext sAjonjoli 6p 480g BIM 41\n",
              "3           53          Burritos Sincro 170g CU LON 53\n",
              "4           72     Div Tira Mini Doradita 4p 45g TR 72"
            ]
          },
          "metadata": {
            "tags": []
          },
          "execution_count": 8
        }
      ]
    },
    {
      "cell_type": "code",
      "metadata": {
        "id": "J2pp7S2xi-qK",
        "colab": {
          "base_uri": "https://localhost:8080/",
          "height": 204
        },
        "outputId": "e9acc5da-8658-4340-9510-6f87b01c366e"
      },
      "source": [
        "pd.read_csv('data/sample_submission.csv.zip').head()"
      ],
      "execution_count": 9,
      "outputs": [
        {
          "output_type": "execute_result",
          "data": {
            "text/html": [
              "<div>\n",
              "<style scoped>\n",
              "    .dataframe tbody tr th:only-of-type {\n",
              "        vertical-align: middle;\n",
              "    }\n",
              "\n",
              "    .dataframe tbody tr th {\n",
              "        vertical-align: top;\n",
              "    }\n",
              "\n",
              "    .dataframe thead th {\n",
              "        text-align: right;\n",
              "    }\n",
              "</style>\n",
              "<table border=\"1\" class=\"dataframe\">\n",
              "  <thead>\n",
              "    <tr style=\"text-align: right;\">\n",
              "      <th></th>\n",
              "      <th>id</th>\n",
              "      <th>Demanda_uni_equil</th>\n",
              "    </tr>\n",
              "  </thead>\n",
              "  <tbody>\n",
              "    <tr>\n",
              "      <th>0</th>\n",
              "      <td>0</td>\n",
              "      <td>7</td>\n",
              "    </tr>\n",
              "    <tr>\n",
              "      <th>1</th>\n",
              "      <td>1</td>\n",
              "      <td>7</td>\n",
              "    </tr>\n",
              "    <tr>\n",
              "      <th>2</th>\n",
              "      <td>2</td>\n",
              "      <td>7</td>\n",
              "    </tr>\n",
              "    <tr>\n",
              "      <th>3</th>\n",
              "      <td>3</td>\n",
              "      <td>7</td>\n",
              "    </tr>\n",
              "    <tr>\n",
              "      <th>4</th>\n",
              "      <td>4</td>\n",
              "      <td>7</td>\n",
              "    </tr>\n",
              "  </tbody>\n",
              "</table>\n",
              "</div>"
            ],
            "text/plain": [
              "   id  Demanda_uni_equil\n",
              "0   0                  7\n",
              "1   1                  7\n",
              "2   2                  7\n",
              "3   3                  7\n",
              "4   4                  7"
            ]
          },
          "metadata": {
            "tags": []
          },
          "execution_count": 9
        }
      ]
    },
    {
      "cell_type": "code",
      "metadata": {
        "id": "b-YSH5C0inIh",
        "colab": {
          "base_uri": "https://localhost:8080/",
          "height": 204
        },
        "outputId": "45618ae1-16bb-48f4-b8a1-fa891a175dab"
      },
      "source": [
        "pd.read_csv('data/test.csv.zip').head()"
      ],
      "execution_count": 10,
      "outputs": [
        {
          "output_type": "execute_result",
          "data": {
            "text/html": [
              "<div>\n",
              "<style scoped>\n",
              "    .dataframe tbody tr th:only-of-type {\n",
              "        vertical-align: middle;\n",
              "    }\n",
              "\n",
              "    .dataframe tbody tr th {\n",
              "        vertical-align: top;\n",
              "    }\n",
              "\n",
              "    .dataframe thead th {\n",
              "        text-align: right;\n",
              "    }\n",
              "</style>\n",
              "<table border=\"1\" class=\"dataframe\">\n",
              "  <thead>\n",
              "    <tr style=\"text-align: right;\">\n",
              "      <th></th>\n",
              "      <th>id</th>\n",
              "      <th>Semana</th>\n",
              "      <th>Agencia_ID</th>\n",
              "      <th>Canal_ID</th>\n",
              "      <th>Ruta_SAK</th>\n",
              "      <th>Cliente_ID</th>\n",
              "      <th>Producto_ID</th>\n",
              "    </tr>\n",
              "  </thead>\n",
              "  <tbody>\n",
              "    <tr>\n",
              "      <th>0</th>\n",
              "      <td>0</td>\n",
              "      <td>11</td>\n",
              "      <td>4037</td>\n",
              "      <td>1</td>\n",
              "      <td>2209</td>\n",
              "      <td>4639078</td>\n",
              "      <td>35305</td>\n",
              "    </tr>\n",
              "    <tr>\n",
              "      <th>1</th>\n",
              "      <td>1</td>\n",
              "      <td>11</td>\n",
              "      <td>2237</td>\n",
              "      <td>1</td>\n",
              "      <td>1226</td>\n",
              "      <td>4705135</td>\n",
              "      <td>1238</td>\n",
              "    </tr>\n",
              "    <tr>\n",
              "      <th>2</th>\n",
              "      <td>2</td>\n",
              "      <td>10</td>\n",
              "      <td>2045</td>\n",
              "      <td>1</td>\n",
              "      <td>2831</td>\n",
              "      <td>4549769</td>\n",
              "      <td>32940</td>\n",
              "    </tr>\n",
              "    <tr>\n",
              "      <th>3</th>\n",
              "      <td>3</td>\n",
              "      <td>11</td>\n",
              "      <td>1227</td>\n",
              "      <td>1</td>\n",
              "      <td>4448</td>\n",
              "      <td>4717855</td>\n",
              "      <td>43066</td>\n",
              "    </tr>\n",
              "    <tr>\n",
              "      <th>4</th>\n",
              "      <td>4</td>\n",
              "      <td>11</td>\n",
              "      <td>1219</td>\n",
              "      <td>1</td>\n",
              "      <td>1130</td>\n",
              "      <td>966351</td>\n",
              "      <td>1277</td>\n",
              "    </tr>\n",
              "  </tbody>\n",
              "</table>\n",
              "</div>"
            ],
            "text/plain": [
              "   id  Semana  Agencia_ID  Canal_ID  Ruta_SAK  Cliente_ID  Producto_ID\n",
              "0   0      11        4037         1      2209     4639078        35305\n",
              "1   1      11        2237         1      1226     4705135         1238\n",
              "2   2      10        2045         1      2831     4549769        32940\n",
              "3   3      11        1227         1      4448     4717855        43066\n",
              "4   4      11        1219         1      1130      966351         1277"
            ]
          },
          "metadata": {
            "tags": []
          },
          "execution_count": 10
        }
      ]
    },
    {
      "cell_type": "code",
      "metadata": {
        "id": "JtMOC8cRjMYW",
        "colab": {
          "base_uri": "https://localhost:8080/",
          "height": 204
        },
        "outputId": "e0e776bc-5b8a-4df3-d9e7-cfa4d85e1983"
      },
      "source": [
        "pd.read_csv('data/town_state.csv.zip').head()"
      ],
      "execution_count": 11,
      "outputs": [
        {
          "output_type": "execute_result",
          "data": {
            "text/html": [
              "<div>\n",
              "<style scoped>\n",
              "    .dataframe tbody tr th:only-of-type {\n",
              "        vertical-align: middle;\n",
              "    }\n",
              "\n",
              "    .dataframe tbody tr th {\n",
              "        vertical-align: top;\n",
              "    }\n",
              "\n",
              "    .dataframe thead th {\n",
              "        text-align: right;\n",
              "    }\n",
              "</style>\n",
              "<table border=\"1\" class=\"dataframe\">\n",
              "  <thead>\n",
              "    <tr style=\"text-align: right;\">\n",
              "      <th></th>\n",
              "      <th>Agencia_ID</th>\n",
              "      <th>Town</th>\n",
              "      <th>State</th>\n",
              "    </tr>\n",
              "  </thead>\n",
              "  <tbody>\n",
              "    <tr>\n",
              "      <th>0</th>\n",
              "      <td>1110</td>\n",
              "      <td>2008 AG. LAGO FILT</td>\n",
              "      <td>MÉXICO, D.F.</td>\n",
              "    </tr>\n",
              "    <tr>\n",
              "      <th>1</th>\n",
              "      <td>1111</td>\n",
              "      <td>2002 AG. AZCAPOTZALCO</td>\n",
              "      <td>MÉXICO, D.F.</td>\n",
              "    </tr>\n",
              "    <tr>\n",
              "      <th>2</th>\n",
              "      <td>1112</td>\n",
              "      <td>2004 AG. CUAUTITLAN</td>\n",
              "      <td>ESTADO DE MÉXICO</td>\n",
              "    </tr>\n",
              "    <tr>\n",
              "      <th>3</th>\n",
              "      <td>1113</td>\n",
              "      <td>2008 AG. LAGO FILT</td>\n",
              "      <td>MÉXICO, D.F.</td>\n",
              "    </tr>\n",
              "    <tr>\n",
              "      <th>4</th>\n",
              "      <td>1114</td>\n",
              "      <td>2029 AG.IZTAPALAPA 2</td>\n",
              "      <td>MÉXICO, D.F.</td>\n",
              "    </tr>\n",
              "  </tbody>\n",
              "</table>\n",
              "</div>"
            ],
            "text/plain": [
              "   Agencia_ID                   Town             State\n",
              "0        1110     2008 AG. LAGO FILT      MÉXICO, D.F.\n",
              "1        1111  2002 AG. AZCAPOTZALCO      MÉXICO, D.F.\n",
              "2        1112    2004 AG. CUAUTITLAN  ESTADO DE MÉXICO\n",
              "3        1113     2008 AG. LAGO FILT      MÉXICO, D.F.\n",
              "4        1114   2029 AG.IZTAPALAPA 2      MÉXICO, D.F."
            ]
          },
          "metadata": {
            "tags": []
          },
          "execution_count": 11
        }
      ]
    },
    {
      "cell_type": "code",
      "metadata": {
        "id": "y4UQ_viXjWSK",
        "colab": {
          "base_uri": "https://localhost:8080/",
          "height": 419
        },
        "outputId": "f8c177a6-72d0-4a3f-a346-94bc7fa843a2"
      },
      "source": [
        "# Para os dados de treino o volume já excede a memoria do Colab usar a função iterator se faz necessário.\n",
        "sample_train = pd.read_csv('data/train.csv.zip', nrows=1000)\n",
        "sample_train"
      ],
      "execution_count": 12,
      "outputs": [
        {
          "output_type": "execute_result",
          "data": {
            "text/html": [
              "<div>\n",
              "<style scoped>\n",
              "    .dataframe tbody tr th:only-of-type {\n",
              "        vertical-align: middle;\n",
              "    }\n",
              "\n",
              "    .dataframe tbody tr th {\n",
              "        vertical-align: top;\n",
              "    }\n",
              "\n",
              "    .dataframe thead th {\n",
              "        text-align: right;\n",
              "    }\n",
              "</style>\n",
              "<table border=\"1\" class=\"dataframe\">\n",
              "  <thead>\n",
              "    <tr style=\"text-align: right;\">\n",
              "      <th></th>\n",
              "      <th>Semana</th>\n",
              "      <th>Agencia_ID</th>\n",
              "      <th>Canal_ID</th>\n",
              "      <th>Ruta_SAK</th>\n",
              "      <th>Cliente_ID</th>\n",
              "      <th>Producto_ID</th>\n",
              "      <th>Venta_uni_hoy</th>\n",
              "      <th>Venta_hoy</th>\n",
              "      <th>Dev_uni_proxima</th>\n",
              "      <th>Dev_proxima</th>\n",
              "      <th>Demanda_uni_equil</th>\n",
              "    </tr>\n",
              "  </thead>\n",
              "  <tbody>\n",
              "    <tr>\n",
              "      <th>0</th>\n",
              "      <td>3</td>\n",
              "      <td>1110</td>\n",
              "      <td>7</td>\n",
              "      <td>3301</td>\n",
              "      <td>15766</td>\n",
              "      <td>1212</td>\n",
              "      <td>3</td>\n",
              "      <td>25.14</td>\n",
              "      <td>0</td>\n",
              "      <td>0.0</td>\n",
              "      <td>3</td>\n",
              "    </tr>\n",
              "    <tr>\n",
              "      <th>1</th>\n",
              "      <td>3</td>\n",
              "      <td>1110</td>\n",
              "      <td>7</td>\n",
              "      <td>3301</td>\n",
              "      <td>15766</td>\n",
              "      <td>1216</td>\n",
              "      <td>4</td>\n",
              "      <td>33.52</td>\n",
              "      <td>0</td>\n",
              "      <td>0.0</td>\n",
              "      <td>4</td>\n",
              "    </tr>\n",
              "    <tr>\n",
              "      <th>2</th>\n",
              "      <td>3</td>\n",
              "      <td>1110</td>\n",
              "      <td>7</td>\n",
              "      <td>3301</td>\n",
              "      <td>15766</td>\n",
              "      <td>1238</td>\n",
              "      <td>4</td>\n",
              "      <td>39.32</td>\n",
              "      <td>0</td>\n",
              "      <td>0.0</td>\n",
              "      <td>4</td>\n",
              "    </tr>\n",
              "    <tr>\n",
              "      <th>3</th>\n",
              "      <td>3</td>\n",
              "      <td>1110</td>\n",
              "      <td>7</td>\n",
              "      <td>3301</td>\n",
              "      <td>15766</td>\n",
              "      <td>1240</td>\n",
              "      <td>4</td>\n",
              "      <td>33.52</td>\n",
              "      <td>0</td>\n",
              "      <td>0.0</td>\n",
              "      <td>4</td>\n",
              "    </tr>\n",
              "    <tr>\n",
              "      <th>4</th>\n",
              "      <td>3</td>\n",
              "      <td>1110</td>\n",
              "      <td>7</td>\n",
              "      <td>3301</td>\n",
              "      <td>15766</td>\n",
              "      <td>1242</td>\n",
              "      <td>3</td>\n",
              "      <td>22.92</td>\n",
              "      <td>0</td>\n",
              "      <td>0.0</td>\n",
              "      <td>3</td>\n",
              "    </tr>\n",
              "    <tr>\n",
              "      <th>...</th>\n",
              "      <td>...</td>\n",
              "      <td>...</td>\n",
              "      <td>...</td>\n",
              "      <td>...</td>\n",
              "      <td>...</td>\n",
              "      <td>...</td>\n",
              "      <td>...</td>\n",
              "      <td>...</td>\n",
              "      <td>...</td>\n",
              "      <td>...</td>\n",
              "      <td>...</td>\n",
              "    </tr>\n",
              "    <tr>\n",
              "      <th>995</th>\n",
              "      <td>3</td>\n",
              "      <td>1110</td>\n",
              "      <td>7</td>\n",
              "      <td>3303</td>\n",
              "      <td>1453543</td>\n",
              "      <td>1250</td>\n",
              "      <td>25</td>\n",
              "      <td>191.00</td>\n",
              "      <td>0</td>\n",
              "      <td>0.0</td>\n",
              "      <td>25</td>\n",
              "    </tr>\n",
              "    <tr>\n",
              "      <th>996</th>\n",
              "      <td>3</td>\n",
              "      <td>1110</td>\n",
              "      <td>7</td>\n",
              "      <td>3303</td>\n",
              "      <td>1453543</td>\n",
              "      <td>1309</td>\n",
              "      <td>6</td>\n",
              "      <td>40.56</td>\n",
              "      <td>0</td>\n",
              "      <td>0.0</td>\n",
              "      <td>6</td>\n",
              "    </tr>\n",
              "    <tr>\n",
              "      <th>997</th>\n",
              "      <td>3</td>\n",
              "      <td>1110</td>\n",
              "      <td>7</td>\n",
              "      <td>3303</td>\n",
              "      <td>1453543</td>\n",
              "      <td>3270</td>\n",
              "      <td>1</td>\n",
              "      <td>10.47</td>\n",
              "      <td>0</td>\n",
              "      <td>0.0</td>\n",
              "      <td>1</td>\n",
              "    </tr>\n",
              "    <tr>\n",
              "      <th>998</th>\n",
              "      <td>3</td>\n",
              "      <td>1110</td>\n",
              "      <td>7</td>\n",
              "      <td>3303</td>\n",
              "      <td>1453543</td>\n",
              "      <td>4270</td>\n",
              "      <td>2</td>\n",
              "      <td>16.76</td>\n",
              "      <td>0</td>\n",
              "      <td>0.0</td>\n",
              "      <td>2</td>\n",
              "    </tr>\n",
              "    <tr>\n",
              "      <th>999</th>\n",
              "      <td>3</td>\n",
              "      <td>1110</td>\n",
              "      <td>7</td>\n",
              "      <td>3303</td>\n",
              "      <td>1453543</td>\n",
              "      <td>4280</td>\n",
              "      <td>6</td>\n",
              "      <td>36.00</td>\n",
              "      <td>0</td>\n",
              "      <td>0.0</td>\n",
              "      <td>6</td>\n",
              "    </tr>\n",
              "  </tbody>\n",
              "</table>\n",
              "<p>1000 rows × 11 columns</p>\n",
              "</div>"
            ],
            "text/plain": [
              "     Semana  Agencia_ID  ...  Dev_proxima  Demanda_uni_equil\n",
              "0         3        1110  ...          0.0                  3\n",
              "1         3        1110  ...          0.0                  4\n",
              "2         3        1110  ...          0.0                  4\n",
              "3         3        1110  ...          0.0                  4\n",
              "4         3        1110  ...          0.0                  3\n",
              "..      ...         ...  ...          ...                ...\n",
              "995       3        1110  ...          0.0                 25\n",
              "996       3        1110  ...          0.0                  6\n",
              "997       3        1110  ...          0.0                  1\n",
              "998       3        1110  ...          0.0                  2\n",
              "999       3        1110  ...          0.0                  6\n",
              "\n",
              "[1000 rows x 11 columns]"
            ]
          },
          "metadata": {
            "tags": []
          },
          "execution_count": 12
        }
      ]
    },
    {
      "cell_type": "markdown",
      "metadata": {
        "id": "dWohvoKFG05J"
      },
      "source": [
        "3) Instalação de Leitura com SPARK"
      ]
    },
    {
      "cell_type": "code",
      "metadata": {
        "id": "5mqJsjaUkBsN",
        "colab": {
          "base_uri": "https://localhost:8080/"
        },
        "outputId": "463a2542-baa9-401d-d34f-0fd11beaa7bd"
      },
      "source": [
        "!apt-get install openjdk-8-jdk-headless -qq > /dev/null\n",
        "#!wget http://www-eu.apache.org/dist/spark/spark-2.4.8/spark-2.4.8-bin-hadoop2.7.tgz \n",
        "!wget -P spark_tgz/ http://www-eu.apache.org/dist/spark/spark-2.4.8/spark-2.4.8-bin-hadoop2.7.tgz "
      ],
      "execution_count": 13,
      "outputs": [
        {
          "output_type": "stream",
          "text": [
            "--2021-06-09 19:00:32--  http://www-eu.apache.org/dist/spark/spark-2.4.8/spark-2.4.8-bin-hadoop2.7.tgz\n",
            "Resolving www-eu.apache.org (www-eu.apache.org)... 95.216.26.30, 2a01:4f9:2a:1a61::2\n",
            "Connecting to www-eu.apache.org (www-eu.apache.org)|95.216.26.30|:80... connected.\n",
            "HTTP request sent, awaiting response... 302 Found\n",
            "Location: https://downloads.apache.org/spark/spark-2.4.8/spark-2.4.8-bin-hadoop2.7.tgz [following]\n",
            "--2021-06-09 19:00:32--  https://downloads.apache.org/spark/spark-2.4.8/spark-2.4.8-bin-hadoop2.7.tgz\n",
            "Resolving downloads.apache.org (downloads.apache.org)... 135.181.209.10, 135.181.214.104, 88.99.95.219, ...\n",
            "Connecting to downloads.apache.org (downloads.apache.org)|135.181.209.10|:443... connected.\n",
            "HTTP request sent, awaiting response... 200 OK\n",
            "Length: 235899716 (225M) [application/x-gzip]\n",
            "Saving to: ‘spark_tgz/spark-2.4.8-bin-hadoop2.7.tgz’\n",
            "\n",
            "spark-2.4.8-bin-had 100%[===================>] 224.97M  78.4MB/s    in 2.9s    \n",
            "\n",
            "2021-06-09 19:00:35 (78.4 MB/s) - ‘spark_tgz/spark-2.4.8-bin-hadoop2.7.tgz’ saved [235899716/235899716]\n",
            "\n"
          ],
          "name": "stdout"
        }
      ]
    },
    {
      "cell_type": "code",
      "metadata": {
        "id": "yjYuiDedm2wX",
        "colab": {
          "base_uri": "https://localhost:8080/"
        },
        "outputId": "67696555-1043-4aa9-d1b4-4740e04521f4"
      },
      "source": [
        "!tar -xf spark_tgz/spark-2.4.8-bin-hadoop2.7.tgz -C spark_tgz/\n",
        "!pip install -q findspark\n",
        "!pip install -q pyspark"
      ],
      "execution_count": 14,
      "outputs": [
        {
          "output_type": "stream",
          "text": [
            "\u001b[K     |████████████████████████████████| 212.4MB 67kB/s \n",
            "\u001b[K     |████████████████████████████████| 204kB 23.1MB/s \n",
            "\u001b[?25h  Building wheel for pyspark (setup.py) ... \u001b[?25l\u001b[?25hdone\n"
          ],
          "name": "stdout"
        }
      ]
    },
    {
      "cell_type": "code",
      "metadata": {
        "id": "FdID4xtSEQFt"
      },
      "source": [
        "import os\n",
        "os.environ[\"JAVA_HOME\"] = \"/usr/lib/jvm/java-8-openjdk-amd64\"\n",
        "os.environ[\"SPARK_HOME\"] = \"/content/spark_tgz/spark-2.4.8-bin-hadoop2.7\""
      ],
      "execution_count": 15,
      "outputs": []
    },
    {
      "cell_type": "code",
      "metadata": {
        "id": "wgxq4vxoESoj"
      },
      "source": [
        "import findspark\n",
        "findspark.init()\n",
        "from pyspark.sql import SparkSession\n",
        "spark = SparkSession.builder.master(\"local[*]\").getOrCreate()"
      ],
      "execution_count": 16,
      "outputs": []
    },
    {
      "cell_type": "code",
      "metadata": {
        "colab": {
          "base_uri": "https://localhost:8080/"
        },
        "id": "HEoLPI7HPmk7",
        "outputId": "58f11641-8428-4792-db6d-1bff17ba7d16"
      },
      "source": [
        "!unzip 'data/*.zip' -d 'data/'"
      ],
      "execution_count": 17,
      "outputs": [
        {
          "output_type": "stream",
          "text": [
            "Archive:  data/cliente_tabla.csv.zip\n",
            "  inflating: data/cliente_tabla.csv  \n",
            "\n",
            "Archive:  data/producto_tabla.csv.zip\n",
            "  inflating: data/producto_tabla.csv  \n",
            "\n",
            "Archive:  data/sample_submission.csv.zip\n",
            "  inflating: data/sample_submission.csv  \n",
            "\n",
            "Archive:  data/train.csv.zip\n",
            "  inflating: data/train.csv          \n",
            "\n",
            "Archive:  data/test.csv.zip\n",
            "  inflating: data/test.csv           \n",
            "\n",
            "Archive:  data/town_state.csv.zip\n",
            "  inflating: data/town_state.csv     \n",
            "\n",
            "6 archives were successfully processed.\n"
          ],
          "name": "stdout"
        }
      ]
    },
    {
      "cell_type": "code",
      "metadata": {
        "id": "_Duqk9_nEVoR"
      },
      "source": [
        "df = spark.read.format('csv').option(\"header\", \"True\").load(\"data/train.csv\")"
      ],
      "execution_count": 74,
      "outputs": []
    },
    {
      "cell_type": "code",
      "metadata": {
        "id": "Erpmkg9BEg4N",
        "colab": {
          "base_uri": "https://localhost:8080/"
        },
        "outputId": "a6e3c424-31d3-4205-b8ca-47c6ce0469b1"
      },
      "source": [
        "%%time\n",
        "df.count()"
      ],
      "execution_count": 75,
      "outputs": [
        {
          "output_type": "stream",
          "text": [
            "CPU times: user 96.1 ms, sys: 11.4 ms, total: 108 ms\n",
            "Wall time: 21.3 s\n"
          ],
          "name": "stdout"
        },
        {
          "output_type": "execute_result",
          "data": {
            "text/plain": [
              "74180464"
            ]
          },
          "metadata": {
            "tags": []
          },
          "execution_count": 75
        }
      ]
    },
    {
      "cell_type": "code",
      "metadata": {
        "id": "FD3SV-mKanNX"
      },
      "source": [
        "df = spark.read.format('parquet').load('data/tabelao/')"
      ],
      "execution_count": 76,
      "outputs": []
    },
    {
      "cell_type": "code",
      "metadata": {
        "id": "fbBVAd3hap6c",
        "outputId": "344dccbd-09ab-401c-c15a-9b775ceca57f",
        "colab": {
          "base_uri": "https://localhost:8080/"
        }
      },
      "source": [
        "%%time\n",
        "df.count()"
      ],
      "execution_count": 77,
      "outputs": [
        {
          "output_type": "stream",
          "text": [
            "CPU times: user 3.11 ms, sys: 2.09 ms, total: 5.2 ms\n",
            "Wall time: 296 ms\n"
          ],
          "name": "stdout"
        },
        {
          "output_type": "execute_result",
          "data": {
            "text/plain": [
              "74773833"
            ]
          },
          "metadata": {
            "tags": []
          },
          "execution_count": 77
        }
      ]
    },
    {
      "cell_type": "code",
      "metadata": {
        "id": "wlaczNWeHQ3U"
      },
      "source": [
        "\n",
        "g_df_Semana= df.groupBy('Semana').count().toPandas()"
      ],
      "execution_count": 20,
      "outputs": []
    },
    {
      "cell_type": "code",
      "metadata": {
        "id": "IcEeZU7OKv4R"
      },
      "source": [
        "g_df_Semana.loc[:,'percent'] = g_df_Semana['count']/g_df_Semana['count'].sum()"
      ],
      "execution_count": 21,
      "outputs": []
    },
    {
      "cell_type": "code",
      "metadata": {
        "id": "jJolwZr9K-q9",
        "colab": {
          "base_uri": "https://localhost:8080/",
          "height": 266
        },
        "outputId": "b91495c0-c76c-4ae7-a963-d9dc57f7c362"
      },
      "source": [
        "g_df_Semana.sort_values('Semana')"
      ],
      "execution_count": 22,
      "outputs": [
        {
          "output_type": "execute_result",
          "data": {
            "text/html": [
              "<div>\n",
              "<style scoped>\n",
              "    .dataframe tbody tr th:only-of-type {\n",
              "        vertical-align: middle;\n",
              "    }\n",
              "\n",
              "    .dataframe tbody tr th {\n",
              "        vertical-align: top;\n",
              "    }\n",
              "\n",
              "    .dataframe thead th {\n",
              "        text-align: right;\n",
              "    }\n",
              "</style>\n",
              "<table border=\"1\" class=\"dataframe\">\n",
              "  <thead>\n",
              "    <tr style=\"text-align: right;\">\n",
              "      <th></th>\n",
              "      <th>Semana</th>\n",
              "      <th>count</th>\n",
              "      <th>percent</th>\n",
              "    </tr>\n",
              "  </thead>\n",
              "  <tbody>\n",
              "    <tr>\n",
              "      <th>1</th>\n",
              "      <td>3</td>\n",
              "      <td>11165207</td>\n",
              "      <td>0.150514</td>\n",
              "    </tr>\n",
              "    <tr>\n",
              "      <th>6</th>\n",
              "      <td>4</td>\n",
              "      <td>11009593</td>\n",
              "      <td>0.148416</td>\n",
              "    </tr>\n",
              "    <tr>\n",
              "      <th>3</th>\n",
              "      <td>5</td>\n",
              "      <td>10615397</td>\n",
              "      <td>0.143102</td>\n",
              "    </tr>\n",
              "    <tr>\n",
              "      <th>4</th>\n",
              "      <td>6</td>\n",
              "      <td>10191837</td>\n",
              "      <td>0.137392</td>\n",
              "    </tr>\n",
              "    <tr>\n",
              "      <th>0</th>\n",
              "      <td>7</td>\n",
              "      <td>10382849</td>\n",
              "      <td>0.139967</td>\n",
              "    </tr>\n",
              "    <tr>\n",
              "      <th>2</th>\n",
              "      <td>8</td>\n",
              "      <td>10406868</td>\n",
              "      <td>0.140291</td>\n",
              "    </tr>\n",
              "    <tr>\n",
              "      <th>5</th>\n",
              "      <td>9</td>\n",
              "      <td>10408713</td>\n",
              "      <td>0.140316</td>\n",
              "    </tr>\n",
              "  </tbody>\n",
              "</table>\n",
              "</div>"
            ],
            "text/plain": [
              "  Semana     count   percent\n",
              "1      3  11165207  0.150514\n",
              "6      4  11009593  0.148416\n",
              "3      5  10615397  0.143102\n",
              "4      6  10191837  0.137392\n",
              "0      7  10382849  0.139967\n",
              "2      8  10406868  0.140291\n",
              "5      9  10408713  0.140316"
            ]
          },
          "metadata": {
            "tags": []
          },
          "execution_count": 22
        }
      ]
    },
    {
      "cell_type": "markdown",
      "metadata": {
        "id": "WURAUf6LN_Kr"
      },
      "source": [
        "# Relacionando tabelas "
      ]
    },
    {
      "cell_type": "code",
      "metadata": {
        "colab": {
          "base_uri": "https://localhost:8080/"
        },
        "id": "_YqIaONmepxL",
        "outputId": "be2d1a03-4ae4-4175-ae59-d21fd761623c"
      },
      "source": [
        "!ls data/*.csv"
      ],
      "execution_count": 23,
      "outputs": [
        {
          "output_type": "stream",
          "text": [
            "data/cliente_tabla.csv\t data/sample_submission.csv  data/town_state.csv\n",
            "data/producto_tabla.csv  data/test.csv\t\t     data/train.csv\n"
          ],
          "name": "stdout"
        }
      ]
    },
    {
      "cell_type": "code",
      "metadata": {
        "id": "a8re0pvRQbhD"
      },
      "source": [
        "spark.read.format('csv').option(\"header\", \"True\").load(\"data/cliente_tabla.csv\").createOrReplaceTempView('cliente_tabla') \n",
        "spark.read.format('csv').option(\"header\", \"True\").load(\"data/sample_submission.csv\").createOrReplaceTempView('sample_submission') \n",
        "spark.read.format('csv').option(\"header\", \"True\").load(\"data/town_state.csv\").createOrReplaceTempView('town_state') \n",
        "spark.read.format('csv').option(\"header\", \"True\").load(\"data/producto_tabla.csv\").createOrReplaceTempView('producto_tabla') \n",
        "spark.read.format('csv').option(\"header\", \"True\").load(\"data/test.csv\").createOrReplaceTempView('test') \n",
        "spark.read.format('csv').option(\"header\", \"True\").load(\"data/train.csv\").createOrReplaceTempView('train') "
      ],
      "execution_count": 24,
      "outputs": []
    },
    {
      "cell_type": "code",
      "metadata": {
        "colab": {
          "base_uri": "https://localhost:8080/"
        },
        "id": "pyS_FC91nhHM",
        "outputId": "989a5e5b-6b46-49e7-b576-15b453efe5b4"
      },
      "source": [
        "spark.read.format('csv').option(\"header\", \"True\").load(\"data/train.csv\").sample(fraction=0.005).count()#createOrReplaceTempView('train') "
      ],
      "execution_count": 25,
      "outputs": [
        {
          "output_type": "execute_result",
          "data": {
            "text/plain": [
              "370943"
            ]
          },
          "metadata": {
            "tags": []
          },
          "execution_count": 25
        }
      ]
    },
    {
      "cell_type": "code",
      "metadata": {
        "id": "Yz4s2HYkoO0i"
      },
      "source": [
        "spark.read.format('csv').option(\"header\", \"True\").load(\"data/train.csv\").createOrReplaceTempView('train')# peguei uma amostra para agilizar o processamento em dev"
      ],
      "execution_count": 69,
      "outputs": []
    },
    {
      "cell_type": "code",
      "metadata": {
        "colab": {
          "base_uri": "https://localhost:8080/",
          "height": 529
        },
        "id": "B3tNa6kLf-4z",
        "outputId": "dc9c5d84-b551-4573-b9d7-cac455fa70fe"
      },
      "source": [
        "spark.sql(\"\"\"\n",
        "SELECT train.*\n",
        "  , cliente_tabla.NombreCliente \n",
        "  , producto_tabla.NombreProducto\n",
        "  , town_state.Town\n",
        "  , town_state.State\n",
        "FROM train\n",
        "LEFT JOIN cliente_tabla \n",
        "  on train.Cliente_ID = cliente_tabla.Cliente_ID\n",
        "LEFT JOIN producto_tabla\n",
        "  on train.Producto_ID = producto_tabla.Producto_ID\n",
        "LEFT JOIN town_state\n",
        "  on train.Agencia_ID = town_state.Agencia_ID  \n",
        "\"\"\").limit(10).toPandas() "
      ],
      "execution_count": 70,
      "outputs": [
        {
          "output_type": "execute_result",
          "data": {
            "text/html": [
              "<div>\n",
              "<style scoped>\n",
              "    .dataframe tbody tr th:only-of-type {\n",
              "        vertical-align: middle;\n",
              "    }\n",
              "\n",
              "    .dataframe tbody tr th {\n",
              "        vertical-align: top;\n",
              "    }\n",
              "\n",
              "    .dataframe thead th {\n",
              "        text-align: right;\n",
              "    }\n",
              "</style>\n",
              "<table border=\"1\" class=\"dataframe\">\n",
              "  <thead>\n",
              "    <tr style=\"text-align: right;\">\n",
              "      <th></th>\n",
              "      <th>Semana</th>\n",
              "      <th>Agencia_ID</th>\n",
              "      <th>Canal_ID</th>\n",
              "      <th>Ruta_SAK</th>\n",
              "      <th>Cliente_ID</th>\n",
              "      <th>Producto_ID</th>\n",
              "      <th>Venta_uni_hoy</th>\n",
              "      <th>Venta_hoy</th>\n",
              "      <th>Dev_uni_proxima</th>\n",
              "      <th>Dev_proxima</th>\n",
              "      <th>Demanda_uni_equil</th>\n",
              "      <th>NombreCliente</th>\n",
              "      <th>NombreProducto</th>\n",
              "      <th>Town</th>\n",
              "      <th>State</th>\n",
              "    </tr>\n",
              "  </thead>\n",
              "  <tbody>\n",
              "    <tr>\n",
              "      <th>0</th>\n",
              "      <td>4</td>\n",
              "      <td>1617</td>\n",
              "      <td>1</td>\n",
              "      <td>2802</td>\n",
              "      <td>1000665</td>\n",
              "      <td>43285</td>\n",
              "      <td>2</td>\n",
              "      <td>10.56</td>\n",
              "      <td>0</td>\n",
              "      <td>0.0</td>\n",
              "      <td>2</td>\n",
              "      <td>LA PAZ</td>\n",
              "      <td>Gansito 1p 50g MTB MLA 43285</td>\n",
              "      <td>2370 TEZIUTLAN</td>\n",
              "      <td>PUEBLA</td>\n",
              "    </tr>\n",
              "    <tr>\n",
              "      <th>1</th>\n",
              "      <td>5</td>\n",
              "      <td>1617</td>\n",
              "      <td>1</td>\n",
              "      <td>2802</td>\n",
              "      <td>1000665</td>\n",
              "      <td>43285</td>\n",
              "      <td>2</td>\n",
              "      <td>10.56</td>\n",
              "      <td>0</td>\n",
              "      <td>0.0</td>\n",
              "      <td>2</td>\n",
              "      <td>LA PAZ</td>\n",
              "      <td>Gansito 1p 50g MTB MLA 43285</td>\n",
              "      <td>2370 TEZIUTLAN</td>\n",
              "      <td>PUEBLA</td>\n",
              "    </tr>\n",
              "    <tr>\n",
              "      <th>2</th>\n",
              "      <td>3</td>\n",
              "      <td>1912</td>\n",
              "      <td>1</td>\n",
              "      <td>1019</td>\n",
              "      <td>100140</td>\n",
              "      <td>1125</td>\n",
              "      <td>13</td>\n",
              "      <td>124.8</td>\n",
              "      <td>0</td>\n",
              "      <td>0.0</td>\n",
              "      <td>13</td>\n",
              "      <td>MARTHA GARDUÑO REYES</td>\n",
              "      <td>Tortillinas 10p 255g TR 1125</td>\n",
              "      <td>2294 GUADALAJARA</td>\n",
              "      <td>JALISCO</td>\n",
              "    </tr>\n",
              "    <tr>\n",
              "      <th>3</th>\n",
              "      <td>3</td>\n",
              "      <td>1912</td>\n",
              "      <td>1</td>\n",
              "      <td>1019</td>\n",
              "      <td>100140</td>\n",
              "      <td>1146</td>\n",
              "      <td>8</td>\n",
              "      <td>171.12</td>\n",
              "      <td>0</td>\n",
              "      <td>0.0</td>\n",
              "      <td>8</td>\n",
              "      <td>MARTHA GARDUÑO REYES</td>\n",
              "      <td>Pan Integral 675g BIM 1146</td>\n",
              "      <td>2294 GUADALAJARA</td>\n",
              "      <td>JALISCO</td>\n",
              "    </tr>\n",
              "    <tr>\n",
              "      <th>4</th>\n",
              "      <td>3</td>\n",
              "      <td>1912</td>\n",
              "      <td>1</td>\n",
              "      <td>1019</td>\n",
              "      <td>100140</td>\n",
              "      <td>1150</td>\n",
              "      <td>3</td>\n",
              "      <td>41.88</td>\n",
              "      <td>0</td>\n",
              "      <td>0.0</td>\n",
              "      <td>3</td>\n",
              "      <td>MARTHA GARDUÑO REYES</td>\n",
              "      <td>Medias Noches 8p 340g BIM 1150</td>\n",
              "      <td>2294 GUADALAJARA</td>\n",
              "      <td>JALISCO</td>\n",
              "    </tr>\n",
              "    <tr>\n",
              "      <th>5</th>\n",
              "      <td>3</td>\n",
              "      <td>1912</td>\n",
              "      <td>1</td>\n",
              "      <td>1019</td>\n",
              "      <td>100140</td>\n",
              "      <td>1182</td>\n",
              "      <td>2</td>\n",
              "      <td>27.88</td>\n",
              "      <td>0</td>\n",
              "      <td>0.0</td>\n",
              "      <td>2</td>\n",
              "      <td>MARTHA GARDUÑO REYES</td>\n",
              "      <td>Tostado 210g CU BIM 1182</td>\n",
              "      <td>2294 GUADALAJARA</td>\n",
              "      <td>JALISCO</td>\n",
              "    </tr>\n",
              "    <tr>\n",
              "      <th>6</th>\n",
              "      <td>3</td>\n",
              "      <td>1912</td>\n",
              "      <td>1</td>\n",
              "      <td>1019</td>\n",
              "      <td>100140</td>\n",
              "      <td>2233</td>\n",
              "      <td>5</td>\n",
              "      <td>99.7</td>\n",
              "      <td>0</td>\n",
              "      <td>0.0</td>\n",
              "      <td>5</td>\n",
              "      <td>MARTHA GARDUÑO REYES</td>\n",
              "      <td>Pan Blanco 640g BIM 2233</td>\n",
              "      <td>2294 GUADALAJARA</td>\n",
              "      <td>JALISCO</td>\n",
              "    </tr>\n",
              "    <tr>\n",
              "      <th>7</th>\n",
              "      <td>3</td>\n",
              "      <td>1912</td>\n",
              "      <td>1</td>\n",
              "      <td>1019</td>\n",
              "      <td>100140</td>\n",
              "      <td>6469</td>\n",
              "      <td>2</td>\n",
              "      <td>28.52</td>\n",
              "      <td>0</td>\n",
              "      <td>0.0</td>\n",
              "      <td>2</td>\n",
              "      <td>MARTHA GARDUÑO REYES</td>\n",
              "      <td>Totopos 280g DH 6469</td>\n",
              "      <td>2294 GUADALAJARA</td>\n",
              "      <td>JALISCO</td>\n",
              "    </tr>\n",
              "    <tr>\n",
              "      <th>8</th>\n",
              "      <td>3</td>\n",
              "      <td>1912</td>\n",
              "      <td>1</td>\n",
              "      <td>1119</td>\n",
              "      <td>100140</td>\n",
              "      <td>1064</td>\n",
              "      <td>1</td>\n",
              "      <td>16.67</td>\n",
              "      <td>0</td>\n",
              "      <td>0.0</td>\n",
              "      <td>1</td>\n",
              "      <td>MARTHA GARDUÑO REYES</td>\n",
              "      <td>Panque Marmol 255g BIM 1064</td>\n",
              "      <td>2294 GUADALAJARA</td>\n",
              "      <td>JALISCO</td>\n",
              "    </tr>\n",
              "    <tr>\n",
              "      <th>9</th>\n",
              "      <td>3</td>\n",
              "      <td>1912</td>\n",
              "      <td>1</td>\n",
              "      <td>1119</td>\n",
              "      <td>100140</td>\n",
              "      <td>1212</td>\n",
              "      <td>1</td>\n",
              "      <td>8.38</td>\n",
              "      <td>0</td>\n",
              "      <td>0.0</td>\n",
              "      <td>1</td>\n",
              "      <td>MARTHA GARDUÑO REYES</td>\n",
              "      <td>Roles Canela 2p 120g BIM 1212</td>\n",
              "      <td>2294 GUADALAJARA</td>\n",
              "      <td>JALISCO</td>\n",
              "    </tr>\n",
              "  </tbody>\n",
              "</table>\n",
              "</div>"
            ],
            "text/plain": [
              "  Semana Agencia_ID  ...              Town    State\n",
              "0      4       1617  ...    2370 TEZIUTLAN   PUEBLA\n",
              "1      5       1617  ...    2370 TEZIUTLAN   PUEBLA\n",
              "2      3       1912  ...  2294 GUADALAJARA  JALISCO\n",
              "3      3       1912  ...  2294 GUADALAJARA  JALISCO\n",
              "4      3       1912  ...  2294 GUADALAJARA  JALISCO\n",
              "5      3       1912  ...  2294 GUADALAJARA  JALISCO\n",
              "6      3       1912  ...  2294 GUADALAJARA  JALISCO\n",
              "7      3       1912  ...  2294 GUADALAJARA  JALISCO\n",
              "8      3       1912  ...  2294 GUADALAJARA  JALISCO\n",
              "9      3       1912  ...  2294 GUADALAJARA  JALISCO\n",
              "\n",
              "[10 rows x 15 columns]"
            ]
          },
          "metadata": {
            "tags": []
          },
          "execution_count": 70
        }
      ]
    },
    {
      "cell_type": "code",
      "metadata": {
        "colab": {
          "base_uri": "https://localhost:8080/",
          "height": 80
        },
        "id": "j5uJDEElg-Rr",
        "outputId": "9b99175a-594b-4514-b78c-9d57aca88705"
      },
      "source": [
        "spark.sql(\"\"\"\n",
        "SELECT COUNT(DISTINCT Cliente_ID) \n",
        "  ,COUNT(DISTINCT NombreCliente) \n",
        "FROM cliente_tabla\n",
        "\"\"\").limit(10).toPandas() # Número de ID é maior que nomes distintos isso se deve id duplicados ou homonimos ?"
      ],
      "execution_count": 57,
      "outputs": [
        {
          "output_type": "execute_result",
          "data": {
            "text/html": [
              "<div>\n",
              "<style scoped>\n",
              "    .dataframe tbody tr th:only-of-type {\n",
              "        vertical-align: middle;\n",
              "    }\n",
              "\n",
              "    .dataframe tbody tr th {\n",
              "        vertical-align: top;\n",
              "    }\n",
              "\n",
              "    .dataframe thead th {\n",
              "        text-align: right;\n",
              "    }\n",
              "</style>\n",
              "<table border=\"1\" class=\"dataframe\">\n",
              "  <thead>\n",
              "    <tr style=\"text-align: right;\">\n",
              "      <th></th>\n",
              "      <th>count(DISTINCT Cliente_ID)</th>\n",
              "      <th>count(DISTINCT NombreCliente)</th>\n",
              "    </tr>\n",
              "  </thead>\n",
              "  <tbody>\n",
              "    <tr>\n",
              "      <th>0</th>\n",
              "      <td>930500</td>\n",
              "      <td>311155</td>\n",
              "    </tr>\n",
              "  </tbody>\n",
              "</table>\n",
              "</div>"
            ],
            "text/plain": [
              "   count(DISTINCT Cliente_ID)  count(DISTINCT NombreCliente)\n",
              "0                      930500                         311155"
            ]
          },
          "metadata": {
            "tags": []
          },
          "execution_count": 57
        }
      ]
    },
    {
      "cell_type": "code",
      "metadata": {
        "id": "X88Q1K_SppV_"
      },
      "source": [
        "spark.sql(\"\"\"\n",
        "SELECT train.*\n",
        "  , cliente_tabla.NombreCliente \n",
        "  , producto_tabla.NombreProducto\n",
        "  , town_state.Town\n",
        "  , town_state.State\n",
        "FROM train\n",
        "LEFT JOIN cliente_tabla \n",
        "  on train.Cliente_ID = cliente_tabla.Cliente_ID\n",
        "LEFT JOIN producto_tabla\n",
        "  on train.Producto_ID = producto_tabla.Producto_ID\n",
        "LEFT JOIN town_state\n",
        "  on train.Agencia_ID = town_state.Agencia_ID  \n",
        "\"\"\").write.mode('overwrite').format('parquet').save('data/tabelao/')"
      ],
      "execution_count": 71,
      "outputs": []
    },
    {
      "cell_type": "code",
      "metadata": {
        "id": "uaAU7YH1sI1N"
      },
      "source": [
        "df = spark.read.format('parquet').load('data/tabelao/')"
      ],
      "execution_count": 79,
      "outputs": []
    },
    {
      "cell_type": "code",
      "metadata": {
        "colab": {
          "base_uri": "https://localhost:8080/"
        },
        "id": "aA1i4otLsx7W",
        "outputId": "862eac26-3bd5-48e8-a2e0-efbbefebdab4"
      },
      "source": [
        "df.count()"
      ],
      "execution_count": 80,
      "outputs": [
        {
          "output_type": "execute_result",
          "data": {
            "text/plain": [
              "74773833"
            ]
          },
          "metadata": {
            "tags": []
          },
          "execution_count": 80
        }
      ]
    },
    {
      "cell_type": "code",
      "metadata": {
        "colab": {
          "base_uri": "https://localhost:8080/",
          "height": 374
        },
        "id": "1magJx-zt1-X",
        "outputId": "9d758f73-682e-42d6-88bd-5afef03b4c6c"
      },
      "source": [
        "df.limit(5).toPandas()"
      ],
      "execution_count": 81,
      "outputs": [
        {
          "output_type": "execute_result",
          "data": {
            "text/html": [
              "<div>\n",
              "<style scoped>\n",
              "    .dataframe tbody tr th:only-of-type {\n",
              "        vertical-align: middle;\n",
              "    }\n",
              "\n",
              "    .dataframe tbody tr th {\n",
              "        vertical-align: top;\n",
              "    }\n",
              "\n",
              "    .dataframe thead th {\n",
              "        text-align: right;\n",
              "    }\n",
              "</style>\n",
              "<table border=\"1\" class=\"dataframe\">\n",
              "  <thead>\n",
              "    <tr style=\"text-align: right;\">\n",
              "      <th></th>\n",
              "      <th>Semana</th>\n",
              "      <th>Agencia_ID</th>\n",
              "      <th>Canal_ID</th>\n",
              "      <th>Ruta_SAK</th>\n",
              "      <th>Cliente_ID</th>\n",
              "      <th>Producto_ID</th>\n",
              "      <th>Venta_uni_hoy</th>\n",
              "      <th>Venta_hoy</th>\n",
              "      <th>Dev_uni_proxima</th>\n",
              "      <th>Dev_proxima</th>\n",
              "      <th>Demanda_uni_equil</th>\n",
              "      <th>NombreCliente</th>\n",
              "      <th>NombreProducto</th>\n",
              "      <th>Town</th>\n",
              "      <th>State</th>\n",
              "    </tr>\n",
              "  </thead>\n",
              "  <tbody>\n",
              "    <tr>\n",
              "      <th>0</th>\n",
              "      <td>3</td>\n",
              "      <td>2043</td>\n",
              "      <td>1</td>\n",
              "      <td>1255</td>\n",
              "      <td>1000329</td>\n",
              "      <td>1125</td>\n",
              "      <td>2</td>\n",
              "      <td>19.2</td>\n",
              "      <td>0</td>\n",
              "      <td>0.0</td>\n",
              "      <td>2</td>\n",
              "      <td>TERESA GARCIA GARCIA</td>\n",
              "      <td>Tortillinas 10p 255g TR 1125</td>\n",
              "      <td>2156 CELAYA INDUSTRIAL WONDER</td>\n",
              "      <td>GUANAJUATO</td>\n",
              "    </tr>\n",
              "    <tr>\n",
              "      <th>1</th>\n",
              "      <td>3</td>\n",
              "      <td>2043</td>\n",
              "      <td>1</td>\n",
              "      <td>1255</td>\n",
              "      <td>1000329</td>\n",
              "      <td>1240</td>\n",
              "      <td>5</td>\n",
              "      <td>41.9</td>\n",
              "      <td>0</td>\n",
              "      <td>0.0</td>\n",
              "      <td>5</td>\n",
              "      <td>TERESA GARCIA GARCIA</td>\n",
              "      <td>Mantecadas Vainilla 4p 125g BIM 1240</td>\n",
              "      <td>2156 CELAYA INDUSTRIAL WONDER</td>\n",
              "      <td>GUANAJUATO</td>\n",
              "    </tr>\n",
              "    <tr>\n",
              "      <th>2</th>\n",
              "      <td>3</td>\n",
              "      <td>2043</td>\n",
              "      <td>1</td>\n",
              "      <td>1255</td>\n",
              "      <td>1000329</td>\n",
              "      <td>2233</td>\n",
              "      <td>1</td>\n",
              "      <td>19.94</td>\n",
              "      <td>0</td>\n",
              "      <td>0.0</td>\n",
              "      <td>1</td>\n",
              "      <td>TERESA GARCIA GARCIA</td>\n",
              "      <td>Pan Blanco 640g BIM 2233</td>\n",
              "      <td>2156 CELAYA INDUSTRIAL WONDER</td>\n",
              "      <td>GUANAJUATO</td>\n",
              "    </tr>\n",
              "    <tr>\n",
              "      <th>3</th>\n",
              "      <td>3</td>\n",
              "      <td>2043</td>\n",
              "      <td>1</td>\n",
              "      <td>1255</td>\n",
              "      <td>1000329</td>\n",
              "      <td>2425</td>\n",
              "      <td>5</td>\n",
              "      <td>22.5</td>\n",
              "      <td>0</td>\n",
              "      <td>0.0</td>\n",
              "      <td>5</td>\n",
              "      <td>TERESA GARCIA GARCIA</td>\n",
              "      <td>Nito 1p 62g Central BIM 2425</td>\n",
              "      <td>2156 CELAYA INDUSTRIAL WONDER</td>\n",
              "      <td>GUANAJUATO</td>\n",
              "    </tr>\n",
              "    <tr>\n",
              "      <th>4</th>\n",
              "      <td>3</td>\n",
              "      <td>2043</td>\n",
              "      <td>1</td>\n",
              "      <td>1255</td>\n",
              "      <td>1000329</td>\n",
              "      <td>35651</td>\n",
              "      <td>2</td>\n",
              "      <td>15.0</td>\n",
              "      <td>0</td>\n",
              "      <td>0.0</td>\n",
              "      <td>2</td>\n",
              "      <td>TERESA GARCIA GARCIA</td>\n",
              "      <td>Madalenas 3p 93g BIM 35651</td>\n",
              "      <td>2156 CELAYA INDUSTRIAL WONDER</td>\n",
              "      <td>GUANAJUATO</td>\n",
              "    </tr>\n",
              "  </tbody>\n",
              "</table>\n",
              "</div>"
            ],
            "text/plain": [
              "  Semana Agencia_ID  ...                           Town       State\n",
              "0      3       2043  ...  2156 CELAYA INDUSTRIAL WONDER  GUANAJUATO\n",
              "1      3       2043  ...  2156 CELAYA INDUSTRIAL WONDER  GUANAJUATO\n",
              "2      3       2043  ...  2156 CELAYA INDUSTRIAL WONDER  GUANAJUATO\n",
              "3      3       2043  ...  2156 CELAYA INDUSTRIAL WONDER  GUANAJUATO\n",
              "4      3       2043  ...  2156 CELAYA INDUSTRIAL WONDER  GUANAJUATO\n",
              "\n",
              "[5 rows x 15 columns]"
            ]
          },
          "metadata": {
            "tags": []
          },
          "execution_count": 81
        }
      ]
    },
    {
      "cell_type": "code",
      "metadata": {
        "id": "dRiJDivMu26h"
      },
      "source": [
        "df.createOrReplaceTempView('tabelao')"
      ],
      "execution_count": 82,
      "outputs": []
    },
    {
      "cell_type": "code",
      "metadata": {
        "colab": {
          "base_uri": "https://localhost:8080/",
          "height": 651
        },
        "id": "MKGca2ElvUuF",
        "outputId": "cd07ead6-2217-49c4-da79-8b249fd680f5"
      },
      "source": [
        "spark.sql(\"\"\"\n",
        "SELECT *\n",
        "  ,SUM(Demanda_uni_equil) OVER (PARTITION BY Agencia_ID, Producto_ID) SUM_Town_Prod_Demanda_uni_equil\n",
        "  ,AVG(Demanda_uni_equil) OVER (PARTITION BY Agencia_ID, Producto_ID) AVG_Town_Prod_Demanda_uni_equil\n",
        "  ,MIN(Demanda_uni_equil) OVER (PARTITION BY Agencia_ID, Producto_ID) MIN_Town_Prod_Demanda_uni_equil\n",
        "  ,MAX(Demanda_uni_equil) OVER (PARTITION BY Agencia_ID, Producto_ID) MAX_Town_Prod_Demanda_uni_equil\n",
        "\n",
        "  ,SUM(Demanda_uni_equil) OVER (PARTITION BY Agencia_ID) SUM_Town_Demanda_uni_equil\n",
        "  ,AVG(Demanda_uni_equil) OVER (PARTITION BY Agencia_ID) AVG_Town_Demanda_uni_equil\n",
        "  ,MIN(Demanda_uni_equil) OVER (PARTITION BY Agencia_ID) MIN_Town_Demanda_uni_equil\n",
        "  ,MAX(Demanda_uni_equil) OVER (PARTITION BY Agencia_ID) MAX_Town_Demanda_uni_equil\n",
        "\n",
        "  ,SUM(Demanda_uni_equil) OVER (PARTITION BY State) SUM_State_Demanda_uni_equil\n",
        "  ,AVG(Demanda_uni_equil) OVER (PARTITION BY State) AVG_State_Demanda_uni_equil\n",
        "  ,MIN(Demanda_uni_equil) OVER (PARTITION BY State) MIN_State_Demanda_uni_equil\n",
        "  ,MAX(Demanda_uni_equil) OVER (PARTITION BY State) MAX_State_Demanda_uni_equil\n",
        "\n",
        "  ,SUM(Demanda_uni_equil) OVER (PARTITION BY State, Producto_ID) SUM_State_Prod_Demanda_uni_equil\n",
        "  ,AVG(Demanda_uni_equil) OVER (PARTITION BY State, Producto_ID) AVG_State_Prod_Demanda_uni_equil\n",
        "  ,MIN(Demanda_uni_equil) OVER (PARTITION BY State, Producto_ID) MIN_State_Prod_Demanda_uni_equil\n",
        "  ,MAX(Demanda_uni_equil) OVER (PARTITION BY State, Producto_ID) MAX_State_Prod_Demanda_uni_equil\n",
        "\n",
        "  ,SUM(Demanda_uni_equil) OVER (PARTITION BY Producto_ID) SUM_Prod_Demanda_uni_equil\n",
        "  ,AVG(Demanda_uni_equil) OVER (PARTITION BY Producto_ID) AVG_Prod_Demanda_uni_equil\n",
        "  ,MIN(Demanda_uni_equil) OVER (PARTITION BY Producto_ID) MIN_Prod_Demanda_uni_equil\n",
        "  ,MAX(Demanda_uni_equil) OVER (PARTITION BY Producto_ID) MAX_Prod_Demanda_uni_equil\n",
        "\n",
        "  ,SUM(Demanda_uni_equil) OVER (PARTITION BY Cliente_ID) SUM_Cliente_Demanda_uni_equil\n",
        "  ,AVG(Demanda_uni_equil) OVER (PARTITION BY Cliente_ID) AVG_Cliente_Demanda_uni_equil\n",
        "  ,MIN(Demanda_uni_equil) OVER (PARTITION BY Cliente_ID) MIN_Cliente_Demanda_uni_equil\n",
        "  ,MAX(Demanda_uni_equil) OVER (PARTITION BY Cliente_ID) MAX_Cliente_Demanda_uni_equil\n",
        "\n",
        "  ,SUM(Demanda_uni_equil) OVER (PARTITION BY Cliente_ID, Producto_ID) SUM_Cliente_Prod_Demanda_uni_equil\n",
        "  ,AVG(Demanda_uni_equil) OVER (PARTITION BY Cliente_ID, Producto_ID) AVG_Cliente_Prod_Demanda_uni_equil\n",
        "  ,MIN(Demanda_uni_equil) OVER (PARTITION BY Cliente_ID, Producto_ID) MIN_Cliente_Prod_Demanda_uni_equil\n",
        "  ,MAX(Demanda_uni_equil) OVER (PARTITION BY Cliente_ID, Producto_ID) MAX_Cliente_Prod_Demanda_uni_equil\n",
        "  \n",
        "  --,LAG(Demanda_uni_equil,1) OVER (PARTITION BY Cliente_ID, Producto_ID ORDER BY Semana) LAG_1_Cliente_Prod_Demanda_uni_equil\n",
        "\n",
        "\n",
        "\n",
        "  --,SUM(Demanda_uni_equil) OVER (PARTITION BY Agencia_ID) SUM_Town_Demanda_uni_equil\n",
        "  --,SUM(Demanda_uni_equil) OVER (PARTITION BY State) SUM_State_Demanda_uni_equil\n",
        "  --,AVG(Demanda_uni_equil) OVER (PARTITION BY Agencia_ID) AVG_Town_Demanda_uni_equil\n",
        "  --,AVG(Demanda_uni_equil) OVER (PARTITION BY State) AVG_State_Demanda_uni_equil\n",
        "  --,AVG(Demanda_uni_equil) OVER (PARTITION BY State) AVG_State_Demanda_uni_equil\n",
        "FROM tabelao\n",
        "\n",
        "\"\"\").limit(10).toPandas()"
      ],
      "execution_count": 83,
      "outputs": [
        {
          "output_type": "execute_result",
          "data": {
            "text/html": [
              "<div>\n",
              "<style scoped>\n",
              "    .dataframe tbody tr th:only-of-type {\n",
              "        vertical-align: middle;\n",
              "    }\n",
              "\n",
              "    .dataframe tbody tr th {\n",
              "        vertical-align: top;\n",
              "    }\n",
              "\n",
              "    .dataframe thead th {\n",
              "        text-align: right;\n",
              "    }\n",
              "</style>\n",
              "<table border=\"1\" class=\"dataframe\">\n",
              "  <thead>\n",
              "    <tr style=\"text-align: right;\">\n",
              "      <th></th>\n",
              "      <th>Semana</th>\n",
              "      <th>Agencia_ID</th>\n",
              "      <th>Canal_ID</th>\n",
              "      <th>Ruta_SAK</th>\n",
              "      <th>Cliente_ID</th>\n",
              "      <th>Producto_ID</th>\n",
              "      <th>Venta_uni_hoy</th>\n",
              "      <th>Venta_hoy</th>\n",
              "      <th>Dev_uni_proxima</th>\n",
              "      <th>Dev_proxima</th>\n",
              "      <th>Demanda_uni_equil</th>\n",
              "      <th>NombreCliente</th>\n",
              "      <th>NombreProducto</th>\n",
              "      <th>Town</th>\n",
              "      <th>State</th>\n",
              "      <th>SUM_Town_Prod_Demanda_uni_equil</th>\n",
              "      <th>SUM_Town_Prod_Demanda_uni_equil</th>\n",
              "      <th>SUM_Town_Prod_Demanda_uni_equil</th>\n",
              "      <th>SUM_Town_Prod_Demanda_uni_equil</th>\n",
              "      <th>SUM_Town_Demanda_uni_equil</th>\n",
              "      <th>SUM_Town_Demanda_uni_equil</th>\n",
              "      <th>SUM_Town_Demanda_uni_equil</th>\n",
              "      <th>SUM_Town_Demanda_uni_equil</th>\n",
              "      <th>SUM_State_Demanda_uni_equil</th>\n",
              "      <th>SUM_State_Demanda_uni_equil</th>\n",
              "      <th>SUM_State_Demanda_uni_equil</th>\n",
              "      <th>SUM_State_Demanda_uni_equil</th>\n",
              "      <th>SUM_State_Prod_Demanda_uni_equil</th>\n",
              "      <th>SUM_State_Prod_Demanda_uni_equil</th>\n",
              "      <th>SUM_State_Prod_Demanda_uni_equil</th>\n",
              "      <th>SUM_State_Prod_Demanda_uni_equil</th>\n",
              "      <th>SUM_Prod_Demanda_uni_equil</th>\n",
              "      <th>SUM_Prod_Demanda_uni_equil</th>\n",
              "      <th>SUM_Prod_Demanda_uni_equil</th>\n",
              "      <th>SUM_Prod_Demanda_uni_equil</th>\n",
              "      <th>SUM_Cliente_Demanda_uni_equil</th>\n",
              "      <th>SUM_Cliente_Demanda_uni_equil</th>\n",
              "      <th>SUM_Cliente_Demanda_uni_equil</th>\n",
              "      <th>SUM_Cliente_Demanda_uni_equil</th>\n",
              "      <th>SUM_Cliente_Prod_Demanda_uni_equil</th>\n",
              "      <th>SUM_Cliente_Prod_Demanda_uni_equil</th>\n",
              "      <th>SUM_Cliente_Prod_Demanda_uni_equil</th>\n",
              "      <th>SUM_Cliente_Prod_Demanda_uni_equil</th>\n",
              "    </tr>\n",
              "  </thead>\n",
              "  <tbody>\n",
              "    <tr>\n",
              "      <th>0</th>\n",
              "      <td>7</td>\n",
              "      <td>1669</td>\n",
              "      <td>2</td>\n",
              "      <td>1504</td>\n",
              "      <td>35693</td>\n",
              "      <td>31518</td>\n",
              "      <td>10</td>\n",
              "      <td>305.3</td>\n",
              "      <td>0</td>\n",
              "      <td>0.0</td>\n",
              "      <td>10</td>\n",
              "      <td>CHEDRAUI XALAPA CRYSTAL</td>\n",
              "      <td>Plativolos KC 691g MLA 31518</td>\n",
              "      <td>2355 JALAPA I</td>\n",
              "      <td>VERACRUZ</td>\n",
              "      <td>20.0</td>\n",
              "      <td>10.000000</td>\n",
              "      <td>10</td>\n",
              "      <td>10</td>\n",
              "      <td>548991.0</td>\n",
              "      <td>85.247050</td>\n",
              "      <td>0</td>\n",
              "      <td>996</td>\n",
              "      <td>26799954.0</td>\n",
              "      <td>6.440634</td>\n",
              "      <td>0</td>\n",
              "      <td>996</td>\n",
              "      <td>160.0</td>\n",
              "      <td>13.333333</td>\n",
              "      <td>10</td>\n",
              "      <td>20</td>\n",
              "      <td>3214.0</td>\n",
              "      <td>13.91342</td>\n",
              "      <td>0</td>\n",
              "      <td>9</td>\n",
              "      <td>68518.0</td>\n",
              "      <td>118.954861</td>\n",
              "      <td>10</td>\n",
              "      <td>99</td>\n",
              "      <td>20.0</td>\n",
              "      <td>10.0</td>\n",
              "      <td>10</td>\n",
              "      <td>10</td>\n",
              "    </tr>\n",
              "    <tr>\n",
              "      <th>1</th>\n",
              "      <td>8</td>\n",
              "      <td>1669</td>\n",
              "      <td>2</td>\n",
              "      <td>1504</td>\n",
              "      <td>35693</td>\n",
              "      <td>31518</td>\n",
              "      <td>10</td>\n",
              "      <td>305.3</td>\n",
              "      <td>0</td>\n",
              "      <td>0.0</td>\n",
              "      <td>10</td>\n",
              "      <td>CHEDRAUI XALAPA CRYSTAL</td>\n",
              "      <td>Plativolos KC 691g MLA 31518</td>\n",
              "      <td>2355 JALAPA I</td>\n",
              "      <td>VERACRUZ</td>\n",
              "      <td>20.0</td>\n",
              "      <td>10.000000</td>\n",
              "      <td>10</td>\n",
              "      <td>10</td>\n",
              "      <td>548991.0</td>\n",
              "      <td>85.247050</td>\n",
              "      <td>0</td>\n",
              "      <td>996</td>\n",
              "      <td>26799954.0</td>\n",
              "      <td>6.440634</td>\n",
              "      <td>0</td>\n",
              "      <td>996</td>\n",
              "      <td>160.0</td>\n",
              "      <td>13.333333</td>\n",
              "      <td>10</td>\n",
              "      <td>20</td>\n",
              "      <td>3214.0</td>\n",
              "      <td>13.91342</td>\n",
              "      <td>0</td>\n",
              "      <td>9</td>\n",
              "      <td>68518.0</td>\n",
              "      <td>118.954861</td>\n",
              "      <td>10</td>\n",
              "      <td>99</td>\n",
              "      <td>20.0</td>\n",
              "      <td>10.0</td>\n",
              "      <td>10</td>\n",
              "      <td>10</td>\n",
              "    </tr>\n",
              "    <tr>\n",
              "      <th>2</th>\n",
              "      <td>9</td>\n",
              "      <td>2249</td>\n",
              "      <td>2</td>\n",
              "      <td>1540</td>\n",
              "      <td>2494683</td>\n",
              "      <td>31518</td>\n",
              "      <td>110</td>\n",
              "      <td>3358.3</td>\n",
              "      <td>0</td>\n",
              "      <td>0.0</td>\n",
              "      <td>110</td>\n",
              "      <td>CHEDRAUI CAUCEL</td>\n",
              "      <td>Plativolos KC 691g MLA 31518</td>\n",
              "      <td>2393 MERIDA SUR</td>\n",
              "      <td>YUCATÁN</td>\n",
              "      <td>130.0</td>\n",
              "      <td>32.500000</td>\n",
              "      <td>0</td>\n",
              "      <td>110</td>\n",
              "      <td>1060983.0</td>\n",
              "      <td>75.087261</td>\n",
              "      <td>0</td>\n",
              "      <td>993</td>\n",
              "      <td>7053405.0</td>\n",
              "      <td>7.181655</td>\n",
              "      <td>0</td>\n",
              "      <td>998</td>\n",
              "      <td>130.0</td>\n",
              "      <td>32.500000</td>\n",
              "      <td>0</td>\n",
              "      <td>110</td>\n",
              "      <td>3214.0</td>\n",
              "      <td>13.91342</td>\n",
              "      <td>0</td>\n",
              "      <td>9</td>\n",
              "      <td>28553.0</td>\n",
              "      <td>64.453725</td>\n",
              "      <td>1</td>\n",
              "      <td>99</td>\n",
              "      <td>110.0</td>\n",
              "      <td>110.0</td>\n",
              "      <td>110</td>\n",
              "      <td>110</td>\n",
              "    </tr>\n",
              "    <tr>\n",
              "      <th>3</th>\n",
              "      <td>4</td>\n",
              "      <td>2249</td>\n",
              "      <td>2</td>\n",
              "      <td>1515</td>\n",
              "      <td>25538</td>\n",
              "      <td>31518</td>\n",
              "      <td>10</td>\n",
              "      <td>305.3</td>\n",
              "      <td>0</td>\n",
              "      <td>0.0</td>\n",
              "      <td>10</td>\n",
              "      <td>FAMA PENSIONES</td>\n",
              "      <td>Plativolos KC 691g MLA 31518</td>\n",
              "      <td>2393 MERIDA SUR</td>\n",
              "      <td>YUCATÁN</td>\n",
              "      <td>130.0</td>\n",
              "      <td>32.500000</td>\n",
              "      <td>0</td>\n",
              "      <td>110</td>\n",
              "      <td>1060983.0</td>\n",
              "      <td>75.087261</td>\n",
              "      <td>0</td>\n",
              "      <td>993</td>\n",
              "      <td>7053405.0</td>\n",
              "      <td>7.181655</td>\n",
              "      <td>0</td>\n",
              "      <td>998</td>\n",
              "      <td>130.0</td>\n",
              "      <td>32.500000</td>\n",
              "      <td>0</td>\n",
              "      <td>110</td>\n",
              "      <td>3214.0</td>\n",
              "      <td>13.91342</td>\n",
              "      <td>0</td>\n",
              "      <td>9</td>\n",
              "      <td>9242.0</td>\n",
              "      <td>46.442211</td>\n",
              "      <td>0</td>\n",
              "      <td>96</td>\n",
              "      <td>10.0</td>\n",
              "      <td>10.0</td>\n",
              "      <td>10</td>\n",
              "      <td>10</td>\n",
              "    </tr>\n",
              "    <tr>\n",
              "      <th>4</th>\n",
              "      <td>8</td>\n",
              "      <td>2249</td>\n",
              "      <td>2</td>\n",
              "      <td>1525</td>\n",
              "      <td>7875974</td>\n",
              "      <td>31518</td>\n",
              "      <td>10</td>\n",
              "      <td>259.5</td>\n",
              "      <td>10</td>\n",
              "      <td>259.5</td>\n",
              "      <td>0</td>\n",
              "      <td>BODEGA AURRERA ITZAES</td>\n",
              "      <td>Plativolos KC 691g MLA 31518</td>\n",
              "      <td>2393 MERIDA SUR</td>\n",
              "      <td>YUCATÁN</td>\n",
              "      <td>130.0</td>\n",
              "      <td>32.500000</td>\n",
              "      <td>0</td>\n",
              "      <td>110</td>\n",
              "      <td>1060983.0</td>\n",
              "      <td>75.087261</td>\n",
              "      <td>0</td>\n",
              "      <td>993</td>\n",
              "      <td>7053405.0</td>\n",
              "      <td>7.181655</td>\n",
              "      <td>0</td>\n",
              "      <td>998</td>\n",
              "      <td>130.0</td>\n",
              "      <td>32.500000</td>\n",
              "      <td>0</td>\n",
              "      <td>110</td>\n",
              "      <td>3214.0</td>\n",
              "      <td>13.91342</td>\n",
              "      <td>0</td>\n",
              "      <td>9</td>\n",
              "      <td>24503.0</td>\n",
              "      <td>78.284345</td>\n",
              "      <td>0</td>\n",
              "      <td>99</td>\n",
              "      <td>0.0</td>\n",
              "      <td>0.0</td>\n",
              "      <td>0</td>\n",
              "      <td>0</td>\n",
              "    </tr>\n",
              "    <tr>\n",
              "      <th>5</th>\n",
              "      <td>5</td>\n",
              "      <td>2249</td>\n",
              "      <td>2</td>\n",
              "      <td>1520</td>\n",
              "      <td>1210852</td>\n",
              "      <td>31518</td>\n",
              "      <td>10</td>\n",
              "      <td>305.3</td>\n",
              "      <td>0</td>\n",
              "      <td>0.0</td>\n",
              "      <td>10</td>\n",
              "      <td>CHEDRAUI MERIDA</td>\n",
              "      <td>Plativolos KC 691g MLA 31518</td>\n",
              "      <td>2393 MERIDA SUR</td>\n",
              "      <td>YUCATÁN</td>\n",
              "      <td>130.0</td>\n",
              "      <td>32.500000</td>\n",
              "      <td>0</td>\n",
              "      <td>110</td>\n",
              "      <td>1060983.0</td>\n",
              "      <td>75.087261</td>\n",
              "      <td>0</td>\n",
              "      <td>993</td>\n",
              "      <td>7053405.0</td>\n",
              "      <td>7.181655</td>\n",
              "      <td>0</td>\n",
              "      <td>998</td>\n",
              "      <td>130.0</td>\n",
              "      <td>32.500000</td>\n",
              "      <td>0</td>\n",
              "      <td>110</td>\n",
              "      <td>3214.0</td>\n",
              "      <td>13.91342</td>\n",
              "      <td>0</td>\n",
              "      <td>9</td>\n",
              "      <td>67968.0</td>\n",
              "      <td>110.517073</td>\n",
              "      <td>10</td>\n",
              "      <td>992</td>\n",
              "      <td>10.0</td>\n",
              "      <td>10.0</td>\n",
              "      <td>10</td>\n",
              "      <td>10</td>\n",
              "    </tr>\n",
              "    <tr>\n",
              "      <th>6</th>\n",
              "      <td>3</td>\n",
              "      <td>2085</td>\n",
              "      <td>2</td>\n",
              "      <td>1502</td>\n",
              "      <td>1197665</td>\n",
              "      <td>31518</td>\n",
              "      <td>10</td>\n",
              "      <td>305.3</td>\n",
              "      <td>0</td>\n",
              "      <td>0.0</td>\n",
              "      <td>10</td>\n",
              "      <td>CHEDRAUI CUERNAVACA</td>\n",
              "      <td>Plativolos KC 691g MLA 31518</td>\n",
              "      <td>2044 CUERNAVACA BUENAVISTA</td>\n",
              "      <td>MORELOS</td>\n",
              "      <td>10.0</td>\n",
              "      <td>10.000000</td>\n",
              "      <td>10</td>\n",
              "      <td>10</td>\n",
              "      <td>721974.0</td>\n",
              "      <td>69.870706</td>\n",
              "      <td>0</td>\n",
              "      <td>990</td>\n",
              "      <td>8288645.0</td>\n",
              "      <td>5.821532</td>\n",
              "      <td>0</td>\n",
              "      <td>990</td>\n",
              "      <td>10.0</td>\n",
              "      <td>10.000000</td>\n",
              "      <td>10</td>\n",
              "      <td>10</td>\n",
              "      <td>3214.0</td>\n",
              "      <td>13.91342</td>\n",
              "      <td>0</td>\n",
              "      <td>9</td>\n",
              "      <td>44342.0</td>\n",
              "      <td>80.768670</td>\n",
              "      <td>1</td>\n",
              "      <td>98</td>\n",
              "      <td>10.0</td>\n",
              "      <td>10.0</td>\n",
              "      <td>10</td>\n",
              "      <td>10</td>\n",
              "    </tr>\n",
              "    <tr>\n",
              "      <th>7</th>\n",
              "      <td>9</td>\n",
              "      <td>2252</td>\n",
              "      <td>2</td>\n",
              "      <td>1504</td>\n",
              "      <td>69545</td>\n",
              "      <td>31518</td>\n",
              "      <td>10</td>\n",
              "      <td>305.3</td>\n",
              "      <td>0</td>\n",
              "      <td>0.0</td>\n",
              "      <td>10</td>\n",
              "      <td>AKI GRAN MAYOREO VILLA DEL ÁRIO</td>\n",
              "      <td>Plativolos KC 691g MLA 31518</td>\n",
              "      <td>2380 CAMPECHE</td>\n",
              "      <td>CAMPECHE</td>\n",
              "      <td>40.0</td>\n",
              "      <td>13.333333</td>\n",
              "      <td>10</td>\n",
              "      <td>20</td>\n",
              "      <td>351998.0</td>\n",
              "      <td>68.190236</td>\n",
              "      <td>0</td>\n",
              "      <td>99</td>\n",
              "      <td>4341734.0</td>\n",
              "      <td>8.405026</td>\n",
              "      <td>0</td>\n",
              "      <td>991</td>\n",
              "      <td>60.0</td>\n",
              "      <td>10.000000</td>\n",
              "      <td>0</td>\n",
              "      <td>20</td>\n",
              "      <td>3214.0</td>\n",
              "      <td>13.91342</td>\n",
              "      <td>0</td>\n",
              "      <td>9</td>\n",
              "      <td>13288.0</td>\n",
              "      <td>48.320000</td>\n",
              "      <td>0</td>\n",
              "      <td>96</td>\n",
              "      <td>10.0</td>\n",
              "      <td>10.0</td>\n",
              "      <td>10</td>\n",
              "      <td>10</td>\n",
              "    </tr>\n",
              "    <tr>\n",
              "      <th>8</th>\n",
              "      <td>3</td>\n",
              "      <td>2252</td>\n",
              "      <td>2</td>\n",
              "      <td>1511</td>\n",
              "      <td>1955661</td>\n",
              "      <td>31518</td>\n",
              "      <td>20</td>\n",
              "      <td>610.6</td>\n",
              "      <td>0</td>\n",
              "      <td>0.0</td>\n",
              "      <td>20</td>\n",
              "      <td>CHEDRAUI CAMPECHE 2</td>\n",
              "      <td>Plativolos KC 691g MLA 31518</td>\n",
              "      <td>2380 CAMPECHE</td>\n",
              "      <td>CAMPECHE</td>\n",
              "      <td>40.0</td>\n",
              "      <td>13.333333</td>\n",
              "      <td>10</td>\n",
              "      <td>20</td>\n",
              "      <td>351998.0</td>\n",
              "      <td>68.190236</td>\n",
              "      <td>0</td>\n",
              "      <td>99</td>\n",
              "      <td>4341734.0</td>\n",
              "      <td>8.405026</td>\n",
              "      <td>0</td>\n",
              "      <td>991</td>\n",
              "      <td>60.0</td>\n",
              "      <td>10.000000</td>\n",
              "      <td>0</td>\n",
              "      <td>20</td>\n",
              "      <td>3214.0</td>\n",
              "      <td>13.91342</td>\n",
              "      <td>0</td>\n",
              "      <td>9</td>\n",
              "      <td>42010.0</td>\n",
              "      <td>92.737307</td>\n",
              "      <td>1</td>\n",
              "      <td>99</td>\n",
              "      <td>30.0</td>\n",
              "      <td>15.0</td>\n",
              "      <td>10</td>\n",
              "      <td>20</td>\n",
              "    </tr>\n",
              "    <tr>\n",
              "      <th>9</th>\n",
              "      <td>4</td>\n",
              "      <td>2252</td>\n",
              "      <td>2</td>\n",
              "      <td>1511</td>\n",
              "      <td>1955661</td>\n",
              "      <td>31518</td>\n",
              "      <td>10</td>\n",
              "      <td>305.3</td>\n",
              "      <td>0</td>\n",
              "      <td>0.0</td>\n",
              "      <td>10</td>\n",
              "      <td>CHEDRAUI CAMPECHE 2</td>\n",
              "      <td>Plativolos KC 691g MLA 31518</td>\n",
              "      <td>2380 CAMPECHE</td>\n",
              "      <td>CAMPECHE</td>\n",
              "      <td>40.0</td>\n",
              "      <td>13.333333</td>\n",
              "      <td>10</td>\n",
              "      <td>20</td>\n",
              "      <td>351998.0</td>\n",
              "      <td>68.190236</td>\n",
              "      <td>0</td>\n",
              "      <td>99</td>\n",
              "      <td>4341734.0</td>\n",
              "      <td>8.405026</td>\n",
              "      <td>0</td>\n",
              "      <td>991</td>\n",
              "      <td>60.0</td>\n",
              "      <td>10.000000</td>\n",
              "      <td>0</td>\n",
              "      <td>20</td>\n",
              "      <td>3214.0</td>\n",
              "      <td>13.91342</td>\n",
              "      <td>0</td>\n",
              "      <td>9</td>\n",
              "      <td>42010.0</td>\n",
              "      <td>92.737307</td>\n",
              "      <td>1</td>\n",
              "      <td>99</td>\n",
              "      <td>30.0</td>\n",
              "      <td>15.0</td>\n",
              "      <td>10</td>\n",
              "      <td>20</td>\n",
              "    </tr>\n",
              "  </tbody>\n",
              "</table>\n",
              "</div>"
            ],
            "text/plain": [
              "  Semana  ... SUM_Cliente_Prod_Demanda_uni_equil\n",
              "0      7  ...                                 10\n",
              "1      8  ...                                 10\n",
              "2      9  ...                                110\n",
              "3      4  ...                                 10\n",
              "4      8  ...                                  0\n",
              "5      5  ...                                 10\n",
              "6      3  ...                                 10\n",
              "7      9  ...                                 10\n",
              "8      3  ...                                 20\n",
              "9      4  ...                                 20\n",
              "\n",
              "[10 rows x 43 columns]"
            ]
          },
          "metadata": {
            "tags": []
          },
          "execution_count": 83
        }
      ]
    },
    {
      "cell_type": "code",
      "metadata": {
        "id": "wCgCRurAFhQU"
      },
      "source": [
        "clientes = pd.read_csv('data/cliente_tabla.csv.zip')"
      ],
      "execution_count": 37,
      "outputs": []
    },
    {
      "cell_type": "code",
      "metadata": {
        "id": "tfer5mwPGSUt",
        "outputId": "04b1e2cb-8f1b-46e3-8062-dfeda6eafefc",
        "colab": {
          "base_uri": "https://localhost:8080/"
        }
      },
      "source": [
        "clientes.dtypes"
      ],
      "execution_count": 66,
      "outputs": [
        {
          "output_type": "execute_result",
          "data": {
            "text/plain": [
              "Cliente_ID        int64\n",
              "NombreCliente    object\n",
              "dtype: object"
            ]
          },
          "metadata": {
            "tags": []
          },
          "execution_count": 66
        }
      ]
    },
    {
      "cell_type": "code",
      "metadata": {
        "id": "BQDHyf4WGTRW",
        "outputId": "5cd494a9-d25a-4bd8-c9a4-b0a20f8dda60",
        "colab": {
          "base_uri": "https://localhost:8080/",
          "height": 419
        }
      },
      "source": [
        "clientes[clientes.Cliente_ID.duplicated()]"
      ],
      "execution_count": 39,
      "outputs": [
        {
          "output_type": "execute_result",
          "data": {
            "text/html": [
              "<div>\n",
              "<style scoped>\n",
              "    .dataframe tbody tr th:only-of-type {\n",
              "        vertical-align: middle;\n",
              "    }\n",
              "\n",
              "    .dataframe tbody tr th {\n",
              "        vertical-align: top;\n",
              "    }\n",
              "\n",
              "    .dataframe thead th {\n",
              "        text-align: right;\n",
              "    }\n",
              "</style>\n",
              "<table border=\"1\" class=\"dataframe\">\n",
              "  <thead>\n",
              "    <tr style=\"text-align: right;\">\n",
              "      <th></th>\n",
              "      <th>Cliente_ID</th>\n",
              "      <th>NombreCliente</th>\n",
              "    </tr>\n",
              "  </thead>\n",
              "  <tbody>\n",
              "    <tr>\n",
              "      <th>5</th>\n",
              "      <td>4</td>\n",
              "      <td>SDN SER DE ALIM CUERPO SA CIA DE INT</td>\n",
              "    </tr>\n",
              "    <tr>\n",
              "      <th>63</th>\n",
              "      <td>262</td>\n",
              "      <td>BALNEARIO IXTAPAN S  DE R L  DE C V</td>\n",
              "    </tr>\n",
              "    <tr>\n",
              "      <th>65</th>\n",
              "      <td>465</td>\n",
              "      <td>ESCUELA PREPARAROTIA NO  5</td>\n",
              "    </tr>\n",
              "    <tr>\n",
              "      <th>80</th>\n",
              "      <td>1589</td>\n",
              "      <td>C E S U  SANTIAGO</td>\n",
              "    </tr>\n",
              "    <tr>\n",
              "      <th>98</th>\n",
              "      <td>2033</td>\n",
              "      <td>ABTS  OCOTITLAN</td>\n",
              "    </tr>\n",
              "    <tr>\n",
              "      <th>...</th>\n",
              "      <td>...</td>\n",
              "      <td>...</td>\n",
              "    </tr>\n",
              "    <tr>\n",
              "      <th>932741</th>\n",
              "      <td>9517439</td>\n",
              "      <td>SUPERDES S A DE C V</td>\n",
              "    </tr>\n",
              "    <tr>\n",
              "      <th>932922</th>\n",
              "      <td>9532710</td>\n",
              "      <td>SUPERDES S A DE C V</td>\n",
              "    </tr>\n",
              "    <tr>\n",
              "      <th>932959</th>\n",
              "      <td>9533930</td>\n",
              "      <td>SERVIFARMACIAS PACIFICO S A  DE C V</td>\n",
              "    </tr>\n",
              "    <tr>\n",
              "      <th>933799</th>\n",
              "      <td>9612023</td>\n",
              "      <td>GRUPO FERMOSELLE S A DE C V</td>\n",
              "    </tr>\n",
              "    <tr>\n",
              "      <th>934733</th>\n",
              "      <td>9694173</td>\n",
              "      <td>OXXO DR COSS</td>\n",
              "    </tr>\n",
              "  </tbody>\n",
              "</table>\n",
              "<p>4862 rows × 2 columns</p>\n",
              "</div>"
            ],
            "text/plain": [
              "        Cliente_ID                         NombreCliente\n",
              "5                4  SDN SER DE ALIM CUERPO SA CIA DE INT\n",
              "63             262   BALNEARIO IXTAPAN S  DE R L  DE C V\n",
              "65             465            ESCUELA PREPARAROTIA NO  5\n",
              "80            1589                     C E S U  SANTIAGO\n",
              "98            2033                       ABTS  OCOTITLAN\n",
              "...            ...                                   ...\n",
              "932741     9517439                   SUPERDES S A DE C V\n",
              "932922     9532710                   SUPERDES S A DE C V\n",
              "932959     9533930   SERVIFARMACIAS PACIFICO S A  DE C V\n",
              "933799     9612023           GRUPO FERMOSELLE S A DE C V\n",
              "934733     9694173                          OXXO DR COSS\n",
              "\n",
              "[4862 rows x 2 columns]"
            ]
          },
          "metadata": {
            "tags": []
          },
          "execution_count": 39
        }
      ]
    },
    {
      "cell_type": "code",
      "metadata": {
        "id": "LoCdBSD2GgqQ",
        "outputId": "1076db3b-34d6-4d6c-e888-a38f2ed13b65",
        "colab": {
          "base_uri": "https://localhost:8080/",
          "height": 111
        }
      },
      "source": [
        "clientes.loc[clientes.loc[:,'Cliente_ID']==4,:]"
      ],
      "execution_count": 40,
      "outputs": [
        {
          "output_type": "execute_result",
          "data": {
            "text/html": [
              "<div>\n",
              "<style scoped>\n",
              "    .dataframe tbody tr th:only-of-type {\n",
              "        vertical-align: middle;\n",
              "    }\n",
              "\n",
              "    .dataframe tbody tr th {\n",
              "        vertical-align: top;\n",
              "    }\n",
              "\n",
              "    .dataframe thead th {\n",
              "        text-align: right;\n",
              "    }\n",
              "</style>\n",
              "<table border=\"1\" class=\"dataframe\">\n",
              "  <thead>\n",
              "    <tr style=\"text-align: right;\">\n",
              "      <th></th>\n",
              "      <th>Cliente_ID</th>\n",
              "      <th>NombreCliente</th>\n",
              "    </tr>\n",
              "  </thead>\n",
              "  <tbody>\n",
              "    <tr>\n",
              "      <th>4</th>\n",
              "      <td>4</td>\n",
              "      <td>SDN SER  DE ALIM  CUERPO SA CIA  DE INT</td>\n",
              "    </tr>\n",
              "    <tr>\n",
              "      <th>5</th>\n",
              "      <td>4</td>\n",
              "      <td>SDN SER DE ALIM CUERPO SA CIA DE INT</td>\n",
              "    </tr>\n",
              "  </tbody>\n",
              "</table>\n",
              "</div>"
            ],
            "text/plain": [
              "   Cliente_ID                            NombreCliente\n",
              "4           4  SDN SER  DE ALIM  CUERPO SA CIA  DE INT\n",
              "5           4     SDN SER DE ALIM CUERPO SA CIA DE INT"
            ]
          },
          "metadata": {
            "tags": []
          },
          "execution_count": 40
        }
      ]
    },
    {
      "cell_type": "code",
      "metadata": {
        "id": "aNdGfX5BHJNN",
        "outputId": "016150c6-f944-46a2-d9e2-fb943b6be00e",
        "colab": {
          "base_uri": "https://localhost:8080/",
          "height": 111
        }
      },
      "source": [
        "clientes.loc[clientes.loc[:,'Cliente_ID']==4,:].drop_duplicates()"
      ],
      "execution_count": 41,
      "outputs": [
        {
          "output_type": "execute_result",
          "data": {
            "text/html": [
              "<div>\n",
              "<style scoped>\n",
              "    .dataframe tbody tr th:only-of-type {\n",
              "        vertical-align: middle;\n",
              "    }\n",
              "\n",
              "    .dataframe tbody tr th {\n",
              "        vertical-align: top;\n",
              "    }\n",
              "\n",
              "    .dataframe thead th {\n",
              "        text-align: right;\n",
              "    }\n",
              "</style>\n",
              "<table border=\"1\" class=\"dataframe\">\n",
              "  <thead>\n",
              "    <tr style=\"text-align: right;\">\n",
              "      <th></th>\n",
              "      <th>Cliente_ID</th>\n",
              "      <th>NombreCliente</th>\n",
              "    </tr>\n",
              "  </thead>\n",
              "  <tbody>\n",
              "    <tr>\n",
              "      <th>4</th>\n",
              "      <td>4</td>\n",
              "      <td>SDN SER  DE ALIM  CUERPO SA CIA  DE INT</td>\n",
              "    </tr>\n",
              "    <tr>\n",
              "      <th>5</th>\n",
              "      <td>4</td>\n",
              "      <td>SDN SER DE ALIM CUERPO SA CIA DE INT</td>\n",
              "    </tr>\n",
              "  </tbody>\n",
              "</table>\n",
              "</div>"
            ],
            "text/plain": [
              "   Cliente_ID                            NombreCliente\n",
              "4           4  SDN SER  DE ALIM  CUERPO SA CIA  DE INT\n",
              "5           4     SDN SER DE ALIM CUERPO SA CIA DE INT"
            ]
          },
          "metadata": {
            "tags": []
          },
          "execution_count": 41
        }
      ]
    },
    {
      "cell_type": "code",
      "metadata": {
        "id": "Rw2lfrHBHPdG",
        "outputId": "1fcd4526-9721-4782-9813-000b6fc8fb45",
        "colab": {
          "base_uri": "https://localhost:8080/",
          "height": 111
        }
      },
      "source": [
        "clientes.loc[clientes.loc[:,'Cliente_ID']==4,:]== clientes.loc[5,'NombreCliente']"
      ],
      "execution_count": 42,
      "outputs": [
        {
          "output_type": "execute_result",
          "data": {
            "text/html": [
              "<div>\n",
              "<style scoped>\n",
              "    .dataframe tbody tr th:only-of-type {\n",
              "        vertical-align: middle;\n",
              "    }\n",
              "\n",
              "    .dataframe tbody tr th {\n",
              "        vertical-align: top;\n",
              "    }\n",
              "\n",
              "    .dataframe thead th {\n",
              "        text-align: right;\n",
              "    }\n",
              "</style>\n",
              "<table border=\"1\" class=\"dataframe\">\n",
              "  <thead>\n",
              "    <tr style=\"text-align: right;\">\n",
              "      <th></th>\n",
              "      <th>Cliente_ID</th>\n",
              "      <th>NombreCliente</th>\n",
              "    </tr>\n",
              "  </thead>\n",
              "  <tbody>\n",
              "    <tr>\n",
              "      <th>4</th>\n",
              "      <td>False</td>\n",
              "      <td>False</td>\n",
              "    </tr>\n",
              "    <tr>\n",
              "      <th>5</th>\n",
              "      <td>False</td>\n",
              "      <td>True</td>\n",
              "    </tr>\n",
              "  </tbody>\n",
              "</table>\n",
              "</div>"
            ],
            "text/plain": [
              "   Cliente_ID  NombreCliente\n",
              "4       False          False\n",
              "5       False           True"
            ]
          },
          "metadata": {
            "tags": []
          },
          "execution_count": 42
        }
      ]
    },
    {
      "cell_type": "code",
      "metadata": {
        "id": "VzXUdztHHtSX",
        "outputId": "b684a78a-fbe6-43f2-f5f0-8d59d2d038eb",
        "colab": {
          "base_uri": "https://localhost:8080/"
        }
      },
      "source": [
        "clientes.loc[4:5,'NombreCliente'].str.strip().unique()"
      ],
      "execution_count": 54,
      "outputs": [
        {
          "output_type": "execute_result",
          "data": {
            "text/plain": [
              "array(['SDN SER  DE ALIM  CUERPO SA CIA  DE INT',\n",
              "       'SDN SER DE ALIM CUERPO SA CIA DE INT'], dtype=object)"
            ]
          },
          "metadata": {
            "tags": []
          },
          "execution_count": 54
        }
      ]
    },
    {
      "cell_type": "code",
      "metadata": {
        "id": "-2wJFDpAH4Sl",
        "outputId": "48b277ac-d1a1-484d-ab7f-d46d92f04c01",
        "colab": {
          "base_uri": "https://localhost:8080/",
          "height": 35
        }
      },
      "source": [
        "clientes.loc[5,'NombreCliente']"
      ],
      "execution_count": 44,
      "outputs": [
        {
          "output_type": "execute_result",
          "data": {
            "application/vnd.google.colaboratory.intrinsic+json": {
              "type": "string"
            },
            "text/plain": [
              "'SDN SER DE ALIM CUERPO SA CIA DE INT'"
            ]
          },
          "metadata": {
            "tags": []
          },
          "execution_count": 44
        }
      ]
    },
    {
      "cell_type": "code",
      "metadata": {
        "id": "Saba-14RH78F",
        "outputId": "231b9c03-c397-4d37-858d-5733c486e029",
        "colab": {
          "base_uri": "https://localhost:8080/"
        }
      },
      "source": [
        "pd.read_csv('data/town_state.csv.zip').nunique()"
      ],
      "execution_count": 46,
      "outputs": [
        {
          "output_type": "execute_result",
          "data": {
            "text/plain": [
              "Agencia_ID    790\n",
              "Town          260\n",
              "State          33\n",
              "dtype: int64"
            ]
          },
          "metadata": {
            "tags": []
          },
          "execution_count": 46
        }
      ]
    },
    {
      "cell_type": "code",
      "metadata": {
        "id": "0OKeAbuXMhph",
        "outputId": "9badb3e7-627c-43e0-a0ee-babdd37bcd75",
        "colab": {
          "base_uri": "https://localhost:8080/"
        }
      },
      "source": [
        "pd.read_csv('data/town_state.csv.zip').shape"
      ],
      "execution_count": 47,
      "outputs": [
        {
          "output_type": "execute_result",
          "data": {
            "text/plain": [
              "(790, 3)"
            ]
          },
          "metadata": {
            "tags": []
          },
          "execution_count": 47
        }
      ]
    },
    {
      "cell_type": "code",
      "metadata": {
        "id": "7c_YVFMPMlw5",
        "outputId": "b9919089-a354-4176-a766-794a0bc78e56",
        "colab": {
          "base_uri": "https://localhost:8080/"
        }
      },
      "source": [
        "pd.read_csv('data/producto_tabla.csv.zip').nunique()"
      ],
      "execution_count": 48,
      "outputs": [
        {
          "output_type": "execute_result",
          "data": {
            "text/plain": [
              "Producto_ID       2592\n",
              "NombreProducto    2592\n",
              "dtype: int64"
            ]
          },
          "metadata": {
            "tags": []
          },
          "execution_count": 48
        }
      ]
    },
    {
      "cell_type": "code",
      "metadata": {
        "id": "bTmWycW3S-AT",
        "outputId": "07889b6f-8e3f-44c3-850d-436fa00b90c4",
        "colab": {
          "base_uri": "https://localhost:8080/"
        }
      },
      "source": [
        "pd.read_csv('data/producto_tabla.csv.zip').shape"
      ],
      "execution_count": 49,
      "outputs": [
        {
          "output_type": "execute_result",
          "data": {
            "text/plain": [
              "(2592, 2)"
            ]
          },
          "metadata": {
            "tags": []
          },
          "execution_count": 49
        }
      ]
    },
    {
      "cell_type": "code",
      "metadata": {
        "id": "M7Wye651TDar"
      },
      "source": [
        ""
      ],
      "execution_count": null,
      "outputs": []
    }
  ]
}