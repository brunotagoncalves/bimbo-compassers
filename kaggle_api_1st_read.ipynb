{
  "nbformat": 4,
  "nbformat_minor": 0,
  "metadata": {
    "colab": {
      "name": "Untitled0.ipynb",
      "provenance": [],
      "toc_visible": true,
      "authorship_tag": "ABX9TyPr+hdTg3iJXPwbT5AovL2L",
      "include_colab_link": true
    },
    "kernelspec": {
      "name": "python3",
      "display_name": "Python 3"
    },
    "language_info": {
      "name": "python"
    }
  },
  "cells": [
    {
      "cell_type": "markdown",
      "metadata": {
        "id": "view-in-github",
        "colab_type": "text"
      },
      "source": [
        "<a href=\"https://colab.research.google.com/github/brunotagoncalves/bimbo-compassers/blob/main/kaggle_api_1st_read.ipynb\" target=\"_parent\"><img src=\"https://colab.research.google.com/assets/colab-badge.svg\" alt=\"Open In Colab\"/></a>"
      ]
    },
    {
      "cell_type": "code",
      "metadata": {
        "id": "Ifkp6R57QRTA",
        "colab": {
          "base_uri": "https://localhost:8080/"
        },
        "outputId": "d3a51c4c-725a-4e1f-9ffb-6aa0dce73e92"
      },
      "source": [
        "!pip install -q kaggle\n",
        "!pip install -q kaggle-cli"
      ],
      "execution_count": 5,
      "outputs": [
        {
          "output_type": "stream",
          "text": [
            "  Building wheel for lxml (setup.py) ... \u001b[?25lerror\n",
            "\u001b[31m  ERROR: Failed building wheel for lxml\u001b[0m\n",
            "\u001b[?25h    Running setup.py install for lxml ... \u001b[?25l\u001b[?25herror\n",
            "\u001b[31mERROR: Command errored out with exit status 1: /usr/bin/python3 -u -c 'import sys, setuptools, tokenize; sys.argv[0] = '\"'\"'/tmp/pip-install-6lacyp7u/lxml/setup.py'\"'\"'; __file__='\"'\"'/tmp/pip-install-6lacyp7u/lxml/setup.py'\"'\"';f=getattr(tokenize, '\"'\"'open'\"'\"', open)(__file__);code=f.read().replace('\"'\"'\\r\\n'\"'\"', '\"'\"'\\n'\"'\"');f.close();exec(compile(code, __file__, '\"'\"'exec'\"'\"'))' install --record /tmp/pip-record-re5nhnq5/install-record.txt --single-version-externally-managed --compile Check the logs for full command output.\u001b[0m\n"
          ],
          "name": "stdout"
        }
      ]
    },
    {
      "cell_type": "code",
      "metadata": {
        "id": "7NLSi0qhN-kG"
      },
      "source": [
        "!echo '{\"username\":\"bruno9tg\",\"key\":\"702cbacb35b74aaf6cf1ac91c6883b5a\"}' > ~/.kaggle/kaggle.json"
      ],
      "execution_count": 6,
      "outputs": []
    },
    {
      "cell_type": "code",
      "metadata": {
        "colab": {
          "base_uri": "https://localhost:8080/"
        },
        "id": "nTx5CyN_KEgG",
        "outputId": "b99cd04d-ed8f-459b-bb96-969b67f133c6"
      },
      "source": [
        "!kaggle competitions download -c grupo-bimbo-inventory-demand"
      ],
      "execution_count": 7,
      "outputs": [
        {
          "output_type": "stream",
          "text": [
            "Warning: Your Kaggle API key is readable by other users on this system! To fix this, you can run 'chmod 600 /root/.kaggle/kaggle.json'\n",
            "Warning: Looks like you're using an outdated API Version, please consider updating (server 1.5.12 / client 1.5.4)\n",
            "Downloading sample_submission.csv.zip to /content\n",
            " 74% 11.0M/14.8M [00:00<00:00, 113MB/s]\n",
            "100% 14.8M/14.8M [00:00<00:00, 94.2MB/s]\n",
            "Downloading train.csv.zip to /content\n",
            " 98% 364M/373M [00:02<00:00, 138MB/s]\n",
            "100% 373M/373M [00:02<00:00, 131MB/s]\n",
            "Downloading test.csv.zip to /content\n",
            " 82% 70.0M/85.8M [00:00<00:00, 118MB/s]\n",
            "100% 85.8M/85.8M [00:00<00:00, 144MB/s]\n",
            "Downloading cliente_tabla.csv.zip to /content\n",
            "  0% 0.00/5.87M [00:00<?, ?B/s]\n",
            "100% 5.87M/5.87M [00:00<00:00, 52.1MB/s]\n",
            "Downloading town_state.csv.zip to /content\n",
            "  0% 0.00/6.35k [00:00<?, ?B/s]\n",
            "100% 6.35k/6.35k [00:00<00:00, 17.3MB/s]\n",
            "Downloading producto_tabla.csv.zip to /content\n",
            "  0% 0.00/31.5k [00:00<?, ?B/s]\n",
            "100% 31.5k/31.5k [00:00<00:00, 28.9MB/s]\n"
          ],
          "name": "stdout"
        }
      ]
    },
    {
      "cell_type": "code",
      "metadata": {
        "id": "WOT9kjhoaw0K"
      },
      "source": [
        ""
      ],
      "execution_count": null,
      "outputs": []
    }
  ]
}